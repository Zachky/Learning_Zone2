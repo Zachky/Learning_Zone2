{
 "cells": [
  {
   "cell_type": "markdown",
   "metadata": {},
   "source": [
    "### press alt+Enter to execute current cell and add new cell\n",
    "#### Press M on a cell to transform it to markdown cell"
   ]
  },
  {
   "cell_type": "markdown",
   "metadata": {},
   "source": [
    "# Test Title 1\n",
    "\n",
    "This is block 1\n",
    "[Test Image Link](https://cdn.pixabay.com/photo/2015/12/01/20/28/road-1072823_1280.jpg)\n",
    "\n",
    "![Test Image Block](https://cdn.pixabay.com/photo/2015/12/01/20/28/road-1072823_1280.jpg)"
   ]
  },
  {
   "cell_type": "markdown",
   "metadata": {},
   "source": [
    "## Test Title 2\n",
    "\n",
    "This is block 2\n",
    "> this is quote\n"
   ]
  },
  {
   "cell_type": "markdown",
   "metadata": {},
   "source": [
    "### Test Title 3\n",
    "\n",
    "This is block 3 -- Code Block Test\n",
    "\n",
    "> Python Zone\n",
    "```python\n",
    "print(\"Say daddy\")\n",
    "```\n",
    "\n",
    "> C# Zone\n",
    "```c#\n",
    "Console.WriteLine(\"Say Daddy\")\n",
    "```\n",
    "\n"
   ]
  },
  {
   "cell_type": "markdown",
   "metadata": {},
   "source": [
    "#### Test Title 4\n",
    "\n",
    "This is block 4"
   ]
  },
  {
   "cell_type": "markdown",
   "metadata": {},
   "source": []
  }
 ],
 "metadata": {
  "kernelspec": {
   "display_name": "Python 3",
   "language": "python",
   "name": "python3"
  },
  "language_info": {
   "codemirror_mode": {
    "name": "ipython",
    "version": 3
   },
   "file_extension": ".py",
   "mimetype": "text/x-python",
   "name": "python",
   "nbconvert_exporter": "python",
   "pygments_lexer": "ipython3",
   "version": "3.12.1"
  }
 },
 "nbformat": 4,
 "nbformat_minor": 2
}
