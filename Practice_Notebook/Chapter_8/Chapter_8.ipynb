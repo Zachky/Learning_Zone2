{
 "cells": [
  {
   "cell_type": "markdown",
   "metadata": {},
   "source": [
    "# Multiple Thread Practice"
   ]
  },
  {
   "cell_type": "code",
   "execution_count": 1,
   "metadata": {},
   "outputs": [],
   "source": [
    "import time\n",
    "import Zach_Library"
   ]
  },
  {
   "cell_type": "markdown",
   "metadata": {},
   "source": [
    "### Single Thread"
   ]
  },
  {
   "cell_type": "code",
   "execution_count": 2,
   "metadata": {},
   "outputs": [
    {
     "name": "stdout",
     "output_type": "stream",
     "text": [
      "f1 start!\n",
      "f1 finished!\n"
     ]
    }
   ],
   "source": [
    "def f1():\n",
    "    print('f1 start!')\n",
    "    time.sleep(1)\n",
    "    print('f1 finished!')\n",
    "\n",
    "f1()"
   ]
  },
  {
   "cell_type": "code",
   "execution_count": 3,
   "metadata": {},
   "outputs": [
    {
     "name": "stdout",
     "output_type": "stream",
     "text": [
      "f1 start!\n",
      "f1 finisih!\n",
      "f2 start!\n",
      "f2 finisih!\n",
      "f3 start!\n",
      "f3 finisih!\n",
      "done!\n"
     ]
    }
   ],
   "source": [
    "def f1():\n",
    "    print('f1 start!')\n",
    "    time.sleep(1)    \n",
    "    print('f1 finisih!')   \n",
    "def f2():\n",
    "    print('f2 start!')\n",
    "    time.sleep(1)    \n",
    "    print('f2 finisih!')   \n",
    "def f3():\n",
    "    print('f3 start!')\n",
    "    time.sleep(1)    \n",
    "    print('f3 finisih!')   \n",
    "    \n",
    "f1()\n",
    "f2()\n",
    "f3()\n",
    "print('done!')"
   ]
  },
  {
   "cell_type": "markdown",
   "metadata": {},
   "source": [
    "### Multiple Thread"
   ]
  },
  {
   "cell_type": "code",
   "execution_count": 4,
   "metadata": {},
   "outputs": [],
   "source": [
    "def thread(name,sec):\n",
    "    print(f\"{name} started!\")\n",
    "    thread.sleep(sec)\n",
    "    print(f\"{name} stop!\")\n"
   ]
  },
  {
   "cell_type": "code",
   "execution_count": 5,
   "metadata": {},
   "outputs": [],
   "source": [
    "import threading"
   ]
  },
  {
   "cell_type": "code",
   "execution_count": 6,
   "metadata": {},
   "outputs": [
    {
     "data": {
      "text/plain": [
       "<Thread(Thread-5 (f1), initial)>"
      ]
     },
     "execution_count": 6,
     "metadata": {},
     "output_type": "execute_result"
    }
   ],
   "source": [
    "threading.Thread(target=f1) #Assign to target function"
   ]
  },
  {
   "cell_type": "code",
   "execution_count": 7,
   "metadata": {},
   "outputs": [
    {
     "name": "stdout",
     "output_type": "stream",
     "text": [
      "f1 start!\n"
     ]
    }
   ],
   "source": [
    "threading.Thread(target=f1).start()"
   ]
  },
  {
   "cell_type": "markdown",
   "metadata": {},
   "source": [
    "### Execute function async "
   ]
  },
  {
   "cell_type": "code",
   "execution_count": 8,
   "metadata": {},
   "outputs": [
    {
     "name": "stdout",
     "output_type": "stream",
     "text": [
      "f1 start!\n",
      "f2 start!\n",
      "f3 start!\n",
      "done!\n"
     ]
    }
   ],
   "source": [
    "t1=threading.Thread(target=f1)\n",
    "t2=threading.Thread(target=f2)\n",
    "t3=threading.Thread(target=f3)\n",
    "\n",
    "t1.start()\n",
    "t2.start()\n",
    "t3.start()\n",
    "print('done!')"
   ]
  },
  {
   "cell_type": "markdown",
   "metadata": {},
   "source": [
    "### Use join() for waiting"
   ]
  },
  {
   "cell_type": "code",
   "execution_count": 9,
   "metadata": {},
   "outputs": [
    {
     "name": "stdout",
     "output_type": "stream",
     "text": [
      "f1 start!\n",
      "f2 start!\n",
      "f3 start!\n",
      "f1 finisih!\n",
      "f3 finisih!\n",
      "f2 finisih!\n",
      "f1 finisih!\n",
      "f2 finisih!\n",
      "f1 finisih!\n",
      "f3 finisih!\n",
      "done!\n"
     ]
    }
   ],
   "source": [
    "t1=threading.Thread(target=f1)\n",
    "t2=threading.Thread(target=f2)\n",
    "t3=threading.Thread(target=f3)\n",
    "\n",
    "t1.start()\n",
    "t2.start()\n",
    "t3.start()\n",
    "\n",
    "t1.join()\n",
    "t2.join()\n",
    "t3.join()\n",
    "\n",
    "print('done!')"
   ]
  },
  {
   "cell_type": "markdown",
   "metadata": {},
   "source": [
    "### 使用List整合 "
   ]
  },
  {
   "cell_type": "code",
   "execution_count": 10,
   "metadata": {},
   "outputs": [
    {
     "name": "stdout",
     "output_type": "stream",
     "text": [
      "f1 start!\n",
      "f2 start!\n",
      "f3 start!\n",
      "f1 finisih!\n",
      "f3 finisih!\n",
      "f2 finisih!\n",
      "down!\n"
     ]
    }
   ],
   "source": [
    "thread=[]\n",
    "thread.append(threading.Thread(target=f1))\n",
    "thread.append(threading.Thread(target=f2))\n",
    "thread.append(threading.Thread(target=f3))\n",
    "\n",
    "for t in thread:\n",
    "    t.start()\n",
    "\n",
    "for t in thread:\n",
    "    t.join()\n",
    "\n",
    "\n",
    "print('down!')\n"
   ]
  },
  {
   "cell_type": "markdown",
   "metadata": {},
   "source": [
    "### Send parameter"
   ]
  },
  {
   "cell_type": "code",
   "execution_count": 11,
   "metadata": {},
   "outputs": [
    {
     "name": "stdout",
     "output_type": "stream",
     "text": [
      "<_MainThread(MainThread, started 6580)>\n"
     ]
    }
   ],
   "source": [
    "print(threading.current_thread())"
   ]
  },
  {
   "cell_type": "code",
   "execution_count": 12,
   "metadata": {},
   "outputs": [
    {
     "name": "stdout",
     "output_type": "stream",
     "text": [
      "<_MainThread(MainThread, started 6580)>\n",
      "3 sec\n",
      "2 sec\n",
      "1 sec\n",
      "0 sec\n"
     ]
    }
   ],
   "source": [
    "def f4(sec):\n",
    "    print(threading.current_thread())\n",
    "    for i in range(sec,-1,-1):\n",
    "        time.sleep(1)\n",
    "        print(f'{i} sec')\n",
    "\n",
    "f4(3)"
   ]
  },
  {
   "cell_type": "code",
   "execution_count": 13,
   "metadata": {},
   "outputs": [],
   "source": [
    "thread=[]\n",
    "\n",
    "for i in range(3):\n",
    "    thread.append(threading.Thread(target=f4,args=(i+1,),name=(f'thread{i}')))"
   ]
  },
  {
   "cell_type": "code",
   "execution_count": 14,
   "metadata": {},
   "outputs": [
    {
     "name": "stdout",
     "output_type": "stream",
     "text": [
      "<Thread(thread0, started 12680)>\n",
      "<Thread(thread1, started 13512)>\n",
      "<Thread(thread2, started 13776)>\n",
      "1 sec\n",
      "3 sec\n",
      "2 sec\n",
      "0 sec\n",
      "2 sec\n",
      "1 sec\n",
      "0 sec\n",
      "1 sec\n",
      "0 sec\n",
      "done!\n"
     ]
    }
   ],
   "source": [
    "for t in thread:\n",
    "    t.start()\n",
    "\n",
    "for t in thread:\n",
    "    t.join()\n",
    "\n",
    "print('done!')"
   ]
  },
  {
   "cell_type": "code",
   "execution_count": 15,
   "metadata": {},
   "outputs": [
    {
     "name": "stdout",
     "output_type": "stream",
     "text": [
      "<_MainThread(MainThread, started 6580)>\n",
      "t1:1sec\n",
      "t1:2sec\n",
      "t1:3sec\n",
      "t1 done!\n"
     ]
    },
    {
     "data": {
      "text/plain": [
       "('t1', 3)"
      ]
     },
     "execution_count": 15,
     "metadata": {},
     "output_type": "execute_result"
    }
   ],
   "source": [
    "def f5(sec,name):\n",
    "    print(threading.current_thread())\n",
    "    for i in range(sec):\n",
    "        time.sleep(1)\n",
    "        print(f'{name}:{i+1}sec')\n",
    "    print(f'{name} done!')\n",
    "    return name,sec\n",
    "f5(3,'t1')"
   ]
  },
  {
   "cell_type": "code",
   "execution_count": 16,
   "metadata": {},
   "outputs": [
    {
     "name": "stdout",
     "output_type": "stream",
     "text": [
      "<Thread(Test Thread 0, started 8648)>\n",
      "<Thread(Test Thread 1, started 13424)>\n",
      "<Thread(Test Thread 2, started 12796)>\n",
      "t3:1sec\n",
      "t2:1sec\n",
      "t1:1sec\n",
      "t1 done!\n",
      "t3:2sec\n",
      "t2:2sec\n",
      "t2 done!\n",
      "t3:3sec\n",
      "t3 done!\n",
      "done!\n"
     ]
    }
   ],
   "source": [
    "thread=[]\n",
    "\n",
    "for i in range(3):\n",
    "    thread.append(threading.Thread(target=f5,args=(i+1,f't{i+1}'),name=(f'Test Thread {i}')))\n",
    "\n",
    "for t in thread:\n",
    "    t.start()\n",
    "\n",
    "for t in thread:\n",
    "    t.join()\n",
    "\n",
    "print('done!')"
   ]
  },
  {
   "cell_type": "markdown",
   "metadata": {},
   "source": [
    "# Test Scraping"
   ]
  },
  {
   "cell_type": "code",
   "execution_count": 17,
   "metadata": {},
   "outputs": [],
   "source": [
    "from Zach_Library import getSoup"
   ]
  },
  {
   "cell_type": "code",
   "execution_count": 18,
   "metadata": {},
   "outputs": [
    {
     "data": {
      "text/plain": [
       "['https://tw.yahoo.com',\n",
       " 'https://www.youtube.com.tw',\n",
       " 'https://auto.8891.com.tw']"
      ]
     },
     "execution_count": 18,
     "metadata": {},
     "output_type": "execute_result"
    }
   ],
   "source": [
    "urls=[\"https://tw.yahoo.com\",'https://www.youtube.com.tw','https://auto.8891.com.tw']\n",
    "urls"
   ]
  },
  {
   "cell_type": "code",
   "execution_count": 19,
   "metadata": {},
   "outputs": [
    {
     "name": "stdout",
     "output_type": "stream",
     "text": [
      "Processing https://tw.yahoo.com .....\n",
      "Processing https://www.youtube.com.tw .....\n",
      "Processing https://auto.8891.com.tw .....\n",
      "Execute time:1.8428993225097656\n"
     ]
    }
   ],
   "source": [
    "now=time.time()\n",
    "for url in urls:\n",
    "\n",
    "    print(f\"Processing {url} .....\")\n",
    "    getSoup(url)\n",
    "\n",
    "print(f\"Execute time:{time.time()-now}\")\n"
   ]
  },
  {
   "cell_type": "code",
   "execution_count": 20,
   "metadata": {},
   "outputs": [
    {
     "name": "stdout",
     "output_type": "stream",
     "text": [
      "Execute time : 1.0524907112121582\n"
     ]
    }
   ],
   "source": [
    "now=time.time()\n",
    "threads=[]\n",
    "\n",
    "for url in urls:\n",
    "    threads.append(threading.Thread(target=getSoup,args=(url,)))\n",
    "\n",
    "for t in threads:\n",
    "    t.start()\n",
    "\n",
    "for t in threads:\n",
    "    t.join()\n",
    "\n",
    "print(f'Execute time : {time.time()-now}')\n",
    "    \n",
    "    "
   ]
  },
  {
   "cell_type": "markdown",
   "metadata": {},
   "source": [
    "# Return value from multiple thread"
   ]
  },
  {
   "cell_type": "markdown",
   "metadata": {},
   "source": [
    "### Sub-thread cant return value"
   ]
  },
  {
   "cell_type": "code",
   "execution_count": 21,
   "metadata": {},
   "outputs": [],
   "source": [
    "from queue import Queue"
   ]
  },
  {
   "cell_type": "code",
   "execution_count": 22,
   "metadata": {},
   "outputs": [
    {
     "data": {
      "text/plain": [
       "2"
      ]
     },
     "execution_count": 22,
     "metadata": {},
     "output_type": "execute_result"
    }
   ],
   "source": [
    "q=Queue()\n",
    "\n",
    "q.put(10)\n",
    "q.put(11)\n",
    "\n",
    "q.qsize()"
   ]
  },
  {
   "cell_type": "code",
   "execution_count": 23,
   "metadata": {},
   "outputs": [],
   "source": [
    "q=Queue()\n",
    "def get_sum(a,b):\n",
    "    print(a+b)\n",
    "    q.put(a+b)\n",
    "    # return a+b"
   ]
  },
  {
   "cell_type": "code",
   "execution_count": 24,
   "metadata": {},
   "outputs": [],
   "source": [
    "q=Queue()\n",
    "def get_sum_1(a,b):\n",
    "    print(a+b)\n",
    "    return a+b"
   ]
  },
  {
   "cell_type": "code",
   "execution_count": 25,
   "metadata": {},
   "outputs": [
    {
     "name": "stdout",
     "output_type": "stream",
     "text": [
      "7\n",
      "11\n",
      "15\n",
      "33\n"
     ]
    }
   ],
   "source": [
    "threads=[]\n",
    "threads.append(threading.Thread(target=get_sum,args=(3,4)))\n",
    "threads.append(threading.Thread(target=get_sum,args=(5,6)))\n",
    "threads.append(threading.Thread(target=get_sum,args=(7,8)))\n",
    "\n",
    "for t in threads:\n",
    "    t.start()\n",
    "\n",
    "for t in threads:\n",
    "    t.join()\n",
    "\n",
    "sum=0\n",
    "for i in range(q.qsize()):\n",
    "    sum += q.get()\n",
    "\n",
    "print(sum)"
   ]
  },
  {
   "cell_type": "code",
   "execution_count": 26,
   "metadata": {},
   "outputs": [
    {
     "name": "stderr",
     "output_type": "stream",
     "text": [
      "Exception in thread Thread-22 (get_sum_1):\n",
      "Traceback (most recent call last):\n",
      "  File \"c:\\Users\\USER\\anaconda3\\Lib\\threading.py\", line 1038, in _bootstrap_inner\n",
      "    self.run()\n",
      "  File \"c:\\Users\\USER\\anaconda3\\Lib\\threading.py\", line 975, in run\n",
      "    self._target(*self._args, **self._kwargs)\n",
      "TypeError: get_sum_1() takes 2 positional arguments but 3 were given\n"
     ]
    },
    {
     "name": "stdout",
     "output_type": "stream",
     "text": [
      "[None]\n"
     ]
    }
   ],
   "source": [
    "threads=[]\n",
    "result_list = [None]\n",
    "threads.append(threading.Thread(target=get_sum_1,args=(30,40,result_list)))\n",
    "# threads.append(threading.Thread(target=get_sum_1,args=(50,60,result_list)))\n",
    "# threads.append(threading.Thread(target=get_sum_1,args=(70,80,result_list)))\n",
    "\n",
    "for t in threads:\n",
    "    t.start()\n",
    "\n",
    "for t in threads:\n",
    "    t.join()\n",
    "\n",
    "print(result_list)"
   ]
  },
  {
   "cell_type": "code",
   "execution_count": 30,
   "metadata": {},
   "outputs": [],
   "source": [
    "q = Queue()\n",
    "\n",
    "def get_nba_data(date):\n",
    "    \n",
    "    url = f'https://tw-nba.udn.com/nba/schedule_boxscore/{date}'\n",
    "    print(f\"Processing:{url}\")\n",
    "    soup=getSoup(url)\n",
    "    games=soup.find('div',class_='cards').find_all('div',class_='card')\n",
    "    print(f\"{date}共有{len(games)}場比賽\")\n",
    "    nba_data=[]\n",
    "    \n",
    "    try:\n",
    "        for game in games:\n",
    "            link=game.find('a').get('href')\n",
    "            print(f\"Processing:{link}\")\n",
    "            soup=getSoup(link)\n",
    "            datas=[]\n",
    "\n",
    "            for tr in soup.find('table',class_='stable boxscore').find_all('tr')[1:]:\n",
    "                data=[]\n",
    "                #Combine gane's data from each row\n",
    "                for td in tr.find_all('td')[1:-1]:\n",
    "                    data.append(td.text.strip())\n",
    "                \n",
    "                data.insert(0,'2024-02-15')\n",
    "                datas.append(data)\n",
    "\n",
    "            nba_data.extend(datas)\n",
    "    except Exception as e:\n",
    "        print(e)\n",
    "\n",
    "    # return nba_data\n",
    "    q.put(nba_data)"
   ]
  },
  {
   "cell_type": "code",
   "execution_count": 31,
   "metadata": {},
   "outputs": [
    {
     "name": "stdout",
     "output_type": "stream",
     "text": [
      "Processing:https://tw-nba.udn.com/nba/schedule_boxscore/2022-11-01\n",
      "2022-11-01共有7場比賽\n",
      "Processing:https://tw-nba.udn.com/nba/standings_game/17a1f127-b683-4a9c-9c28-4caeff52382c\n",
      "Processing:https://tw-nba.udn.com/nba/standings_game/d226f8cd-b0c6-4e64-b921-485f47c43462\n",
      "Processing:https://tw-nba.udn.com/nba/standings_game/a3aee052-dc16-4bff-b2c5-b68ea83b0e59\n",
      "Processing:https://tw-nba.udn.com/nba/standings_game/fc98e649-70bc-4354-b14b-96f9885e4801\n",
      "Processing:https://tw-nba.udn.com/nba/standings_game/422bf3c1-e2a4-4e68-bed8-623c816bde7b\n",
      "Processing:https://tw-nba.udn.com/nba/standings_game/4555fd80-899c-48fc-a2fe-b5506fcfcea1\n",
      "Processing:https://tw-nba.udn.com/nba/standings_game/ca67d840-91e5-400a-bcb3-97cb0caca8e0\n"
     ]
    }
   ],
   "source": [
    "get_nba_data('2022-11-01')\n",
    "\n"
   ]
  },
  {
   "cell_type": "code",
   "execution_count": 32,
   "metadata": {},
   "outputs": [
    {
     "name": "stdout",
     "output_type": "stream",
     "text": [
      "[['2024-02-15', '76人', '30', '22', '34', '32'], ['2024-02-15', '巫師', '28', '24', '21', '38'], ['2024-02-15', '國王', '24', '28', '37', '26'], ['2024-02-15', '黃蜂', '34', '33', '18', '23'], ['2024-02-15', '溜馬', '18', '36', '31', '24'], ['2024-02-15', '籃網', '33', '28', '31', '24'], ['2024-02-15', '老鷹', '28', '25', '27', '29'], ['2024-02-15', '暴龍', '34', '30', '31', '44'], ['2024-02-15', '活塞', '23', '29', '25', '31'], ['2024-02-15', '公鹿', '34', '26', '28', '22'], ['2024-02-15', '灰熊', '26', '18', '30', '31'], ['2024-02-15', '爵士', '23', '38', '36', '24'], ['2024-02-15', '火箭', '', '', '', ''], ['2024-02-15', '快艇', '', '', '', '']]\n"
     ]
    }
   ],
   "source": [
    "for i in range(q.qsize()):\n",
    "    print(q.get())"
   ]
  },
  {
   "cell_type": "code",
   "execution_count": 36,
   "metadata": {},
   "outputs": [],
   "source": [
    "from datetime import datetime, timedelta"
   ]
  },
  {
   "cell_type": "code",
   "execution_count": 37,
   "metadata": {},
   "outputs": [
    {
     "name": "stdout",
     "output_type": "stream",
     "text": [
      "Processing:https://tw-nba.udn.com/nba/schedule_boxscore/2024-02-01\n",
      "Processing:https://tw-nba.udn.com/nba/schedule_boxscore/2024-02-02\n",
      "Processing:https://tw-nba.udn.com/nba/schedule_boxscore/2024-02-03\n",
      "Processing:https://tw-nba.udn.com/nba/schedule_boxscore/2024-02-04\n",
      "Processing:https://tw-nba.udn.com/nba/schedule_boxscore/2024-02-05\n",
      "2024-02-01共有10場比賽\n",
      "Processing:https://tw-nba.udn.com/nba/standings_game/26d960a8-27f9-46df-9f10-302ab28b2d7e\n",
      "2024-02-03共有10場比賽\n",
      "Processing:https://tw-nba.udn.com/nba/standings_game/8471aac8-6215-4ebc-bedb-9ccc25e870d1\n",
      "2024-02-05共有9場比賽\n",
      "Processing:https://tw-nba.udn.com/nba/standings_game/e11a3105-52aa-414e-ac77-471eb4c62f87\n",
      "2024-02-02共有4場比賽\n",
      "Processing:https://tw-nba.udn.com/nba/standings_game/5428fd34-545a-473d-91a3-c62b4221591b\n",
      "2024-02-04共有6場比賽\n",
      "Processing:https://tw-nba.udn.com/nba/standings_game/a71d9470-068f-43ad-b616-22b893de511e\n",
      "Processing:https://tw-nba.udn.com/nba/standings_game/9ac85655-6a46-49f0-818a-2e376c020655\n",
      "Processing:https://tw-nba.udn.com/nba/standings_game/a4166ad7-bfb1-43a1-89ca-4d8075f8f0be\n",
      "Processing:https://tw-nba.udn.com/nba/standings_game/edc314c2-c7c4-43a9-94d6-2bc071028fd7\n",
      "Processing:https://tw-nba.udn.com/nba/standings_game/71a1d51e-5e20-455d-ad51-5dfcd96112cd\n",
      "Processing:https://tw-nba.udn.com/nba/standings_game/52b0a1bd-62e6-4cb2-9a29-71dc745ce944\n",
      "Processing:https://tw-nba.udn.com/nba/standings_game/d59fee33-5078-4912-9023-d1b54f5d10a8\n",
      "Processing:https://tw-nba.udn.com/nba/standings_game/b0f7b584-4009-4578-8561-5051013a4e6d\n",
      "Processing:https://tw-nba.udn.com/nba/standings_game/0fcb6598-32de-42a2-8f95-946862035967\n",
      "Processing:https://tw-nba.udn.com/nba/standings_game/1b5ccd94-1b8d-4306-a790-2e6dd4cd42b5\n",
      "Processing:https://tw-nba.udn.com/nba/standings_game/363ad21e-cf1e-41da-b558-740f72cb46a4\n",
      "Processing:https://tw-nba.udn.com/nba/standings_game/18c9a074-0af7-445d-9913-6fb530b3a776\n",
      "Processing:https://tw-nba.udn.com/nba/standings_game/c28198dd-686e-4086-8c1d-f9bc98b2c6ec\n",
      "Processing:https://tw-nba.udn.com/nba/standings_game/996164f4-00b7-47aa-91e5-28e55559d9a8\n",
      "Processing:https://tw-nba.udn.com/nba/standings_game/315b78ba-2aba-42a6-9ccd-1c7956ab55f0\n",
      "Processing:https://tw-nba.udn.com/nba/standings_game/1c0169d6-2476-46dc-a685-09f18862139a\n",
      "Processing:https://tw-nba.udn.com/nba/standings_game/0ffbfa19-7b1c-467c-9a7b-6e5c658f8a34\n",
      "Processing:https://tw-nba.udn.com/nba/standings_game/50afb362-bce1-4479-b1a7-02f6947a449f\n",
      "Processing:https://tw-nba.udn.com/nba/standings_game/e0d636d9-e466-4570-94f0-04ae3d9db130\n",
      "Processing:https://tw-nba.udn.com/nba/standings_game/97fe0fc9-1ecb-426a-909f-08a94967ad14\n",
      "Processing:https://tw-nba.udn.com/nba/standings_game/4c5b46cd-afb7-49aa-8e4c-9e03293f5d09\n",
      "Processing:https://tw-nba.udn.com/nba/standings_game/60cc6a00-850a-4aa3-8365-149de4e0a671\n",
      "Processing:https://tw-nba.udn.com/nba/standings_game/6d4f7b3a-0ae3-4b22-af2f-dd04fcefcad3\n",
      "Processing:https://tw-nba.udn.com/nba/standings_game/d0550812-9a3a-4eac-9936-530d955b8c6a\n",
      "Processing:https://tw-nba.udn.com/nba/standings_game/71b9599e-07b1-4a0c-8830-e5b2957f1397\n",
      "Processing:https://tw-nba.udn.com/nba/standings_game/6e3dd3e4-d2a0-4512-bbb4-f1070c537be4\n",
      "Processing:https://tw-nba.udn.com/nba/standings_game/9b117d60-3585-4211-a2b5-4458f353ebf3\n",
      "Processing:https://tw-nba.udn.com/nba/standings_game/b42de0db-3f49-452a-bec9-87eacf7e1827\n",
      "Processing:https://tw-nba.udn.com/nba/standings_game/75e1e69e-924b-434f-b36d-164289cfe7bf\n",
      "Processing:https://tw-nba.udn.com/nba/standings_game/440d0420-270d-48e1-8392-541743a42ed7\n",
      "Processing:https://tw-nba.udn.com/nba/standings_game/5c3c556c-1f5b-4fc7-903b-af5564e40de0\n",
      "Processing:https://tw-nba.udn.com/nba/standings_game/53ccfd01-23b0-47ff-b54f-cff31bd6ccce\n",
      "Processing:https://tw-nba.udn.com/nba/standings_game/a492b78f-c52c-4011-9e60-7409d5b314d5\n",
      "Processing:https://tw-nba.udn.com/nba/standings_game/22ee70b4-3d5a-4529-9dae-03b0dffc4c47\n",
      "Processing:https://tw-nba.udn.com/nba/standings_game/932c8665-5a00-483b-8cb5-d8fe5360ff24\n",
      "Processing:https://tw-nba.udn.com/nba/schedule_boxscore/2024-02-06\n",
      "Processing:https://tw-nba.udn.com/nba/schedule_boxscore/2024-02-07\n",
      "Processing:https://tw-nba.udn.com/nba/schedule_boxscore/2024-02-08\n",
      "Processing:https://tw-nba.udn.com/nba/schedule_boxscore/2024-02-09\n",
      "Processing:https://tw-nba.udn.com/nba/schedule_boxscore/2024-02-10\n",
      "2024-02-10共有6場比賽\n",
      "Processing:https://tw-nba.udn.com/nba/standings_game/55a895b1-334f-4752-89a1-f9b45454e2b1\n",
      "2024-02-06共有6場比賽\n",
      "Processing:https://tw-nba.udn.com/nba/standings_game/0e6f8fc0-2e9c-474f-9392-837c93b32d4c\n",
      "2024-02-08共有7場比賽\n",
      "Processing:https://tw-nba.udn.com/nba/standings_game/2edfab52-5465-4193-b860-8b35bbe5794d\n",
      "2024-02-07共有7場比賽\n",
      "Processing:https://tw-nba.udn.com/nba/standings_game/91854869-44ca-4ee9-ad82-7f255e7ec20b\n",
      "2024-02-09共有9場比賽\n",
      "Processing:https://tw-nba.udn.com/nba/standings_game/1788e97c-26c5-4fa1-94c5-08f2e7cdff50\n",
      "Processing:https://tw-nba.udn.com/nba/standings_game/9ff83444-e5d2-47f2-9b24-0338dd5b518a\n",
      "Processing:https://tw-nba.udn.com/nba/standings_game/b9cf3224-2775-4b3f-9ff5-884f2c6a6999\n",
      "Processing:https://tw-nba.udn.com/nba/standings_game/10483b1f-9468-4f0b-8e97-90c4e112905f\n",
      "Processing:https://tw-nba.udn.com/nba/standings_game/c3346c1c-c415-4bc8-9274-86a2c5a05703\n",
      "Processing:https://tw-nba.udn.com/nba/standings_game/a4bc8099-1d93-4637-a9d1-0f894fead33d\n",
      "Processing:https://tw-nba.udn.com/nba/standings_game/d8605112-f986-408e-8ed8-9565aa0f8964\n",
      "Processing:https://tw-nba.udn.com/nba/standings_game/0ab4706e-8ff7-4e63-87e1-37d756d588c2\n",
      "Processing:https://tw-nba.udn.com/nba/standings_game/20b918f0-f3ab-4a77-bebf-3e6a24c59eb7\n",
      "Processing:https://tw-nba.udn.com/nba/standings_game/c72f6f2c-dd92-434a-91d3-3def1a205baf\n",
      "Processing:https://tw-nba.udn.com/nba/standings_game/e66bbb9e-ce01-449c-bf45-46bea71fe3f1\n",
      "Processing:https://tw-nba.udn.com/nba/standings_game/44d1b09c-9a9e-4cc6-8708-49678a70e77a\n",
      "Processing:https://tw-nba.udn.com/nba/standings_game/4d83896e-48b0-48cf-a62a-b0ee0d22bf82\n",
      "Processing:https://tw-nba.udn.com/nba/standings_game/922ed1ce-fe8c-418b-8092-afbdc191ae1c\n",
      "Processing:https://tw-nba.udn.com/nba/standings_game/04b1815e-c06f-4171-9d02-c88045632524\n",
      "Processing:https://tw-nba.udn.com/nba/standings_game/ec46ada7-401a-4256-9505-6e7c3d94d18d\n",
      "Processing:https://tw-nba.udn.com/nba/standings_game/7d2d54e0-e6d8-4e4e-978a-e11917d4170f\n",
      "Processing:https://tw-nba.udn.com/nba/standings_game/f9b99b5a-b1b3-46c2-a0d4-2ae800c719c0\n",
      "Processing:https://tw-nba.udn.com/nba/standings_game/444621c6-0f42-4de0-bab3-f48694b69dee\n",
      "Processing:https://tw-nba.udn.com/nba/standings_game/e74c89c6-a91c-41c7-959b-4ac35827309f\n",
      "Processing:https://tw-nba.udn.com/nba/standings_game/42bfe796-53f5-42b4-84c2-a90b9b2b14c7\n",
      "Processing:https://tw-nba.udn.com/nba/standings_game/8cb61b0e-aeff-41aa-b692-d4b5a3b4007f\n",
      "Processing:https://tw-nba.udn.com/nba/standings_game/471ec5cb-0949-47a6-afe4-1c6efe3c81a9\n",
      "Processing:https://tw-nba.udn.com/nba/standings_game/bd127bbe-b14d-43ce-95ae-6114955dd2a0\n",
      "Processing:https://tw-nba.udn.com/nba/standings_game/914148aa-699c-4931-aac3-f1b7ee6c26c3\n",
      "Processing:https://tw-nba.udn.com/nba/standings_game/a83675fd-43f7-490c-ad3d-673a41a3e701\n",
      "Processing:https://tw-nba.udn.com/nba/standings_game/7765d21b-3ce0-45f7-a6f0-25a5a76cda6e\n",
      "Processing:https://tw-nba.udn.com/nba/standings_game/9b117012-cbf2-4d70-9d4b-db50852c3557\n",
      "Processing:https://tw-nba.udn.com/nba/standings_game/a6f534ca-146d-4fea-987a-77e7c017ea7a\n",
      "Processing:https://tw-nba.udn.com/nba/standings_game/24e3861b-e61f-47c0-9da5-f6ed60152143\n",
      "Processing:https://tw-nba.udn.com/nba/standings_game/72e3ecce-3002-4bbe-90ce-012358bcd006\n",
      "Processing:https://tw-nba.udn.com/nba/schedule_boxscore/2024-02-11\n",
      "Processing:https://tw-nba.udn.com/nba/schedule_boxscore/2024-02-12\n",
      "Processing:https://tw-nba.udn.com/nba/schedule_boxscore/2024-02-13\n",
      "Processing:https://tw-nba.udn.com/nba/schedule_boxscore/2024-02-14\n",
      "Processing:https://tw-nba.udn.com/nba/schedule_boxscore/2024-02-15\n",
      "2024-02-12共有2場比賽\n",
      "Processing:https://tw-nba.udn.com/nba/standings_game/10dee9b6-c101-4bba-82af-f43f3dcfff30\n",
      "2024-02-15共有13場比賽\n",
      "Processing:https://tw-nba.udn.com/nba/standings_game/cf3ad524-dc6c-444d-838e-f90138450949\n",
      "2024-02-14共有6場比賽\n",
      "Processing:https://tw-nba.udn.com/nba/standings_game/36f95053-2c21-4132-91f1-a4fbeef05097\n",
      "2024-02-13共有10場比賽\n",
      "Processing:https://tw-nba.udn.com/nba/standings_game/7d8766bd-ec14-44e7-b577-84a03c8c6b62\n",
      "2024-02-11共有11場比賽\n",
      "Processing:https://tw-nba.udn.com/nba/standings_game/cc0a2efe-d788-4b9f-9f69-84fa821b5da1\n",
      "Processing:https://tw-nba.udn.com/nba/standings_game/6a935bf2-2146-4d12-9c48-4f553eb8bc77\n",
      "Processing:https://tw-nba.udn.com/nba/standings_game/d941e939-6974-4496-aa53-f26e94f300ac\n",
      "Processing:https://tw-nba.udn.com/nba/standings_game/6b17604d-5604-4531-8fe7-44bb429f1c16\n",
      "Processing:https://tw-nba.udn.com/nba/standings_game/da341cd4-f387-471a-bc33-33b1262468dc\n",
      "Processing:https://tw-nba.udn.com/nba/standings_game/8f9e0cdc-e228-40a4-bd13-9fbe999093dc\n",
      "Processing:https://tw-nba.udn.com/nba/standings_game/fd375991-1fd8-4ff4-85b8-8394bcd58935\n",
      "Processing:https://tw-nba.udn.com/nba/standings_game/367dd00b-1486-47af-8d24-50da82e63bd5\n",
      "Processing:https://tw-nba.udn.com/nba/standings_game/7d824a3c-949a-4fc1-a8e3-79b03b9e8fda\n",
      "Processing:https://tw-nba.udn.com/nba/standings_game/8e1fcbf0-6bf7-41ba-bcbb-9900365f0251\n",
      "Processing:https://tw-nba.udn.com/nba/standings_game/60f3628d-ad67-4305-bfe7-3d715a861240\n",
      "Processing:https://tw-nba.udn.com/nba/standings_game/0a13e4ac-9136-406e-9d20-4888ecca9118\n",
      "Processing:https://tw-nba.udn.com/nba/standings_game/f8ee3dd8-349c-4f7e-b332-76c8d07d440f\n",
      "Processing:https://tw-nba.udn.com/nba/standings_game/18526445-4ab2-4bfa-85b0-11b7c5833315\n",
      "Processing:https://tw-nba.udn.com/nba/standings_game/6fdb2fe2-27d6-490d-bcaa-e1f38468e497\n",
      "Processing:https://tw-nba.udn.com/nba/standings_game/8842f434-e03f-4e38-8d91-cbc5b34c3d04\n",
      "Processing:https://tw-nba.udn.com/nba/standings_game/4b94c315-8dd9-4c82-a7d9-e1e7aa86c8bc\n",
      "Processing:https://tw-nba.udn.com/nba/standings_game/a2c5c37e-7b4d-4b18-9025-0bc259b8622b\n",
      "Processing:https://tw-nba.udn.com/nba/standings_game/bc4479df-1823-4ca6-8007-55bce565f45f\n",
      "Processing:https://tw-nba.udn.com/nba/standings_game/0f031e19-4e2f-4af3-b26b-8a19e9a9b61c\n",
      "Processing:https://tw-nba.udn.com/nba/standings_game/b5a8775d-4e3c-47b1-b165-1aaa159b2906\n",
      "Processing:https://tw-nba.udn.com/nba/standings_game/d873677d-0c47-4857-8b0a-62a0419a81fa\n",
      "Processing:https://tw-nba.udn.com/nba/standings_game/04528dd1-44c8-491e-9092-ba6368b7b482\n",
      "Processing:https://tw-nba.udn.com/nba/standings_game/de905cb3-20ad-4ae1-9505-bc21e621f18c\n",
      "Processing:https://tw-nba.udn.com/nba/standings_game/19e871c1-ed26-406b-94e9-384c76bccb16\n",
      "Processing:https://tw-nba.udn.com/nba/standings_game/eb3b299f-e3cf-41e9-9571-44fc10501403\n",
      "Processing:https://tw-nba.udn.com/nba/standings_game/da378f9d-656e-4f5a-aadc-ea2aa9e7637f\n",
      "Processing:https://tw-nba.udn.com/nba/standings_game/a5d9b957-9b85-4502-b04d-78b432115aaa\n",
      "Processing:https://tw-nba.udn.com/nba/standings_game/eadf7511-0e68-4c4b-86ba-a9b9d1db051b\n",
      "Processing:https://tw-nba.udn.com/nba/standings_game/2a2b4da6-dccf-4304-8855-956a631bcb1b\n",
      "Processing:https://tw-nba.udn.com/nba/standings_game/beeb1dc8-0d27-4aeb-a147-74b41736549c\n",
      "Processing:https://tw-nba.udn.com/nba/standings_game/0b646e17-fe16-485a-bf72-8a5d4b5277c7\n",
      "Processing:https://tw-nba.udn.com/nba/standings_game/9f12f954-1022-4066-b51c-b9bff77a312d\n",
      "Processing:https://tw-nba.udn.com/nba/standings_game/bd4b0911-2515-4e54-92d5-642470081670\n",
      "Processing:https://tw-nba.udn.com/nba/standings_game/0ca54b51-f33a-4810-a686-830630831304\n",
      "Processing:https://tw-nba.udn.com/nba/standings_game/0dee9114-514d-4cc3-9eaa-a4795a70b9a2\n",
      "Processing:https://tw-nba.udn.com/nba/standings_game/9bb7ee3b-85cd-40e5-9627-0113e5053954\n",
      "Processing:https://tw-nba.udn.com/nba/standings_game/78467caa-2282-4ae0-8614-70844b7d0914\n",
      "Processing:https://tw-nba.udn.com/nba/schedule_boxscore/2024-02-16\n",
      "Processing:https://tw-nba.udn.com/nba/schedule_boxscore/2024-02-17\n",
      "Processing:https://tw-nba.udn.com/nba/schedule_boxscore/2024-02-18\n",
      "Processing:https://tw-nba.udn.com/nba/schedule_boxscore/2024-02-19\n",
      "Processing:https://tw-nba.udn.com/nba/schedule_boxscore/2024-02-20\n",
      "2024-02-16共有3場比賽\n",
      "Processing:https://tw-nba.udn.com/nba/standings_game/df8f5cb4-311a-44fc-9f6e-fe72f5855fba\n",
      "2024-02-19共有1場比賽\n",
      "Processing:https://tw-nba.udn.com/nba/standings_game/54d776dc-0e88-4c77-8fe0-021d4ed7b250\n",
      "2024-02-17共有3場比賽\n",
      "Processing:https://tw-nba.udn.com/nba/standings_game/bddae60f-b85c-492d-b4c6-c1c718757e58\n",
      "2024-02-18共有8場比賽\n",
      "'NoneType' object has no attribute 'get'\n",
      "2024-02-20共有8場比賽\n",
      "'NoneType' object has no attribute 'get'\n",
      "Processing:https://tw-nba.udn.com/nba/standings_game/04e6e2b8-9730-4ff3-aa1e-f5b0bbcea941\n",
      "Processing:https://tw-nba.udn.com/nba/standings_game/c55cc725-69e5-490e-a898-497c0b8f2685\n",
      "Processing:https://tw-nba.udn.com/nba/standings_game/d925525f-5a6e-4b99-a687-88ddd61c5b7c\n",
      "Processing:https://tw-nba.udn.com/nba/standings_game/db9bee58-60f0-4b61-a589-717da519c70a\n",
      "Processing:https://tw-nba.udn.com/nba/schedule_boxscore/2024-02-21\n",
      "Processing:https://tw-nba.udn.com/nba/schedule_boxscore/2024-02-22\n",
      "Processing:https://tw-nba.udn.com/nba/schedule_boxscore/2024-02-23\n",
      "Processing:https://tw-nba.udn.com/nba/schedule_boxscore/2024-02-24\n",
      "Processing:https://tw-nba.udn.com/nba/schedule_boxscore/2024-02-25\n",
      "2024-02-21共有8場比賽\n",
      "'NoneType' object has no attribute 'get'\n",
      "2024-02-25共有3場比賽\n",
      "Processing:https://tw-nba.udn.com/nba/standings_game/36752c24-bd78-4a9b-81e9-7ef788578cb2\n",
      "2024-02-22共有8場比賽\n",
      "'NoneType' object has no attribute 'get'\n",
      "2024-02-23共有12場比賽\n",
      "Processing:https://tw-nba.udn.com/nba/standings_game/3a2e497c-bec2-441a-a45e-ce6cacc70b89\n",
      "2024-02-24共有10場比賽\n",
      "Processing:https://tw-nba.udn.com/nba/standings_game/518184af-0dfd-4730-8fe8-d54f913a41a8\n",
      "Processing:https://tw-nba.udn.com/nba/standings_game/8dd69bfe-408d-45da-8762-e68a3d17cfe1\n",
      "Processing:https://tw-nba.udn.com/nba/standings_game/8477aa02-a6f7-4054-95b0-a8eb6f63d051\n",
      "Processing:https://tw-nba.udn.com/nba/standings_game/8455d4b9-09c0-43b1-9cad-2e05d0470c59\n",
      "Processing:https://tw-nba.udn.com/nba/standings_game/e56cfe42-4678-4dc3-ba65-ec7a3cbfaa8d\n",
      "Processing:https://tw-nba.udn.com/nba/standings_game/a8de41a5-ac35-4f7d-8fb5-e2c07051dde0\n",
      "Processing:https://tw-nba.udn.com/nba/standings_game/8d455194-8fa3-4d8d-843c-4c89ed8931ff\n",
      "Processing:https://tw-nba.udn.com/nba/standings_game/d8971b72-f330-4a98-84e8-bd7e5dae125e\n",
      "Processing:https://tw-nba.udn.com/nba/standings_game/941714d5-9f66-447c-86af-e6153f822561\n",
      "Processing:https://tw-nba.udn.com/nba/standings_game/42e0a622-436d-49be-ac33-39fde3e635a5\n",
      "Processing:https://tw-nba.udn.com/nba/standings_game/97cabed8-89c3-457b-8237-d96c16b8e874\n",
      "Processing:https://tw-nba.udn.com/nba/standings_game/163db0ef-19be-482c-860d-1b80440dfc2a\n",
      "Processing:https://tw-nba.udn.com/nba/standings_game/e1209a33-dfa8-42af-ba47-89d8c55d781b\n",
      "Processing:https://tw-nba.udn.com/nba/standings_game/b071b2b0-e08c-4cdd-be8d-a2bade7d5177\n",
      "Processing:https://tw-nba.udn.com/nba/standings_game/1a4a8ebe-dd6f-4f11-a499-95d61a9f6d36\n",
      "Processing:https://tw-nba.udn.com/nba/standings_game/b4079b13-d5f4-411d-8ddc-3f63e8446002\n",
      "Processing:https://tw-nba.udn.com/nba/standings_game/3111f305-79b6-44c2-af2c-23ff30b7d3af\n",
      "Processing:https://tw-nba.udn.com/nba/standings_game/3abe0b39-0745-481f-b80a-97a25e2e4912\n",
      "Processing:https://tw-nba.udn.com/nba/standings_game/8305ba4f-cfd4-49ae-9ff6-ae5aac90cb53\n",
      "Processing:https://tw-nba.udn.com/nba/standings_game/93777b48-a9b1-4280-a230-6f7c00d54e9d\n",
      "Processing:https://tw-nba.udn.com/nba/standings_game/fc9f7af5-97dc-4d9d-b85b-a4d7ac9f78b3\n",
      "Processing:https://tw-nba.udn.com/nba/standings_game/417cf5e9-0392-449b-ba7a-4576aa337c7b\n",
      "Processing:https://tw-nba.udn.com/nba/standings_game/61c89f74-affd-430e-ae7b-0290c127d528\n",
      "Processing:https://tw-nba.udn.com/nba/schedule_boxscore/2024-02-26\n",
      "Processing:https://tw-nba.udn.com/nba/schedule_boxscore/2024-02-27\n",
      "Processing:https://tw-nba.udn.com/nba/schedule_boxscore/2024-02-28\n",
      "Processing:https://tw-nba.udn.com/nba/schedule_boxscore/2024-02-29\n",
      "Processing:https://tw-nba.udn.com/nba/schedule_boxscore/2024-03-01\n",
      "2024-02-29共有6場比賽\n",
      "Processing:https://tw-nba.udn.com/nba/standings_game/c73f2765-1af2-4340-a0d9-bfb68d7ddfb8\n",
      "2024-02-26共有11場比賽\n",
      "Processing:https://tw-nba.udn.com/nba/standings_game/f3322844-f8bb-4762-8b1f-0c83a267e321\n",
      "2024-02-28共有11場比賽\n",
      "Processing:https://tw-nba.udn.com/nba/standings_game/55d12b84-7b16-4eec-825a-23923e67d8a9\n",
      "2024-02-27共有4場比賽\n",
      "Processing:https://tw-nba.udn.com/nba/standings_game/1a3793a6-94dd-42da-8a4d-8df6b12b710d\n",
      "2024-03-01共有8場比賽\n",
      "Processing:https://tw-nba.udn.com/nba/standings_game/5c97cac6-4fa8-40e7-83a3-97167922a5f4\n",
      "Processing:https://tw-nba.udn.com/nba/standings_game/fc2a0e92-d931-4ea3-b64a-00d3a983586f\n",
      "Processing:https://tw-nba.udn.com/nba/standings_game/c7aeef68-83d8-4118-93ed-7e5770f97329\n",
      "Processing:https://tw-nba.udn.com/nba/standings_game/67330a13-b298-4be3-890c-863648360f41\n",
      "Processing:https://tw-nba.udn.com/nba/standings_game/5d136373-e4ca-4b91-8764-ea7d2586b8de\n",
      "Processing:https://tw-nba.udn.com/nba/standings_game/b9137e70-c71f-4107-80e5-afa96017d07c\n",
      "Processing:https://tw-nba.udn.com/nba/standings_game/1bd22792-76b5-4324-aa82-3a665ba7c8b0\n",
      "Processing:https://tw-nba.udn.com/nba/standings_game/b7e5fe8b-e635-4a2e-99c0-00f4b8c943c4\n",
      "Processing:https://tw-nba.udn.com/nba/standings_game/24b46c19-0465-4426-b791-243904a4514e\n",
      "Processing:https://tw-nba.udn.com/nba/standings_game/2b8e99be-e9a2-4f62-b838-4f72f3fcd8b8\n",
      "Processing:https://tw-nba.udn.com/nba/standings_game/b30f3cc6-1fe2-43eb-89a0-d04e856a835a\n",
      "Processing:https://tw-nba.udn.com/nba/standings_game/866f1789-67dc-4a71-87c6-63717cafaf26\n",
      "Processing:https://tw-nba.udn.com/nba/standings_game/741d9e47-8910-4059-a5a7-a0f9fae5a83e\n",
      "Processing:https://tw-nba.udn.com/nba/standings_game/ecd294a7-3087-4c18-8755-6497708f0b39\n",
      "Processing:https://tw-nba.udn.com/nba/standings_game/4bc111f6-4ec2-45f7-a616-40c433f59899\n",
      "Processing:https://tw-nba.udn.com/nba/standings_game/288fb5b5-d939-4f9f-93b5-da9b60ecf128\n",
      "Processing:https://tw-nba.udn.com/nba/standings_game/24ccafbd-1b6a-49c4-b115-b84d3633bdaa\n",
      "Processing:https://tw-nba.udn.com/nba/standings_game/1404045b-1531-4e54-863c-fb613b84b1f0\n",
      "Processing:https://tw-nba.udn.com/nba/standings_game/6d3c51f2-8589-4b2b-a253-10fcc1524519\n",
      "Processing:https://tw-nba.udn.com/nba/standings_game/cfd54b96-2d99-4a41-8111-8c22bc8b19e1\n",
      "Processing:https://tw-nba.udn.com/nba/standings_game/d835ee49-8e71-4616-8e20-417b4fb0be88\n",
      "Processing:https://tw-nba.udn.com/nba/standings_game/15ce8192-426a-401f-b611-eff4313d1a32\n",
      "Processing:https://tw-nba.udn.com/nba/standings_game/49f84547-4bca-488f-8f01-028999ea749a\n",
      "Processing:https://tw-nba.udn.com/nba/standings_game/f7cd38a4-1ad4-4edf-ba90-679059bd28ba\n",
      "Processing:https://tw-nba.udn.com/nba/standings_game/a4057268-5199-4033-9553-dfc980cb3537\n",
      "Processing:https://tw-nba.udn.com/nba/standings_game/0c858680-89e1-47c4-878e-87ea422811d3\n",
      "Processing:https://tw-nba.udn.com/nba/standings_game/0c288119-71d1-4536-a2fe-5b6627455a34\n",
      "Processing:https://tw-nba.udn.com/nba/standings_game/cc441abe-f819-4ac5-b483-dd337183f981\n",
      "Processing:https://tw-nba.udn.com/nba/standings_game/4bf1a615-76cc-47a2-9f9a-48c54ec68913\n",
      "Processing:https://tw-nba.udn.com/nba/standings_game/7c6ca7d9-01db-41a7-9a2a-875106e9b1f1\n",
      "Processing:https://tw-nba.udn.com/nba/standings_game/d5ea3c86-0d21-4733-8a3c-99f42b362b3f\n",
      "Processing:https://tw-nba.udn.com/nba/standings_game/d95b0a60-1808-48da-b182-d4e98c510ff7\n",
      "Processing:https://tw-nba.udn.com/nba/standings_game/bcc8a70a-5347-4bee-bd21-3805090153f3\n",
      "Processing:https://tw-nba.udn.com/nba/standings_game/cc3a5ada-6506-4ae3-bc0f-5d2667c22314\n",
      "Processing:https://tw-nba.udn.com/nba/standings_game/639bd186-7061-4cb9-88de-d2d148f8b7e6\n",
      "Processing:https://tw-nba.udn.com/nba/standings_game/f9fe44eb-aa3b-4a8d-b8d5-2a2905c73fca\n",
      "Processing:https://tw-nba.udn.com/nba/schedule_boxscore/2024-03-02\n",
      "Processing:https://tw-nba.udn.com/nba/schedule_boxscore/2024-03-03\n",
      "Processing:https://tw-nba.udn.com/nba/schedule_boxscore/2024-03-04\n",
      "Processing:https://tw-nba.udn.com/nba/schedule_boxscore/2024-03-05\n",
      "Processing:https://tw-nba.udn.com/nba/schedule_boxscore/2024-03-06\n",
      "2024-03-03共有5場比賽\n",
      "Processing:https://tw-nba.udn.com/nba/standings_game/f5b83bb8-1ddf-4b56-b8a0-75b8d1885a4e\n",
      "2024-03-02共有9場比賽\n",
      "Processing:https://tw-nba.udn.com/nba/standings_game/1b4333c6-bf18-4a15-8e16-c1c0fd630dc1\n",
      "2024-03-06共有9場比賽\n",
      "Processing:https://tw-nba.udn.com/nba/standings_game/a2b87679-0fd9-44d5-8715-644cbef07eec\n",
      "2024-03-05共有6場比賽\n",
      "Processing:https://tw-nba.udn.com/nba/standings_game/c5180192-e548-4243-9785-6a76ccc1be32\n",
      "2024-03-04共有8場比賽\n",
      "Processing:https://tw-nba.udn.com/nba/standings_game/583e4ca7-5e67-4393-b704-aa925a32912a\n",
      "Processing:https://tw-nba.udn.com/nba/standings_game/715a779a-4f5a-4be9-be1a-faabb09b79ab\n",
      "Processing:https://tw-nba.udn.com/nba/standings_game/237b8d1a-2c0e-472c-b0cb-2f5e9096aad4\n",
      "Processing:https://tw-nba.udn.com/nba/standings_game/88193daa-82c9-4b3e-92e5-f4c424d01422\n",
      "Processing:https://tw-nba.udn.com/nba/standings_game/b01932d8-9ada-4e12-92b7-ae91498ed501\n",
      "Processing:https://tw-nba.udn.com/nba/standings_game/71195cdc-bbe2-4e03-a50c-c975e92b15ae\n",
      "Processing:https://tw-nba.udn.com/nba/standings_game/51ff1342-a47b-4958-a71e-863e00941517\n",
      "Processing:https://tw-nba.udn.com/nba/standings_game/979ee1a3-ca89-4f59-a4d4-6aa9c8946a40\n",
      "Processing:https://tw-nba.udn.com/nba/standings_game/865d7cf3-7edd-43b1-8386-359cf938870f\n",
      "Processing:https://tw-nba.udn.com/nba/standings_game/b73a057f-7b18-4663-bff7-7610e87b453d\n",
      "Processing:https://tw-nba.udn.com/nba/standings_game/f5db4fd9-0e9a-4e1f-bd13-03835b1a8f7a\n",
      "Processing:https://tw-nba.udn.com/nba/standings_game/7369c6c2-1523-44c2-8693-5e4837e58560\n",
      "Processing:https://tw-nba.udn.com/nba/standings_game/b4e60aaf-4896-4d1e-940f-860287531e6f\n",
      "Processing:https://tw-nba.udn.com/nba/standings_game/f7bf5112-5e70-465d-bf19-3c02d61581ed\n",
      "Processing:https://tw-nba.udn.com/nba/standings_game/818f67e2-ffdc-43f1-8b86-9be13dfcdd98\n",
      "Processing:https://tw-nba.udn.com/nba/standings_game/8001f467-e343-4b76-ab4d-f3d1c4576fc2\n",
      "Processing:https://tw-nba.udn.com/nba/standings_game/75a2e49e-029c-478c-88cf-799e22dff19b\n",
      "Processing:https://tw-nba.udn.com/nba/standings_game/c93fcb05-ae7a-4ec8-a1e3-35de8e0c8621\n",
      "Processing:https://tw-nba.udn.com/nba/standings_game/3003f0cd-85ff-4554-9ede-52096b43df38\n",
      "Processing:https://tw-nba.udn.com/nba/standings_game/e882c37d-0de3-472c-af95-146579a9b790\n",
      "Processing:https://tw-nba.udn.com/nba/standings_game/f9fed036-0b8e-4363-b2bd-487aecf59295\n",
      "Processing:https://tw-nba.udn.com/nba/standings_game/cbdba97d-6cbc-4c5d-94e6-3f3183313191\n",
      "Processing:https://tw-nba.udn.com/nba/standings_game/9dd3ded1-2819-43f2-85aa-9b63fd28d47e\n",
      "Processing:https://tw-nba.udn.com/nba/standings_game/10bec4e7-c941-42f4-ab72-b65e1dcd9861\n",
      "Processing:https://tw-nba.udn.com/nba/standings_game/410b14a5-cf07-4d5f-b5ba-9e09c732c2f3\n",
      "Processing:https://tw-nba.udn.com/nba/standings_game/7ef91e31-269d-4e71-8a2d-095b27439e91\n",
      "Processing:https://tw-nba.udn.com/nba/standings_game/c16a1b89-90e1-4008-b3db-9a4753cd2b17\n",
      "Processing:https://tw-nba.udn.com/nba/standings_game/fe96e30d-fbdc-4e9c-8fca-0156e5aed851\n",
      "Processing:https://tw-nba.udn.com/nba/standings_game/b48aca6e-7277-413c-83e3-72bf2a7c81f2\n",
      "Processing:https://tw-nba.udn.com/nba/standings_game/0f6a0a9d-db85-498a-b3d8-45df846cb066\n",
      "Processing:https://tw-nba.udn.com/nba/standings_game/47fea2aa-6644-4d79-8a28-320bc67a7568\n",
      "Processing:https://tw-nba.udn.com/nba/standings_game/a308ef85-6728-4a9d-8d6a-d9b84aa54944\n",
      "Processing:https://tw-nba.udn.com/nba/standings_game/dc0f9c70-1c21-4481-aac8-24c2d2c84e1e\n"
     ]
    }
   ],
   "source": [
    "start = datetime(2024,2,1)\n",
    "end = datetime.now()\n",
    "nba_data = []\n",
    "threads=[]\n",
    "q=Queue()\n",
    "count = 0\n",
    "max_count = 5\n",
    "\n",
    "while start <= end:\n",
    "    date = start.strftime(\"%Y-%m-%d\")\n",
    "    threads.append(threading.Thread(target=get_nba_data,args=(date,)))\n",
    "    \n",
    "    # 批次處理\n",
    "    start += timedelta(days=1)\n",
    "    count += 1\n",
    "    if count%max_count == 0:\n",
    "\n",
    "        #Start the sub thread in the list\n",
    "        for t in threads:\n",
    "            t.start()\n",
    "\n",
    "        #Hold them until all are complete \n",
    "        for t in threads:\n",
    "            t.join()\n",
    "\n",
    "        #Reset the temp list\n",
    "        threads=[]\n",
    "\n",
    "#Start the sub thread remaining in the list\n",
    "for t in threads:\n",
    "    t.start()\n",
    "\n",
    "#Hold them until all are complete \n",
    "for t in threads:\n",
    "    t.join()\n",
    "\n",
    "\n"
   ]
  },
  {
   "cell_type": "code",
   "execution_count": 38,
   "metadata": {},
   "outputs": [
    {
     "name": "stdout",
     "output_type": "stream",
     "text": [
      "[['2024-02-15', '溜馬', '36', '22', '26', '21'], ['2024-02-15', '尼克', '26', '25', '28', '30'], ['2024-02-15', '湖人', '28', '32', '28', '26'], ['2024-02-15', '塞爾蒂克', '25', '21', '32', '27'], ['2024-02-15', '騎士', '27', '24', '30', '27'], ['2024-02-15', '灰熊', '27', '31', '22', '21'], ['2024-02-15', '76人', '39', '32', '22', '34'], ['2024-02-15', '爵士', '32', '29', '32', '31']]\n",
      "[['2024-02-15', '籃網', '38', '29', '38', '31'], ['2024-02-15', '76人', '22', '29', '31', '39'], ['2024-02-15', '勇士', '33', '31', '25', '34', '11'], ['2024-02-15', '老鷹', '28', '36', '25', '34', '18'], ['2024-02-15', '國王', '32', '39', '20', '32'], ['2024-02-15', '公牛', '25', '27', '29', '34'], ['2024-02-15', '公鹿', '20', '40', '33', '36'], ['2024-02-15', '獨行俠', '44', '21', '27', '25'], ['2024-02-15', '騎士', '30', '37', '25', '25'], ['2024-02-15', '馬刺', '25', '20', '26', '30'], ['2024-02-15', '湖人', '27', '32', '21', '33'], ['2024-02-15', '尼克', '25', '34', '27', '19']]\n",
      "[['2024-02-15', '魔術', '24', '26', '28', '33'], ['2024-02-15', '活塞', '29', '18', '28', '24'], ['2024-02-15', '太陽', '42', '37', '37', '24'], ['2024-02-15', '巫師', '28', '30', '28', '26'], ['2024-02-15', '灰熊', '20', '30', '26', '15'], ['2024-02-15', '塞爾蒂克', '29', '41', '29', '32'], ['2024-02-15', '快艇', '19', '24', '26', '34'], ['2024-02-15', '熱火', '22', '21', '24', '28'], ['2024-02-15', '溜馬', '26', '29', '36', '24'], ['2024-02-15', '黃蜂', '13', '31', '32', '23'], ['2024-02-15', '暴龍', '33', '30', '24', '23', '8', '9'], ['2024-02-15', '雷霆', '23', '24', '34', '29', '8', '17'], ['2024-02-15', '火箭', '23', '21', '20', '26'], ['2024-02-15', '灰狼', '31', '17', '32', '31'], ['2024-02-15', '公鹿', '26', '37', '32', '13'], ['2024-02-15', '爵士', '32', '21', '30', '40'], ['2024-02-15', '拓荒者', '37', '26', '21', '19'], ['2024-02-15', '金塊', '25', '35', '26', '26']]\n",
      "[['2024-02-15', '公牛', '28', '29', '29', '31'], ['2024-02-15', '黃蜂', '27', '32', '27', '24'], ['2024-02-15', '快艇', '37', '29', '40', '19'], ['2024-02-15', '巫師', '35', '25', '19', '30'], ['2024-02-15', '活塞', '23', '34', '34', '30'], ['2024-02-15', '騎士', '30', '34', '32', '32'], ['2024-02-15', '國王', '22', '33', '29', '22'], ['2024-02-15', '熱火', '28', '31', '31', '25'], ['2024-02-15', '金塊', '28', '23', '21', '28'], ['2024-02-15', '雷霆', '19', '28', '26', '32'], ['2024-02-15', '鵜鶘', '33', '28', '23', '26'], ['2024-02-15', '火箭', '25', '29', '25', '20'], ['2024-02-15', '獨行俠', '21', '27', '22', '17'], ['2024-02-15', '灰狼', '24', '28', '31', '38'], ['2024-02-15', '魔術', '27', '30', '34', '17'], ['2024-02-15', '馬刺', '30', '21', '21', '26'], ['2024-02-15', '太陽', '30', '34', '42', '30'], ['2024-02-15', '籃網', '30', '31', '26', '33'], ['2024-02-15', '公鹿', '38', '27', '26', '25'], ['2024-02-15', '拓荒者', '37', '30', '29', '23']]\n",
      "[['2024-02-15', '快艇', '27', '38', '36', '35'], ['2024-02-15', '活塞', '33', '26', '31', '35'], ['2024-02-15', '熱火', '31', '25', '31', '23'], ['2024-02-15', '巫師', '33', '26', '15', '28'], ['2024-02-15', '國王', '38', '33', '28', '34'], ['2024-02-15', '溜馬', '39', '25', '24', '34'], ['2024-02-15', '太陽', '30', '33', '32', '25'], ['2024-02-15', '老鷹', '33', '33', '34', '29'], ['2024-02-15', '鵜鶘', '24', '34', '30', '26'], ['2024-02-15', '馬刺', '33', '32', '23', '25'], ['2024-02-15', '魔術', '26', '28', '26', '28'], ['2024-02-15', '灰狼', '38', '21', '29', '18'], ['2024-02-15', '暴龍', '23', '24', '25', '34'], ['2024-02-15', '火箭', '37', '29', '36', '33'], ['2024-02-15', '勇士', '24', '33', '28', '36'], ['2024-02-15', '灰熊', '23', '24', '26', '28'], ['2024-02-15', '黃蜂', '19', '23', '30', '34'], ['2024-02-15', '雷霆', '39', '34', '32', '21'], ['2024-02-15', '拓荒者', '20', '35', '29', '24'], ['2024-02-15', '金塊', '33', '26', '33', '28']]\n",
      "[['2024-02-15', '老鷹', '37', '36', '30', '24'], ['2024-02-15', '76人', '26', '30', '30', '35'], ['2024-02-15', '火箭', '20', '29', '22', '33'], ['2024-02-15', '暴龍', '34', '27', '27', '19'], ['2024-02-15', '巫師', '35', '36', '16', '42'], ['2024-02-15', '塞爾蒂克', '31', '33', '36', '33'], ['2024-02-15', '黃蜂', '17', '21', '25', '21'], ['2024-02-15', '公鹿', '31', '35', '33', '21'], ['2024-02-15', '金塊', '35', '22', '29', '20'], ['2024-02-15', '國王', '32', '35', '39', '29'], ['2024-02-15', '鵜鶘', '39', '35', '28', '20'], ['2024-02-15', '湖人', '36', '51', '28', '24']]\n",
      "[['2024-02-15', '獨行俠', '26', '27', '24', '41'], ['2024-02-15', '76人', '33', '24', '17', '28'], ['2024-02-15', '國王', '34', '25', '33', '18'], ['2024-02-15', '騎士', '39', '35', '32', '30'], ['2024-02-15', '湖人', '37', '37', '26', '24'], ['2024-02-15', '黃蜂', '29', '29', '28', '32'], ['2024-02-15', '快艇', '37', '29', '36', '47'], ['2024-02-15', '老鷹', '28', '38', '35', '43'], ['2024-02-15', '勇士', '20', '23', '32', '34'], ['2024-02-15', '籃網', '23', '26', '21', '28'], ['2024-02-15', '暴龍', '19', '31', '21', '29'], ['2024-02-15', '鵜鶘', '36', '31', '38', '33']]\n",
      "[['2024-02-15', '騎士', '27', '30', '23', '34'], ['2024-02-15', '巫師', '27', '30', '22', '27'], ['2024-02-15', '暴龍', '27', '27', '37', '32'], ['2024-02-15', '黃蜂', '36', '24', '37', '20'], ['2024-02-15', '馬刺', '31', '20', '26', '27'], ['2024-02-15', '熱火', '32', '21', '25', '38'], ['2024-02-15', '勇士', '15', '33', '43', '36'], ['2024-02-15', '76人', '22', '23', '23', '36'], ['2024-02-15', '老鷹', '37', '30', '23', '27'], ['2024-02-15', '塞爾蒂克', '35', '36', '24', '30'], ['2024-02-15', '鵜鶘', '36', '19', '24', '38'], ['2024-02-15', '快艇', '19', '28', '22', '37'], ['2024-02-15', '活塞', '31', '39', '27', '36'], ['2024-02-15', '國王', '36', '27', '36', '21']]\n",
      "[['2024-02-15', '火箭', '39', '36', '24', '30'], ['2024-02-15', '溜馬', '41', '27', '38', '26'], ['2024-02-15', '魔術', '19', '30', '26', '20'], ['2024-02-15', '熱火', '26', '30', '40', '25'], ['2024-02-15', '灰熊', '24', '22', '28', '39'], ['2024-02-15', '尼克', '33', '37', '27', '26'], ['2024-02-15', '獨行俠', '31', '34', '30', '24'], ['2024-02-15', '籃網', '24', '23', '30', '30'], ['2024-02-15', '灰狼', '33', '36', '23', '23', '8'], ['2024-02-15', '公牛', '22', '25', '36', '32', '14'], ['2024-02-15', '雷霆', '33', '35', '24', '25'], ['2024-02-15', '爵士', '28', '33', '35', '28'], ['2024-02-15', '公鹿', '23', '26', '24', '33'], ['2024-02-15', '太陽', '22', '26', '31', '35']]\n",
      "[['2024-02-15', '勇士', '45', '25', '25', '36'], ['2024-02-15', '溜馬', '34', '24', '18', '33'], ['2024-02-15', '馬刺', '20', '24', '41', '26'], ['2024-02-15', '魔術', '23', '38', '37', '29'], ['2024-02-15', '騎士', '32', '27', '31', '28'], ['2024-02-15', '籃網', '21', '30', '18', '26'], ['2024-02-15', '獨行俠', '28', '31', '28', '35'], ['2024-02-15', '尼克', '22', '26', '23', '37'], ['2024-02-15', '灰狼', '30', '33', '39', '27'], ['2024-02-15', '公鹿', '26', '27', '22', '30'], ['2024-02-15', '公牛', '27', '25', '28', '38'], ['2024-02-15', '灰熊', '31', '25', '25', '29'], ['2024-02-15', '爵士', '28', '38', '24', '25'], ['2024-02-15', '太陽', '40', '35', '34', '20'], ['2024-02-15', '活塞', '25', '31', '28', '36', '8'], ['2024-02-15', '拓荒者', '30', '41', '26', '23', '2'], ['2024-02-15', '金塊', '29', '30', '24', '31'], ['2024-02-15', '湖人', '23', '26', '30', '27']]\n",
      "[['2024-02-15', '塞爾蒂克', '26', '33', '27', '24'], ['2024-02-15', '熱火', '22', '28', '29', '27'], ['2024-02-15', '國王', '27', '30', '26', '30'], ['2024-02-15', '雷霆', '29', '38', '33', '27']]\n",
      "[['2024-02-15', '雷霆', '31', '29', '32', '35'], ['2024-02-15', '魔術', '32', '20', '30', '31'], ['2024-02-15', '塞爾蒂克', '36', '36', '26', '20'], ['2024-02-15', '籃網', '30', '27', '25', '28'], ['2024-02-15', '熱火', '40', '29', '29', '25'], ['2024-02-15', '公鹿', '28', '24', '24', '21'], ['2024-02-15', '灰狼', '37', '22', '25', '37'], ['2024-02-15', '拓荒者', '25', '26', '32', '26'], ['2024-02-15', '國王', '39', '28', '25', '33'], ['2024-02-15', '太陽', '38', '26', '30', '36'], ['2024-02-15', '活塞', '24', '24', '31', '32'], ['2024-02-15', '湖人', '34', '37', '28', '26']]\n",
      "[['2024-02-15', '溜馬', '24', '25', '31', '22'], ['2024-02-15', '黃蜂', '25', '23', '33', '30'], ['2024-02-15', '76人', '34', '32', '25', '32'], ['2024-02-15', '騎士', '33', '29', '30', '29'], ['2024-02-15', '公牛', '26', '34', '37', '39'], ['2024-02-15', '老鷹', '33', '26', '33', '34'], ['2024-02-15', '馬刺', '34', '33', '36', '19'], ['2024-02-15', '暴龍', '28', '22', '25', '24'], ['2024-02-15', '金塊', '23', '21', '19', '32'], ['2024-02-15', '公鹿', '28', '32', '31', '21'], ['2024-02-15', '鵜鶘', '31', '30', '25', '10'], ['2024-02-15', '灰熊', '26', '21', '26', '14'], ['2024-02-15', '尼克', '22', '21', '28', '32'], ['2024-02-15', '火箭', '29', '28', '17', '31'], ['2024-02-15', '巫師', '22', '36', '30', '16'], ['2024-02-15', '獨行俠', '26', '25', '27', '34'], ['2024-02-15', '勇士', '34', '29', '30', '36'], ['2024-02-15', '爵士', '26', '29', '25', '27'], ['2024-02-15', '灰狼', '28', '21', '40', '32'], ['2024-02-15', '快艇', '24', '29', '19', '28']]\n",
      "[['2024-02-15', '雷霆', '30', '32', '27', '22'], ['2024-02-15', '獨行俠', '47', '24', '39', '36'], ['2024-02-15', '活塞', '30', '28', '23', '25'], ['2024-02-15', '快艇', '31', '18', '27', '36'], ['2024-02-15', '馬刺', '30', '18', '27', '28'], ['2024-02-15', '籃網', '33', '27', '33', '30'], ['2024-02-15', '灰熊', '28', '21', '27', '30'], ['2024-02-15', '黃蜂', '25', '33', '27', '30'], ['2024-02-15', '公牛', '24', '26', '36', '15', '7'], ['2024-02-15', '魔術', '26', '26', '28', '21', '13'], ['2024-02-15', '76人', '33', '26', '31', '29'], ['2024-02-15', '巫師', '26', '30', '24', '33'], ['2024-02-15', '火箭', '31', '18', '35', '29'], ['2024-02-15', '老鷹', '19', '38', '38', '27'], ['2024-02-15', '溜馬', '26', '35', '30', '34'], ['2024-02-15', '尼克', '27', '31', '24', '29'], ['2024-02-15', '騎士', '30', '37', '28', '24'], ['2024-02-15', '暴龍', '24', '23', '26', '22'], ['2024-02-15', '太陽', '28', '30', '24', '30'], ['2024-02-15', '勇士', '33', '26', '25', '29'], ['2024-02-15', '鵜鶘', '29', '18', '17', '29'], ['2024-02-15', '拓荒者', '24', '16', '23', '21']]\n",
      "[['2024-02-15', '老鷹', '31', '24', '25', '19'], ['2024-02-15', '黃蜂', '29', '32', '35', '26'], ['2024-02-15', '尼克', '36', '19', '22', '23'], ['2024-02-15', '魔術', '27', '38', '24', '29'], ['2024-02-15', '熱火', '33', '27', '23', '26'], ['2024-02-15', '76人', '33', '29', '20', '22'], ['2024-02-15', '公牛', '32', '17', '27', '29'], ['2024-02-15', '騎士', '25', '18', '28', '37'], ['2024-02-15', '溜馬', '31', '34', '36', '26'], ['2024-02-15', '暴龍', '35', '36', '32', '22'], ['2024-02-15', '籃網', '15', '17', '23', '31'], ['2024-02-15', '塞爾蒂克', '30', '38', '33', '35'], ['2024-02-15', '火箭', '21', '28', '32', '32'], ['2024-02-15', '灰熊', '36', '22', '26', '37'], ['2024-02-15', '巫師', '26', '34', '38', '28'], ['2024-02-15', '鵜鶘', '31', '37', '31', '34'], ['2024-02-15', '馬刺', '32', '19', '14', '28'], ['2024-02-15', '獨行俠', '25', '31', '32', '28'], ['2024-02-15', '國王', '16', '25', '30', '31'], ['2024-02-15', '金塊', '27', '26', '21', '24'], ['2024-02-15', '活塞', '25', '16', '28', '31'], ['2024-02-15', '太陽', '37', '33', '29', '17'], ['2024-02-15', '湖人', '34', '36', '38', '30'], ['2024-02-15', '爵士', '28', '41', '23', '30'], ['2024-02-15', '快艇', '23', '29', '34', '44'], ['2024-02-15', '勇士', '30', '29', '38', '28']]\n",
      "[]\n",
      "[]\n",
      "[['2024-02-15', 'West NBA All Stars', '47', '42', '47', '50'], ['2024-02-15', 'East NBA All Stars', '53', '51', '56', '51']]\n",
      "[['2024-02-15', '公鹿', '26', '31', '28', '25'], ['2024-02-15', '灰熊', '29', '28', '37', '19'], ['2024-02-15', '勇士', '36', '48', '36', '20'], ['2024-02-15', '爵士', '39', '32', '31', '35'], ['2024-02-15', '灰狼', '44', '22', '33', '29'], ['2024-02-15', '拓荒者', '14', '37', '25', '15']]\n",
      "[['2024-02-15', 'Jalen', '40', '', '', ''], ['2024-02-15', 'Tamika', '35', '', '', ''], ['2024-02-15', 'Detlef', '41', '', '', ''], ['2024-02-15', 'Pau', '36', '', '', ''], ['2024-02-15', 'Detlef', '13', '', '', ''], ['2024-02-15', 'Jalen', '26', '', '', '']]\n",
      "[]\n",
      "[]\n",
      "[['2024-02-15', '魔術', '32', '33', '25', '22'], ['2024-02-15', '活塞', '30', '25', '30', '24'], ['2024-02-15', '塞爾蒂克', '30', '32', '35', '19'], ['2024-02-15', '尼克', '26', '32', '26', '18'], ['2024-02-15', '籃網', '22', '23', '21', '20'], ['2024-02-15', '灰狼', '23', '19', '28', '31']]\n",
      "[['2024-02-15', '騎士', '25', '25', '20', '27'], ['2024-02-15', '76人', '25', '28', '21', '30'], ['2024-02-15', '暴龍', '33', '32', '31', '27'], ['2024-02-15', '老鷹', '22', '42', '26', '31'], ['2024-02-15', '熱火', '31', '27', '26', '22'], ['2024-02-15', '鵜鶘', '24', '34', '22', '15'], ['2024-02-15', '快艇', '29', '24', '26', '22'], ['2024-02-15', '灰熊', '29', '30', '16', '20'], ['2024-02-15', '太陽', '28', '24', '24', '34'], ['2024-02-15', '火箭', '20', '37', '32', '25'], ['2024-02-15', '巫師', '28', '29', '24', '25'], ['2024-02-15', '雷霆', '41', '39', '37', '30'], ['2024-02-15', '公鹿', '31', '20', '36', '25'], ['2024-02-15', '灰狼', '27', '30', '13', '37'], ['2024-02-15', '黃蜂', '15', '14', '23', '32'], ['2024-02-15', '勇士', '22', '21', '30', '24'], ['2024-02-15', '金塊', '25', '38', '32', '32'], ['2024-02-15', '拓荒者', '20', '28', '29', '35'], ['2024-02-15', '馬刺', '26', '33', '31', '28'], ['2024-02-15', '湖人', '30', '36', '31', '26']]\n",
      "[['2024-02-15', '活塞', '25', '18', '45', '27'], ['2024-02-15', '溜馬', '42', '30', '30', '27'], ['2024-02-15', '籃網', '21', '27', '23', '22'], ['2024-02-15', '暴龍', '30', '29', '23', '39'], ['2024-02-15', '尼克', '32', '37', '22', '19'], ['2024-02-15', '76人', '21', '25', '35', '15'], ['2024-02-15', '魔術', '29', '25', '32', '30'], ['2024-02-15', '騎士', '24', '26', '32', '27'], ['2024-02-15', '太陽', '33', '30', '28', '22'], ['2024-02-15', '獨行俠', '32', '28', '36', '27'], ['2024-02-15', '塞爾蒂克', '31', '28', '37', '33'], ['2024-02-15', '公牛', '23', '39', '21', '29'], ['2024-02-15', '快艇', '33', '26', '23', '25'], ['2024-02-15', '雷霆', '35', '26', '35', '33'], ['2024-02-15', '火箭', '27', '23', '29', '26'], ['2024-02-15', '鵜鶘', '31', '32', '38', '26'], ['2024-02-15', '黃蜂', '34', '22', '29', '30'], ['2024-02-15', '爵士', '26', '26', '38', '17'], ['2024-02-15', '巫師', '25', '24', '34', '27'], ['2024-02-15', '金塊', '38', '34', '29', '29'], ['2024-02-15', '湖人', '28', '28', '26', '28'], ['2024-02-15', '勇士', '31', '36', '31', '30'], ['2024-02-15', '馬刺', '32', '25', '30', '35'], ['2024-02-15', '國王', '30', '35', '28', '34']]\n",
      "[['2024-02-15', '暴龍', '30', '31', '29', '40'], ['2024-02-15', '溜馬', '28', '28', '31', '35'], ['2024-02-15', '活塞', '27', '31', '26', '27'], ['2024-02-15', '尼克', '29', '33', '30', '21'], ['2024-02-15', '籃網', '30', '36', '23', '22'], ['2024-02-15', '灰熊', '18', '22', '26', '20'], ['2024-02-15', '熱火', '32', '33', '36', '20'], ['2024-02-15', '國王', '33', '29', '19', '29']]\n",
      "[['2024-02-15', '獨行俠', '36', '30', '40', '30'], ['2024-02-15', '暴龍', '34', '33', '25', '33'], ['2024-02-15', '鵜鶘', '24', '29', '33', '28'], ['2024-02-15', '溜馬', '40', '24', '32', '27'], ['2024-02-15', '騎士', '32', '21', '28', '22', '12', '8'], ['2024-02-15', '公牛', '23', '29', '26', '25', '12', '17'], ['2024-02-15', '灰熊', '26', '27', '32', '16'], ['2024-02-15', '灰狼', '24', '26', '38', '22'], ['2024-02-15', '國王', '35', '20', '17', '24'], ['2024-02-15', '金塊', '28', '37', '35', '17'], ['2024-02-15', '湖人', '29', '23', '25', '39'], ['2024-02-15', '快艇', '30', '36', '30', '16']]\n",
      "[['2024-02-15', '公鹿', '35', '35', '22', '19'], ['2024-02-15', '黃蜂', '25', '26', '23', '25'], ['2024-02-15', '爵士', '21', '30', '31', '25'], ['2024-02-15', '魔術', '29', '24', '27', '35'], ['2024-02-15', '老鷹', '16', '34', '25', '22'], ['2024-02-15', '籃網', '34', '22', '38', '30'], ['2024-02-15', '勇士', '31', '24', '25', '30'], ['2024-02-15', '尼克', '19', '27', '24', '29'], ['2024-02-15', '雷霆', '37', '27', '32', '22'], ['2024-02-15', '馬刺', '37', '32', '29', '34'], ['2024-02-15', '火箭', '17', '36', '22', '30'], ['2024-02-15', '太陽', '33', '31', '22', '24'], ['2024-02-15', '熱火', '20', '31', '19', '27'], ['2024-02-15', '金塊', '36', '20', '27', '20'], ['2024-02-15', '巫師', '34', '35', '26', '31', '5'], ['2024-02-15', '湖人', '31', '39', '29', '27', '8']]\n",
      "[['2024-02-15', '公鹿', '35', '34', '26', '24'], ['2024-02-15', '76人', '21', '27', '34', '16'], ['2024-02-15', '湖人', '28', '35', '27', '23'], ['2024-02-15', '太陽', '45', '27', '23', '28'], ['2024-02-15', '獨行俠', '32', '28', '31', '20'], ['2024-02-15', '溜馬', '32', '35', '33', '33'], ['2024-02-15', '騎士', '27', '28', '32', '27'], ['2024-02-15', '巫師', '31', '23', '26', '25'], ['2024-02-15', '金塊', '30', '31', '30', '28'], ['2024-02-15', '勇士', '36', '25', '26', '16'], ['2024-02-15', '魔術', '22', '29', '19', '22'], ['2024-02-15', '老鷹', '19', '26', '38', '26'], ['2024-02-15', '雷霆', '31', '26', '30', '36'], ['2024-02-15', '火箭', '34', '28', '21', '27'], ['2024-02-15', '公牛', '28', '29', '24', '33'], ['2024-02-15', '鵜鶘', '21', '39', '22', '24'], ['2024-02-15', '馬刺', '18', '21', '35', '35'], ['2024-02-15', '爵士', '32', '31', '30', '35'], ['2024-02-15', '黃蜂', '24', '23', '23', '23'], ['2024-02-15', '拓荒者', '18', '16', '25', '21'], ['2024-02-15', '國王', '25', '33', '31', '34'], ['2024-02-15', '快艇', '28', '23', '29', '27']]\n",
      "[['2024-02-15', '勇士', '23', '37', '38', '25'], ['2024-02-15', '巫師', '25', '33', '17', '37'], ['2024-02-15', '獨行俠', '24', '32', '26', '37'], ['2024-02-15', '騎士', '23', '37', '23', '38'], ['2024-02-15', '籃網', '25', '19', '15', '22'], ['2024-02-15', '魔術', '33', '25', '30', '20'], ['2024-02-15', '鵜鶘', '26', '22', '26', '41'], ['2024-02-15', '尼克', '19', '28', '20', '25'], ['2024-02-15', '76人', '30', '21', '24', '24'], ['2024-02-15', '塞爾蒂克', '30', '23', '33', '31'], ['2024-02-15', '爵士', '18', '26', '25', '28'], ['2024-02-15', '老鷹', '26', '29', '34', '35'], ['2024-02-15', '馬刺', '21', '22', '24', '38'], ['2024-02-15', '灰狼', '29', '29', '27', '29'], ['2024-02-15', '黃蜂', '16', '10', '23', '36'], ['2024-02-15', '公鹿', '32', '26', '38', '27'], ['2024-02-15', '活塞', '22', '28', '29', '26'], ['2024-02-15', '公牛', '29', '26', '22', '18'], ['2024-02-15', '熱火', '15', '31', '34', '26'], ['2024-02-15', '拓荒者', '28', '28', '20', '20'], ['2024-02-15', '火箭', '29', '21', '24', '21'], ['2024-02-15', '雷霆', '28', '32', '24', '28']]\n",
      "[['2024-02-15', '老鷹', '28', '34', '18', '22'], ['2024-02-15', '籃網', '21', '39', '30', '24'], ['2024-02-15', '爵士', '34', '28', '28', '30'], ['2024-02-15', '熱火', '30', '28', '32', '36'], ['2024-02-15', '拓荒者', '25', '22', '14', '34', '12'], ['2024-02-15', '灰熊', '20', '31', '27', '17', '5'], ['2024-02-15', '金塊', '27', '31', '31', '35'], ['2024-02-15', '湖人', '33', '33', '23', '25'], ['2024-02-15', '火箭', '38', '16', '35', '29'], ['2024-02-15', '太陽', '19', '25', '35', '30']]\n",
      "[['2024-02-15', '灰熊', '29', '24', '27', '26'], ['2024-02-15', '籃網', '31', '21', '25', '25'], ['2024-02-15', '拓荒者', '26', '22', '34', '32'], ['2024-02-15', '灰狼', '28', '27', '33', '31'], ['2024-02-15', '快艇', '35', '20', '26', '25'], ['2024-02-15', '公鹿', '25', '23', '25', '40'], ['2024-02-15', '巫師', '41', '34', '26', '14'], ['2024-02-15', '爵士', '35', '39', '28', '25'], ['2024-02-15', '公牛', '22', '27', '28', '36'], ['2024-02-15', '國王', '36', '20', '35', '18'], ['2024-02-15', '雷霆', '25', '18', '29', '32'], ['2024-02-15', '湖人', '25', '27', '37', '27']]\n",
      "[['2024-02-15', '76人', '32', '24', '34', '30'], ['2024-02-15', '獨行俠', '22', '29', '25', '40'], ['2024-02-15', '勇士', '22', '16', '24', '26'], ['2024-02-15', '塞爾蒂克', '44', '38', '33', '25'], ['2024-02-15', '快艇', '18', '31', '18', '22'], ['2024-02-15', '灰狼', '30', '16', '22', '20'], ['2024-02-15', '活塞', '27', '23', '21', '20'], ['2024-02-15', '魔術', '31', '28', '30', '24'], ['2024-02-15', '黃蜂', '29', '19', '27', '31'], ['2024-02-15', '暴龍', '27', '25', '30', '29'], ['2024-02-15', '尼克', '28', '23', '36', '20'], ['2024-02-15', '騎士', '19', '34', '25', '20'], ['2024-02-15', '溜馬', '16', '32', '29', '28'], ['2024-02-15', '馬刺', '26', '26', '34', '31'], ['2024-02-15', '雷霆', '28', '38', '23', '29'], ['2024-02-15', '太陽', '24', '28', '33', '25']]\n",
      "[['2024-02-15', '黃蜂', '27', '36', '21', '30'], ['2024-02-15', '76人', '32', '26', '30', '33'], ['2024-02-15', '騎士', '32', '31', '28', '19'], ['2024-02-15', '活塞', '24', '24', '22', '30'], ['2024-02-15', '獨行俠', '32', '27', '31', '20'], ['2024-02-15', '塞爾蒂克', '38', '28', '36', '36'], ['2024-02-15', '勇士', '28', '33', '32', '27'], ['2024-02-15', '暴龍', '31', '33', '19', '22'], ['2024-02-15', '拓荒者', '17', '34', '40', '31'], ['2024-02-15', '灰熊', '21', '24', '27', '20'], ['2024-02-15', '溜馬', '26', '30', '16', '30'], ['2024-02-15', '鵜鶘', '48', '29', '31', '21'], ['2024-02-15', '國王', '30', '30', '31', '24', '9'], ['2024-02-15', '灰狼', '22', '37', '23', '33', '5'], ['2024-02-15', '公鹿', '33', '25', '24', '31'], ['2024-02-15', '公牛', '24', '20', '28', '25'], ['2024-02-15', '巫師', '30', '34', '21', '30'], ['2024-02-15', '快艇', '33', '46', '31', '30']]\n",
      "[['2024-02-15', '魔術', '25', '20', '30', '26'], ['2024-02-15', '黃蜂', '20', '23', '23', '23'], ['2024-02-15', '活塞', '26', '34', '28', '22'], ['2024-02-15', '熱火', '36', '25', '32', '25'], ['2024-02-15', '老鷹', '33', '28', '22', '33'], ['2024-02-15', '尼克', '15', '35', '28', '22'], ['2024-02-15', '76人', '30', '27', '26', '24'], ['2024-02-15', '籃網', '23', '33', '24', '32'], ['2024-02-15', '鵜鶘', '42', '26', '38', '33'], ['2024-02-15', '暴龍', '28', '17', '31', '22'], ['2024-02-15', '塞爾蒂克', '33', '22', '32', '17'], ['2024-02-15', '騎士', '25', '20', '26', '34'], ['2024-02-15', '馬刺', '21', '32', '24', '24'], ['2024-02-15', '火箭', '26', '21', '33', '34'], ['2024-02-15', '溜馬', '35', '39', '32', '31'], ['2024-02-15', '獨行俠', '32', '38', '18', '32'], ['2024-02-15', '太陽', '28', '37', '25', '12', '15'], ['2024-02-15', '金塊', '32', '18', '31', '21', '5']]\n"
     ]
    }
   ],
   "source": [
    "for i in range(q.qsize()):\n",
    "    print(q.get())"
   ]
  },
  {
   "cell_type": "code",
   "execution_count": null,
   "metadata": {},
   "outputs": [],
   "source": []
  }
 ],
 "metadata": {
  "kernelspec": {
   "display_name": "Python 3",
   "language": "python",
   "name": "python3"
  },
  "language_info": {
   "codemirror_mode": {
    "name": "ipython",
    "version": 3
   },
   "file_extension": ".py",
   "mimetype": "text/x-python",
   "name": "python",
   "nbconvert_exporter": "python",
   "pygments_lexer": "ipython3",
   "version": "3.11.5"
  },
  "orig_nbformat": 4
 },
 "nbformat": 4,
 "nbformat_minor": 2
}
