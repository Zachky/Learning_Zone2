{
 "cells": [
  {
   "cell_type": "markdown",
   "metadata": {},
   "source": [
    "# Web Scraping Practice"
   ]
  },
  {
   "cell_type": "code",
   "execution_count": 45,
   "metadata": {},
   "outputs": [],
   "source": [
    "import Zach_Library as zach\n",
    "import pandas as pd\n",
    "from datetime import datetime as dt\n",
    "import requests as req\n",
    "import os"
   ]
  },
  {
   "cell_type": "code",
   "execution_count": 39,
   "metadata": {},
   "outputs": [],
   "source": [
    "def GetMovieInformation(Movie_Url:str)->str:\n",
    "    try:\n",
    "        ResSubPage = zach.getSoup(Movie_Url)\n",
    "        tempRes = ResSubPage.find('div', id='filmTagBlock')\n",
    "        ImgUrl = tempRes.find('img')['src']\n",
    "\n",
    "        return ImgUrl\n",
    "    except Exception as e:\n",
    "        return e "
   ]
  },
  {
   "cell_type": "code",
   "execution_count": 52,
   "metadata": {},
   "outputs": [],
   "source": [
    "def ExportImage(Img_Url,Img_Name):\n",
    "    try:\n",
    "\n",
    "        #Create folder if necessary\n",
    "        path='Output/Img_Library/'\n",
    "        if not os.path.exists(path):os.makedirs(path)\n",
    "\n",
    "        #Get Image Content (Binary string)\n",
    "        Entity_Image = req.get(Img_Url).content\n",
    "\n",
    "        #Export Image\n",
    "        with open(path+Img_Name+\".jpg\",'wb') as f:\n",
    "            f.write(Entity_Image)\n",
    "\n",
    "    except Exception as e:\n",
    "        return e"
   ]
  },
  {
   "cell_type": "markdown",
   "metadata": {},
   "source": [
    "## Get Movie Image from other site (\"http://app2.atmovies.com.tw/boxoffice/twweekend/\")"
   ]
  },
  {
   "cell_type": "code",
   "execution_count": null,
   "metadata": {},
   "outputs": [],
   "source": [
    "ResPage = zach.getSoup(\"http://app2.atmovies.com.tw/boxoffice/twweekend/\")\n",
    "ResPage"
   ]
  },
  {
   "cell_type": "markdown",
   "metadata": {},
   "source": [
    "### Get all link url"
   ]
  },
  {
   "cell_type": "code",
   "execution_count": null,
   "metadata": {},
   "outputs": [],
   "source": [
    "List_Url = ResPage.find_all('td', class_='at11')\n",
    "List_Url"
   ]
  },
  {
   "cell_type": "code",
   "execution_count": 56,
   "metadata": {},
   "outputs": [
    {
     "data": {
      "text/plain": [
       "[['蜂刑者 The Beekeeper',\n",
       "  'http://www.atmovies.com.tw/movie/fben15314262',\n",
       "  'http://www.atmovies.com.tw/photo101/fben15314262/pl_fben15314262_0002.jpg'],\n",
       " ['魔法公主 Princess Mononoke',\n",
       "  'http://www.atmovies.com.tw/movie/fpjp40119698',\n",
       "  'http://www.atmovies.com.tw/photo101/fpjp40119698/pl_fpjp40119698_0010.jpg'],\n",
       " ['水行俠失落王國 Aquaman and the Lost Kingdom',\n",
       "  'http://www.atmovies.com.tw/movie/faen39663764',\n",
       "  'http://www.atmovies.com.tw/photo101/faen39663764/pl_faen39663764_0002.jpg'],\n",
       " ['星願 Wish',\n",
       "  'http://www.atmovies.com.tw/movie/fwen11304740',\n",
       "  'http://www.atmovies.com.tw/photo101/fwen11304740/pl_fwen11304740_0003.jpg'],\n",
       " ['金手指 The Goldfinger',\n",
       "  'http://www.atmovies.com.tw/movie/fgth14099796',\n",
       "  'http://www.atmovies.com.tw/photo101/fgth14099796/pl_fgth14099796_0001.jpg'],\n",
       " ['旺卡 Wonka',\n",
       "  'http://www.atmovies.com.tw/movie/fwen26166392',\n",
       "  'http://www.atmovies.com.tw/photo101/fwen26166392/pl_fwen26166392_0018.jpg'],\n",
       " ['富都青年 Abang Adik',\n",
       "  'http://www.atmovies.com.tw/movie/famy49927788',\n",
       "  'http://www.atmovies.com.tw/photo101/famy49927788/pl_famy49927788_0003.jpg'],\n",
       " ['BIG BIG',\n",
       "  'http://www.atmovies.com.tw/movie/fbtw32122757',\n",
       "  'http://www.atmovies.com.tw/photo101/fbtw32122757/pl_fbtw32122757_0001.jpg'],\n",
       " ['送葬人 The Undertaker',\n",
       "  'http://www.atmovies.com.tw/movie/futh29633446',\n",
       "  'http://www.atmovies.com.tw/photo101/futh29633446/pl_futh29633446_0004.jpg'],\n",
       " ['窗邊的小荳荳 Totto-Chan_ The Little Girl at the Window',\n",
       "  'http://www.atmovies.com.tw/movie/ftjp62834781',\n",
       "  'http://www.atmovies.com.tw/photo101/ftjp62834781/pl_ftjp62834781_0001.jpg'],\n",
       " ['人犬 DogMan',\n",
       "  'http://www.atmovies.com.tw/movie/fden17009348',\n",
       "  'http://www.atmovies.com.tw/photo101/fden17009348/pl_fden17009348_0002.jpg'],\n",
       " ['露梁_死亡之海 Noryang_ Deadly Sea',\n",
       "  'http://www.atmovies.com.tw/movie/fnkr22813112',\n",
       "  'http://www.atmovies.com.tw/photo101/fnkr22813112/pl_fnkr22813112_0003.jpg'],\n",
       " ['2046 4K數位修復版 2046',\n",
       "  'http://www.atmovies.com.tw/movie/fohk40212712',\n",
       "  'http://www.atmovies.com.tw/photo101/fohk40212712/pl_fohk40212712_0003.jpg'],\n",
       " ['妖怪森林 LUDA',\n",
       "  'http://www.atmovies.com.tw/movie/fltw47682351',\n",
       "  'http://www.atmovies.com.tw/photo101/fltw47682351/pl_fltw47682351_0001.jpg'],\n",
       " ['法拉利 Ferrari',\n",
       "  'http://www.atmovies.com.tw/movie/feen53758542',\n",
       "  'http://www.atmovies.com.tw/photo101/feen53758542/pl_feen53758542_0006.jpg'],\n",
       " ['青春豬頭少年不會夢到紅書包女孩 Rascal Does Not Dream of a Knapsack Kid',\n",
       "  'http://www.atmovies.com.tw/movie/frjp28036417',\n",
       "  'http://www.atmovies.com.tw/photo101/frjp28036417/pl_frjp28036417_0001.jpg'],\n",
       " ['赤心巔峰 Braving the Peak',\n",
       "  'http://www.atmovies.com.tw/movie/fbtw48993666',\n",
       "  'http://www.atmovies.com.tw/photo101/fbtw48993666/pl_fbtw48993666_0001.jpg'],\n",
       " ['少年pi的奇幻漂流(英國國家劇院 LIFE OF PI NATIONAL THEATRE LIVE',\n",
       "  'http://www.atmovies.com.tw/movie/flen29579023',\n",
       "  'http://www.atmovies.com.tw/photo101/flen29579023/pl_flen29579023_0001.jpg'],\n",
       " ['爆裂點 Bursting Point',\n",
       "  'http://www.atmovies.com.tw/movie/fbzh29632851',\n",
       "  'http://www.atmovies.com.tw/photo101/fbzh29632851/pl_fbzh29632851_0001.jpg'],\n",
       " ['老狐狸 Old Fox',\n",
       "  'http://www.atmovies.com.tw/movie/fotw31435759',\n",
       "  'http://www.atmovies.com.tw/photo101/fotw31435759/pl_fotw31435759_0002.jpg']]"
      ]
     },
     "execution_count": 56,
     "metadata": {},
     "output_type": "execute_result"
    }
   ],
   "source": [
    "DataRow = []\n",
    "DataSet = []\n",
    "ImageUrl = ''\n",
    "\n",
    "for item in List_Url:\n",
    "\n",
    "    Url_Fragment = item.find('a')['href'].split('/')\n",
    "    Url = f\"http://www.atmovies.com.tw/movie/{Url_Fragment[2]}\"\n",
    "\n",
    "    Image_Name = item.text.replace(':','_')\n",
    "    ImageUrl = GetMovieInformation(Url)\n",
    "\n",
    "    DataRow.append(Image_Name)\n",
    "    DataRow.append(Url)\n",
    "    DataRow.append(ImageUrl)\n",
    "\n",
    "    #Export Image as well\n",
    "    ExportImage(ImageUrl,Image_Name)\n",
    "\n",
    "    DataSet.append(DataRow)\n",
    "    DataRow = []\n",
    "\n",
    "DataSet"
   ]
  },
  {
   "cell_type": "code",
   "execution_count": null,
   "metadata": {},
   "outputs": [],
   "source": []
  }
 ],
 "metadata": {
  "kernelspec": {
   "display_name": "base",
   "language": "python",
   "name": "python3"
  },
  "language_info": {
   "codemirror_mode": {
    "name": "ipython",
    "version": 3
   },
   "file_extension": ".py",
   "mimetype": "text/x-python",
   "name": "python",
   "nbconvert_exporter": "python",
   "pygments_lexer": "ipython3",
   "version": "3.11.5"
  },
  "orig_nbformat": 4
 },
 "nbformat": 4,
 "nbformat_minor": 2
}
