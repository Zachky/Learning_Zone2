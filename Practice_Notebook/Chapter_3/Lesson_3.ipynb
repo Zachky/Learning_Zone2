{
 "cells": [
  {
   "cell_type": "markdown",
   "metadata": {},
   "source": [
    "# Web Scraping Practice"
   ]
  },
  {
   "cell_type": "code",
   "execution_count": 3,
   "metadata": {},
   "outputs": [],
   "source": [
    "import Zach_Library as zach\n",
    "import pandas as pd\n",
    "from datetime import datetime as dt"
   ]
  },
  {
   "cell_type": "code",
   "execution_count": null,
   "metadata": {},
   "outputs": [],
   "source": [
    "ResPage = zach.getSoup(\"https://today.line.me/tw/v2/movie/chart/trending\")\n",
    "ResPage"
   ]
  },
  {
   "cell_type": "markdown",
   "metadata": {},
   "source": [
    "### 1. Get Movie information"
   ]
  },
  {
   "cell_type": "markdown",
   "metadata": {},
   "source": [
    "> Movie Detail in TempMovieList"
   ]
  },
  {
   "cell_type": "code",
   "execution_count": 5,
   "metadata": {},
   "outputs": [
    {
     "data": {
      "text/plain": [
       "20"
      ]
     },
     "execution_count": 5,
     "metadata": {},
     "output_type": "execute_result"
    }
   ],
   "source": [
    "TempMovieList = ResPage.find_all('div', class_=\"detailListItem-info\")\n",
    "len(TempMovieList)"
   ]
  },
  {
   "cell_type": "markdown",
   "metadata": {},
   "source": [
    ">Movie Image Detail in TempMovieListImage"
   ]
  },
  {
   "cell_type": "code",
   "execution_count": 6,
   "metadata": {},
   "outputs": [
    {
     "data": {
      "text/plain": [
       "20"
      ]
     },
     "execution_count": 6,
     "metadata": {},
     "output_type": "execute_result"
    }
   ],
   "source": [
    "TempMovieListImage = ResPage.find_all('div', class_=\"detailListItem-images\")\n",
    "len(TempMovieListImage)"
   ]
  },
  {
   "cell_type": "markdown",
   "metadata": {},
   "source": [
    "> Get Info from first movie"
   ]
  },
  {
   "cell_type": "code",
   "execution_count": null,
   "metadata": {},
   "outputs": [],
   "source": [
    "TempMovieList[0].find('div', class_='detailListItem-details')"
   ]
  },
  {
   "cell_type": "code",
   "execution_count": 14,
   "metadata": {},
   "outputs": [
    {
     "name": "stdout",
     "output_type": "stream",
     "text": [
      "蜂刑者\tThe Beekeeper\t"
     ]
    }
   ],
   "source": [
    "Name = ''\n",
    "Eng_Name = ''\n",
    "Url = ''\n",
    "Url_MovieInfo = ''\n",
    "UserRate = ''\n",
    "Time = ''\n",
    "MatureRate = ''\n",
    "\n",
    "#Get Name \n",
    "NameList = TempMovieList[0].find('div', class_='detailListItem-details').find_all('div',class_='detailListItem-titles')\n",
    "\n",
    "Name = NameList[0].find('h2').text.replace('\\n','').strip();print(Name, end = '\\t')\n",
    "Eng_Name = NameList[0].find('h3').text.replace('\\n','').strip();print(Eng_Name, end = '\\t')\n"
   ]
  },
  {
   "cell_type": "code",
   "execution_count": 40,
   "metadata": {},
   "outputs": [
    {
     "data": {
      "text/plain": [
       "'https://today.line.me/tw/v2/article/LXLP7D0'"
      ]
     },
     "execution_count": 40,
     "metadata": {},
     "output_type": "execute_result"
    }
   ],
   "source": [
    "Url = f\"https://today.line.me{TempMovieListImage[0].find('a')['href']}\"\n",
    "Url"
   ]
  },
  {
   "cell_type": "markdown",
   "metadata": {},
   "source": [
    "> Get UserRate"
   ]
  },
  {
   "cell_type": "code",
   "execution_count": 24,
   "metadata": {},
   "outputs": [
    {
     "data": {
      "text/plain": [
       "'9.9'"
      ]
     },
     "execution_count": 24,
     "metadata": {},
     "output_type": "execute_result"
    }
   ],
   "source": [
    "UserRate = TempMovieList[0].find('div', class_='detailListItem-details').find('div', class_='iconInfo').find('span', class_='iconInfo-text')\n",
    "UserRate = UserRate.text.replace('\\n','').strip()\n",
    "UserRate"
   ]
  },
  {
   "cell_type": "code",
   "execution_count": 30,
   "metadata": {},
   "outputs": [
    {
     "data": {
      "text/plain": [
       "'• 1小時45分 • 上映1週'"
      ]
     },
     "execution_count": 30,
     "metadata": {},
     "output_type": "execute_result"
    }
   ],
   "source": [
    "Time = TempMovieList[0].find('div', class_='detailListItem-details').find('div', class_='detailListItem-status').find('span', class_='text--ellipsis1')\n",
    "Time = Time.text.replace('\\n','').strip()\n",
    "Time"
   ]
  },
  {
   "cell_type": "code",
   "execution_count": 36,
   "metadata": {},
   "outputs": [
    {
     "data": {
      "text/plain": [
       "'輔15級'"
      ]
     },
     "execution_count": 36,
     "metadata": {},
     "output_type": "execute_result"
    }
   ],
   "source": [
    "MatureRate = TempMovieList[0].find('div', class_='detailListItem-details').find('div',class_='detailListItem-category').find('span', class_='glnBadge-text')\n",
    "MatureRate = MatureRate.text.replace('\\n','').strip()\n",
    "MatureRate"
   ]
  },
  {
   "cell_type": "markdown",
   "metadata": {},
   "source": [
    "##### Build up Column Data List"
   ]
  },
  {
   "cell_type": "code",
   "execution_count": 64,
   "metadata": {},
   "outputs": [],
   "source": [
    "ColumnList = [\"片名\",\"英文名\",\"預告片Url\",\"內容介紹Url\",\"觀眾評分\",\"片長\",\"級數\"]"
   ]
  },
  {
   "cell_type": "markdown",
   "metadata": {},
   "source": [
    "> Get MovieInfo Page Id"
   ]
  },
  {
   "cell_type": "code",
   "execution_count": 72,
   "metadata": {},
   "outputs": [
    {
     "data": {
      "text/plain": [
       "'EX5Q8vk'"
      ]
     },
     "execution_count": 72,
     "metadata": {},
     "output_type": "execute_result"
    }
   ],
   "source": [
    "\n",
    "List_UrlPiece = TempMovieList[0].find('a')['href'].split('/')\n"
   ]
  },
  {
   "cell_type": "markdown",
   "metadata": {},
   "source": [
    "##### Build up Row Data List"
   ]
  },
  {
   "cell_type": "code",
   "execution_count": 73,
   "metadata": {},
   "outputs": [
    {
     "name": "stdout",
     "output_type": "stream",
     "text": [
      "蜂刑者\tThe Beekeeper\t露梁：死亡之海\tNoryang：Deadly Sea\t水行俠 失落王國\tAquaman and the Lost Kingdom\t魔法公主(數位紀念版)\tPrincess Mononoke\t金手指\tThe Goldfinger\t怒潮\tWolf Hiding\t鬼媽媽的假期\tOur Season\t人犬\tDogman\t旺卡\tWonka\t富都青年\tAbang Adik\t叛諜檔案\tThe Bricklayer\t星願\tWish\tBIG\tBIG\t搖滾吧！中二樂團\tOn-Gaku: Our Sound\t細野晴臣：再會美國\tHaruomi Hosono Sayonara America\t窗邊的小荳荳\tTotto-Chan: The Little Girl at the Window\t法拉利\tFerrari\t電影版 淘氣小企鵝啵樂樂 超級明星大冒險(國語版)\tPororo Popstar Adventure (Chinese)\t12.12：首爾之春\t12.12: The Day\t爆裂點\tBursting Point\t"
     ]
    },
    {
     "data": {
      "text/plain": [
       "[['蜂刑者',\n",
       "  'The Beekeeper',\n",
       "  'https://today.line.me/tw/v2/article/LXLP7D0',\n",
       "  'https://today.line.me/tw/v2/movie/EX5Q8vk',\n",
       "  '9.9',\n",
       "  '• 1小時45分 • 上映1週',\n",
       "  '輔15級'],\n",
       " ['露梁：死亡之海',\n",
       "  'Noryang：Deadly Sea',\n",
       "  'https://today.line.me/tw/v2/article/5y5GlmK',\n",
       "  'https://today.line.me/tw/v2/movie/EX5Q8vk',\n",
       "  '9.9',\n",
       "  '• 1小時45分 • 上映1週',\n",
       "  '輔15級'],\n",
       " ['水行俠 失落王國',\n",
       "  'Aquaman and the Lost Kingdom',\n",
       "  'https://today.line.me/tw/v2/article/1DOyzGm',\n",
       "  'https://today.line.me/tw/v2/movie/EX5Q8vk',\n",
       "  '8.5',\n",
       "  '• 1小時45分 • 上映1週',\n",
       "  '輔15級'],\n",
       " ['魔法公主(數位紀念版)',\n",
       "  'Princess Mononoke',\n",
       "  'https://today.line.me/tw/v2/article/kEXpk0q',\n",
       "  'https://today.line.me/tw/v2/movie/EX5Q8vk',\n",
       "  '10',\n",
       "  '• 1小時45分 • 上映1週',\n",
       "  '輔15級'],\n",
       " ['金手指',\n",
       "  'The Goldfinger',\n",
       "  'https://today.line.me/tw/v2/article/MLvBy8j',\n",
       "  'https://today.line.me/tw/v2/movie/EX5Q8vk',\n",
       "  '8.9',\n",
       "  '• 1小時45分 • 上映1週',\n",
       "  '輔15級'],\n",
       " ['怒潮',\n",
       "  'Wolf Hiding',\n",
       "  'https://today.line.me/tw/v2/article/LXLoayV',\n",
       "  'https://today.line.me/tw/v2/movie/EX5Q8vk',\n",
       "  '9.6',\n",
       "  '• 1小時45分 • 上映1週',\n",
       "  '輔15級'],\n",
       " ['鬼媽媽的假期',\n",
       "  'Our Season',\n",
       "  'https://today.line.me/tw/v2/article/9m57N3K',\n",
       "  'https://today.line.me/tw/v2/movie/EX5Q8vk',\n",
       "  '10',\n",
       "  '• 1小時45分 • 上映1週',\n",
       "  '輔15級'],\n",
       " ['人犬',\n",
       "  'Dogman',\n",
       "  'https://today.line.me/tw/v2/article/605L9Va',\n",
       "  'https://today.line.me/tw/v2/movie/EX5Q8vk',\n",
       "  '9.6',\n",
       "  '• 1小時45分 • 上映1週',\n",
       "  '輔15級'],\n",
       " ['旺卡',\n",
       "  'Wonka',\n",
       "  'https://today.line.me/tw/v2/article/MLv1JQy',\n",
       "  'https://today.line.me/tw/v2/movie/EX5Q8vk',\n",
       "  '9.2',\n",
       "  '• 1小時45分 • 上映1週',\n",
       "  '輔15級'],\n",
       " ['富都青年',\n",
       "  'Abang Adik',\n",
       "  'https://today.line.me/tw/v2/article/nXmL6BL',\n",
       "  'https://today.line.me/tw/v2/movie/EX5Q8vk',\n",
       "  '8.9',\n",
       "  '• 1小時45分 • 上映1週',\n",
       "  '輔15級'],\n",
       " ['叛諜檔案',\n",
       "  'The Bricklayer',\n",
       "  'https://today.line.me/tw/v2/article/aGvQJqn',\n",
       "  'https://today.line.me/tw/v2/movie/EX5Q8vk',\n",
       "  '9.4',\n",
       "  '• 1小時45分 • 上映1週',\n",
       "  '輔15級'],\n",
       " ['星願',\n",
       "  'Wish',\n",
       "  'https://today.line.me/tw/v2/article/JP9ngkK',\n",
       "  'https://today.line.me/tw/v2/movie/EX5Q8vk',\n",
       "  '7.7',\n",
       "  '• 1小時45分 • 上映1週',\n",
       "  '輔15級'],\n",
       " ['BIG',\n",
       "  'BIG',\n",
       "  'https://today.line.me/tw/v2/article/BE0r5yz',\n",
       "  'https://today.line.me/tw/v2/movie/EX5Q8vk',\n",
       "  '9.9',\n",
       "  '• 1小時45分 • 上映1週',\n",
       "  '輔15級'],\n",
       " ['搖滾吧！中二樂團',\n",
       "  'On-Gaku: Our Sound',\n",
       "  'https://today.line.me/tw/v2/article/qoP92p2',\n",
       "  'https://today.line.me/tw/v2/movie/EX5Q8vk',\n",
       "  '10',\n",
       "  '• 1小時45分 • 上映1週',\n",
       "  '輔15級'],\n",
       " ['細野晴臣：再會美國',\n",
       "  'Haruomi Hosono Sayonara America',\n",
       "  'https://today.line.me/tw/v2/article/9m56pzq',\n",
       "  'https://today.line.me/tw/v2/movie/EX5Q8vk',\n",
       "  '10',\n",
       "  '• 1小時45分 • 上映1週',\n",
       "  '輔15級'],\n",
       " ['窗邊的小荳荳',\n",
       "  'Totto-Chan: The Little Girl at the Window',\n",
       "  'https://today.line.me/tw/v2/article/3NraOWy',\n",
       "  'https://today.line.me/tw/v2/movie/EX5Q8vk',\n",
       "  '0.0',\n",
       "  '• 1小時45分 • 上映1週',\n",
       "  '輔15級'],\n",
       " ['法拉利',\n",
       "  'Ferrari',\n",
       "  'https://today.line.me/tw/v2/article/zNYkPV7',\n",
       "  'https://today.line.me/tw/v2/movie/EX5Q8vk',\n",
       "  '9.1',\n",
       "  '• 1小時45分 • 上映1週',\n",
       "  '輔15級'],\n",
       " ['電影版 淘氣小企鵝啵樂樂 超級明星大冒險(國語版)',\n",
       "  'Pororo Popstar Adventure (Chinese)',\n",
       "  'https://today.line.me/tw/v2/article/605lGwj',\n",
       "  'https://today.line.me/tw/v2/movie/EX5Q8vk',\n",
       "  '10',\n",
       "  '• 1小時45分 • 上映1週',\n",
       "  '輔15級'],\n",
       " ['12.12：首爾之春',\n",
       "  '12.12: The Day',\n",
       "  'https://today.line.me/tw/v2/article/1DO6ro2',\n",
       "  'https://today.line.me/tw/v2/movie/EX5Q8vk',\n",
       "  '9.9',\n",
       "  '• 1小時45分 • 上映1週',\n",
       "  '輔15級'],\n",
       " ['爆裂點',\n",
       "  'Bursting Point',\n",
       "  'https://today.line.me/tw/v2/article/ZamxpNQ',\n",
       "  'https://today.line.me/tw/v2/movie/EX5Q8vk',\n",
       "  '7.0',\n",
       "  '• 1小時45分 • 上映1週',\n",
       "  '輔15級']]"
      ]
     },
     "execution_count": 73,
     "metadata": {},
     "output_type": "execute_result"
    }
   ],
   "source": [
    "List_index = 0 #For Url\n",
    "RowData = []\n",
    "DataSet = []\n",
    "\n",
    "for item in TempMovieList:\n",
    "\n",
    "    #Get Name \n",
    "    NameList = item.find('div', class_='detailListItem-details').find_all('div',class_='detailListItem-titles')\n",
    "\n",
    "    Name = NameList[0].find('h2').text.replace('\\n','').strip();print(Name, end = '\\t')\n",
    "    Eng_Name = NameList[0].find('h3').text.replace('\\n','').strip();print(Eng_Name, end = '\\t')\n",
    "    \n",
    "    #Get Url_1\n",
    "    Url = f\"https://today.line.me{TempMovieListImage[List_index].find('a')['href']}\"\n",
    "\n",
    "    #Get Url_2\n",
    "    Url_MovieInfo = f\"https://today.line.me/tw/v2/movie/{List_UrlPiece[-1]}\"\n",
    "\n",
    "    #Get User Rate\n",
    "    UserRate = item.find('div', class_='detailListItem-details').find('div', class_='iconInfo').find('span', class_='iconInfo-text')\n",
    "    UserRate = UserRate.text.replace('\\n','').strip()\n",
    "\n",
    "    #Get Movie Length Time\n",
    "    Time = TempMovieList[0].find('div', class_='detailListItem-details').find('div', class_='detailListItem-status').find('span', class_='text--ellipsis1')\n",
    "    Time = Time.text.replace('\\n','').strip()\n",
    "\n",
    "    #Get Mature Rate\n",
    "    MatureRate = TempMovieList[0].find('div', class_='detailListItem-details').find('div',class_='detailListItem-category').find('span', class_='glnBadge-text')\n",
    "    MatureRate = MatureRate.text.replace('\\n','').strip()\n",
    "\n",
    "    List_index += 1\n",
    "\n",
    "    RowData.append(Name)\n",
    "    RowData.append(Eng_Name)\n",
    "    RowData.append(Url)\n",
    "    RowData.append(Url_MovieInfo)\n",
    "    RowData.append(UserRate)\n",
    "    RowData.append(Time)\n",
    "    RowData.append(MatureRate)\n",
    "\n",
    "    DataSet.append(RowData)\n",
    "    RowData = []\n",
    "\n",
    "DataSet\n"
   ]
  },
  {
   "cell_type": "code",
   "execution_count": 74,
   "metadata": {},
   "outputs": [
    {
     "data": {
      "text/html": [
       "<div>\n",
       "<style scoped>\n",
       "    .dataframe tbody tr th:only-of-type {\n",
       "        vertical-align: middle;\n",
       "    }\n",
       "\n",
       "    .dataframe tbody tr th {\n",
       "        vertical-align: top;\n",
       "    }\n",
       "\n",
       "    .dataframe thead th {\n",
       "        text-align: right;\n",
       "    }\n",
       "</style>\n",
       "<table border=\"1\" class=\"dataframe\">\n",
       "  <thead>\n",
       "    <tr style=\"text-align: right;\">\n",
       "      <th></th>\n",
       "      <th>片名</th>\n",
       "      <th>英文名</th>\n",
       "      <th>預告片Url</th>\n",
       "      <th>內容介紹Url</th>\n",
       "      <th>觀眾評分</th>\n",
       "      <th>片長</th>\n",
       "      <th>級數</th>\n",
       "    </tr>\n",
       "  </thead>\n",
       "  <tbody>\n",
       "    <tr>\n",
       "      <th>0</th>\n",
       "      <td>蜂刑者</td>\n",
       "      <td>The Beekeeper</td>\n",
       "      <td>https://today.line.me/tw/v2/article/LXLP7D0</td>\n",
       "      <td>https://today.line.me/tw/v2/movie/EX5Q8vk</td>\n",
       "      <td>9.9</td>\n",
       "      <td>• 1小時45分 • 上映1週</td>\n",
       "      <td>輔15級</td>\n",
       "    </tr>\n",
       "    <tr>\n",
       "      <th>1</th>\n",
       "      <td>露梁：死亡之海</td>\n",
       "      <td>Noryang：Deadly Sea</td>\n",
       "      <td>https://today.line.me/tw/v2/article/5y5GlmK</td>\n",
       "      <td>https://today.line.me/tw/v2/movie/EX5Q8vk</td>\n",
       "      <td>9.9</td>\n",
       "      <td>• 1小時45分 • 上映1週</td>\n",
       "      <td>輔15級</td>\n",
       "    </tr>\n",
       "    <tr>\n",
       "      <th>2</th>\n",
       "      <td>水行俠 失落王國</td>\n",
       "      <td>Aquaman and the Lost Kingdom</td>\n",
       "      <td>https://today.line.me/tw/v2/article/1DOyzGm</td>\n",
       "      <td>https://today.line.me/tw/v2/movie/EX5Q8vk</td>\n",
       "      <td>8.5</td>\n",
       "      <td>• 1小時45分 • 上映1週</td>\n",
       "      <td>輔15級</td>\n",
       "    </tr>\n",
       "    <tr>\n",
       "      <th>3</th>\n",
       "      <td>魔法公主(數位紀念版)</td>\n",
       "      <td>Princess Mononoke</td>\n",
       "      <td>https://today.line.me/tw/v2/article/kEXpk0q</td>\n",
       "      <td>https://today.line.me/tw/v2/movie/EX5Q8vk</td>\n",
       "      <td>10</td>\n",
       "      <td>• 1小時45分 • 上映1週</td>\n",
       "      <td>輔15級</td>\n",
       "    </tr>\n",
       "    <tr>\n",
       "      <th>4</th>\n",
       "      <td>金手指</td>\n",
       "      <td>The Goldfinger</td>\n",
       "      <td>https://today.line.me/tw/v2/article/MLvBy8j</td>\n",
       "      <td>https://today.line.me/tw/v2/movie/EX5Q8vk</td>\n",
       "      <td>8.9</td>\n",
       "      <td>• 1小時45分 • 上映1週</td>\n",
       "      <td>輔15級</td>\n",
       "    </tr>\n",
       "    <tr>\n",
       "      <th>5</th>\n",
       "      <td>怒潮</td>\n",
       "      <td>Wolf Hiding</td>\n",
       "      <td>https://today.line.me/tw/v2/article/LXLoayV</td>\n",
       "      <td>https://today.line.me/tw/v2/movie/EX5Q8vk</td>\n",
       "      <td>9.6</td>\n",
       "      <td>• 1小時45分 • 上映1週</td>\n",
       "      <td>輔15級</td>\n",
       "    </tr>\n",
       "    <tr>\n",
       "      <th>6</th>\n",
       "      <td>鬼媽媽的假期</td>\n",
       "      <td>Our Season</td>\n",
       "      <td>https://today.line.me/tw/v2/article/9m57N3K</td>\n",
       "      <td>https://today.line.me/tw/v2/movie/EX5Q8vk</td>\n",
       "      <td>10</td>\n",
       "      <td>• 1小時45分 • 上映1週</td>\n",
       "      <td>輔15級</td>\n",
       "    </tr>\n",
       "    <tr>\n",
       "      <th>7</th>\n",
       "      <td>人犬</td>\n",
       "      <td>Dogman</td>\n",
       "      <td>https://today.line.me/tw/v2/article/605L9Va</td>\n",
       "      <td>https://today.line.me/tw/v2/movie/EX5Q8vk</td>\n",
       "      <td>9.6</td>\n",
       "      <td>• 1小時45分 • 上映1週</td>\n",
       "      <td>輔15級</td>\n",
       "    </tr>\n",
       "    <tr>\n",
       "      <th>8</th>\n",
       "      <td>旺卡</td>\n",
       "      <td>Wonka</td>\n",
       "      <td>https://today.line.me/tw/v2/article/MLv1JQy</td>\n",
       "      <td>https://today.line.me/tw/v2/movie/EX5Q8vk</td>\n",
       "      <td>9.2</td>\n",
       "      <td>• 1小時45分 • 上映1週</td>\n",
       "      <td>輔15級</td>\n",
       "    </tr>\n",
       "    <tr>\n",
       "      <th>9</th>\n",
       "      <td>富都青年</td>\n",
       "      <td>Abang Adik</td>\n",
       "      <td>https://today.line.me/tw/v2/article/nXmL6BL</td>\n",
       "      <td>https://today.line.me/tw/v2/movie/EX5Q8vk</td>\n",
       "      <td>8.9</td>\n",
       "      <td>• 1小時45分 • 上映1週</td>\n",
       "      <td>輔15級</td>\n",
       "    </tr>\n",
       "    <tr>\n",
       "      <th>10</th>\n",
       "      <td>叛諜檔案</td>\n",
       "      <td>The Bricklayer</td>\n",
       "      <td>https://today.line.me/tw/v2/article/aGvQJqn</td>\n",
       "      <td>https://today.line.me/tw/v2/movie/EX5Q8vk</td>\n",
       "      <td>9.4</td>\n",
       "      <td>• 1小時45分 • 上映1週</td>\n",
       "      <td>輔15級</td>\n",
       "    </tr>\n",
       "    <tr>\n",
       "      <th>11</th>\n",
       "      <td>星願</td>\n",
       "      <td>Wish</td>\n",
       "      <td>https://today.line.me/tw/v2/article/JP9ngkK</td>\n",
       "      <td>https://today.line.me/tw/v2/movie/EX5Q8vk</td>\n",
       "      <td>7.7</td>\n",
       "      <td>• 1小時45分 • 上映1週</td>\n",
       "      <td>輔15級</td>\n",
       "    </tr>\n",
       "    <tr>\n",
       "      <th>12</th>\n",
       "      <td>BIG</td>\n",
       "      <td>BIG</td>\n",
       "      <td>https://today.line.me/tw/v2/article/BE0r5yz</td>\n",
       "      <td>https://today.line.me/tw/v2/movie/EX5Q8vk</td>\n",
       "      <td>9.9</td>\n",
       "      <td>• 1小時45分 • 上映1週</td>\n",
       "      <td>輔15級</td>\n",
       "    </tr>\n",
       "    <tr>\n",
       "      <th>13</th>\n",
       "      <td>搖滾吧！中二樂團</td>\n",
       "      <td>On-Gaku: Our Sound</td>\n",
       "      <td>https://today.line.me/tw/v2/article/qoP92p2</td>\n",
       "      <td>https://today.line.me/tw/v2/movie/EX5Q8vk</td>\n",
       "      <td>10</td>\n",
       "      <td>• 1小時45分 • 上映1週</td>\n",
       "      <td>輔15級</td>\n",
       "    </tr>\n",
       "    <tr>\n",
       "      <th>14</th>\n",
       "      <td>細野晴臣：再會美國</td>\n",
       "      <td>Haruomi Hosono Sayonara America</td>\n",
       "      <td>https://today.line.me/tw/v2/article/9m56pzq</td>\n",
       "      <td>https://today.line.me/tw/v2/movie/EX5Q8vk</td>\n",
       "      <td>10</td>\n",
       "      <td>• 1小時45分 • 上映1週</td>\n",
       "      <td>輔15級</td>\n",
       "    </tr>\n",
       "    <tr>\n",
       "      <th>15</th>\n",
       "      <td>窗邊的小荳荳</td>\n",
       "      <td>Totto-Chan: The Little Girl at the Window</td>\n",
       "      <td>https://today.line.me/tw/v2/article/3NraOWy</td>\n",
       "      <td>https://today.line.me/tw/v2/movie/EX5Q8vk</td>\n",
       "      <td>0.0</td>\n",
       "      <td>• 1小時45分 • 上映1週</td>\n",
       "      <td>輔15級</td>\n",
       "    </tr>\n",
       "    <tr>\n",
       "      <th>16</th>\n",
       "      <td>法拉利</td>\n",
       "      <td>Ferrari</td>\n",
       "      <td>https://today.line.me/tw/v2/article/zNYkPV7</td>\n",
       "      <td>https://today.line.me/tw/v2/movie/EX5Q8vk</td>\n",
       "      <td>9.1</td>\n",
       "      <td>• 1小時45分 • 上映1週</td>\n",
       "      <td>輔15級</td>\n",
       "    </tr>\n",
       "    <tr>\n",
       "      <th>17</th>\n",
       "      <td>電影版 淘氣小企鵝啵樂樂 超級明星大冒險(國語版)</td>\n",
       "      <td>Pororo Popstar Adventure (Chinese)</td>\n",
       "      <td>https://today.line.me/tw/v2/article/605lGwj</td>\n",
       "      <td>https://today.line.me/tw/v2/movie/EX5Q8vk</td>\n",
       "      <td>10</td>\n",
       "      <td>• 1小時45分 • 上映1週</td>\n",
       "      <td>輔15級</td>\n",
       "    </tr>\n",
       "    <tr>\n",
       "      <th>18</th>\n",
       "      <td>12.12：首爾之春</td>\n",
       "      <td>12.12: The Day</td>\n",
       "      <td>https://today.line.me/tw/v2/article/1DO6ro2</td>\n",
       "      <td>https://today.line.me/tw/v2/movie/EX5Q8vk</td>\n",
       "      <td>9.9</td>\n",
       "      <td>• 1小時45分 • 上映1週</td>\n",
       "      <td>輔15級</td>\n",
       "    </tr>\n",
       "    <tr>\n",
       "      <th>19</th>\n",
       "      <td>爆裂點</td>\n",
       "      <td>Bursting Point</td>\n",
       "      <td>https://today.line.me/tw/v2/article/ZamxpNQ</td>\n",
       "      <td>https://today.line.me/tw/v2/movie/EX5Q8vk</td>\n",
       "      <td>7.0</td>\n",
       "      <td>• 1小時45分 • 上映1週</td>\n",
       "      <td>輔15級</td>\n",
       "    </tr>\n",
       "  </tbody>\n",
       "</table>\n",
       "</div>"
      ],
      "text/plain": [
       "                           片名                                        英文名  \\\n",
       "0                         蜂刑者                              The Beekeeper   \n",
       "1                     露梁：死亡之海                         Noryang：Deadly Sea   \n",
       "2                    水行俠 失落王國               Aquaman and the Lost Kingdom   \n",
       "3                 魔法公主(數位紀念版)                          Princess Mononoke   \n",
       "4                         金手指                             The Goldfinger   \n",
       "5                          怒潮                                Wolf Hiding   \n",
       "6                      鬼媽媽的假期                                 Our Season   \n",
       "7                          人犬                                     Dogman   \n",
       "8                          旺卡                                      Wonka   \n",
       "9                        富都青年                                 Abang Adik   \n",
       "10                       叛諜檔案                             The Bricklayer   \n",
       "11                         星願                                       Wish   \n",
       "12                        BIG                                        BIG   \n",
       "13                   搖滾吧！中二樂團                         On-Gaku: Our Sound   \n",
       "14                  細野晴臣：再會美國            Haruomi Hosono Sayonara America   \n",
       "15                     窗邊的小荳荳  Totto-Chan: The Little Girl at the Window   \n",
       "16                        法拉利                                    Ferrari   \n",
       "17  電影版 淘氣小企鵝啵樂樂 超級明星大冒險(國語版)         Pororo Popstar Adventure (Chinese)   \n",
       "18                 12.12：首爾之春                             12.12: The Day   \n",
       "19                        爆裂點                             Bursting Point   \n",
       "\n",
       "                                         預告片Url  \\\n",
       "0   https://today.line.me/tw/v2/article/LXLP7D0   \n",
       "1   https://today.line.me/tw/v2/article/5y5GlmK   \n",
       "2   https://today.line.me/tw/v2/article/1DOyzGm   \n",
       "3   https://today.line.me/tw/v2/article/kEXpk0q   \n",
       "4   https://today.line.me/tw/v2/article/MLvBy8j   \n",
       "5   https://today.line.me/tw/v2/article/LXLoayV   \n",
       "6   https://today.line.me/tw/v2/article/9m57N3K   \n",
       "7   https://today.line.me/tw/v2/article/605L9Va   \n",
       "8   https://today.line.me/tw/v2/article/MLv1JQy   \n",
       "9   https://today.line.me/tw/v2/article/nXmL6BL   \n",
       "10  https://today.line.me/tw/v2/article/aGvQJqn   \n",
       "11  https://today.line.me/tw/v2/article/JP9ngkK   \n",
       "12  https://today.line.me/tw/v2/article/BE0r5yz   \n",
       "13  https://today.line.me/tw/v2/article/qoP92p2   \n",
       "14  https://today.line.me/tw/v2/article/9m56pzq   \n",
       "15  https://today.line.me/tw/v2/article/3NraOWy   \n",
       "16  https://today.line.me/tw/v2/article/zNYkPV7   \n",
       "17  https://today.line.me/tw/v2/article/605lGwj   \n",
       "18  https://today.line.me/tw/v2/article/1DO6ro2   \n",
       "19  https://today.line.me/tw/v2/article/ZamxpNQ   \n",
       "\n",
       "                                      內容介紹Url 觀眾評分               片長    級數  \n",
       "0   https://today.line.me/tw/v2/movie/EX5Q8vk  9.9  • 1小時45分 • 上映1週  輔15級  \n",
       "1   https://today.line.me/tw/v2/movie/EX5Q8vk  9.9  • 1小時45分 • 上映1週  輔15級  \n",
       "2   https://today.line.me/tw/v2/movie/EX5Q8vk  8.5  • 1小時45分 • 上映1週  輔15級  \n",
       "3   https://today.line.me/tw/v2/movie/EX5Q8vk   10  • 1小時45分 • 上映1週  輔15級  \n",
       "4   https://today.line.me/tw/v2/movie/EX5Q8vk  8.9  • 1小時45分 • 上映1週  輔15級  \n",
       "5   https://today.line.me/tw/v2/movie/EX5Q8vk  9.6  • 1小時45分 • 上映1週  輔15級  \n",
       "6   https://today.line.me/tw/v2/movie/EX5Q8vk   10  • 1小時45分 • 上映1週  輔15級  \n",
       "7   https://today.line.me/tw/v2/movie/EX5Q8vk  9.6  • 1小時45分 • 上映1週  輔15級  \n",
       "8   https://today.line.me/tw/v2/movie/EX5Q8vk  9.2  • 1小時45分 • 上映1週  輔15級  \n",
       "9   https://today.line.me/tw/v2/movie/EX5Q8vk  8.9  • 1小時45分 • 上映1週  輔15級  \n",
       "10  https://today.line.me/tw/v2/movie/EX5Q8vk  9.4  • 1小時45分 • 上映1週  輔15級  \n",
       "11  https://today.line.me/tw/v2/movie/EX5Q8vk  7.7  • 1小時45分 • 上映1週  輔15級  \n",
       "12  https://today.line.me/tw/v2/movie/EX5Q8vk  9.9  • 1小時45分 • 上映1週  輔15級  \n",
       "13  https://today.line.me/tw/v2/movie/EX5Q8vk   10  • 1小時45分 • 上映1週  輔15級  \n",
       "14  https://today.line.me/tw/v2/movie/EX5Q8vk   10  • 1小時45分 • 上映1週  輔15級  \n",
       "15  https://today.line.me/tw/v2/movie/EX5Q8vk  0.0  • 1小時45分 • 上映1週  輔15級  \n",
       "16  https://today.line.me/tw/v2/movie/EX5Q8vk  9.1  • 1小時45分 • 上映1週  輔15級  \n",
       "17  https://today.line.me/tw/v2/movie/EX5Q8vk   10  • 1小時45分 • 上映1週  輔15級  \n",
       "18  https://today.line.me/tw/v2/movie/EX5Q8vk  9.9  • 1小時45分 • 上映1週  輔15級  \n",
       "19  https://today.line.me/tw/v2/movie/EX5Q8vk  7.0  • 1小時45分 • 上映1週  輔15級  "
      ]
     },
     "execution_count": 74,
     "metadata": {},
     "output_type": "execute_result"
    }
   ],
   "source": [
    "df = pd.DataFrame(DataSet,columns=ColumnList)\n",
    "df"
   ]
  },
  {
   "cell_type": "markdown",
   "metadata": {},
   "source": [
    "##### Export as excel file with timestamp"
   ]
  },
  {
   "cell_type": "code",
   "execution_count": 76,
   "metadata": {},
   "outputs": [],
   "source": [
    "today = dt.now().strftime(\"%Y%m%d_%H%M%S\")\n",
    "df.to_csv(f\"./Output/Line_MovieList_{today}.csv\",encoding='utf-8-sig')"
   ]
  },
  {
   "cell_type": "markdown",
   "metadata": {},
   "source": [
    "### Get Info from sub page"
   ]
  },
  {
   "cell_type": "markdown",
   "metadata": {},
   "source": [
    ">Get info from first row"
   ]
  },
  {
   "cell_type": "code",
   "execution_count": 78,
   "metadata": {},
   "outputs": [
    {
     "data": {
      "text/plain": [
       "'https://today.line.me/tw/v2/movie/EX5Q8vk'"
      ]
     },
     "execution_count": 78,
     "metadata": {},
     "output_type": "execute_result"
    }
   ],
   "source": [
    "DataSet[0][3]"
   ]
  },
  {
   "cell_type": "code",
   "execution_count": 77,
   "metadata": {},
   "outputs": [
    {
     "data": {
      "text/plain": [
       "<!DOCTYPE html>\n",
       "<html data-n-head=\"%7B%22lang%22:%7B%22ssr%22:%22zh-Hant%22%7D%7D\" data-n-head-ssr=\"\" lang=\"zh-Hant\">\n",
       "<head>\n",
       "<title>蜂刑者 | 院線電影 | LINE TODAY</title><meta charset=\"utf-8\" data-hid=\"charset\"/><meta content=\"W9cV2YrP_Os6bvNZLz9Lq4iCFqEpO9Pr_RuHFzbZDG4\" data-hid=\"google-site-verification\" data-n-head=\"ssr\" name=\"google-site-verification\"/><meta content=\"width=device-width, initial-scale=1, maximum-scale=1, minimum-scale=1, user-scalable=no, viewport-fit=cover\" data-hid=\"viewport\" name=\"viewport\"/><meta content=\"LINE TODAY\" data-hid=\"og:site_name\" property=\"og:site_name\"/><meta content=\"1200\" data-hid=\"og:image:width\" property=\"og:image:width\"/><meta content=\"630\" data-hid=\"og:image:height\" property=\"og:image:height\"/><meta content=\"LINE TODAY\" data-hid=\"news_keywords\" name=\"news_keywords\"/><meta content=\"website\" data-hid=\"og:type\" property=\"og:type\"/><meta content=\"summary_large_image\" data-hid=\"twitter:card\" property=\"twitter:card\"/><meta content=\"LINE TODAY\" data-hid=\"twitter:site\" property=\"twitter:site\"/><meta content=\"蜂刑者 | 院線電影 | LINE TODAY\" data-hid=\"og:title\" property=\"og:title\"/><meta content=\"蜂刑者 | 院線電影 | LINE TODAY\" data-hid=\"twitter:title\" property=\"twitter:title\"/><meta content=\"★《玩命關頭X》動作巨星 傑森史塔森 最強動作演出 ★《怒火特攻隊》動作大導大衛艾亞重返巔峰動作鉅獻 ★《重案對決》編劇打造全新神祕殺手組織...\" data-hid=\"description\" name=\"description\"/><meta content=\"★《玩命關頭X》動作巨星 傑森史塔森 最強動作演出 ★《怒火特攻隊》動作大導大衛艾亞重返巔峰動作鉅獻 ★《重案對決》編劇打造全新神祕殺手組織「蜂刑者」 ★繼《捍衛任務》《私刑教育》後，最強殺手現身大銀幕 ★全美由米高梅影業以超過3500間戲院超大規模盛大發行 ★與全美同步上映，IMAX、Dolby Cinema、4DX、MX4D版本震撼大銀幕  「蜂刑者」是獨立於指揮系統外的特別組織，致力維繫蜂巢體制的健全。 當腐壞侵蝕體制——他將不惜代價保護蜂巢，導正一切！   　　在摯友因遭詐騙而自殺身亡後，一名過去成謎的男子克雷（傑森史塔森 飾）滿腔怒火地對詐騙集團展開激烈的復仇。然而，當人們發現克雷曾\" data-hid=\"og:description\" property=\"og:description\"/><meta content=\"★《玩命關頭X》動作巨星 傑森史塔森 最強動作演出 ★《怒火特攻隊》動作大導大衛艾亞重返巔峰動作鉅獻 ★《重案對決》編劇打造全新神祕殺手組織「蜂刑者」 ★繼《捍衛任務》《私刑教育》後，最強殺手現身大銀幕 ★全美由米高梅影業以超過3500間戲院超大規模盛大發行 ★與全美同步上映，IMAX、Dolby Cinema、4DX、MX4D版本震撼大銀幕  「蜂刑者」是獨立於指揮系統外的特別組織，致力維繫蜂巢體制的健全。 當腐壞侵蝕體制——他將不惜代價保護蜂巢，導正一切！   　　在摯友因遭詐騙而自殺身亡後，一名過去成謎的男子克雷（傑森史塔森 飾）滿腔怒火地對詐騙集團展開激烈的復仇。然而，當人們發現克雷曾\" data-hid=\"twitter:description\" property=\"twitter:description\"/><meta content=\"https://obs.line-scdn.net/0hfKYDWjnpOWRkPSqOIaNGMzZrOgtXUSpnAAtoUBo8LjwsaTZNWxoxfkJgOQQCZiZJByd-Uh5NZC8WbXZZKjB2YyRKPCgvUD1gEyQvagpCJj8CfSJiPVow/w1200\" data-hid=\"og:image\" property=\"og:image\"/><meta content=\"https://obs.line-scdn.net/0hfKYDWjnpOWRkPSqOIaNGMzZrOgtXUSpnAAtoUBo8LjwsaTZNWxoxfkJgOQQCZiZJByd-Uh5NZC8WbXZZKjB2YyRKPCgvUD1gEyQvagpCJj8CfSJiPVow/w1200\" data-hid=\"og:image:secure_url\" property=\"og:image:secure_url\"/><meta content=\"https://obs.line-scdn.net/0hfKYDWjnpOWRkPSqOIaNGMzZrOgtXUSpnAAtoUBo8LjwsaTZNWxoxfkJgOQQCZiZJByd-Uh5NZC8WbXZZKjB2YyRKPCgvUD1gEyQvagpCJj8CfSJiPVow/w1200\" data-hid=\"twitter:image\" property=\"twitter:image\"/><meta content=\"https://today.line.me/tw/v2/movie/EX5Q8vk\" data-hid=\"og:url\" property=\"og:url\"/><link data-hid=\"icon\" href=\"https://today.line.me/dist/24466a47/static/meta/icon192.png\" rel=\"icon\" sizes=\"192x192\" type=\"image/png\"/><link data-hid=\"apple-touch-icon\" href=\"https://today.line.me/dist/24466a47/static/meta/icon180.png\" rel=\"apple-touch-icon\" sizes=\"180x180\"/><link data-hid=\"shortcut icon\" href=\"https://today.line.me/dist/24466a47/static/meta/icon64.ico\" rel=\"shortcut icon\"/><link crossorigin=\"true\" data-hid=\"preconnect0\" href=\"https://today.line.me\" rel=\"preconnect\"/><link crossorigin=\"true\" data-hid=\"preconnect1\" href=\"https://api.today.line.me/\" rel=\"preconnect\"/><link crossorigin=\"true\" data-hid=\"preconnect2\" href=\"https://obs.line-scdn.net\" rel=\"preconnect\"/><link crossorigin=\"true\" data-hid=\"preconnect3\" href=\"https://www.google-analytics.com\" rel=\"preconnect\"/><link crossorigin=\"true\" data-hid=\"preconnect4\" href=\"https://securepubads.g.doubleclick.net\" rel=\"preconnect\"/><link crossorigin=\"true\" data-hid=\"preconnect5\" href=\"https://static.line-scdn.net\" rel=\"preconnect\"/><link crossorigin=\"true\" data-hid=\"preconnect6\" href=\"https://www.googletagmanager.com\" rel=\"preconnect\"/><link crossorigin=\"true\" data-hid=\"preconnect7\" href=\"https://d.line-scdn.net\" rel=\"preconnect\"/><link crossorigin=\"true\" data-hid=\"preconnect8\" href=\"https://sentry-tw.line-apps.com\" rel=\"preconnect\"/><link data-hid=\"prefetch0\" href=\"https://today.line.me\" rel=\"dns-prefetch\"/><link data-hid=\"prefetch1\" href=\"https://api.today.line.me/\" rel=\"dns-prefetch\"/><link data-hid=\"prefetch2\" href=\"https://obs.line-scdn.net\" rel=\"dns-prefetch\"/><link data-hid=\"prefetch3\" href=\"https://www.google-analytics.com\" rel=\"dns-prefetch\"/><link data-hid=\"prefetch4\" href=\"https://securepubads.g.doubleclick.net\" rel=\"dns-prefetch\"/><link data-hid=\"prefetch5\" href=\"https://static.line-scdn.net\" rel=\"dns-prefetch\"/><link data-hid=\"prefetch6\" href=\"https://www.googletagmanager.com\" rel=\"dns-prefetch\"/><link data-hid=\"prefetch7\" href=\"https://d.line-scdn.net\" rel=\"dns-prefetch\"/><link data-hid=\"prefetch8\" href=\"https://sentry-tw.line-apps.com\" rel=\"dns-prefetch\"/><link data-hid=\"hreflang0\" data-n-head=\"ssr\" href=\"https://today.line.me/hk/v2\" hreflang=\"zh-HK\" rel=\"alternate\"/><link data-hid=\"hreflang1\" data-n-head=\"ssr\" href=\"https://today.line.me/th/v2\" hreflang=\"th-TH\" rel=\"alternate\"/><link data-hid=\"hreflang2\" data-n-head=\"ssr\" href=\"https://today.line.me/tw/v2\" hreflang=\"zh-TW\" rel=\"alternate\"/><link data-hid=\"canonical\" href=\"https://today.line.me/tw/v2/movie/EX5Q8vk\" rel=\"canonical\"/><script data-hid=\"initialStyle\" data-n-head=\"ssr\" type=\"text/javascript\">\n",
       "!function(){try{\"main\"===window.location.pathname.split(\"/\")[3]&&document.documentElement.classList.add(\"newsTab\"),function(){if(function(){try{return window.self!==window.top}catch(t){return!0}}())return!1;var t=navigator.userAgent;return/Line\\/\\d+\\.\\d+\\.\\d+ LIFF/.test(t)||/Line\\/\\d+\\.\\d+\\.\\d+/.test(t)&&/[#|&]access_token=/.test(location.hash)||\"1\"===window.sessionStorage.getItem(\"LIFF_STORE:isInClient\")}()&&document.documentElement.classList.add(\"LIFF\")}catch(t){}}();\n",
       "</script><script async=\"\" data-hid=\"LIFFLoader\" data-n-head=\"ssr\" type=\"text/javascript\">\n",
       "  !function(){if(\"main\"!==window.location.pathname.split(\"/\")[3]){var t=document.createElement(\"script\");t.src=\"https://static.line-scdn.net/liff/edge/versions/2.17.0/sdk.js\",t.async=!0,document.head.appendChild(t),document.title=window.title||\"LINE TODAY\"}}();\n",
       "  </script><script async=\"\" data-hid=\"browserCheck\" data-n-head=\"ssr\">\n",
       "!function(){var e=\"70\",r=\"11\",t=\"604\",n=\"60\",i=\"16\";function a(e,r){if(!e||!r)return!1;for(var t=e.split(\".\"),n=r.split(\".\"),i=Math.max(t.length,n.length),a=0;a<i;a++){var o=Number(t[a]||\"0\"),u=Number(n[a]||\"0\");if(o>u)return!0;if(o<u)return!1}return!0}function o(){var o=function(){var e,r,t,n={Edge:[/Edg\\/(\\S+)/],Chrome:[/Chrome\\/(\\S+)/],Firefox:[/Firefox\\/(\\S+)/],Safari:[/Version\\/(\\S+).*?Safari\\//]},i=navigator.userAgent,a=2;for(t in n)for(;e=n[t].shift();)if(r=i.match(e))return t+\" \"+r[1].match(new RegExp(\"[^.]+(?:.[^.]+){0,\"+--a+\"}\"))[0];return null}();if(!o)return!0;var u=o.split(\" \")[0],c=o.split(\" \")[1];switch(u){case\"Chrome\":return a(c,e);case\"Safari\":return a(c,r)||a(function(){for(var e,r,t=[/Safari\\/(\\S+)/],n=navigator.userAgent,i=2;e=t.shift();)if(r=n.match(e))return r[1].match(new RegExp(\"[^.]+(?:.[^.]+){0,\"+--i+\"}\"))[0];return null}(),t);case\"Firefox\":return navigator.userAgent.indexOf(\"Mobile\")>0||a(c,n);case\"Edge\":return navigator.userAgent.indexOf(\"Mobile\")>0||a(c,i);default:return!0}}document.addEventListener(\"DOMContentLoaded\",(function(){o()||(document.querySelector(\".browserCheck\").style.display=\"block\",document.querySelector(\".browserCheck-closeBtn\").addEventListener(\"click\",(function(){document.querySelector(\".browserCheck\").style.display=\"none\"})))}))}();\n",
       "</script><script data-hid=\"transparentImg\" data-n-head=\"ssr\">window.transparentImg = \"data:image/gif;base64,R0lGODlhAQABAIAAAAAAAP///yH5BAEAAAAALAAAAAABAAEAAAIBRAA7\";</script><script data-hid=\"staticPublicPath\" data-n-head=\"ssr\">window.staticPublicPath = 'https://today.line.me/dist/24466a47/'</script><script data-hid=\"seoMovieItem\" data-n-head=\"ssr\" type=\"application/ld+json\">{\"@context\":\"https://schema.org\",\"@type\":\"Movie\",\"name\":\"蜂刑者\",\"url\":\"https://today.line.me/tw/v2/movie/EX5Q8vk\",\"image\":\"https://obs.line-scdn.net/0hfKYDWjnpOWRkPSqOIaNGMzZrOgtXUSpnAAtoUBo8LjwsaTZNWxoxfkJgOQQCZiZJByd-Uh5NZC8WbXZZKjB2YyRKPCgvUD1gEyQvagpCJj8CfSJiPVow/w280\",\"director\":[{\"@type\":\"Person\",\"name\":\"大衛艾亞\"}],\"actor\":[{\"@type\":\"Person\",\"name\":\"傑森史塔森\"},{\"@type\":\"Person\",\"name\":\"傑瑞米艾朗\"},{\"@type\":\"Person\",\"name\":\"喬許哈契森\"},{\"@type\":\"Person\",\"name\":\"蜜妮卓芙\"},{\"@type\":\"Person\",\"name\":\"泰勒詹姆斯\"}],\"aggregateRating\":{\"@type\":\"AggregateRating\",\"ratingValue\":\"9.8\",\"bestRating\":\"10\",\"worseRating\":\"1\",\"ratingCount\":\"132\"},\"alternateName\":\"The Beekeeper\",\"description\":\"★《玩命關頭X》動作巨星 傑森史塔森 最強動作演出 ★《怒火特攻隊》動作大導大衛艾亞重返巔峰動作鉅獻 ★《重案對決》編劇打造全新神祕殺手組織「蜂刑者」 ★繼《捍衛任務》《私刑教育》後，最強殺手現身大銀幕 ★全美由米高梅影業以超過3500間戲院超大規模盛大發行 ★與全美同步上映，IMAX、Dolby Cinema、4DX、MX4D版本震撼大銀幕  「蜂刑者」是獨立於指揮系統外的特別組織，致力維繫蜂巢體制的健全。 當腐壞侵蝕體制——他將不惜代價保護蜂巢，導正一切！   　　在摯友因遭詐騙而自殺身亡後，一名過去成謎的男子克雷（傑森史塔森 飾）滿腔怒火地對詐騙集團展開激烈的復仇。然而，當人們發現克雷曾\",\"datePublished\":\"2024-01-11\",\"dateCreated\":\"2024-01-11\",\"contentRating\":\"PARENTAL_GUIDANCE_15\",\"genre\":[\"動作\",\"驚悚\"],\"duration\":\"PT1H45M\",\"creator\":{\"@type\":\"Organization\",\"legalName\":\"Cedar Park Entertainment, Miramax\"},\"trailer\":{\"@type\":\"VideoObject\",\"name\":\"蜂刑者 電影預告\",\"thumbnail\":{\"@type\":\"ImageObject\",\"contentUrl\":\"https://obs.line-scdn.net/0hmGV3vJWOMmhrSiFwm81NPzkcMQdYJiFrD3xjXBVLbiQjCShCPlc9cQUxJwsgejNFCFB1XhE6byMZGn1VJUd9bys9NA0gDTNtInk2cDs1MjMNCiluMi07/w280\"},\"contentUrl\":\"https://obs.line-scdn.net/0hmGV3vJWOMmhrSiFwm81NPzkcMQdYJiFrD3xjXBVLbiQjCShCPlc9cQUxJwsgejNFCFB1XhE6byMZGn1VJUd9bys9NA0gDTNtInk2cDs1MjMNCiluMi07/w280/abr.m3u8\",\"uploadDate\":\"2023-12-18\",\"thumbnailUrl\":\"https://obs.line-scdn.net/0hmGV3vJWOMmhrSiFwm81NPzkcMQdYJiFrD3xjXBVLbiQjCShCPlc9cQUxJwsgejNFCFB1XhE6byMZGn1VJUd9bys9NA0gDTNtInk2cDs1MjMNCiluMi07/w280\",\"description\":\"蜂刑者 電影預告\",\"url\":\"https://today.line.me/tw/v2/article/BE0l88G\",\"duration\":\"PT2M57S\"}}</script><link href=\"https://today.line.me/dist/24466a47/app.24466a47.css\" rel=\"stylesheet\"/><link href=\"https://today.line.me/dist/24466a47/pages/_countries/v2/movie/_urlPath/_tabPath.24466a47.css\" rel=\"stylesheet\"/><link href=\"https://today.line.me/dist/24466a47/commons/3c44d397.24466a47.css\" rel=\"stylesheet\"/><link href=\"https://today.line.me/dist/24466a47/commons/01dcf096.24466a47.css\" rel=\"stylesheet\"/><link href=\"https://today.line.me/dist/24466a47/entityProfile.24466a47.css\" rel=\"stylesheet\"/><link href=\"https://today.line.me/dist/24466a47/32.24466a47.css\" rel=\"stylesheet\"/><link href=\"https://today.line.me/dist/24466a47/floatingBar.24466a47.css\" rel=\"stylesheet\"/><link href=\"https://today.line.me/dist/24466a47/tabContainer.24466a47.css\" rel=\"stylesheet\"/><link href=\"https://today.line.me/dist/24466a47/movie.24466a47.css\" rel=\"stylesheet\"/><link href=\"https://today.line.me/dist/24466a47/entityExploreLinks.24466a47.css\" rel=\"stylesheet\"/><link href=\"https://today.line.me/dist/24466a47/article.24466a47.css\" rel=\"stylesheet\"/><link href=\"https://today.line.me/dist/24466a47/commons/article~fortune.24466a47.css\" rel=\"stylesheet\"/><link href=\"https://today.line.me/dist/24466a47/GlnFooter.24466a47.css\" rel=\"stylesheet\"/>\n",
       "</head>\n",
       "<body data-n-head=\"%7B%22ontouchstart%22:%7B%22ssr%22:%22%20%22%7D%7D\" ontouchstart=\" \">\n",
       "<div data-server-rendered=\"true\" id=\"__nuxt\"><!-- --><div id=\"__layout\"><div class=\"universalFrame TW\" data-v-367f7aa6=\"\"><div class=\"browserCheck\" data-v-2976fb88=\"\" data-v-367f7aa6=\"\"><div class=\"theContainer\" data-v-2976fb88=\"\" data-v-b930ea94=\"\"><h3 class=\"browserCheck-heading header header--lg header--stillness\" data-v-27ceb523=\"\" data-v-2976fb88=\"\">\n",
       "      請更新您的瀏覽器\n",
       "    </h3> <p class=\"browserCheck-content text text--e text--stillness text--regular\" data-v-2976fb88=\"\" data-v-633c5b74=\"\">\n",
       "      您使用的瀏覽器版本較舊，已不再受支援。建議您更新瀏覽器版本，以獲得最佳使用體驗。\n",
       "    </p></div> <button class=\"browserCheck-closeBtn\" data-v-2976fb88=\"\"><span data-v-2976fb88=\"\" data-v-3905321e=\"\" style=\"font-size:18px;\"><svg data-v-3905321e=\"\" height=\"24\" viewbox=\"0 0 24 24\" width=\"24\" xmlns=\"http://www.w3.org/2000/svg\"><path d=\"M13.364 12L22 20.636 20.636 22 12 13.364 3.364 22 2 20.636 10.636 12 2 3.364 3.364 2 12 10.636 20.636 2 22 3.364z\" data-v-3905321e=\"\" fill=\"currentColor\" fill-rule=\"evenodd\"></path></svg></span></button></div> <noscript data-v-367f7aa6=\"\"><div class=\"noScript\" data-v-367f7aa6=\"\" data-v-ba7885b2=\"\"><div class=\"theContainer\" data-v-b930ea94=\"\" data-v-ba7885b2=\"\"><h3 class=\"noScript-heading header header--lg header--stillness\" data-v-27ceb523=\"\" data-v-ba7885b2=\"\">\n",
       "      啟用Javascript\n",
       "    </h3> <p class=\"noScript-content text text--e text--stillness text--regular\" data-v-633c5b74=\"\" data-v-ba7885b2=\"\">\n",
       "      請在瀏覽器上啟用JavaScript來瀏覽頁面中的所有內容。\n",
       "    </p></div></div></noscript> <div class=\"universalFrame-wrap\" data-v-367f7aa6=\"\"><div class=\"titlebar\" data-v-2984b9ec=\"\" data-v-367f7aa6=\"\"><a data-v-2984b9ec=\"\" href=\"/tw/v3/tab\"><button aria-label=\"LINE TODAY\" class=\"titlebar-btn\" data-v-2984b9ec=\"\"><span data-v-09cbb88e=\"\" data-v-2984b9ec=\"\" style=\"font-size:16px;\"><svg data-v-09cbb88e=\"\" fill=\"none\" height=\"120\" viewbox=\"0 0 120 120\" width=\"120\" xmlns=\"http://www.w3.org/2000/svg\"><path d=\"M84.6525 71.2918C65.861 68.8966 50.6474 53.8032 48.1069 35.0217C46.7465 24.97 48.931 15.4763 53.579 7.60131C55.6172 4.14804 52.8433 -0.226948 48.8414 0.00916255C11.1752 2.23643 0 17.0722 0 59.8512C0 106.634 13.3938 120 60.1201 120C103.252 120 117.982 108.611 119.993 70.0633C120.202 66.0443 115.778 63.3007 112.349 65.4042C104.442 70.2539 94.837 72.5898 84.6525 71.2918Z\" data-v-09cbb88e=\"\" fill=\"currentColor\"></path><path class=\"symbolDot\" d=\"M92.0339 0C88.7098 0 85.5226 0.583618 82.5651 1.64809C71.7806 5.52915 64.0678 15.8452 64.0678 27.9667C64.0678 43.4123 76.588 55.9322 92.0339 55.9322C104.541 55.9322 115.129 47.7197 118.705 36.3949C119.545 33.7344 120 30.9039 120 27.9667C120 12.5199 107.48 0 92.0339 0Z\" data-v-09cbb88e=\"\" fill=\"#06C755\"></path></svg></span></button></a> <div class=\"titlebar-subtitle titlebar-subtitle--border\" data-v-2984b9ec=\"\"><h2 class=\"titlebar-text header header--md header--primary header--ellipsis1\" data-v-27ceb523=\"\" data-v-2984b9ec=\"\"></h2></div> <div class=\"titlebar-rightContent\" data-v-2984b9ec=\"\"><!-- --> <div class=\"login\" data-v-2984b9ec=\"\" data-v-5b42020b=\"\"><button class=\"login-button\" data-v-5b42020b=\"\"><span class=\"text text--eXWide text--primary text--regular text--ellipsis3\" data-v-5b42020b=\"\" data-v-633c5b74=\"\">登入</span></button></div></div></div> <!-- --> <div class=\"swipeBack\" data-v-5894ef51=\"\" data-v-ee9d7b64=\"\"><div data-anchor-id=\"movie:241853535:6049d0efe1f2fc2a0c9f2dd0\" data-v-5894ef51=\"\"><div class=\"entityProfile-movie-container theContainer\" data-v-1bc31fc3=\"\" data-v-b930ea94=\"\"><div class=\"entityProfile-movie-wrap\" data-v-1bc31fc3=\"\" data-v-b930ea94=\"\"><div class=\"entityProfile-movie-description-wrap\" data-v-1bc31fc3=\"\" data-v-b930ea94=\"\"><div class=\"entityProfile-movie-highlight\" data-v-1bc31fc3=\"\" data-v-b930ea94=\"\"><div class=\"iconInfo entityProfile-movie-icon\" data-v-0a2fe0b4=\"\" data-v-1bc31fc3=\"\"><span class=\"iconInfo-icon iconInfo-icon--popular\" data-v-0a2fe0b4=\"\"><span data-v-1bc31fc3=\"\" data-v-2652dcee=\"\" style=\"font-size:22px;\"><svg data-v-2652dcee=\"\" fill=\"none\" height=\"18\" viewbox=\"0 0 18 18\" width=\"18\" xmlns=\"http://www.w3.org/2000/svg\"><path d=\"M9.00039 3.1499L10.6719 7.19852L14.8504 7.6189L11.7049 10.5415L12.6159 14.8499L9.00039 12.6075L5.38489 14.8499L6.29588 10.5415L3.15039 7.6189L7.32891 7.19852L9.00039 3.1499Z\" data-v-2652dcee=\"\" fill=\"currentColor\"></path></svg></span></span> <span class=\"iconInfo-text text text--d text--secondary text--regular\" data-v-0a2fe0b4=\"\" data-v-633c5b74=\"\">\n",
       "      9.8\n",
       "    </span></div> <div class=\"glnBadge glnBadge-outlined--secondary\" data-v-1bc31fc3=\"\" data-v-93e2444c=\"\"><div class=\"glnBadge-wrap\" data-v-93e2444c=\"\"><!-- --> <span class=\"glnBadge-text text text--fNarrow text--secondary text--regular\" data-v-633c5b74=\"\" data-v-93e2444c=\"\">\n",
       "      輔15級\n",
       "    </span></div></div></div> <h1 class=\"entityProfile-movie-title header header--xl header--primary\" data-v-1bc31fc3=\"\" data-v-27ceb523=\"\">\n",
       "        蜂刑者\n",
       "      </h1> <p class=\"text text--e text--secondary text--regular\" data-v-1bc31fc3=\"\" data-v-633c5b74=\"\">The Beekeeper</p> <p class=\"text text--e text--secondary text--regular\" data-v-1bc31fc3=\"\" data-v-633c5b74=\"\">\n",
       "        片長：1小時45分\n",
       "      </p> <!-- --> <p class=\"text text--e text--secondary text--regular\" data-v-1bc31fc3=\"\" data-v-633c5b74=\"\">\n",
       "        類型：動作 • 驚悚\n",
       "      </p></div> <!-- --></div> <a data-v-1bc31fc3=\"\" href=\"/tw/v2/movie/booking/241853535\"><button class=\"entityProfile-movie-booking-button theButton theButton--primary theButton--sm theButton--fullWidth\" data-v-1b736331=\"\" data-v-1bc31fc3=\"\"><span class=\"theButton-icon\" data-v-1b736331=\"\"><span data-v-147adfa2=\"\" data-v-1bc31fc3=\"\" style=\"font-size:18px;\"><svg data-v-147adfa2=\"\" height=\"24\" viewbox=\"0 0 24 24\" width=\"24\" xmlns=\"http://www.w3.org/2000/svg\"><g data-v-147adfa2=\"\" transform=\"translate(-503 -794) translate(60 372) translate(1 398) translate(404) translate(38 24)\"><path d=\"M21.71 4c.34 0 .666.13.908.368s.38.563.382.902v2.906c0 .457-.31.857-.754.97C20.616 9.558 19.8 10.51 19.8 12s.815 2.442 2.446 2.855c.443.113.754.512.754.97v2.905c-.003.34-.14.664-.382.902-.242.239-.569.37-.908.368H2.29c-.34.003-.666-.13-.908-.368s-.38-.562-.382-.902V5.27c.003-.34.14-.664.382-.902S1.951 4 2.29 4zM6 5.8H2.8v12.4H6V16h1.8v2.2h13.4v-1.8c-2.133-.913-3.2-2.38-3.2-4.4 0-2.02 1.067-3.487 3.2-4.4V5.8H7.8V8H6V5.8zm1.8 6.8v2.2H6v-2.2h1.8zm0-3.4v2.2H6V9.2h1.8z\" data-v-147adfa2=\"\" fill=\"currentColor\" fill-rule=\"nonzero\"></path></g></svg></span></span> <span class=\"theButton-text\" data-v-1b736331=\"\">訂票</span> <!-- --></button></a></div></div><div data-anchor-id=\"movie:241853535:6049d0efe1f2fc2a0c9f2dd1\" data-v-5894ef51=\"\" style=\"border:0;clip:rect(1px, 1px, 1px, 1px);clip-path:inset(50%);height:1px;margin:-1px;overflow:hidden;padding:0;position:absolute;width:1px;word-wrap:normal;\"><div class=\"floatingBar-container\" data-v-0e110531=\"\" data-v-1dfe3fa1=\"\"><div class=\"interactive-wrapper\" data-v-0e110531=\"\" data-v-1dfe3fa1=\"\"><div class=\"interactive-items\" data-v-0e110531=\"\" data-v-1dfe3fa1=\"\"><!-- --> <div class=\"interactiveLike interactive-item\" data-v-1dfe3fa1=\"\" data-v-517427aa=\"\"><span class=\"interactiveLike-wrapper\" data-v-517427aa=\"\"><span class=\"interactiveLike-icon--liked\" data-v-517427aa=\"\" data-v-72fc8aa1=\"\" style=\"font-size:24px;\"><svg data-v-72fc8aa1=\"\" height=\"24\" viewbox=\"0 0 24 24\" width=\"24\" xmlns=\"http://www.w3.org/2000/svg\"><path d=\"M3.585 4.73c2.052-2.06 5.343-2.118 7.467-.176l.184.176.764.768.764-.768c2.113-2.12 5.539-2.12 7.651 0 2.053 2.06 2.111 5.364.176 7.494l-.176.185L12 20.856 3.585 12.41c-2.113-2.12-2.113-5.558 0-7.679z\" data-v-72fc8aa1=\"\" fill=\"currentColor\"></path></svg></span> <span class=\"interactiveLike-icon--unlike\" data-v-017597a6=\"\" data-v-517427aa=\"\" style=\"font-size:24px;\"><svg data-v-017597a6=\"\" height=\"24\" viewbox=\"0 0 24 24\" width=\"24\" xmlns=\"http://www.w3.org/2000/svg\"><path d=\"M3.585 4.73c2.052-2.06 5.343-2.118 7.467-.176l.184.176.764.768.764-.768c2.113-2.12 5.539-2.12 7.651 0 2.053 2.06 2.111 5.364.176 7.494l-.176.185L12 20.856 3.585 12.41c-2.113-2.12-2.113-5.558 0-7.679zM19.14 6c-1.359-1.363-3.53-1.412-4.946-.145L14.04 6 12 8.048 9.96 6C8.552 4.586 6.27 4.586 4.86 6c-1.363 1.367-1.411 3.557-.146 4.983l.146.155 7.139 7.166 7.141-7.166c1.363-1.368 1.411-3.557.146-4.983l-.146-.155z\" data-v-017597a6=\"\" fill=\"currentColor\" fill-rule=\"evenodd\"></path></svg></span></span> <span class=\"interactiveLike-count text text--e text--primary text--bold\" data-v-517427aa=\"\" data-v-633c5b74=\"\">\n",
       "    0\n",
       "  </span></div> <!-- --></div> <div class=\"interactive-items\" data-v-0e110531=\"\" data-v-1dfe3fa1=\"\"><div class=\"interactiveShare\" data-v-1dfe3fa1=\"\" data-v-48821ee5=\"\"><!-- --> <div class=\"interactiveShare-item\" data-v-48821ee5=\"\"><span data-v-48821ee5=\"\" data-v-c2b08026=\"\" style=\"font-size:24px;\"><svg data-v-c2b08026=\"\" height=\"24\" viewbox=\"0 0 24 24\" width=\"24\" xmlns=\"http://www.w3.org/2000/svg\"><path d=\"M17.5 2C19.433 2 21 3.567 21 5.5S19.433 9 17.5 9c-1.022 0-1.942-.438-2.582-1.138l-5.502 2.871c.055.247.084.504.084.767 0 .368-.057.723-.162 1.057l5.291 3.368C15.253 15.351 16.085 15 17 15c1.933 0 3.5 1.567 3.5 3.5S18.933 22 17 22s-3.5-1.567-3.5-3.5c0-.368.057-.723.162-1.057L8.37 14.076C7.746 14.65 6.914 15 6 15c-1.933 0-3.5-1.567-3.5-3.5S4.067 8 6 8c1.022 0 1.942.438 2.582 1.138l5.503-2.87C14.029 6.02 14 5.764 14 5.5 14 3.567 15.567 2 17.5 2zM17 16.8c-.939 0-1.7.761-1.7 1.7s.761 1.7 1.7 1.7 1.7-.761 1.7-1.7-.761-1.7-1.7-1.7zm-11-7c-.939 0-1.7.761-1.7 1.7s.761 1.7 1.7 1.7 1.7-.761 1.7-1.7S6.939 9.8 6 9.8zm11.5-6c-.939 0-1.7.761-1.7 1.7s.761 1.7 1.7 1.7 1.7-.761 1.7-1.7-.761-1.7-1.7-1.7z\" data-v-c2b08026=\"\" fill=\"currentColor\" fill-rule=\"evenodd\"></path></svg></span></div></div> <a data-v-1dfe3fa1=\"\" data-v-857479ae=\"\" href=\"/tw/v3/tab\"><button class=\"interactiveHome interactiveHome--withLine\" data-v-857479ae=\"\"><span data-v-857479ae=\"\" data-v-dfba0570=\"\" style=\"font-size:24px;\"><svg data-v-dfba0570=\"\" fill=\"none\" height=\"24\" viewbox=\"0 0 24 24\" width=\"24\" xmlns=\"http://www.w3.org/2000/svg\"><path clip-rule=\"evenodd\" d=\"M20.9227 9.06664L12.6136 2.61038C12.2526 2.32991 11.7474 2.32991 11.3864 2.61038L3.07729 9.06664C3.02853 9.10453 3 9.16282 3 9.22457V19.3336C3 20.3277 3.80589 21.1336 4.8 21.1336H10.2C10.3105 21.1336 10.4 21.0441 10.4 20.9336V14.5336H13.6V20.9336C13.6 21.0441 13.6895 21.1336 13.8 21.1336H19.2C20.1941 21.1336 21 20.3277 21 19.3336V9.22457C21 9.16282 20.9715 9.10453 20.9227 9.06664ZM4.8 10.0066L12 4.41264L19.2 10.0076V19.3336H15.399L15.4 12.9337C15.4 12.8232 15.3104 12.7336 15.2 12.7336H8.8C8.68954 12.7336 8.6 12.8232 8.6 12.9336V19.3336H4.8V10.0066Z\" data-v-dfba0570=\"\" fill=\"currentColor\" fill-rule=\"evenodd\"></path></svg></span></button></a></div></div></div></div><div class=\"tabContainer\" data-anchor-id=\"movie:241853535:6049d0efe1f2fc2a0c9f2dd2\" data-fetch-key=\"0\" data-v-5894ef51=\"\"><div class=\"tabContainer-wrap\" data-v-84e2c98a=\"\"><ul class=\"tabContainer-tabs tabContainer-tabs--movie\" data-v-84e2c98a=\"\"><li class=\"tabContainer-item\" data-v-84e2c98a=\"\"><div class=\"tabContainer-tab tabContainer-tab--active tabContainer-tab--movie\" data-v-84e2c98a=\"\"><span class=\"tabContainer-tab-text text text--d text--quaternary text--medium\" data-v-633c5b74=\"\" data-v-84e2c98a=\"\">\n",
       "          電影資訊\n",
       "        </span></div></li><li class=\"tabContainer-item\" data-v-84e2c98a=\"\"><a class=\"tabContainer-tab tabContainer-tab--movie\" data-v-84e2c98a=\"\" href=\"/tw/v2/movie/EX5Q8vk/1\"><span class=\"tabContainer-tab-text text text--d text--quaternary text--medium\" data-v-633c5b74=\"\" data-v-84e2c98a=\"\">\n",
       "          場次\n",
       "        </span></a></li><li class=\"tabContainer-item\" data-v-84e2c98a=\"\"><a class=\"tabContainer-tab tabContainer-tab--movie\" data-v-84e2c98a=\"\" href=\"/tw/v2/movie/EX5Q8vk/2\"><span class=\"tabContainer-tab-text text text--d text--quaternary text--medium\" data-v-633c5b74=\"\" data-v-84e2c98a=\"\">\n",
       "          網友短評(132)\n",
       "        </span></a></li></ul></div> <div class=\"tabpage-wrap\" data-v-541c20ba=\"\"><div data-v-541c20ba=\"\"><div class=\"movieInfo-container theContainer\" data-anchor-id=\"movie:241853535:6049d0efe1f2fc2a0c9f2dd6\" data-v-47dfd554=\"\" data-v-541c20ba=\"\" data-v-b930ea94=\"\"><div data-v-47dfd554=\"\" data-v-b930ea94=\"\"><article class=\"movieInfo-shortDescription\" data-v-47dfd554=\"\" data-v-b930ea94=\"\"><p class=\"text text--d text--primary text--regular\" data-v-47dfd554=\"\" data-v-633c5b74=\"\">\n",
       "        ★《玩命關頭X》動作巨星 傑森史塔森 最強動作演出 ★《怒火特攻隊》動作大導大衛艾亞重返巔峰動作鉅獻 ★《重案對決》編劇打造全新神祕殺手組織「蜂刑者」 ★繼《捍衛任務》《私刑教育》後，最強殺手現身大銀幕 ★全美由米高梅影業以超過3500間戲院超大規模盛大發行 ★與全美同步上映，IMAX、Dolby Cinema、4DX、MX4D版本震撼大銀幕  「蜂刑者」是獨立於指揮系統外的特別組織，致力維繫蜂巢體制的健全。 當腐壞侵蝕體制——他將不惜代價保護蜂巢，導正一切！   　　在摯友因遭詐騙而自殺身亡後，一名過去成謎的男子克雷（傑森史塔森 飾）滿腔怒火地對詐騙集團展開激烈的復仇。然而，當人們發現克雷曾\n",
       "      </p> <button class=\"movieInfo-loadMoreButton\" data-v-47dfd554=\"\" data-v-b930ea94=\"\"><span class=\"movieInfo-loadMoreButton-text\" data-v-47dfd554=\"\" data-v-b930ea94=\"\">顯示更多</span> <span data-v-47dfd554=\"\" data-v-ecfc6ce6=\"\" style=\"font-size:22px;\"><svg data-v-ecfc6ce6=\"\" height=\"18\" viewbox=\"0 0 18 18\" width=\"18\" xmlns=\"http://www.w3.org/2000/svg\"><path d=\"M7.977 4.95l3.75 3.75c.242.242.262.62.06.885l-.06.07-3.75 3.75-.954-.955 3.272-3.273-3.272-3.272.954-.955z\" data-v-ecfc6ce6=\"\" fill=\"currentColor\" fill-rule=\"evenodd\"></path></svg></span></button></article></div></div><div data-anchor-id=\"movie:241853535:639c1a505f29eae23983a844\" data-fetch-key=\"1\" data-v-541c20ba=\"\" data-v-762c004d=\"\"><div class=\"exploreLinks-container theContainer\" data-v-762c004d=\"\" data-v-b930ea94=\"\"><section data-v-762c004d=\"\" data-v-ac878b2c=\"\"><!-- --> <div class=\"exploreLinks-wrapper\" data-v-762c004d=\"\" data-v-ac878b2c=\"\"><a class=\"exploreLinkChip\" data-v-0b9702f2=\"\" data-v-762c004d=\"\" href=\"/tw/v2/tag/npBW9Q?tag=%E8%9C%82%E5%88%91%E8%80%85\"><button class=\"chipButton chipButton--primary chipButton--sm\" data-v-0b9702f2=\"\" data-v-7de234d8=\"\"><!-- --> <!-- --> <span class=\"chipButton-text\" data-v-7de234d8=\"\">#蜂刑者</span> <!-- --></button></a><a class=\"exploreLinkChip\" data-v-0b9702f2=\"\" data-v-762c004d=\"\" href=\"/tw/v2/tag/5BOP2D?tag=%E5%82%91%E6%A3%AE%E5%8F%B2%E5%A1%94%E6%A3%AE\"><button class=\"chipButton chipButton--primary chipButton--sm\" data-v-0b9702f2=\"\" data-v-7de234d8=\"\"><!-- --> <!-- --> <span class=\"chipButton-text\" data-v-7de234d8=\"\">#傑森史塔森</span> <!-- --></button></a><a class=\"exploreLinkChip\" data-v-0b9702f2=\"\" data-v-762c004d=\"\" href=\"/tw/v2/tag/zjRmLW?tag=%E5%82%91%E7%91%9E%E7%B1%B3%E8%89%BE%E6%9C%97\"><button class=\"chipButton chipButton--primary chipButton--sm\" data-v-0b9702f2=\"\" data-v-7de234d8=\"\"><!-- --> <!-- --> <span class=\"chipButton-text\" data-v-7de234d8=\"\">#傑瑞米艾朗</span> <!-- --></button></a><a class=\"exploreLinkChip\" data-v-0b9702f2=\"\" data-v-762c004d=\"\" href=\"/tw/v2/tag/0ElzXN?tag=%E5%96%AC%E8%A8%B1%E5%93%88%E5%A5%91%E6%A3%AE\"><button class=\"chipButton chipButton--primary chipButton--sm\" data-v-0b9702f2=\"\" data-v-7de234d8=\"\"><!-- --> <!-- --> <span class=\"chipButton-text\" data-v-7de234d8=\"\">#喬許哈契森</span> <!-- --></button></a><a class=\"exploreLinkChip\" data-v-0b9702f2=\"\" data-v-762c004d=\"\" href=\"/tw/v2/tag/rDrwby?tag=%E8%9C%9C%E5%A6%AE%E5%8D%93%E8%8A%99\"><button class=\"chipButton chipButton--primary chipButton--sm\" data-v-0b9702f2=\"\" data-v-7de234d8=\"\"><!-- --> <!-- --> <span class=\"chipButton-text\" data-v-7de234d8=\"\">#蜜妮卓芙</span> <!-- --></button></a><a class=\"exploreLinkChip\" data-v-0b9702f2=\"\" data-v-762c004d=\"\" href=\"/tw/v2/tag/GqLXmb?tag=%E5%A4%A7%E8%A1%9B%E8%89%BE%E4%BA%9E\"><button class=\"chipButton chipButton--primary chipButton--sm\" data-v-0b9702f2=\"\" data-v-7de234d8=\"\"><!-- --> <!-- --> <span class=\"chipButton-text\" data-v-7de234d8=\"\">#大衛艾亞</span> <!-- --></button></a></div></section></div> <!-- --></div><div class=\"entityTrailer-container theContainer\" data-anchor-id=\"movie:241853535:6049d0efe1f2fc2a0c9f2dd7\" data-v-541c20ba=\"\" data-v-56ea71ba=\"\" data-v-b930ea94=\"\"><h2 class=\"entityTrailer-header header header--lg header--primary\" data-v-27ceb523=\"\" data-v-56ea71ba=\"\">\n",
       "    預告片\n",
       "  </h2> <div class=\"carousel\" data-v-56ea71ba=\"\" data-v-6c2bc4d9=\"\"><svg data-v-3b361cd0=\"\" data-v-6c2bc4d9=\"\" preserveaspectratio=\"xMinYMid\" style=\"width:100%;height:262px;\" version=\"1.1\" viewbox=\"0 0 375 262\"><rect clip-path=\"url(#movie:241853535:6049d0efe1f2fc2a0c9f2dd7-idClip)\" data-v-3b361cd0=\"\" height=\"262\" style=\"fill:url(#movie:241853535:6049d0efe1f2fc2a0c9f2dd7-idGradient);\" width=\"375\" x=\"0\" y=\"0\"></rect><defs data-v-3b361cd0=\"\"><clippath data-v-3b361cd0=\"\" id=\"movie:241853535:6049d0efe1f2fc2a0c9f2dd7-idClip\"><rect data-v-3b361cd0=\"\" height=\"18\" rx=\"3\" ry=\"3\" width=\"180\" x=\"16\" y=\"21\"></rect> <rect data-v-3b361cd0=\"\" height=\"118\" rx=\"3\" ry=\"3\" width=\"210\" x=\"16\" y=\"58\"></rect> <rect data-v-3b361cd0=\"\" height=\"12\" rx=\"3\" ry=\"3\" width=\"210\" x=\"16\" y=\"186\"></rect> <rect data-v-3b361cd0=\"\" height=\"12\" rx=\"3\" ry=\"3\" width=\"210\" x=\"16\" y=\"208\"></rect> <rect data-v-3b361cd0=\"\" height=\"12\" rx=\"3\" ry=\"3\" width=\"154\" x=\"16\" y=\"230\"></rect> <rect data-v-3b361cd0=\"\" height=\"118\" rx=\"3\" ry=\"3\" width=\"210\" x=\"238\" y=\"58\"></rect> <rect data-v-3b361cd0=\"\" height=\"12\" rx=\"3\" ry=\"3\" width=\"137\" x=\"238\" y=\"186\"></rect> <rect data-v-3b361cd0=\"\" height=\"12\" rx=\"3\" ry=\"3\" width=\"137\" x=\"238\" y=\"208\"></rect> <rect data-v-3b361cd0=\"\" height=\"12\" rx=\"3\" ry=\"3\" width=\"137\" x=\"238\" y=\"230\"></rect></clippath><lineargradient data-v-3b361cd0=\"\" id=\"movie:241853535:6049d0efe1f2fc2a0c9f2dd7-idGradient\"><stop data-v-3b361cd0=\"\" offset=\"0%\" stop-color=\"#f9f9f9\" stop-opacity=\"1\"><animate attributename=\"offset\" data-v-3b361cd0=\"\" dur=\"2s\" repeatcount=\"indefinite\" values=\"-2; 1\"></animate></stop><stop data-v-3b361cd0=\"\" offset=\"50%\" stop-color=\"#ecebeb\" stop-opacity=\"1\"><animate attributename=\"offset\" data-v-3b361cd0=\"\" dur=\"2s\" repeatcount=\"indefinite\" values=\"-1.5; 1.5\"></animate></stop><stop data-v-3b361cd0=\"\" offset=\"100%\" stop-color=\"#f9f9f9\" stop-opacity=\"1\"><animate attributename=\"offset\" data-v-3b361cd0=\"\" dur=\"2s\" repeatcount=\"indefinite\" values=\"-1; 2\"></animate></stop></lineargradient></defs></svg></div></div><div data-anchor-id=\"movie:241853535:6049d0efe1f2fc2a0c9f2dd8\" data-v-541c20ba=\"\" style=\"height:calc((calc(var(--vh) * 100) - 48px) / 3);\"></div><div class=\"cpRelated\" data-anchor-id=\"movie:241853535:6049d0efe1f2fc2a0c9f2dd9\" data-v-541c20ba=\"\" data-v-b3740338=\"\"><!-- --></div><div data-anchor-id=\"movie:241853535:6377059f5dcf0b54b19454b4\" data-v-541c20ba=\"\" style=\"height:calc((calc(var(--vh) * 100) - 48px) / 3);\"></div></div></div></div></div> <footer class=\"footer\" data-fetch-key=\"2\" data-v-0672cec6=\"\" data-v-367f7aa6=\"\"><div class=\"theContainer\" data-v-0672cec6=\"\" data-v-b930ea94=\"\"><!-- --> <!-- --> <a class=\"footer-info\" data-v-0672cec6=\"\" href=\"/tw/v2/service/terms\"><span class=\"text text--e text--tertiary text--regular\" data-v-0672cec6=\"\" data-v-633c5b74=\"\">\n",
       "        服務條款\n",
       "      </span></a> <a class=\"footer-info\" data-v-0672cec6=\"\" href=\"https://line.me/zh-Hant/terms/policy\"><span class=\"text text--e text--tertiary text--regular\" data-v-0672cec6=\"\" data-v-633c5b74=\"\">\n",
       "        隱私權政策\n",
       "      </span></a> <a class=\"footer-info\" data-v-0672cec6=\"\" href=\"/tw/v2/service/disclaimer\"><span class=\"text text--e text--tertiary text--regular\" data-v-0672cec6=\"\" data-v-633c5b74=\"\">\n",
       "        服務聲明\n",
       "      </span></a> <address class=\"footer-address\" data-v-0672cec6=\"\" data-v-b930ea94=\"\"><span class=\"text text--e text--quaternary text--regular\" data-v-0672cec6=\"\" data-v-633c5b74=\"\">\n",
       "        © LY Corporation\n",
       "      </span></address></div></footer></div></div></div></div><script>window.__NUXT__=(function(a,b,c,d,e,f,g,h,i,j,k,l,m,n,o,p,q,r,s,t,u,v,w,x,y,z,A,B,C,D,E,F,G,H,I,J,K,L,M,N,O,P,Q,R,S,T,U,V,W,X,Y,Z,_,$,aa,ab,ac,ad,ae,af,ag,ah,ai,aj,ak,al,am,an,ao,ap,aq,ar,as,at,au,av,aw,ax,ay,az,aA,aB,aC,aD,aE,aF,aG,aH,aI,aJ,aK,aL,aM,aN,aO,aP,aQ,aR,aS,aT,aU,aV,aW,aX,aY,aZ,a_,a$,ba,bb,bc,bd,be,bf,bg,bh,bi,bj,bk,bl,bm,bn,bo,bp,bq,br,bs,bt,bu,bv,bw,bx,by,bz,bA,bB,bC,bD,bE,bF,bG,bH,bI,bJ){N.type=d;N.hash=\"0hfKYDWjnpOWRkPSqOIaNGMzZrOgtXUSpnAAtoUBo8LjwsaTZNWxoxfkJgOQQCZiZJByd-Uh5NZC8WbXZZKjB2YyRKPCgvUD1gEyQvagpCJj8CfSJiPVow\";ar.totalScore=1300;ar.count=aj;ar.average=9.848484848484848;at[0]=O;au[0]=q;au[1]=P;au[2]=Q;au[3]=R;au[4]=\"泰勒詹姆斯\";ax[0]=\"動作\";ax[1]=\"驚悚\";az[0]={id:\"242128572\",title:\"蜂刑者 電影預告\",publisher:t,publisherId:u,publishTimeUnix:1702880485000,contentType:v,thumbnail:{type:d,hash:\"0hmGV3vJWOMmhrSiFwm81NPzkcMQdYJiFrD3xjXBVLbiQjCShCPlc9cQUxJwsgejNFCFB1XhE6byMZGn1VJUd9bys9NA0gDTNtInk2cDs1MjMNCiluMi07\"},url:{hash:\"BE0l88G\"},categoryId:w,media:{type:x,hash:\"0hFAULi3xVGW5oNQp2iiVmOVBjFR9bUwNnSlACDE9hQFlHGQk9AVRKDU0yE0IWVlc9SAEGAE0wQFwXV15rBw\",thumbnailHash:\"0hCVsLZSZBHHlONQ9hvqtjLhxjHxZ9WQ96KgNNTTA0CiI4X1lRFBoQYA1sHDcFYgVULS9bTzRFQTI8ZVNEADhTfg5CGhwFch1_cSsYYx5KAzUWdQd_F1IV\",profile:y,duration:177043,width:z,height:A,meta:{SOURCE_LINK_TYPE:B,MOVIE_ARTICLE_HASH:j}}};az[1]={id:\"243060595\",title:\"滿足你對動作片的渴望！ 蜂刑者\",publisher:t,publisherId:u,publishTimeUnix:1704965776000,contentType:v,thumbnail:{type:d,hash:\"0hcqx_wZgPPF5FJi-Z-OVDCRlwPzF2Si9dIRBtajsnJxFrfT1aeys1aD9ZYTs0XzxgISs4WQZnJBEwfXppHyAvbQUnKwYjfSJ2DBUzagVGKT4eRD1zJRp7RBA\"},url:{hash:\"MLvKQl3\"},categoryId:w,media:{type:x,hash:\"0hmMQ9RKo2MmJsQCGa3JNNNVQWPhNfJihrTiZ0DEASZVIUbCU2BSBhAUtJbU5Id3QxTC8pA0EQPAARIHdmUg\",thumbnailHash:\"0hvxzVcxWIKVdHLzqQ-vZWABt5Kjh0QzpUIxl4YzkuMhg1bDd9DUEtTwtULxshSShSCSItUARuMRgydG9gHSk6ZAcuPg8hdDd_DiItWmEmPDcfbyh6JxNuTRI\",profile:y,duration:57090,width:z,height:A,meta:{SOURCE_LINK_TYPE:B,MOVIE_ARTICLE_HASH:j}}};az[2]={id:aA,title:aB,publisher:t,publisherId:u,publishTimeUnix:aC,contentType:v,thumbnail:{type:d,hash:aD},url:{hash:aE},categoryId:w,media:{type:x,hash:aF,thumbnailHash:aG,profile:y,duration:aH,width:z,height:A,meta:{SOURCE_LINK_TYPE:B,MOVIE_ARTICLE_HASH:j}}};return {layout:\"default\",data:[{}],fetch:[{tabs:[{pageId:G,titleText:\"電影資訊\",id:_,name:$,type:e,tabTitleType:aa,subType:m,urlPath:ab,url:\"\\u002Ftw\\u002Fv2\\u002Fmovie\\u002FEX5Q8vk\\u002F0\"},{pageId:H,titleText:\"場次\",id:ac,name:ad,type:e,tabTitleType:ae,subType:m,urlPath:af,url:\"\\u002Ftw\\u002Fv2\\u002Fmovie\\u002FEX5Q8vk\\u002F1\"},{pageId:I,titleText:\"網友短評(132)\",id:ag,name:ah,type:e,tabTitleType:o,subType:m,urlPath:ai,url:\"\\u002Ftw\\u002Fv2\\u002Fmovie\\u002FEX5Q8vk\\u002F2\"}],activeIndex:l,counts:aj,pageId:h},{shortcuts:[],TRACKING_ACTION:{IMPRESSION:\"imp\",CLICK:\"click\",SUBSCRIBE:\"subscribe\",UNSUBSCRIBE:\"unsubscribe\",SWIPE:\"swipe\",TOAST_GO:\"toastgo\",TOAST_IMPRESSION:\"toastimp\",SUBMIT:\"submit\",SLIDE_CHANGE:\"slideChange\"},pageId:h},{textTag:{SPAN:\"span\",P:\"p\",DIV:\"div\",CAPTION:\"caption\",FIGCAPTION:\"figcaption\"},textType:{A:\"a\",B:\"b\",C:\"c\",C_WIDE:\"cWide\",D:\"d\",E:\"e\",E_X_WIDE:\"eXWide\",F:\"f\",F_NARROW:\"fNarrow\",G:\"g\"},textColor:{PRIMARY:\"primary\",SECONDARY:\"secondary\",TERTIARY:\"tertiary\",QUATERNARY:\"quaternary\",NEGATIVE:\"negative\",STILLNESS:\"stillness\",STILLNESS_ALT:\"stillness-alt\",POPULAR:\"popular\",SIGNIFICANT:\"significant\",BRAND:\"brand\",LINK:\"link\"}}],error:p,state:{gaId:f,enableSPA:a,view:f,previewMode:{listing:a,article:a},pollAnswers:f,country:ak,textSize:\"md\",articleWorkerStates:f,types:{},video:{programUrlMap:{},broadcastUrlMap:{},watchLogs:{},type:{}},user:{nativeUserName:c,nativeUserProfilePicture:c,userInfo:p,userSetting:p,group:\"NA\",gender:c,age:c,autoplay:p,theme:\"light\",friendshipList:{CP:{},ELECTION_PROFILE:{}},constants:{},types:{}},ui:{ENABLE_SWIPE_BACK:a,FORCE_FLOATING_DISPLAY:a,HAS_FLOATING_BAR:a,HAS_MODAL_SHEET_COMMENT:a,FORCE_POP_UP_AD_DISPLAY:new Set([]),ENABLE_BOTTOM_WINDOW:b,ENABLE_POLL_SELECT_PANEL:b,HAS_BOTTOM_MODAL:a,types:{}},titlebar:{mainTitle:{text:J},subTitle:f,leftButton:a,types:{}},tab:{tabs:[],previousIndex:l,currentIndex:l,activeMenu:a,activeFooterMenu:a,parser:{},types:{}},page:{pages:{\"241853535\":{id:h,type:r,name:i,urlPath:j,modules:[{id:\"movie:241853535:6049d0efe1f2fc2a0c9f2dd0\",type:al,name:\"Entity Profile (MOVIE)\",source:al,profileType:r,listing:[]},{id:\"movie:241853535:6049d0efe1f2fc2a0c9f2dd1\",type:am,name:\"Floating Bar\",source:am,actions:[\"LIKE\"],sns:[\"LINE\",\"FACEBOOK\",\"KEEP\",\"COPY\"],listing:[{id:\"module:movie:241853535:6049d0efe1f2fc2a0c9f2dd1:0\",target:\"commentLike\",urlPath:\"\\u002Fcommentlike\\u002Flist\",params:{articleIds:h}}]},{id:\"movie:241853535:6049d0efe1f2fc2a0c9f2dd2\",type:an,name:\"Tab Module\",source:an,tabs:[{id:_,type:e,name:$,source:e,tabTitle:c,tabTitleType:aa,contentType:K,page:{id:ao,name:\"MOVIE_INFO page\",urlPath:ab,parentUrlPath:L,type:e,subtype:m}},{id:ac,type:e,name:ad,source:e,tabTitle:c,tabTitleType:ae,contentType:K,page:{id:ap,name:\"SHOWTIME page\",urlPath:af,parentUrlPath:L,type:e,subtype:m}},{id:ag,type:e,name:ah,source:e,tabTitle:c,tabTitleType:o,contentType:K,page:{id:aq,name:\"COMMENT page\",urlPath:ai,parentUrlPath:L,type:e,subtype:m}}],isSticky:b,listing:[]}],shareProperties:{title:\"蜂刑者 | 院線電影 | LINE TODAY\",description:M,image:N},thumbnail:N,rating:ar,releaseDate:as,director:at,actor:au,engTitle:av,shortDescription:M,certificate:aw,genres:ax,duration:ay,production:s,trailers:az,status:C,updatedTime:1705496969524},MOVIE_TAB_EX5Q8vk_6049d0efe1f2fc2a0c9f2dd5:{pageId:ao,pageType:e,modules:[{id:\"movie:241853535:6049d0efe1f2fc2a0c9f2dd6\",type:aI,name:\"ENTITY MOVIE INFO\",source:aI,listing:[]},{id:\"movie:241853535:639c1a505f29eae23983a844\",type:aJ,name:\"Explore Link\",source:aJ,tag:{displayTagTypes:[n,k],displayCount:6},listing:[]},{id:\"movie:241853535:6049d0efe1f2fc2a0c9f2dd7\",type:aK,name:\"ENTITY TRAILER\",source:aK,listing:[]},{id:\"movie:241853535:6049d0efe1f2fc2a0c9f2dd8\",type:aL,name:\"ENTITY MOVIE POST\",source:aL,listing:[]},{id:\"movie:241853535:6049d0efe1f2fc2a0c9f2dd9\",type:aM,containerStyle:aN,name:\"CP Related\",source:aM,header:{title:\"相關內容\",hasCompositeTitle:a,subTitle:c},style:\"THUMBNAIL_LIST\",articleCount:S,listing:[]},{id:\"movie:241853535:6377059f5dcf0b54b19454b4\",type:aO,containerStyle:aN,name:\"Trending Comment\",source:aO,contentType:r,header:{title:\"電影避雷針\",hasCompositeTitle:a,subTitle:c},listing:[{id:\"module:6377059f5dcf0b54b19454b4\",offset:l,length:50,target:\"trendingComment\",urlPath:\"\\u002Ftrending\\u002Fcomment\",params:{contentType:r}}]}],id:G,urlPath:\"MOVIE_TAB_EX5Q8vk_6049d0efe1f2fc2a0c9f2dd4\",shareProperties:{},status:C,updatedTime:1705496969580},MOVIE_TAB_EX5Q8vk_6049d0efe1f2fc2a0c9f2de0:{pageId:aq,pageType:e,modules:[{id:\"movie:241853535:6049d0efe1f2fc2a0c9f2de1\",type:o,name:o,source:o,tabs:[\"POPULAR\",\"TIME\"],listing:[]}],id:I,urlPath:\"MOVIE_TAB_EX5Q8vk_6049d0efe1f2fc2a0c9f2ddf\",shareProperties:{},status:C,updatedTime:1705496969582},MOVIE_TAB_EX5Q8vk_6049d0efe1f2fc2a0c9f2ddc:{pageId:ap,pageType:e,modules:[{id:\"movie:241853535:6049d0efe1f2fc2a0c9f2ddd\",type:aP,name:\"Showtime\",source:aP,listing:[]}],id:H,urlPath:\"MOVIE_TAB_EX5Q8vk_6049d0efe1f2fc2a0c9f2ddb\",shareProperties:{},status:C,updatedTime:1705496969584}},urlPaths:{EX5Q8vk:h,MOVIE_TAB_EX5Q8vk_6049d0efe1f2fc2a0c9f2dd4:G,MOVIE_TAB_EX5Q8vk_6049d0efe1f2fc2a0c9f2ddf:I,MOVIE_TAB_EX5Q8vk_6049d0efe1f2fc2a0c9f2ddb:H},isSubscriptionPage:{},createTabPageId:{},generate:{},parser:{},types:{}},listing:{listings:{},checkListingIsPreload:{},checkListingShouldLoadMore:{},constants:{},parser:{},types:{}},lineenv:{lineEnv:T,lineNativeReady:a,lineNativeReadyData:{},LIFFReady:a,LIFFReadyData:{mid:c,appVersion:c,userId:c,displayName:c,pictureUrl:c,statusMessage:c},webLIFFReady:a,webLIFFReadyData:{mid:c,userId:c,displayName:c,pictureUrl:c,statusMessage:c},accessToken:c,types:{}},interactive:{interactives:{},sendingLike:a,displayShareModal:a,types:{}},article:{articles:{},contents:{},contentsHashMap:{},getDisplayLiteStatus:{},moveContentToTop:{},parseArticleContent:{},parseArticleContentByWorker:{},parseArticleUrl:{},sanitizeArticleContent:{},toPageType:{},types:{}},ad:{targetingData:{},types:{}},i18n:{routeParams:{}},route:{name:\"countries-v2-movie-urlPath-tabPath\",path:U,hash:c,query:{},params:{countries:ak,urlPath:j,tabPath:f},fullPath:U,meta:{},from:{name:p,path:aQ,hash:c,query:{},params:{},fullPath:aQ,meta:{}}},movie:{listings:{},articles:{},mapping:{\"241853535\":D,EX5Q8vk:h},movieBooking:{articleId:h,dates:{},EZDINGParams:f},contents:{\"241853535\":{id:h,url:{hash:j},thumbnail:N,shortDescription:M,movieId:D,movieGroupId:\"03a40719cf7d4a93bd0605de55e94efc\",title:i,engTitle:av,broadcastStatus:\"IN_THEATERS\",certificate:aw,releaseDate:as,rating:ar,likeCount:61,genres:ax,runtime:ay,showtimeCount:3085,directors:at,cast:au,mainTrailer:{id:aA,title:aB,publisher:t,publisherId:u,publishTimeUnix:aC,contentType:v,thumbnail:{type:d,hash:aD},url:{hash:aE},categoryId:w,media:{type:x,hash:aF,thumbnailHash:aG,profile:y,duration:aH,width:z,height:A,meta:{SOURCE_LINK_TYPE:B,MOVIE_ARTICLE_HASH:j}}},bookable:b,writers:[\"寇特威默\"],production:s,synopsis:\"★《玩命關頭X》動作巨星 傑森史塔森 最強動作演出\\u003Cbr\\u003E★《怒火特攻隊》動作大導大衛艾亞重返巔峰動作鉅獻\\u003Cbr\\u003E★《重案對決》編劇打造全新神祕殺手組織「蜂刑者」\\u003Cbr\\u003E★繼《捍衛任務》《私刑教育》後，最強殺手現身大銀幕\\u003Cbr\\u003E★全美由米高梅影業以超過3500間戲院超大規模盛大發行\\u003Cbr\\u003E★與全美同步上映，IMAX、Dolby Cinema、4DX、MX4D版本震撼大銀幕\\u003Cbr\\u003E\\u003Cbr\\u003E「蜂刑者」是獨立於指揮系統外的特別組織，致力維繫蜂巢體制的健全。\\u003Cbr\\u003E​當腐壞侵蝕體制——他將不惜代價保護蜂巢，導正一切！\\u003Cbr\\u003E \\u003Cbr\\u003E　　在摯友因遭詐騙而自殺身亡後，一名過去成謎的男子克雷（傑森史塔森 飾）滿腔怒火地對詐騙集團展開激烈的復仇。然而，當人們發現克雷曾是祕密組織「蜂刑者」的成員時，復仇不再只是他的私人恩怨，更是一場動搖國本的殺戮行動……。\\u003Cbr\\u003E \\u003Cbr\\u003E更多資訊請見：\\u003Cbr\\u003E車庫娛樂官方網站：http:\\u002F\\u002Fgarageplay.tw\\u003Cbr\\u003E車庫娛樂 Facebook粉絲頁：https:\\u002F\\u002Fwww.facebook.com\\u002Fgarageplay.tw\",trailers:az,boxOffice:{TW:{title:i,movieId:D,rank:V,grossRevenue:l,weekRevenue:l,releasePeriod:l},US:{title:i,movieId:D,rank:V,grossRevenue:aR,weekRevenue:aR,releasePeriod:V}},pictures:[{type:d,hash:\"0hKjWzd809FEVqAwdUpBdrEjZVFypZbwdGDjVFcRQCDwkbdhpvVSwQXBNVTgsxTFNDJA4QQilCDAofWFJyMAUHdioCAx0YTxtAMA4BdilRASUhYRVoCj9TXz8\"},{type:d,hash:\"0hnSL1b_mLMXxxSCJtv1xOKyMeMhNCJCJ_FX5gSA9JJhwlCzZ5EXx6TzErNh4qADBRElJ2Sgs4bDcDGH5BP0V-ezE_Nx4XAzNBEUU1Sh83LicXCCp6KC84\"},{type:d,hash:\"0hfCb6wdstOWxfTyp9kVxGOwMZOgNsIypvO3loWCFOIiMuBDlGKFIzYiE_Yg4uIj9GK0I9axwOISMqFH9bBUkqXx9OLjQtAzZpBUIoWDEZLAwULThBP3N-dgo\"},{type:d,hash:\"0hrzCRofsWLVV-Kz5EsDhSAix9LjpNRz5WGh18YQAqcRkqaCN9JyZhTwRAcjUMYCN4HTFqYwRbcB4Me2JoMCZiUj5cKzcYYC9oHgw9YxBUMg4YazZTJ0wk\"},{type:d,hash:\"0hfpVK7TfTOV9rMipOpSFGCDlkOjBYXipcDwRoaxUzLz8jVyJ2HDBzRQVKYxAwVzdyCCh-aRFCZBQZYnZiJT92WCtFPz0NeTtiCxJ3aQVNJgQNciJZMlUw\"},{type:d,hash:\"0hvBnCSIf0KW1TOjp1o8dWOg9sKgJgVjpuNwx4WS07MiIYSGtpCgE9XhNvNSEibiZQHTctahB7MSImYW9aCTw6XhM7PjUhbTdpGQknWXV4PA0YWChAMwZudwY\"},{type:d,hash:\"0hxX_h2JpKJ3diETRvku1YIDBHJBhRfTR0Bid2QxwQMRcTJWF0OCVtQiFueRcqWWRaAQtgQRhhejwQQWhKLBxocCJmIRIpViZKXT4rQgxuOCwEUTxxO3Yu\"},{type:d,hash:\"0h81I3gsX2Zx50SnQGhLEYSSYcZHFHJnQdEHw2KgpLOVEvESMbF19xK1ItfFA_e2YzF1AgKA46OlUGGigjOkcoGTQ9YXs_DWYjSyhsEBo1Z0USCnwYLS1u\"},{type:d,hash:\"0hp1nKUFegLx5TMjz3IC5QSQFkLHFgXjwdNwR-Ki0zOn4Yfmw0NAFhEz1JN3sLWyAzMChoKClCclUhYmAjHT9gGRNFKlIXfiM3GjM_KD1NL1ILejQYClUm\"},{type:d,hash:\"0hQEMEN10pDmpwPB2DAydxPSJqDQVDUB1pFApfXg49FQkGcwFpFz0AcjN6GQkCaw9HEyZJXApMUyECbEFXPjFBbTBLCyY0cAJDOQcFcCBDDiYofBVsKVsH\"},{type:d,hash:\"0hexynUB_cOldEFymlXOlFABVBOTh3eylUICFrYzoXOBsiRCF9DnEpTxdOJzIfZSFTM3E1YxR_ODIcJyd6JxV9TQdrLww1en1pezN0TWJKOxsbTDxgHQE\"},{type:d,hash:\"0h1k01uRPQbkQNSH20uKIRE1EebSs-JH1HaX4_cHNJdQh8H2JBbSp7d3MseyF7IWx6eUVqQ04Jdgt4EyhzV059d01JeRxrGChtakVjcCsKeyRFCGBpbXQpXlg\"},{type:d,hash:\"0hDxOeEClzG1dyHAinx_VkAC5KGDhBcAhUFipKYwwdABsATF9-TAESTgtCQRhcWwFULBEfUDFdAxgHR11gKBoIZDIdDA8UTF1-FRESTgtgDjcDfhp6EiBcTSc\"}],commentSetting:{key:\"ARTICLE_241853535\",country:\"TW\",articleId:h,postId:h,postType:aS,hash:j},exploreLinks:[{name:i,pageLink:{pageType:g,tag:i,hash:aT},tagType:n},{name:aU,pageLink:{pageType:g,tag:aU,hash:\"b9ggLL\"},tagType:n},{name:aV,pageLink:{pageType:g,tag:aV,hash:\"0Ewl8z\"},tagType:n},{name:q,pageLink:{pageType:g,tag:q,hash:aW},tagType:n},{name:aX,pageLink:{pageType:g,tag:aX,hash:\"QjRKwD\"},tagType:n},{name:i,pageLink:{pageType:g,tag:i,hash:aT},tagType:k},{name:q,pageLink:{pageType:g,tag:q,hash:aW},tagType:k},{name:P,pageLink:{pageType:g,tag:P,hash:\"zjRmLW\"},tagType:k},{name:Q,pageLink:{pageType:g,tag:Q,hash:\"0ElzXN\"},tagType:k},{name:R,pageLink:{pageType:g,tag:R,hash:\"rDrwby\"},tagType:k},{name:O,pageLink:{pageType:g,tag:O,hash:\"GqLXmb\"},tagType:k},{name:s,pageLink:{pageType:g,tag:s,hash:\"n3bwAY\"},tagType:k}],postType:aS}},cities:[],showtimes:{},tabList:{},isLoading:a},comment:{comments:{},loading:a,contents:{}}},serverRendered:b,routePath:U,config:{DEPLOY_ENV:E,AD_TYPE:f,GTM_CONFIG:f,COMMIT_SHA:\"24466a47\",SENTRY_DSN:aY,ENABLE_LIFF_MOCK:f,CC_COOKIE_VALUE:f,LT_CSRF_COOKIE_VALUE:f,LT_UT_COOKIE_VALUE:f,LIFF_ID:f,sentry:{config:{dsn:aY,environment:E,sampleRate:.1}},CLIENT_CONFIG:{PHASE:E,HOST:{STATIC_URL:\"https:\\u002F\\u002Ftoday.line.me\",API:\"https:\\u002F\\u002Fapi.today.line.me\\u002F\",CONTENT_API:aZ,LAN:{NOTICE_UGC:\"https:\\u002F\\u002Fnotice2.line.me\\u002Fglobalnewsugc\\u002Fweb\\u002Fdocument\\u002Fnotice\",NOTICE:\"https:\\u002F\\u002Fnotice2.line.me\\u002Fglobalnews\\u002Fweb\\u002Fdocument\\u002Fnotice\",TERMS:\"https:\\u002F\\u002Fterms2.line.me\\u002Fglobalnews_terms\\u002Fsp\",PRIVACY:\"https:\\u002F\\u002Fterms.line.me\\u002Fline_rules\",DISCLAIMER:\"https:\\u002F\\u002Fterms2.line.me\\u002Fglobalnews_disclaimer\\u002Fsp\",AIRS:\"https:\\u002F\\u002Fterms2.line.me\\u002Fglobalnews_airs\\u002Fsp\"},OBS:\"https:\\u002F\\u002Fobs.line-scdn.net\",SHARE:aZ,STICKER:\"https:\\u002F\\u002Fstickershop.line-scdn.net\\u002F\",LINE_API:\"https:\\u002F\\u002Fapi.line.me\"},CHANNEL:{HOST:\"line:\\u002F\\u002Fch\\u002F\",REDIRECTURL:\"https:\\u002F\\u002Fline.me\\u002FR\\u002Fch\\u002F\"},LIFF:{HOST:\"https:\\u002F\\u002Fliff.line.me\\u002F\",SDK:\"https:\\u002F\\u002Fstatic.line-scdn.net\\u002Fliff\\u002Fedge\\u002Fversions\\u002F2.17.0\\u002Fsdk.js\",REDIRECTURL:\"https:\\u002F\\u002Fline.me\\u002FR\\u002Fapp\\u002F\"},NEWSTAB:\"line:\\u002F\\u002Fnv\\u002Fnews\",NEWSTAB_REDIRECTURL:\"https:\\u002F\\u002Fline.me\\u002FR\\u002Fnv\\u002Fnews\",NEWSTAB_LIB:\"https:\\u002F\\u002Fstatic.line-scdn.net\\u002Fline_webview_bridge_sdk\\u002F1828b171381\\u002Fjs\\u002Fbridge.js\",LINEENV_QUEUE_TIMEOUT:a,COMMENT:{LOCK_TIMEOUT:60000},SSO_CHANNEL_ID:1518712866,SSO_ISSUE_CODE_URL:\"https:\\u002F\\u002Faccess.line.me\\u002Foauth2\\u002Fv2.1\\u002Fapi\\u002Fcode\",FORGED_ONLOAD:a,KEEP:\"line:\\u002F\\u002Fnv\\u002Fkeep\",SHARE:{REDIRECTURL:\"https:\\u002F\\u002Fline.me\\u002FR\\u002Fmsg\\u002Ftext\\u002F\",HOST:\"line:\\u002F\\u002Fmsg\\u002Ftext\\u002F\",QUICK_SHARE_URL:\"line:\\u002F\\u002Fshare\",SOCIAL_PLUGIN:\"https:\\u002F\\u002Fsocial-plugins.line.me\\u002Flineit\\u002Fshare\",FB_SHARE_URL:\"https:\\u002F\\u002Fwww.facebook.com\\u002Fdialog\\u002Fshare\",KEEP_SHARE_URL:\"https:\\u002F\\u002Ftoday.line.me\\u002Fwebapi\\u002Fuser\\u002Farticle\\u002Fkeep\",TELEGRAM_SHARE_URL:\"https:\\u002F\\u002Ft.me\\u002Fshare\\u002Furl\",WHATSAPP_SHARE_URL:\"https:\\u002F\\u002Fapi.whatsapp.com\\u002Fsend\",TWITTER_SHARE_URL:\"https:\\u002F\\u002Ftwitter.com\\u002Fintent\\u002Ftweet\",CPNAME:b},TRACKING:{IDLE:500},UTILITY:{HOST:\"https:\\u002F\\u002F%provider-utility.line-website.com\",ENABLE_HACKATHON_FEATURES:a},HIDE_TITLE_BAR:a,TOPIC_PROFILE_ELLIPSIS:a_,ENABLE_WEB_WORKER:b,ENABLE_INTERACTION_HOME_BUTTON:b,ENABLE_OPEN_IN_LINE:b,RELEASE_COUNTRIES:\"TW,TH,ID,GIFTSHOP,IR,THGIFTSHOP,HK\",NEWSTAB_MAX_IDLE_TIME:1800000,ICON_120:\"icon120.png\",ICON_108:\"icon108.png\",ICON_192:\"icon192.png\",ICON_APPLE_TOUCH:\"icon180.png\",ICON_SHORTCUT:\"icon64.ico\",DEFAULT_META_IMAGE:\"mainimg.png\",OG_IMAGE_WIDTH:\"1200\",OG_IMAGE_HEIGHT:\"630\",ENABLE_CP_END:b,ENABLE_IVE:b,ENABLE_FOOTER_MENU:a,ENABLE_TRACKER_IDLE:b,LITE_ARTICLE_DISPLAY_LINE:a_,SWIPER_DELAY_TIME_DEFAULT:a$,SWIPER_DELAY_TIME_CUSTOM:a$,OAPD_COMPLETELY_ROLLOUT:a,ENABLE_AGREEMENT_PAGE:b,ERROR:{ENABLE_REDIRECT_BUTTON:b},HOMESCREEN_SHORTCUT:{HOST_URL:\"https:\\u002F\\u002Fline.me\\u002Fchannel\\u002Fshortcut\",SCHEME_PATH:\"nv\\u002Fnews\"},VIDEO:{MAX_LOGS:200,EXPIRE_TIME_MILLISECONDS:2592000000,GLN_PLAYER:{AE_EMBED_ON:b},INITIAL_MUTED:b},ENABLE_DYNAMIC_IMAGE_SERVICE:{MERIT:b,TAROT:a},AD:{VIDEO_CMS_ID:\"2495936\",NO_AD_ON_IMMATURE:a,BACKDROP_TEMPLATES:[12192901,12193768]},ENABLE_DRAMA_END:b,GA4:{ID:\"G-6KMND19FSE\",TOGGLE:a,TRACK_IMP:b,CONCURRENCY:S,AWAIT_FINISH:b,SENDBEACON:a,WEB_VITALS:b},SEO:{MAX_LENGTH_DESCRIPTION:70},GOOGLE_SITE_VERIFICATION:\"W9cV2YrP_Os6bvNZLz9Lq4iCFqEpO9Pr_RuHFzbZDG4\",ACCOUNT_PAGE:{URL:\"line:\\u002F\\u002Fapp\\u002F1645278921-kWRPP32q\"},LOG_ENABLE_LISTING:a,SSR:{MODULE:3},LANG:\"zh_TW\",CHANNEL_ID:ba,LIFF_ID:\"1454987169-1WAXAP3K\",PLATFORM:\"LINETODAY\",GTM_ID:\"GTM-MNP6F8L\",GA:{ID:\"UA-77656633-2\",SAMPLE_RATE:10,TOGGLE:b,TRACK_IMP:b,CONCURRENCY:S,AWAIT_FINISH:b,WEB_VITALS:b},WTS:{PRODUCT_KEY:\"line-today-real\",SAMPLE_RATE:bb,TOGGLE:b,TRACK_IMP:b,CONCURRENCY:T,AWAIT_FINISH:a,PRIVATE_KEY:bc},UTS:{ID:\"line_today\",SAMPLE_RATE:bb,TOGGLE:a,TRACK_IMP:b,CONCURRENCY:T,AWAIT_FINISH:a,PRIVATE_KEY:bc,ENV:E},AMP:{IS_ON:b},ORIGIN_CHANNEL_ID:ba,FB_APPID:\"690475271128448\",FB_PAGEID:\"347432368933987\",HOME_URL:\"https:\\u002F\\u002Ftoday.line.me\\u002Ftw\",BOOKING:{EZDING_URL:\"https:\\u002F\\u002Fwww.ezding.com.tw\\u002Fpage\\u002Fbooking\\u002Findex.html\",EZDING_PARAMS:{channel:\"line\",campaign_code:\"linetoday\"},MOVIE:b},AB_TEST:{INLINE_VIDEO_MUTED:\"portal-T3\"}}},__i18n:{langs:{zh_TW:{agerestricted_description:\"本頁面內容不適合未成年者瀏覽，請問您滿18歲了嗎？\",agerestricted_no:\"不是，離開\",agerestricted_title:\"限制級內容\",agerestricted_yes:bd,\"album.source\":\"來源\",\"article.publish\":\"發布於\",\"article.update\":\"更新於\",\"badge.album\":\"圖片\",\"badge.breaking\":\"快訊\",\"badge.exclusive\":\"獨家\",\"badge.fun\":\"趣聞\",\"badge.hot\":W,\"badge.live\":\"LIVE\",\"badge.new\":be,\"badge.special\":\"特輯\",\"badge.video\":\"影音\",\"bt.agree\":\"同意\",\"bt.alloptions\":\"查看所有選項\",\"bt.allow\":\"允許\",\"bt.autopostingon\":bf,\"bt.cancel\":\"取消\",\"bt.completeSelection\":\"訂閱選擇的頻道\",\"bt.copy\":\"複製\",\"bt.copyurl\":\"複製網址\",\"bt.later\":\"關閉\",\"bt.linechatroom\":\"聊天室\",\"bt.most.controversial\":\"最多關注\",\"bt.most.popular\":W,\"bt.movie.myTicket\":\"我的電影票\",\"bt.movie.seemore\":bg,\"bt.movie.trailer\":bh,\"bt.newest\":be,\"bt.no\":\"否\",\"bt.ok\":\"確定\",\"bt.openinline\":\"以LINE開啟\",\"bt.recent\":\"最新消息\",\"bt.register\":bi,\"bt.replies.other\":\"%d則回覆\",\"bt.retry\":\"重試\",\"bt.seeResult\":\"看結果\",\"bt.seeall\":\"顯示全部\",\"bt.seemore\":bg,\"bt.seemoreArticles\":\"查看更多%s的文章\",\"bt.selectcountry\":\"選擇國家\",\"bt.selected\":\"目前設定\",\"bt.send\":bi,\"bt.shortcut.addToHomescreen\":\"於主畫面建立捷徑\",\"bt.subscribe\":\"訂閱此頻道\",\"bt.subscribed\":\"訂閱中\",\"bt.tag.end.back\":\"返回\",\"bt.vote\":\"投票\",\"bt.voteInLINE\":\"上LINE投票\",\"bt.yes\":bd,\"button.640.home\":\"前往LINE TODAY\",\"button.loadmore\":\"顯示更多\",\"button.original\":\"查看原始文章\",\"button.popup.signin\":bj,\"button.signin\":bj,\"button.signout\":\"登出\",\"cp.title\":\"頻道\",\"day.fir.shorter\":X,\"day.mon.shorter\":bk,\"day.month.full\":Y,\"day.month.simplified\":Y,\"day.sat.shorter\":bl,\"day.simplified\":Y,\"day.sun.shorter\":bm,\"day.thu.shorter\":bn,\"day.today\":\"今天\",\"day.trw\":\"明天\",\"day.tue.shorter\":bo,\"day.wed.shorter\":bp,\"day.yesterday\":\"昨天\",\"desc.search.noresult\":\"請輸入其他文字搜尋。\",\"info.allowpersonalcontent\":\"開啟此設定後，系統將為您提供更符合喜好的個人化內容及推播通知。 此設定可隨時變更。 隱私權相關詳情，請點選下方的「隱私權政策」以瞭解更多。\",\"info.browser.enablejava\":\"啟用Javascript\",\"info.browser.enablejavadsc\":\"請在瀏覽器上啟用JavaScript來瀏覽頁面中的所有內容。\",\"info.browser.scope\":\"您使用的瀏覽器版本較舊，已不再受支援。建議您更新瀏覽器版本，以獲得最佳使用體驗。\",\"info.browser.update\":\"請更新您的瀏覽器\",\"info.ccoa\":\"可透過官方帳號「LINE客服小幫手」的聊天室輸入您的問題，智能客服即會立即提供最適切的答案。\",\"info.contenttypes\":\"內容類型\",\"info.empty.desciption\":\"立即追蹤喜愛的發布者，觀看最新資訊！\",\"info.empty.title\":\"尚無內容\",\"info.endofrecords\":\"最多僅會顯示200件最近瀏覽過的項目。\",\"info.fbsharing\":\"您已在Facebook分享1篇LINE TODAY的文章。立即前往LINE TODAY查看最新新聞吧！\",\"info.freq.oncePerDay\":\"您每天都有一次投票的機會\",\"info.iosweb.comment\":bq,\"info.item.notfound\":\"很抱歉，此內容已下架，再看看其他內容吧！\",\"info.like.onetime\":\"您按讚的文章將會自動張貼至您的貼文串。若要關閉此設定，請前往「我的帳號」進行變更。\",\"info.livevideo.end\":\"直播已結束\",\"info.mandatory\":\"必選\",\"info.moreoptions\":\"更多選項\",\"info.movie.noInfo\":\"尚無資料\",\"info.nocontent\":\"瀏覽的影片及影劇節目將顯示於此。\",\"info.nocontentitle\":\"尚未瀏覽任何項目\",\"info.noti.signin\":\"必須登入才能使用此服務。您要登入嗎？\",\"info.personalcontenttitle\":\"允許推薦個人化內容\",\"info.privacypolicy\":\"瞭解我們如何保障您的個人資料安全\",\"info.searchFilm\":\"搜尋影劇節目\",\"info.selected\":\"已選擇\",\"info.shared\":\"已分享至貼文串\",\"info.suspended.user.temp\":\"由於違反LINE TODAY的留言相關政策，您的留言功能已暫時被限制。%period 提醒您，若您再次違反LINE TODAY留言相關政策，您的留言功能將被永久限制使用。\",\"info.video.cannot\":\"發生錯誤。\\n請稍後再試。\",\"info.video.geoblock\":\"此影片無法於您所在的國家或地區播放。\",\"info.video.mobileonly\":br,\"info.video.pclive\":br,\"info.video.retry\":\"無法連線至網路。\\n請確認網路連線後再試一次。\",\"info.video.update\":\"您目前的LINE版本無法觀看此影片。\\n請更新至最新版本後再試一次。\",\"info.weather.mylocation\":\"我的地點\",\"info.weather.recentsearches\":\"最近搜尋\",\"info.weather.serverError\":\"暫時無法存取天氣資料，請稍後再試。\",\"info.web.comment\":bq,\"live.btn.refresh\":\"更新\",\"live.liveStateMsg.finished\":\"本直播可能已經結束，或正在封存以供您稍後播放。\",\"live.liveStateMsg.reserved\":\"本直播尚未開始，請稍待片刻。\",\"menu.autoposting\":bf,\"menu.comment\":\"留言\",\"menu.contactccoa\":\"聯繫LINE客服小幫手\",\"menu.contactus\":\"與我們聯絡\",\"menu.disclaimer\":\"服務聲明\",\"menu.fontsizeforarticle\":\"文章字體大小\",\"menu.general\":\"一般\",\"menu.historysection\":\"使用記錄\",\"menu.information\":\"服務資訊\",\"menu.keep\":\"Keep\",\"menu.myfollowings\":bs,\"menu.myrecentlyviewed\":\"最近瀏覽\",\"menu.notice\":\"最新資訊\",\"menu.ordermanagement\":\"訂單管理\",\"menu.privacy\":\"隱私權政策\",\"menu.privacysettings\":\"隱私權設定\",\"menu.terms\":\"服務條款\",\"menu.views\":W,\"month.apr.full\":bt,\"month.apr.shorter\":bt,\"month.aug.full\":bu,\"month.aug.shorter\":bu,\"month.dec.full\":bv,\"month.dec.shorter\":bv,\"month.feb.full\":bw,\"month.feb.shorter\":bw,\"month.jan.full\":bx,\"month.jan.shorter\":bx,\"month.jul.full\":by,\"month.jul.shorter\":by,\"month.jun.full\":bz,\"month.jun.shorter\":bz,\"month.mar.full\":bA,\"month.mar.shorter\":bA,\"month.may.full\":bB,\"month.may.shorter\":bB,\"month.nov.full\":bC,\"month.nov.shorter\":bC,\"month.oct.full\":bD,\"month.oct.shorter\":bD,\"month.sep.full\":bE,\"month.sep.shorter\":bE,nodatayet:bF,\"option.alltypes\":\"所有類型\",\"option.moviendrama\":\"影劇節目\",\"option.share\":bG,\"option.video\":\"影片\",pcpbuyhistory:\"我的LINE TODAY付費服務\",\"personalized.recommendation.manage\":\"管理設定\",\"personalized.recommendation.status\":\"尚未允許個人化內容。\",\"pop.added\":\"已將LINE TODAY加入好友。\",\"pop.addfriend\":\"將LINE TODAY加入好友，點選畫面即可取得最新消息。\",\"pop.autoposting.interval\":\"使用自動貼文功能，即可將喜歡的文章張貼至貼文串。當您對文章按讚時，將顯示自動張貼的彈出視窗。\",\"pop.channel.limitationOfSubscription\":\"最多可訂閱10個媒體頻道\",\"pop.nonetwork\":\"目前沒有連線至網路。請確認您的網路設定。\",\"pop.nopage\":\"找不到頁面。請確認您輸入的網址為有效。\",\"pop.pc.use\":\"您只能在手機版LINE上使用此功能。\",\"pop.temporaryerror\":\"發生暫時性的錯誤。請稍後再試。\",\"pop.weather.error.locationServicesNotEnabled\":\"無法取得您的位置資訊，請在裝置的設定中開啟定位服務。\",poweredby:\"製作者：\",\"preview.continue.watching\":\"繼續觀看\",\"ranking.views\":\"閱覽次數%d次\",\"sub.mgt.search\":\"搜尋\",\"tab.all\":\"全部\",\"tag.end.title\":\"標籤\",\"tilte.page.ranking\":\"熱門排行榜\",\"time.hour.plural\":F,\"time.hour.singular\":F,\"time.justnow\":\"剛剛\",\"time.min\":Z,\"time.month\":\"MM月DD日%2d:%02d\",\"time.movie.release.month\":\"MM月DD日\",\"time.movie.release.year\":\"YYYY年MM月DD日\",\"time.notification.day.plural\":bH,\"time.notification.day.singluar\":bH,\"time.notification.hour.plural\":F,\"time.notification.hour.singular\":F,\"time.notification.min.plural\":Z,\"time.notification.min.singular\":Z,\"time.notification.month.plural\":bI,\"time.notification.month.singluar\":bI,\"time.notification.week.plural\":bJ,\"time.notification.week.singluar\":bJ,\"time.past.day.plural\":\"過去%d天\",\"time.past.day.singular\":\"過去1天\",\"time.past.hour.plural\":\"過去%d小時\",\"time.past.hour.singular\":\"過去1小時\",\"time.twodays\":\"2天前%2d:%02d\",\"time.year\":\"YYYY年MM月DD日%2d:%02d\",\"time.yesterday\":\"昨天%2d:%02d\",\"title.ad.keepreading\":\"廣告（請繼續閱讀本文）\",\"title.article.titlebar\":\"文章\",\"title.categoryManage.shortcut\":\"類別\",\"title.fontsize\":\"變更字體大小\",\"title.movie.boxOffice\":\"票房排行\",\"title.movie.comingSoon\":\"即將上映\",\"title.movie.inCinema\":\"現正熱映\",\"title.movie.trailer\":bh,\"title.mytoday\":\"My TODAY\",\"title.number\":\"項目%d\",\"title.oapdigest.header\":\"摘要\",\"title.ranking\":\"第%d名\",\"title.related\":\"相關文章\",\"title.related.content\":\"相關的{content_type}\",\"title.relatedLinks\":\"相關連結\",\"title.search.noresult\":\"找不到符合的資料\",\"title.search.popular\":\"熱門搜尋\",\"title.service\":J,\"title.share\":bG,\"title.sponsored\":\"贊助內容\",\"title.subscribed\":bs,\"title.tagrelated\":\"與{tag}相關的{content_type}\",\"title.tagrelated.othertags\":\"與{first_tag}及其他{quantity}項相關的{content_type}\",\"title.tagrelated.tags\":\"與{first_tag}及{second_tag}相關的{content_type}\",\"toast.categoryManage.savedchange\":\"變更已儲存。\",\"toast.copy\":\"網址已複製。\",\"toast.keep\":\"已儲存至Keep。\",\"toast.numberOfMediaSubscribed\":\"您已訂閱%d個媒體頻道。\",\"toast.weather.locationServicesUnexpectedError\":\"無法取得您的位置資訊，請再試一次。\",\"today.search.desc.searchempty\":bF,\"topic.title\":\"話題\",\"trend.result.day.plural\":\"最近%d天結果\",\"trend.result.day.singular\":\"最近1天結果\",\"trend.result.hour.plural\":\"最近%d小時結果\",\"trend.result.hour.singular\":\"最近1小時結果\",\"video.status.nowplaying\":\"現正播放\",\"video.status.processing\":\"影片處理中\",\"_meta.description\":\"鎖定LINE TODAY，不怕話題跟不上，每天生活超有梗！新聞、影音與直播，各種豐富內容與貼心服務，就讓LINE TODAY陪伴您的每一天！\",\"_meta.title\":J,\"_meta.movie\":\"電影\",\"day.mon.full\":bk,\"day.tue.full\":bo,\"day.wed.full\":bp,\"day.thu.full\":bn,\"day.fri.full\":X,\"day.sat.full\":bl,\"day.sun.full\":bm,\"day.fri.shorter\":X,\"menu.airs\":\"AIRS\",\"article.like.sunsetnotification.full\":\"感謝您對按讚功能的喜愛，「將按讚的文章自動分享至貼文串」之功能，即日起將因應貼文串的改版移除。\\u003Cbr\\u002F\\u003E\\u003Cbr\\u002F\\u003E您依然可以透過按讚來表達對TODAY內容的肯定，我們也將持續精進此功能，期望提供您更好的用戶體驗。\",\"title.oapdigest.time.today\":\"今日精選\",\"title.oapdigest.time.yesterday\":\"昨日精選\",\"title.oapdigest.time.year\":\"YYYY年MM月DD日精選\",\"title.oapdigest.time.month\":\"MM月DD日精選\",\"badge.article\":\"新聞\",\"badge.adArticle\":\"情報快遞\",\"info.error.cannot.signin\":\"無法自動登入\"}}}}}(false,true,\"\",\"IMAGE\",\"TAB\",void 0,\"TAG\",\"241853535\",\"蜂刑者\",\"EX5Q8vk\",\"MANUAL\",0,\"MOVIE_TAB\",\"AUTO\",\"COMMENT\",null,\"傑森史塔森\",\"MOVIE\",\"Cedar Park Entertainment, Miramax\",\"時報資訊\",\"100622\",\"TRAILER\",100516,\"obs\",\"2\",1280,720,\"MOVIE_TRAILER\",\"DONE\",\"10425\",\"release\",\"%d小時前\",\"MOVIE_TAB_EX5Q8vk_6049d0efe1f2fc2a0c9f2dd5\",\"MOVIE_TAB_EX5Q8vk_6049d0efe1f2fc2a0c9f2ddc\",\"MOVIE_TAB_EX5Q8vk_6049d0efe1f2fc2a0c9f2de0\",\"LINE TODAY\",\"PAGE\",\"6049d0efe1f2fc2a0c9f2dcf\",\"★《玩命關頭X》動作巨星 傑森史塔森 最強動作演出 ★《怒火特攻隊》動作大導大衛艾亞重返巔峰動作鉅獻 ★《重案對決》編劇打造全新神祕殺手組織「蜂刑者」 ★繼《捍衛任務》《私刑教育》後，最強殺手現身大銀幕 ★全美由米高梅影業以超過3500間戲院超大規模盛大發行 ★與全美同步上映，IMAX、Dolby Cinema、4DX、MX4D版本震撼大銀幕  「蜂刑者」是獨立於指揮系統外的特別組織，致力維繫蜂巢體制的健全。 當腐壞侵蝕體制——他將不惜代價保護蜂巢，導正一切！   　　在摯友因遭詐騙而自殺身亡後，一名過去成謎的男子克雷（傑森史塔森 飾）滿腔怒火地對詐騙集團展開激烈的復仇。然而，當人們發現克雷曾\",{},\"大衛艾亞\",\"傑瑞米艾朗\",\"喬許哈契森\",\"蜜妮卓芙\",4,2,\"\\u002Ftw\\u002Fv2\\u002Fmovie\\u002FEX5Q8vk\",1,\"熱門\",\"星期五\",\"MM\\u002FDD\",\"%d分鐘前\",\"6049d0efe1f2fc2a0c9f2dd3\",\"MOVIE_INFO Tab\",\"MOVIE_INFO\",\"6049d0efe1f2fc2a0c9f2dd4\",\"6049d0efe1f2fc2a0c9f2dda\",\"SHOWTIME Tab\",\"SHOWTIME\",\"6049d0efe1f2fc2a0c9f2ddb\",\"6049d0efe1f2fc2a0c9f2dde\",\"COMMENT Tab\",\"6049d0efe1f2fc2a0c9f2ddf\",132,\"tw\",\"ENTITY_PROFILE\",\"INTERACTIVE\",\"TAB_CONTAINER\",\"6049d0efe1f2fc2a0c9f2dd5\",\"6049d0efe1f2fc2a0c9f2ddc\",\"6049d0efe1f2fc2a0c9f2de0\",{},1704988800000,Array(1),Array(5),\"The Beekeeper\",\"PARENTAL_GUIDANCE_15\",Array(2),105,Array(3),\"243156591\",\"蜂刑者 導演狂讚傑森史塔森「他真的有夠狂！」\",1705195333000,\"0hPg9QIHRGD0gEKByLnspwH1V-DCc3RBxLYB5efHopGihQZA5LQSkcfldhFwZfYBRMc04AfFRADS1cGBJlZypIUkdUUwZfHEh2OwsLUiJpDgRbcwl_XT4\",\"LXLP7D0\",\"0hQ4jXnWwHDhtXIR3fGxlxTG93AmpkRxQSdUYVLXYnVHkvDUsfYxJdeHZ2VTdyRR0fd08RLSAiBX9_GBxLYg\",\"0hK3DLjbC_FBx5NQff485rSytjF3NKWQcfHQNFKAc0A0cIDRcYIDgbEjlCF34IYlIxGi9TKgNFSVcLZVshNzhbGzlCEVMfXBcfMydYBSlKFEcfdQ8aIFId\",91024,\"ENTITY_MOVIE_INFO\",\"ENTITY_EXPLORE_LINK\",\"ENTITY_TRAILER\",\"ENTITY_MOVIE_POST\",\"ENTITY_CP_RELATED\",\"Header\",\"TRENDING_COMMENT\",\"MOVIE_SHOWTIME\",\"\\u002F\",16789000,\"Movie\",\"npBW9Q\",\"克雷\",\"殺手\",\"5BOP2D\",\"詐騙集團\",\"https:\\u002F\\u002F58efe2e207dc408facafe826ead6552c@sentry-uit.line-apps.com\\u002F58\",\"https:\\u002F\\u002Ftoday.line.me\\u002F\",5,3000,\"1454987169\",100,\"XmTxv7Ea8HP2Pwk0sKJ1Mw4Ty6AJ2gMH\",\"是\",\"最新\",\"啟用自動貼文功能\",\"查看更多\",\"預告片\",\"傳送\",\"登入\",\"星期一\",\"星期六\",\"星期日\",\"星期四\",\"星期二\",\"星期三\",\"您可以在手機版LINE上對這篇文章留言。\",\"請至手機版LINE中觀看此影片。\",\"追蹤中\",\"4月\",\"8月\",\"12月\",\"2月\",\"1月\",\"7月\",\"6月\",\"3月\",\"5月\",\"11月\",\"10月\",\"9月\",\"尚無記錄。\",\"分享\",\"%d天前\",\"%d個月前\",\"%d週前\"));</script><script defer=\"\" src=\"https://today.line.me/dist/24466a47/runtime.24466a47.js\"></script><script defer=\"\" src=\"https://today.line.me/dist/24466a47/pages/_countries/v2/movie/_urlPath/_tabPath.24466a47.js\"></script><script defer=\"\" src=\"https://today.line.me/dist/24466a47/node_modules/0f05fe6f.24466a47.js\"></script><script defer=\"\" src=\"https://today.line.me/dist/24466a47/commons/3c44d397.24466a47.js\"></script><script defer=\"\" src=\"https://today.line.me/dist/24466a47/commons/01dcf096.24466a47.js\"></script><script defer=\"\" src=\"https://today.line.me/dist/24466a47/entityProfile.24466a47.js\"></script><script defer=\"\" src=\"https://today.line.me/dist/24466a47/node_modules/549d45e4.24466a47.js\"></script><script defer=\"\" src=\"https://today.line.me/dist/24466a47/node_modules/c1452b8c.24466a47.js\"></script><script defer=\"\" src=\"https://today.line.me/dist/24466a47/commons/08c7ca37.24466a47.js\"></script><script defer=\"\" src=\"https://today.line.me/dist/24466a47/332.24466a47.js\"></script><script defer=\"\" src=\"https://today.line.me/dist/24466a47/32.24466a47.js\"></script><script defer=\"\" src=\"https://today.line.me/dist/24466a47/floatingBar.24466a47.js\"></script><script defer=\"\" src=\"https://today.line.me/dist/24466a47/tabContainer.24466a47.js\"></script><script defer=\"\" src=\"https://today.line.me/dist/24466a47/commons/26c6dd6a.24466a47.js\"></script><script defer=\"\" src=\"https://today.line.me/dist/24466a47/commons/369cabf0.24466a47.js\"></script><script defer=\"\" src=\"https://today.line.me/dist/24466a47/commons/61e8a650.24466a47.js\"></script><script defer=\"\" src=\"https://today.line.me/dist/24466a47/movie.24466a47.js\"></script><script defer=\"\" src=\"https://today.line.me/dist/24466a47/entityExploreLinks.24466a47.js\"></script><script defer=\"\" src=\"https://today.line.me/dist/24466a47/article.24466a47.js\"></script><script defer=\"\" src=\"https://today.line.me/dist/24466a47/commons/article~fortune.24466a47.js\"></script><script defer=\"\" src=\"https://today.line.me/dist/24466a47/GlnFooter.24466a47.js\"></script><script defer=\"\" src=\"https://today.line.me/dist/24466a47/node_modules/commons.24466a47.js\"></script><script defer=\"\" src=\"https://today.line.me/dist/24466a47/app.24466a47.js\"></script>\n",
       "</body>\n",
       "</html>"
      ]
     },
     "execution_count": 77,
     "metadata": {},
     "output_type": "execute_result"
    }
   ],
   "source": [
    "ResSubPage = ''\n",
    "if DataSet[0][3] != '':\n",
    "  ResSubPage = zach.getSoup(\"https://today.line.me/tw/v2/movie/EX5Q8vk\")\n",
    "\n",
    "ResSubPage"
   ]
  },
  {
   "cell_type": "markdown",
   "metadata": {},
   "source": [
    "### Quest--Get Subpage Info : Image Url and movie info"
   ]
  },
  {
   "cell_type": "code",
   "execution_count": null,
   "metadata": {},
   "outputs": [],
   "source": []
  },
  {
   "cell_type": "markdown",
   "metadata": {},
   "source": [
    "### Quest--Get Image Info from http://app2.atmovies.com.tw/boxoffice/twweekend/ (ImageUrl and Movie Name) and store it"
   ]
  },
  {
   "cell_type": "code",
   "execution_count": null,
   "metadata": {},
   "outputs": [],
   "source": []
  }
 ],
 "metadata": {
  "kernelspec": {
   "display_name": "base",
   "language": "python",
   "name": "python3"
  },
  "language_info": {
   "codemirror_mode": {
    "name": "ipython",
    "version": 3
   },
   "file_extension": ".py",
   "mimetype": "text/x-python",
   "name": "python",
   "nbconvert_exporter": "python",
   "pygments_lexer": "ipython3",
   "version": "3.11.5"
  },
  "orig_nbformat": 4
 },
 "nbformat": 4,
 "nbformat_minor": 2
}
