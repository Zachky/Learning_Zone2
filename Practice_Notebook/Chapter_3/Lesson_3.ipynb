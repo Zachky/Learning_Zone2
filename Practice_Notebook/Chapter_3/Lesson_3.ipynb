{
 "cells": [
  {
   "cell_type": "markdown",
   "metadata": {},
   "source": [
    "# Web Scraping Practice"
   ]
  },
  {
   "cell_type": "code",
   "execution_count": 1,
   "metadata": {},
   "outputs": [],
   "source": [
    "import Zach_Library as zach\n",
    "import pandas as pd\n",
    "from datetime import datetime as dt"
   ]
  },
  {
   "cell_type": "markdown",
   "metadata": {},
   "source": [
    "## Get Movie Information from Line"
   ]
  },
  {
   "cell_type": "code",
   "execution_count": null,
   "metadata": {},
   "outputs": [],
   "source": [
    "ResPage = zach.getSoup(\"https://today.line.me/tw/v2/movie/chart/trending\")\n",
    "ResPage"
   ]
  },
  {
   "cell_type": "markdown",
   "metadata": {},
   "source": [
    "### Function: Get Introduction from sub page"
   ]
  },
  {
   "cell_type": "code",
   "execution_count": 43,
   "metadata": {},
   "outputs": [],
   "source": [
    "def GetMovieInformation(Movie_Url):\n",
    "    try:\n",
    "        ResSubPage = zach.getSoup(Movie_Url)\n",
    "        tempRes = ResSubPage.find('div', class_='movieInfo-container').find('p')\n",
    "        strMovieInfo = tempRes.text.replace('\\n','').replace('\\u3000','').strip()\n",
    "\n",
    "        return strMovieInfo\n",
    "    except Exception as e:\n",
    "        return e "
   ]
  },
  {
   "cell_type": "markdown",
   "metadata": {},
   "source": [
    "### 1. Get Movie information"
   ]
  },
  {
   "cell_type": "markdown",
   "metadata": {},
   "source": [
    "> Movie Detail in TempMovieList"
   ]
  },
  {
   "cell_type": "code",
   "execution_count": 3,
   "metadata": {},
   "outputs": [
    {
     "data": {
      "text/plain": [
       "20"
      ]
     },
     "execution_count": 3,
     "metadata": {},
     "output_type": "execute_result"
    }
   ],
   "source": [
    "TempMovieList = ResPage.find_all('div', class_=\"detailListItem-info\")\n",
    "len(TempMovieList)"
   ]
  },
  {
   "cell_type": "markdown",
   "metadata": {},
   "source": [
    ">Movie Image Detail in TempMovieListImage"
   ]
  },
  {
   "cell_type": "code",
   "execution_count": 4,
   "metadata": {},
   "outputs": [
    {
     "data": {
      "text/plain": [
       "20"
      ]
     },
     "execution_count": 4,
     "metadata": {},
     "output_type": "execute_result"
    }
   ],
   "source": [
    "TempMovieListImage = ResPage.find_all('div', class_=\"detailListItem-images\")\n",
    "len(TempMovieListImage)"
   ]
  },
  {
   "cell_type": "markdown",
   "metadata": {},
   "source": [
    "> Get Info from first movie"
   ]
  },
  {
   "cell_type": "code",
   "execution_count": 44,
   "metadata": {},
   "outputs": [],
   "source": [
    "Name = ''\n",
    "Eng_Name = ''\n",
    "Url = ''\n",
    "Url_MovieInfo = ''\n",
    "UserRate = ''\n",
    "Time = ''\n",
    "MatureRate = ''\n",
    "Introduction = ''"
   ]
  },
  {
   "cell_type": "markdown",
   "metadata": {},
   "source": [
    "> Get Movie Name and Eng Name"
   ]
  },
  {
   "cell_type": "code",
   "execution_count": 45,
   "metadata": {},
   "outputs": [
    {
     "name": "stdout",
     "output_type": "stream",
     "text": [
      "蜂刑者\tThe Beekeeper\t"
     ]
    }
   ],
   "source": [
    "\n",
    "NameList = TempMovieList[0].find('div', class_='detailListItem-details').find_all('div',class_='detailListItem-titles')\n",
    "\n",
    "Name = NameList[0].find('h2').text.replace('\\n','').strip();print(Name, end = '\\t')\n",
    "Eng_Name = NameList[0].find('h3').text.replace('\\n','').strip();print(Eng_Name, end = '\\t')\n"
   ]
  },
  {
   "cell_type": "markdown",
   "metadata": {},
   "source": [
    "> Get Preview Video Link"
   ]
  },
  {
   "cell_type": "code",
   "execution_count": 7,
   "metadata": {},
   "outputs": [
    {
     "data": {
      "text/plain": [
       "'https://today.line.me/tw/v2/article/LXLP7D0'"
      ]
     },
     "execution_count": 7,
     "metadata": {},
     "output_type": "execute_result"
    }
   ],
   "source": [
    "Url = f\"https://today.line.me{TempMovieListImage[0].find('a')['href']}\"\n",
    "Url"
   ]
  },
  {
   "cell_type": "markdown",
   "metadata": {},
   "source": [
    "> Get Introduction Information Page Link "
   ]
  },
  {
   "cell_type": "code",
   "execution_count": 10,
   "metadata": {},
   "outputs": [
    {
     "data": {
      "text/plain": [
       "'https://today.line.me/tw/v2/movie/EX5Q8vk'"
      ]
     },
     "execution_count": 10,
     "metadata": {},
     "output_type": "execute_result"
    }
   ],
   "source": [
    "\n",
    "List_UrlPiece = TempMovieList[0].find('a')['href'].split('/')\n",
    "Url_MovieInfo = f\"https://today.line.me/tw/v2/movie/{List_UrlPiece[-1]}\"\n",
    "Url_MovieInfo\n"
   ]
  },
  {
   "cell_type": "markdown",
   "metadata": {},
   "source": [
    "> Get UserRate"
   ]
  },
  {
   "cell_type": "code",
   "execution_count": 11,
   "metadata": {},
   "outputs": [
    {
     "data": {
      "text/plain": [
       "'9.8'"
      ]
     },
     "execution_count": 11,
     "metadata": {},
     "output_type": "execute_result"
    }
   ],
   "source": [
    "UserRate = TempMovieList[0].find('div', class_='detailListItem-details').find('div', class_='iconInfo').find('span', class_='iconInfo-text')\n",
    "UserRate = UserRate.text.replace('\\n','').strip()\n",
    "UserRate"
   ]
  },
  {
   "cell_type": "markdown",
   "metadata": {},
   "source": [
    "> Get Length Time"
   ]
  },
  {
   "cell_type": "code",
   "execution_count": 12,
   "metadata": {},
   "outputs": [
    {
     "data": {
      "text/plain": [
       "'• 1小時45分 • 上映1週'"
      ]
     },
     "execution_count": 12,
     "metadata": {},
     "output_type": "execute_result"
    }
   ],
   "source": [
    "Time = TempMovieList[0].find('div', class_='detailListItem-details').find('div', class_='detailListItem-status').find('span', class_='text--ellipsis1')\n",
    "Time = Time.text.replace('\\n','').strip()\n",
    "Time"
   ]
  },
  {
   "cell_type": "markdown",
   "metadata": {},
   "source": [
    "> Get Mature Rate"
   ]
  },
  {
   "cell_type": "code",
   "execution_count": 13,
   "metadata": {},
   "outputs": [
    {
     "data": {
      "text/plain": [
       "'輔15級'"
      ]
     },
     "execution_count": 13,
     "metadata": {},
     "output_type": "execute_result"
    }
   ],
   "source": [
    "MatureRate = TempMovieList[0].find('div', class_='detailListItem-details').find('div',class_='detailListItem-category').find('span', class_='glnBadge-text')\n",
    "MatureRate = MatureRate.text.replace('\\n','').strip()\n",
    "MatureRate"
   ]
  },
  {
   "cell_type": "markdown",
   "metadata": {},
   "source": [
    "### 2. Build up Column Data List"
   ]
  },
  {
   "cell_type": "code",
   "execution_count": 49,
   "metadata": {},
   "outputs": [],
   "source": [
    "ColumnList = [\"片名\",\"英文名\",\"預告片Url\",\"內容介紹Url\",\"觀眾評分\",\"片長\",\"級數\",\"影片介紹\"]"
   ]
  },
  {
   "cell_type": "markdown",
   "metadata": {},
   "source": [
    "### 3. Traversal the entire page to get all movie info"
   ]
  },
  {
   "cell_type": "code",
   "execution_count": 47,
   "metadata": {},
   "outputs": [
    {
     "name": "stdout",
     "output_type": "stream",
     "text": [
      "蜂刑者\n",
      "露梁：死亡之海\n",
      "水行俠 失落王國\n",
      "魔法公主(數位紀念版)\n",
      "金手指\n",
      "怒潮\n",
      "鬼媽媽的假期\n",
      "人犬\n",
      "旺卡\n",
      "富都青年\n",
      "叛諜檔案\n",
      "星願\n",
      "BIG\n",
      "搖滾吧！中二樂團\n",
      "細野晴臣：再會美國\n",
      "窗邊的小荳荳\n",
      "法拉利\n",
      "電影版 淘氣小企鵝啵樂樂 超級明星大冒險(國語版)\n",
      "12.12：首爾之春\n",
      "爆裂點\n"
     ]
    },
    {
     "data": {
      "text/plain": [
       "[['蜂刑者',\n",
       "  'The Beekeeper',\n",
       "  'https://today.line.me/tw/v2/article/LXLP7D0',\n",
       "  'https://today.line.me/tw/v2/movie/EX5Q8vk',\n",
       "  '9.8',\n",
       "  '• 1小時45分 • 上映1週',\n",
       "  '輔15級',\n",
       "  '★《玩命關頭X》動作巨星 傑森史塔森 最強動作演出 ★《怒火特攻隊》動作大導大衛艾亞重返巔峰動作鉅獻 ★《重案對決》編劇打造全新神祕殺手組織「蜂刑者」 ★繼《捍衛任務》《私刑教育》後，最強殺手現身大銀幕 ★全美由米高梅影業以超過3500間戲院超大規模盛大發行 ★與全美同步上映，IMAX、Dolby Cinema、4DX、MX4D版本震撼大銀幕  「蜂刑者」是獨立於指揮系統外的特別組織，致力維繫蜂巢體制的健全。 當腐壞侵蝕體制——他將不惜代價保護蜂巢，導正一切！   在摯友因遭詐騙而自殺身亡後，一名過去成謎的男子克雷（傑森史塔森 飾）滿腔怒火地對詐騙集團展開激烈的復仇。然而，當人們發現克雷曾'],\n",
       " ['露梁：死亡之海',\n",
       "  'Noryang：Deadly Sea',\n",
       "  'https://today.line.me/tw/v2/article/5y5GlmK',\n",
       "  'https://today.line.me/tw/v2/movie/9m57J2r',\n",
       "  '9.9',\n",
       "  '• 1小時45分 • 上映1週',\n",
       "  '輔15級',\n",
       "  '★ 空降韓國票房冠軍！ ★《與神同行》發行團隊年度戰爭動作鉅獻 ★《韓山島海戰》《鳴梁：怒海交鋒》導演金漢珉執導 ★ 青龍影帝金倫奭接棒崔岷植、朴海日，扮演李舜臣將軍決一死戰！ ★《今生也請多指教》安普賢熱血共演！ ★《德魯納酒店》呂珍九X《地下菁英2》李帝勳驚喜演出！ ★ 繼韓國影史票房TOP1《鳴梁：怒海交鋒》、《韓山島海戰》後，本作為「李舜臣將軍三部曲」精彩最終章，將畫下震撼句點！ ★ 金漢珉導演率領《鳴梁：怒海交鋒》原班團隊斥資超過300億韓元打造磅礴最終章！ ★ 熱血沸騰海戰場景高達100分鐘更勝前作，費時6個月拍攝而成！ ★ 李舜臣將軍人生中的最後一場戰役震撼登場！  壬辰倭亂爆發'],\n",
       " ['水行俠 失落王國',\n",
       "  'Aquaman and the Lost Kingdom',\n",
       "  'https://today.line.me/tw/v2/article/1DOyzGm',\n",
       "  'https://today.line.me/tw/v2/movie/gz62WX2',\n",
       "  '8.5',\n",
       "  '• 1小時45分 • 上映1週',\n",
       "  '輔15級',\n",
       "  '在【水行俠 失落王國】中，先前未能打敗水行俠的黑蝠鱝依然矢志為死去的父親報仇，他將不計代價只求徹底擊敗水行俠；而這次黑蝠鱝掌握能釋放古老邪惡力量的遠古神器黑色三叉戟，變得比以往更加強大。為了對抗黑蝠鱝，水行俠必須向前亞特蘭提斯之王，如今被囚禁的弟弟歐姆求助，兩人成為意想不到的盟友；兄弟倆必須克服己見，以保衛王國、拯救水行俠的家人和全世界免於毀滅。   原班卡司全數在【水行俠 失落王國】中回歸，包含：由傑森摩莫亞飾演的亞瑟庫里／水行俠，如今必須在亞特蘭提斯之王和新手父親兩份職責之間取得平衡；派翠克威爾森飾演歐姆，身為水行俠同母異父的弟弟與宿敵，這次被迫與哥哥結盟；安柏赫德飾演梅拉，如今是亞特蘭提'],\n",
       " ['魔法公主(數位紀念版)',\n",
       "  'Princess Mononoke',\n",
       "  'https://today.line.me/tw/v2/article/kEXpk0q',\n",
       "  'https://today.line.me/tw/v2/movie/LXL7q80',\n",
       "  '10',\n",
       "  '• 1小時45分 • 上映1週',\n",
       "  '輔15級',\n",
       "  '★ 宮﨑駿經典不敗動畫睽違27年重返大銀幕 ★ 日本票房202億締造吉卜力新里程碑，勇奪日本影史票房冠軍 ★ 首部與美國華特迪士尼合作進軍國際市場的吉卜力電影 ★ 耗資25億日圓製作費，耗時3年手繪14萬多幀畫稿 ★ 電影配樂大師久石讓傾力打造，感受身臨其境的沉浸式聽覺享受  唯有和解才能共存，我們一起活下去  中了致命詛咒的王子「阿席達卡」離開家鄉尋找解方，卻被捲入森林神獸與礦城人民之間的生存搏鬥，旅途中邂逅由山犬神族扶養成人的魔法公主「小桑」，小桑決心守護森林與人類對抗到底，戰役一觸即發，而阿席達卡則試著找出能夠化解大自然與人類紛爭、和平共處的方法。  甲上娛樂臉書: https://ww'],\n",
       " ['金手指',\n",
       "  'The Goldfinger',\n",
       "  'https://today.line.me/tw/v2/article/MLvBy8j',\n",
       "  'https://today.line.me/tw/v2/movie/Vxmo0eB',\n",
       "  '8.9',\n",
       "  '• 1小時45分 • 上映1週',\n",
       "  '輔15級',\n",
       "  '⭐兩大影帝 梁朝偉 X 劉德華 大銀幕正面交鋒❗ ⭐空前絕後《無間道》夢幻陣容二十年後再現❗ ⭐金獎大導 莊文強 全新金融犯罪片❗ ⭐斥資３億５千萬港幣 重金打造金錢帝國❗ ⭐世紀絕版組合，改編自真實震驚全球 百億瞞天大騙局❗ ⭐紙醉金迷如 華爾街之狼，爾虞我詐似無間道❗  「紙醉金迷如華爾街，爾虞我詐似無間道」   80年代，香港上市公司加利集團幾年間從崛起到倒閉清算，主席程一言（梁朝偉 飾演）從股民偶像變成過街老鼠，廉政公署的高級調查主任劉啟源（劉德華 飾演）對該案展開跨國追查，揭開金融黃金時代商業舞台黑暗一幕。  龍祥電影粉絲專頁 https://www.facebook.com/lsm'],\n",
       " ['怒潮',\n",
       "  'Wolf Hiding',\n",
       "  'https://today.line.me/tw/v2/article/LXLoayV',\n",
       "  'https://today.line.me/tw/v2/movie/x2MLOJn',\n",
       "  '9.6',\n",
       "  '• 1小時45分 • 上映1週',\n",
       "  '輔15級',\n",
       "  '★王大陸、阮經天，台灣兩大人氣男星首度大銀幕同台演出 ★《明日戰記》金馬、金像雙料影帝張家輝再創演技新巔峰 ★《五億探長雷洛傳》大反派「顏同」香港資深男星秦沛加盟演出 ★《朋友》《卑劣的街頭》動作指導申宰明打造韓式暴力美學  多年以來，暗中從事人體交易等犯罪活動的洪泰集團，被神秘人陳安（張家輝 飾）的突然出現攪動得惶恐不安。警察麥朗汶（阮經天 飾）、洪泰手下馬文康（王大陸 飾）受各自上司指令展開調查，一時間多方勢力交織其中，新舊秩序洶涌鬥狠，鹿死誰手尚不可知，一場打破黑暗秩序的角逐一觸即發。  車庫娛樂臉書: https://www.facebook.com/garageplay.tw  電影'],\n",
       " ['鬼媽媽的假期',\n",
       "  'Our Season',\n",
       "  'https://today.line.me/tw/v2/article/9m57N3K',\n",
       "  'https://today.line.me/tw/v2/movie/oqrmNlq',\n",
       "  '10',\n",
       "  '• 1小時45分 • 上映1週',\n",
       "  '輔15級',\n",
       "  '★ 韓國觀眾9分超高分好評口碑盛讚！ ★ 《82年生的金智英》編劇X《完美搭檔》導演X《七罪追緝令》製作人細膩打造感人之作 ★ 「韓國國民媽媽」金海淑X《海岸村恰恰恰》申敏兒共演催淚動人鉅獻 ★ 重返人世的母親，與女兒共度的最後假期！  過世第三年的福子（金海淑 飾）獲得3天的假期，與負責說明規則的新人導覽員（姜基榮 飾）一同重返人間。福子一想到能見到在美國大學名校擔任教授的女兒真珠（申敏兒 飾），就感到開心不已。但沒想到她卻看到真珠回到老家，開始經營家常菜餐館。看不見母親、也聽不到母親聲音的真珠，不曉得母親福子為自己感到心急如焚，還和朋友美珍（黃寶羅 飾）一起尋找母親的食譜，當看到熟悉的'],\n",
       " ['人犬',\n",
       "  'Dogman',\n",
       "  'https://today.line.me/tw/v2/article/605L9Va',\n",
       "  'https://today.line.me/tw/v2/movie/Qw3O9Qg',\n",
       "  '9.6',\n",
       "  '• 1小時45分 • 上映1週',\n",
       "  '輔15級',\n",
       "  '道格拉斯(卡賴伯蘭里瓊斯 飾演)他的扭曲人格來自於小時候的被虐陰影，因為他愛狗勝過自己的家人，讓他備受折磨。但是狗狗也成為他人生的慰藉，只有狗的陪伴，才讓他能夠在這個世界上存活下來。  當他與全世界為敵對戰時，他與狗狗一起捍衛生命！  傳影互動ifilm臉書: https://www.facebook.com/ifilm.tw'],\n",
       " ['旺卡',\n",
       "  'Wonka',\n",
       "  'https://today.line.me/tw/v2/article/MLv1JQy',\n",
       "  'https://today.line.me/tw/v2/movie/Ggy8pDy',\n",
       "  '9.2',\n",
       "  '• 1小時45分 • 上映1週',\n",
       "  '輔15級',\n",
       "  '描述一個不可思議的故事，看著全世界最偉大的發明家、魔術師和巧克力製造商，是如何變成現今眾所周知且備受喜愛的威利旺卡。   華納兄弟臉書: https://www.facebook.com/WarnerBrosTW'],\n",
       " ['富都青年',\n",
       "  'Abang Adik',\n",
       "  'https://today.line.me/tw/v2/article/nXmL6BL',\n",
       "  'https://today.line.me/tw/v2/movie/NvYW2M8',\n",
       "  '8.9',\n",
       "  '• 1小時45分 • 上映1週',\n",
       "  '輔15級',\n",
       "  '★金馬影后李心潔監製、王禮霖執導首部長片 ★《富都青年》橫掃國際9項大獎、吳慷仁奪FIRST青年電影展影帝寶座！ ★台北電影獎影帝吳慷仁聯手馬來西亞男星陳澤耀同台飆戲！ ★殿堂級名導楊德昌、侯孝賢、蔡明亮、王家衛御用音效大師杜篤之操刀！ ★入圍第60屆金馬獎7項大獎、金馬影展觀眾票選排行榜持續蟬聯冠軍！  沒有公民身份證的阿邦（吳慷仁飾）和阿迪（陳澤耀飾），在混雜外勞聚居的富都老社區裡苟且偷生。他們無法享有一般國民福利，無法申請護照，連銀行戶頭也開不了。哥哥阿邦天生啞巴，任勞任怨也認命，只求一份安定生活，弟弟阿迪則不甘向命運低頭，從而違法販賣假證件，他一心只想賺到錢就帶著哥哥離開這個厭惡的'],\n",
       " ['叛諜檔案',\n",
       "  'The Bricklayer',\n",
       "  'https://today.line.me/tw/v2/article/aGvQJqn',\n",
       "  'https://today.line.me/tw/v2/movie/pej37o6',\n",
       "  '9.4',\n",
       "  '• 1小時45分 • 上映1週',\n",
       "  '輔15級',\n",
       "  '★《全面攻佔》傑瑞德巴特勒 親自傾力監製。 ★《全面攻佔》原班億萬團隊打造全新動作篇章！ ★《全面攻佔：倒數救援》亞倫艾克哈特退去總統職位，化身硬漢特務，火爆登場！ ★改編自暢銷作家-諾亞博伊德的同名神作，書評讚譽精彩刺激超越「神隱任務-傑克李奇」 ★CIA美國中情局慘遭構陷，創局以來最大危機！  犯罪組織殺死一名揭露中情局事件的小報記者，並向中央情報局索要100萬美元，否則將會有人持續死亡，中情局不以為意，僅派特務攜帶沒現金的行李袋前往，不料遭到識破並被殺害。犯罪組織進而謀殺一位參議員，該參議員曾大肆批評中央情報局辦事不利，這次索要200萬美元；特務帶著現金袋前往交易，卻在途中消失了。第三位'],\n",
       " ['星願',\n",
       "  'Wish',\n",
       "  'https://today.line.me/tw/v2/article/JP9ngkK',\n",
       "  'https://today.line.me/tw/v2/movie/9mrjewm',\n",
       "  '7.7',\n",
       "  '• 1小時45分 • 上映1週',\n",
       "  '輔15級',\n",
       "  '《冰雪奇緣》《海洋奇緣》系列團隊製作 世界上最原始且神奇的力量 對著星星許下願望 魔法就會實現   迪士尼全新動畫《星願》將帶給大家扣人心弦的音樂劇，講述「向星星許願」的起源故事。人們將有史以來第一次見證星星的魔力與許願的力量，了解到在浩瀚宇宙中，懷有真心的願望是最強大的力量。這部電影將為華特迪士尼公司 100 週年慶祝活動迎來最高潮，同時慶祝華特迪士尼動畫工作室這一百年帶來的所有精彩故事。   故事以魔法國度羅莎市王國作為舞台展開，描述艾霞因為感知到其他人都未能察覺的黑暗正威脅著她的國家，於是向星空許願。在那片星空中，一顆活力四射的星星回應了她的願望，艾霞與寵物山羊小諾就此展開一場魔法冒險之'],\n",
       " ['BIG',\n",
       "  'BIG',\n",
       "  'https://today.line.me/tw/v2/article/BE0r5yz',\n",
       "  'https://today.line.me/tw/v2/movie/qoPWL7k',\n",
       "  '9.9',\n",
       "  '• 1小時45分 • 上映1週',\n",
       "  '輔15級',\n",
       "  '魏德聖導演最新作品 816《BIG》 -不同背景的六個家庭，在兒癌病房中一起經歷的酸甜苦辣-  行動暗號「耶穌誕生」，是聖誕，是新生，更是重生。  整日鬧哄哄病房裡有在動物園長大的源源；老躲在自製機器人裡的是延；騎著車在醫院走廊冒險的羅恆；屁股長了球球只能穿裙子的努拉；厭世音樂少女珈農與情竇初開的中二少男大杉；以及老是吵架鬥嘴，到了緊要關頭卻又互相扶持的家長們。 這裡有耶穌 V.S. 地藏王、有輪椅尬車大會，有小孩說要喇舌一起睡！？苦樂共享的816病房，把握每個當下，珍惜好好說再見的機會。到底是誰把門上的816塗改成 BIG？BIG 代表什麼？全員又是為了什麼秘密任務而逃離醫院呢⋯⋯？'],\n",
       " ['搖滾吧！中二樂團',\n",
       "  'On-Gaku: Our Sound',\n",
       "  'https://today.line.me/tw/v2/article/qoP92p2',\n",
       "  'https://today.line.me/tw/v2/movie/j7JgjXz',\n",
       "  '10',\n",
       "  '• 1小時45分 • 上映1週',\n",
       "  '輔15級',\n",
       "  '★改編自演員兼漫畫家 大橋裕之 原創漫畫《音樂和漫畫》 ★導演 岩井澤健治 採用「轉描機技術」展現人物生動感 ★費時7年、超過4萬張原稿，前所未見的全手繪動畫電影誕生！ ★2019 TIAF臺中國際動畫影展 ★第43屆加拿大渥太華國際動畫影展 最佳動畫長片 ★2020安錫國際動畫影展 長篇動畫最優秀原創音樂獎   惡名昭彰的不良高中生研二，和他的好友太田、朝倉，每天過著遊手好閒的高中生活。某天，研二擅自將追捕強盜犯的樂手寄託給他的貝斯帶回家，沒想到竟讓他和太田、朝倉三人興起了組成樂團的想法…。  更多資訊請見： 「車庫娛樂」粉絲頁：https://www.facebook.com/gara'],\n",
       " ['細野晴臣：再會美國',\n",
       "  'Haruomi Hosono Sayonara America',\n",
       "  'https://today.line.me/tw/v2/article/9m56pzq',\n",
       "  'https://today.line.me/tw/v2/movie/rm91eNP',\n",
       "  '10',\n",
       "  '• 1小時45分 • 上映1週',\n",
       "  '輔15級',\n",
       "  '★日本當代樂壇巨匠 細野晴臣 首次美國個人演唱會全紀錄 ★與坂本龍一名列樂壇先驅，獨一無二的音樂家細野晴臣集大成演出 ★《紅白歌合戰》知名音樂節目執行製作人 佐渡岳利 執導 ★集結多位日本樂壇好手，共同打造精彩動人的音樂盛會 ★國際名模水原希子親妹「水原佑果」特別演出 ★一場充滿幸福氛圍與興奮情緒的演唱會，完整紀錄響徹大銀幕！ ★音樂是有趣的，是自由的，因為不需要口罩。  2019年，日本樂壇代表人物之一的音樂大師細野晴臣，迎來出道50周年紀念，並於美國紐約、洛杉磯舉辦首次單獨公演。兩年後的2021年，全世界因新冠病毒的影響遭逢巨變，在自由受到限制的世界中，潛入「曾經沒有口罩的世界」，將細野晴'],\n",
       " ['窗邊的小荳荳',\n",
       "  'Totto-Chan: The Little Girl at the Window',\n",
       "  'https://today.line.me/tw/v2/article/kEXnXnJ',\n",
       "  'https://today.line.me/tw/v2/movie/wJGlK3E',\n",
       "  '14',\n",
       "  '• 1小時45分 • 上映1週',\n",
       "  '輔15級',\n",
       "  '💎影史最吸「金」配音團隊 陳淑芳 x 莫子儀 x 方志友 x 陳慕義 x 林品彤💎 📚全球暢銷2500萬冊的日本經典兒童文學📚 ☀️開春最溫暖人心的動畫電影☀️ 經典永流傳~世代必讀小說《窗邊的小荳荳》 42年後，終於以動畫電影之姿躍上大銀幕！  今年冬天，讓活潑可愛的小荳荳喚起沉睡已久的童心💖 所有陪伴著小荳荳的各位，都一定能充滿自信地生活著！   因為過於活潑好動，才就讀小學一年級的小荳荳被退學了！ 轉學到巴氏學園的她，對新環境滿懷期待與好奇。 新學校的小林校長是個溫柔的人，他對一般人眼裡「怪怪」的小荳荳充滿耐心，總是對小荳荳說：妳真是個好孩子！而活力充沛的小荳荳，也將在新學校展'],\n",
       " ['法拉利',\n",
       "  'Ferrari',\n",
       "  'https://today.line.me/tw/v2/article/zNYkPV7',\n",
       "  'https://today.line.me/tw/v2/movie/yz3PGmB',\n",
       "  '9.1',\n",
       "  '• 1小時45分 • 上映1週',\n",
       "  '輔15級',\n",
       "  '★ 2023威尼斯影展競賽片 ★ 《奧本海默》《絕地營救》製片團隊打造年度鉅獻 ★ 《落日殺神》金獎名導麥可曼恩睽違7年最新作品 ★ 《婚姻故事》奧斯卡提名男星亞當催佛化身法拉利創始人 ★ 《分岐者系列》知名女星雪琳伍德利再創演技新巔峰 ★ 《瘋狂競賽片》奧斯卡獲獎女星潘妮洛普克魯茲加盟演出 ★ 《蜘蛛人：穿越新宇宙》奧斯卡提名作曲家打造動人樂章 ★ 《曼克》《控制》奧斯卡獲獎攝影師構築精彩畫面 ★ 《模仿遊戲》《時時刻刻》奧斯卡提名美術巧手重現歷史場景 ★幕前幕後陣容華麗，強勢問鼎2024奧斯卡！  1957年夏天，前職業車手恩佐法拉利（亞當崔佛 飾）的人生陷入空前危機，他和妻子蘿拉（潘'],\n",
       " ['電影版 淘氣小企鵝啵樂樂 超級明星大冒險(國語版)',\n",
       "  'Pororo Popstar Adventure (Chinese)',\n",
       "  'https://today.line.me/tw/v2/article/605lGwj',\n",
       "  'https://today.line.me/tw/v2/movie/0M6n1W2',\n",
       "  '10',\n",
       "  '• 1小時45分 • 上映1週',\n",
       "  '輔15級',\n",
       "  '★ 淘氣小企鵝啵樂樂》系列製作團隊打造20週年紀念奇幻冒險鉅獻！ ★ 啵樂樂和朋友們踏上了成為宇宙明星的冒險旅程！ ★ 中文配音版本全台獻映  啵樂樂和朋友們為了參加選出全宇宙最佳超級明星的音樂慶典，踏上了旅程！在藍色石行星上降落的啵樂樂和朋友們，遇上了充滿熱情的經紀人斯克特，在斯克特的幫助下，「啵樂樂樂團」站上了令人心動的預賽。另一邊，帶領著完美AI偶像團「I.ONE」的惡棍大班為了贏過斯克特，意識到「啵樂樂樂團」的超人氣，便決定展開妨礙計畫。比起得冠軍，更喜歡玩樂的「啵樂樂樂團」踏上特別的冒險旅程！  欲知更多《電影版 淘氣小企鵝啵樂樂 超級明星大冒險》資訊，請上： GaragePla'],\n",
       " ['12.12：首爾之春',\n",
       "  '12.12: The Day',\n",
       "  'https://today.line.me/tw/v2/article/1DO6ro2',\n",
       "  'https://today.line.me/tw/v2/movie/EX5Mq7Q',\n",
       "  '9.9',\n",
       "  '• 1小時45分 • 上映1週',\n",
       "  '輔15級',\n",
       "  '★ 韓國下半年票房NO.1！「雙十二政變」真實事件震撼改編！ ★ “這部電影真的瘋了！”──觀眾滿意度99%超高分好評盛讚！ ★《南山的部長們》《魔鬼對決》製作團隊斥資270億打造震撼鉅獻 ★ 黃晸玟X鄭雨盛繼《阿修羅：正邪頑殺》後再次攜手金性洙導演共創精彩巨作！ ★ 影帝李星民X《緊急迫降》朴解浚X《Moving 異能》金成畇熱情重現驚人事件！ ★《D.P：逃兵追緝令》丁海寅X《犯罪都市3》李俊赫驚喜演出！ ★ 徹底改變亞洲命運的震撼9小時！民主歷史上最糟糕的一天！  1979年10月26日發生總統遇刺事件後，在首爾迎來新氣象之際，12月12日保安司令官全斗光（黃晸玟 飾）發起政變，動員'],\n",
       " ['爆裂點',\n",
       "  'Bursting Point',\n",
       "  'https://today.line.me/tw/v2/article/ZamxpNQ',\n",
       "  'https://today.line.me/tw/v2/movie/OpGeBz6',\n",
       "  '7.0',\n",
       "  '• 1小時45分 • 上映1週',\n",
       "  '輔15級',\n",
       "  '★ 2024開年動作強片，《激戰》《破風》導演林超賢再度挑戰強力動作電影 ★ 影帝張家輝與港台男神陳偉霆、楊佑寧展開臥底大戰，敵我難分，一場掃蕩毒品的戰爭即將展開 ★ 張家輝陷入情義兩難，再展神級演技，陳偉霆展現反派演技，為求表現不擇手段  毒品調查科總督察李振邦（張家輝 飾）派出警方臥底江銘（陳偉霆 飾）滲透進入販毒集團，希望能搗破以韓洋（譚俊彦 飾）為首的犯罪組織，其間警隊與製毒集團之間不斷增添對抗的恩怨，讓事態更顯複雜。  在金三角供應毒品原料的膺秀（梁洛施 飾）在丈夫（楊祐寧 飾）被抓後，到了香港，希望能夠作最後一次行動便收山，沒想到女兒遇上意外，讓李振邦能以此要脅她與警方合作，搗破毒']]"
      ]
     },
     "execution_count": 47,
     "metadata": {},
     "output_type": "execute_result"
    }
   ],
   "source": [
    "List_index = 0 #For Url\n",
    "RowData = []\n",
    "DataSet = []\n",
    "\n",
    "for item in TempMovieList:\n",
    "\n",
    "    #Get Name \n",
    "    NameList = item.find('div', class_='detailListItem-details').find_all('div',class_='detailListItem-titles')\n",
    "\n",
    "    Name = NameList[0].find('h2').text.replace('\\n','').strip();print(Name)\n",
    "    Eng_Name = NameList[0].find('h3').text.replace('\\n','').strip()\n",
    "    \n",
    "    #Get Url_1\n",
    "    Url = f\"https://today.line.me{TempMovieListImage[List_index].find('a')['href']}\"\n",
    "\n",
    "    #Get Url_2\n",
    "    List_UrlPiece = item.find('a')['href'].split('/')\n",
    "    Url_MovieInfo = f\"https://today.line.me/tw/v2/movie/{List_UrlPiece[-1]}\"\n",
    "\n",
    "    #Get User Rate\n",
    "    UserRate = item.find('div', class_='detailListItem-details').find('div', class_='iconInfo').find('span', class_='iconInfo-text')\n",
    "    UserRate = UserRate.text.replace('\\n','').strip()\n",
    "\n",
    "    #Get Movie Length Time\n",
    "    Time = TempMovieList[0].find('div', class_='detailListItem-details').find('div', class_='detailListItem-status').find('span', class_='text--ellipsis1')\n",
    "    Time = Time.text.replace('\\n','').strip()\n",
    "\n",
    "    #Get Mature Rate\n",
    "    MatureRate = TempMovieList[0].find('div', class_='detailListItem-details').find('div',class_='detailListItem-category').find('span', class_='glnBadge-text')\n",
    "    MatureRate = MatureRate.text.replace('\\n','').strip()\n",
    "\n",
    "    #Get Movie Introduction\n",
    "    Introduction = GetMovieInformation(Url_MovieInfo)\n",
    "\n",
    "    List_index += 1\n",
    "\n",
    "    RowData.append(Name)\n",
    "    RowData.append(Eng_Name)\n",
    "    RowData.append(Url)\n",
    "    RowData.append(Url_MovieInfo)\n",
    "    RowData.append(UserRate)\n",
    "    RowData.append(Time)\n",
    "    RowData.append(MatureRate)\n",
    "    RowData.append(Introduction)\n",
    "\n",
    "    DataSet.append(RowData)\n",
    "    RowData = []\n",
    "\n",
    "DataSet\n"
   ]
  },
  {
   "cell_type": "markdown",
   "metadata": {},
   "source": [
    "### 4. Export Data as Excel with timestamp"
   ]
  },
  {
   "cell_type": "code",
   "execution_count": 50,
   "metadata": {},
   "outputs": [
    {
     "data": {
      "text/html": [
       "<div>\n",
       "<style scoped>\n",
       "    .dataframe tbody tr th:only-of-type {\n",
       "        vertical-align: middle;\n",
       "    }\n",
       "\n",
       "    .dataframe tbody tr th {\n",
       "        vertical-align: top;\n",
       "    }\n",
       "\n",
       "    .dataframe thead th {\n",
       "        text-align: right;\n",
       "    }\n",
       "</style>\n",
       "<table border=\"1\" class=\"dataframe\">\n",
       "  <thead>\n",
       "    <tr style=\"text-align: right;\">\n",
       "      <th></th>\n",
       "      <th>片名</th>\n",
       "      <th>英文名</th>\n",
       "      <th>預告片Url</th>\n",
       "      <th>內容介紹Url</th>\n",
       "      <th>觀眾評分</th>\n",
       "      <th>片長</th>\n",
       "      <th>級數</th>\n",
       "      <th>影片介紹</th>\n",
       "    </tr>\n",
       "  </thead>\n",
       "  <tbody>\n",
       "    <tr>\n",
       "      <th>0</th>\n",
       "      <td>蜂刑者</td>\n",
       "      <td>The Beekeeper</td>\n",
       "      <td>https://today.line.me/tw/v2/article/LXLP7D0</td>\n",
       "      <td>https://today.line.me/tw/v2/movie/EX5Q8vk</td>\n",
       "      <td>9.8</td>\n",
       "      <td>• 1小時45分 • 上映1週</td>\n",
       "      <td>輔15級</td>\n",
       "      <td>★《玩命關頭X》動作巨星 傑森史塔森 最強動作演出 ★《怒火特攻隊》動作大導大衛艾亞重返巔峰...</td>\n",
       "    </tr>\n",
       "    <tr>\n",
       "      <th>1</th>\n",
       "      <td>露梁：死亡之海</td>\n",
       "      <td>Noryang：Deadly Sea</td>\n",
       "      <td>https://today.line.me/tw/v2/article/5y5GlmK</td>\n",
       "      <td>https://today.line.me/tw/v2/movie/9m57J2r</td>\n",
       "      <td>9.9</td>\n",
       "      <td>• 1小時45分 • 上映1週</td>\n",
       "      <td>輔15級</td>\n",
       "      <td>★ 空降韓國票房冠軍！ ★《與神同行》發行團隊年度戰爭動作鉅獻 ★《韓山島海戰》《鳴梁：怒海...</td>\n",
       "    </tr>\n",
       "    <tr>\n",
       "      <th>2</th>\n",
       "      <td>水行俠 失落王國</td>\n",
       "      <td>Aquaman and the Lost Kingdom</td>\n",
       "      <td>https://today.line.me/tw/v2/article/1DOyzGm</td>\n",
       "      <td>https://today.line.me/tw/v2/movie/gz62WX2</td>\n",
       "      <td>8.5</td>\n",
       "      <td>• 1小時45分 • 上映1週</td>\n",
       "      <td>輔15級</td>\n",
       "      <td>在【水行俠 失落王國】中，先前未能打敗水行俠的黑蝠鱝依然矢志為死去的父親報仇，他將不計代價只...</td>\n",
       "    </tr>\n",
       "    <tr>\n",
       "      <th>3</th>\n",
       "      <td>魔法公主(數位紀念版)</td>\n",
       "      <td>Princess Mononoke</td>\n",
       "      <td>https://today.line.me/tw/v2/article/kEXpk0q</td>\n",
       "      <td>https://today.line.me/tw/v2/movie/LXL7q80</td>\n",
       "      <td>10</td>\n",
       "      <td>• 1小時45分 • 上映1週</td>\n",
       "      <td>輔15級</td>\n",
       "      <td>★ 宮﨑駿經典不敗動畫睽違27年重返大銀幕 ★ 日本票房202億締造吉卜力新里程碑，勇奪日本...</td>\n",
       "    </tr>\n",
       "    <tr>\n",
       "      <th>4</th>\n",
       "      <td>金手指</td>\n",
       "      <td>The Goldfinger</td>\n",
       "      <td>https://today.line.me/tw/v2/article/MLvBy8j</td>\n",
       "      <td>https://today.line.me/tw/v2/movie/Vxmo0eB</td>\n",
       "      <td>8.9</td>\n",
       "      <td>• 1小時45分 • 上映1週</td>\n",
       "      <td>輔15級</td>\n",
       "      <td>⭐兩大影帝 梁朝偉 X 劉德華 大銀幕正面交鋒❗ ⭐空前絕後《無間道》夢幻陣容二十年後再現❗...</td>\n",
       "    </tr>\n",
       "    <tr>\n",
       "      <th>5</th>\n",
       "      <td>怒潮</td>\n",
       "      <td>Wolf Hiding</td>\n",
       "      <td>https://today.line.me/tw/v2/article/LXLoayV</td>\n",
       "      <td>https://today.line.me/tw/v2/movie/x2MLOJn</td>\n",
       "      <td>9.6</td>\n",
       "      <td>• 1小時45分 • 上映1週</td>\n",
       "      <td>輔15級</td>\n",
       "      <td>★王大陸、阮經天，台灣兩大人氣男星首度大銀幕同台演出 ★《明日戰記》金馬、金像雙料影帝張家輝...</td>\n",
       "    </tr>\n",
       "    <tr>\n",
       "      <th>6</th>\n",
       "      <td>鬼媽媽的假期</td>\n",
       "      <td>Our Season</td>\n",
       "      <td>https://today.line.me/tw/v2/article/9m57N3K</td>\n",
       "      <td>https://today.line.me/tw/v2/movie/oqrmNlq</td>\n",
       "      <td>10</td>\n",
       "      <td>• 1小時45分 • 上映1週</td>\n",
       "      <td>輔15級</td>\n",
       "      <td>★ 韓國觀眾9分超高分好評口碑盛讚！ ★ 《82年生的金智英》編劇X《完美搭檔》導演X《七罪...</td>\n",
       "    </tr>\n",
       "    <tr>\n",
       "      <th>7</th>\n",
       "      <td>人犬</td>\n",
       "      <td>Dogman</td>\n",
       "      <td>https://today.line.me/tw/v2/article/605L9Va</td>\n",
       "      <td>https://today.line.me/tw/v2/movie/Qw3O9Qg</td>\n",
       "      <td>9.6</td>\n",
       "      <td>• 1小時45分 • 上映1週</td>\n",
       "      <td>輔15級</td>\n",
       "      <td>道格拉斯(卡賴伯蘭里瓊斯 飾演)他的扭曲人格來自於小時候的被虐陰影，因為他愛狗勝過自己的家人...</td>\n",
       "    </tr>\n",
       "    <tr>\n",
       "      <th>8</th>\n",
       "      <td>旺卡</td>\n",
       "      <td>Wonka</td>\n",
       "      <td>https://today.line.me/tw/v2/article/MLv1JQy</td>\n",
       "      <td>https://today.line.me/tw/v2/movie/Ggy8pDy</td>\n",
       "      <td>9.2</td>\n",
       "      <td>• 1小時45分 • 上映1週</td>\n",
       "      <td>輔15級</td>\n",
       "      <td>描述一個不可思議的故事，看著全世界最偉大的發明家、魔術師和巧克力製造商，是如何變成現今眾所周...</td>\n",
       "    </tr>\n",
       "    <tr>\n",
       "      <th>9</th>\n",
       "      <td>富都青年</td>\n",
       "      <td>Abang Adik</td>\n",
       "      <td>https://today.line.me/tw/v2/article/nXmL6BL</td>\n",
       "      <td>https://today.line.me/tw/v2/movie/NvYW2M8</td>\n",
       "      <td>8.9</td>\n",
       "      <td>• 1小時45分 • 上映1週</td>\n",
       "      <td>輔15級</td>\n",
       "      <td>★金馬影后李心潔監製、王禮霖執導首部長片 ★《富都青年》橫掃國際9項大獎、吳慷仁奪FIRST...</td>\n",
       "    </tr>\n",
       "    <tr>\n",
       "      <th>10</th>\n",
       "      <td>叛諜檔案</td>\n",
       "      <td>The Bricklayer</td>\n",
       "      <td>https://today.line.me/tw/v2/article/aGvQJqn</td>\n",
       "      <td>https://today.line.me/tw/v2/movie/pej37o6</td>\n",
       "      <td>9.4</td>\n",
       "      <td>• 1小時45分 • 上映1週</td>\n",
       "      <td>輔15級</td>\n",
       "      <td>★《全面攻佔》傑瑞德巴特勒 親自傾力監製。 ★《全面攻佔》原班億萬團隊打造全新動作篇章！ ★...</td>\n",
       "    </tr>\n",
       "    <tr>\n",
       "      <th>11</th>\n",
       "      <td>星願</td>\n",
       "      <td>Wish</td>\n",
       "      <td>https://today.line.me/tw/v2/article/JP9ngkK</td>\n",
       "      <td>https://today.line.me/tw/v2/movie/9mrjewm</td>\n",
       "      <td>7.7</td>\n",
       "      <td>• 1小時45分 • 上映1週</td>\n",
       "      <td>輔15級</td>\n",
       "      <td>《冰雪奇緣》《海洋奇緣》系列團隊製作 世界上最原始且神奇的力量 對著星星許下願望 魔法就會實...</td>\n",
       "    </tr>\n",
       "    <tr>\n",
       "      <th>12</th>\n",
       "      <td>BIG</td>\n",
       "      <td>BIG</td>\n",
       "      <td>https://today.line.me/tw/v2/article/BE0r5yz</td>\n",
       "      <td>https://today.line.me/tw/v2/movie/qoPWL7k</td>\n",
       "      <td>9.9</td>\n",
       "      <td>• 1小時45分 • 上映1週</td>\n",
       "      <td>輔15級</td>\n",
       "      <td>魏德聖導演最新作品 816《BIG》 -不同背景的六個家庭，在兒癌病房中一起經歷的酸甜苦辣-...</td>\n",
       "    </tr>\n",
       "    <tr>\n",
       "      <th>13</th>\n",
       "      <td>搖滾吧！中二樂團</td>\n",
       "      <td>On-Gaku: Our Sound</td>\n",
       "      <td>https://today.line.me/tw/v2/article/qoP92p2</td>\n",
       "      <td>https://today.line.me/tw/v2/movie/j7JgjXz</td>\n",
       "      <td>10</td>\n",
       "      <td>• 1小時45分 • 上映1週</td>\n",
       "      <td>輔15級</td>\n",
       "      <td>★改編自演員兼漫畫家 大橋裕之 原創漫畫《音樂和漫畫》 ★導演 岩井澤健治 採用「轉描機技術...</td>\n",
       "    </tr>\n",
       "    <tr>\n",
       "      <th>14</th>\n",
       "      <td>細野晴臣：再會美國</td>\n",
       "      <td>Haruomi Hosono Sayonara America</td>\n",
       "      <td>https://today.line.me/tw/v2/article/9m56pzq</td>\n",
       "      <td>https://today.line.me/tw/v2/movie/rm91eNP</td>\n",
       "      <td>10</td>\n",
       "      <td>• 1小時45分 • 上映1週</td>\n",
       "      <td>輔15級</td>\n",
       "      <td>★日本當代樂壇巨匠 細野晴臣 首次美國個人演唱會全紀錄 ★與坂本龍一名列樂壇先驅，獨一無二的...</td>\n",
       "    </tr>\n",
       "    <tr>\n",
       "      <th>15</th>\n",
       "      <td>窗邊的小荳荳</td>\n",
       "      <td>Totto-Chan: The Little Girl at the Window</td>\n",
       "      <td>https://today.line.me/tw/v2/article/kEXnXnJ</td>\n",
       "      <td>https://today.line.me/tw/v2/movie/wJGlK3E</td>\n",
       "      <td>14</td>\n",
       "      <td>• 1小時45分 • 上映1週</td>\n",
       "      <td>輔15級</td>\n",
       "      <td>💎影史最吸「金」配音團隊 陳淑芳 x 莫子儀 x 方志友 x 陳慕義 x 林品彤💎 📚全球暢...</td>\n",
       "    </tr>\n",
       "    <tr>\n",
       "      <th>16</th>\n",
       "      <td>法拉利</td>\n",
       "      <td>Ferrari</td>\n",
       "      <td>https://today.line.me/tw/v2/article/zNYkPV7</td>\n",
       "      <td>https://today.line.me/tw/v2/movie/yz3PGmB</td>\n",
       "      <td>9.1</td>\n",
       "      <td>• 1小時45分 • 上映1週</td>\n",
       "      <td>輔15級</td>\n",
       "      <td>★ 2023威尼斯影展競賽片 ★ 《奧本海默》《絕地營救》製片團隊打造年度鉅獻 ★ 《落日殺...</td>\n",
       "    </tr>\n",
       "    <tr>\n",
       "      <th>17</th>\n",
       "      <td>電影版 淘氣小企鵝啵樂樂 超級明星大冒險(國語版)</td>\n",
       "      <td>Pororo Popstar Adventure (Chinese)</td>\n",
       "      <td>https://today.line.me/tw/v2/article/605lGwj</td>\n",
       "      <td>https://today.line.me/tw/v2/movie/0M6n1W2</td>\n",
       "      <td>10</td>\n",
       "      <td>• 1小時45分 • 上映1週</td>\n",
       "      <td>輔15級</td>\n",
       "      <td>★ 淘氣小企鵝啵樂樂》系列製作團隊打造20週年紀念奇幻冒險鉅獻！ ★ 啵樂樂和朋友們踏上了成...</td>\n",
       "    </tr>\n",
       "    <tr>\n",
       "      <th>18</th>\n",
       "      <td>12.12：首爾之春</td>\n",
       "      <td>12.12: The Day</td>\n",
       "      <td>https://today.line.me/tw/v2/article/1DO6ro2</td>\n",
       "      <td>https://today.line.me/tw/v2/movie/EX5Mq7Q</td>\n",
       "      <td>9.9</td>\n",
       "      <td>• 1小時45分 • 上映1週</td>\n",
       "      <td>輔15級</td>\n",
       "      <td>★ 韓國下半年票房NO.1！「雙十二政變」真實事件震撼改編！ ★ “這部電影真的瘋了！”──...</td>\n",
       "    </tr>\n",
       "    <tr>\n",
       "      <th>19</th>\n",
       "      <td>爆裂點</td>\n",
       "      <td>Bursting Point</td>\n",
       "      <td>https://today.line.me/tw/v2/article/ZamxpNQ</td>\n",
       "      <td>https://today.line.me/tw/v2/movie/OpGeBz6</td>\n",
       "      <td>7.0</td>\n",
       "      <td>• 1小時45分 • 上映1週</td>\n",
       "      <td>輔15級</td>\n",
       "      <td>★ 2024開年動作強片，《激戰》《破風》導演林超賢再度挑戰強力動作電影 ★ 影帝張家輝與港...</td>\n",
       "    </tr>\n",
       "  </tbody>\n",
       "</table>\n",
       "</div>"
      ],
      "text/plain": [
       "                           片名                                        英文名  \\\n",
       "0                         蜂刑者                              The Beekeeper   \n",
       "1                     露梁：死亡之海                         Noryang：Deadly Sea   \n",
       "2                    水行俠 失落王國               Aquaman and the Lost Kingdom   \n",
       "3                 魔法公主(數位紀念版)                          Princess Mononoke   \n",
       "4                         金手指                             The Goldfinger   \n",
       "5                          怒潮                                Wolf Hiding   \n",
       "6                      鬼媽媽的假期                                 Our Season   \n",
       "7                          人犬                                     Dogman   \n",
       "8                          旺卡                                      Wonka   \n",
       "9                        富都青年                                 Abang Adik   \n",
       "10                       叛諜檔案                             The Bricklayer   \n",
       "11                         星願                                       Wish   \n",
       "12                        BIG                                        BIG   \n",
       "13                   搖滾吧！中二樂團                         On-Gaku: Our Sound   \n",
       "14                  細野晴臣：再會美國            Haruomi Hosono Sayonara America   \n",
       "15                     窗邊的小荳荳  Totto-Chan: The Little Girl at the Window   \n",
       "16                        法拉利                                    Ferrari   \n",
       "17  電影版 淘氣小企鵝啵樂樂 超級明星大冒險(國語版)         Pororo Popstar Adventure (Chinese)   \n",
       "18                 12.12：首爾之春                             12.12: The Day   \n",
       "19                        爆裂點                             Bursting Point   \n",
       "\n",
       "                                         預告片Url  \\\n",
       "0   https://today.line.me/tw/v2/article/LXLP7D0   \n",
       "1   https://today.line.me/tw/v2/article/5y5GlmK   \n",
       "2   https://today.line.me/tw/v2/article/1DOyzGm   \n",
       "3   https://today.line.me/tw/v2/article/kEXpk0q   \n",
       "4   https://today.line.me/tw/v2/article/MLvBy8j   \n",
       "5   https://today.line.me/tw/v2/article/LXLoayV   \n",
       "6   https://today.line.me/tw/v2/article/9m57N3K   \n",
       "7   https://today.line.me/tw/v2/article/605L9Va   \n",
       "8   https://today.line.me/tw/v2/article/MLv1JQy   \n",
       "9   https://today.line.me/tw/v2/article/nXmL6BL   \n",
       "10  https://today.line.me/tw/v2/article/aGvQJqn   \n",
       "11  https://today.line.me/tw/v2/article/JP9ngkK   \n",
       "12  https://today.line.me/tw/v2/article/BE0r5yz   \n",
       "13  https://today.line.me/tw/v2/article/qoP92p2   \n",
       "14  https://today.line.me/tw/v2/article/9m56pzq   \n",
       "15  https://today.line.me/tw/v2/article/kEXnXnJ   \n",
       "16  https://today.line.me/tw/v2/article/zNYkPV7   \n",
       "17  https://today.line.me/tw/v2/article/605lGwj   \n",
       "18  https://today.line.me/tw/v2/article/1DO6ro2   \n",
       "19  https://today.line.me/tw/v2/article/ZamxpNQ   \n",
       "\n",
       "                                      內容介紹Url 觀眾評分               片長    級數  \\\n",
       "0   https://today.line.me/tw/v2/movie/EX5Q8vk  9.8  • 1小時45分 • 上映1週  輔15級   \n",
       "1   https://today.line.me/tw/v2/movie/9m57J2r  9.9  • 1小時45分 • 上映1週  輔15級   \n",
       "2   https://today.line.me/tw/v2/movie/gz62WX2  8.5  • 1小時45分 • 上映1週  輔15級   \n",
       "3   https://today.line.me/tw/v2/movie/LXL7q80   10  • 1小時45分 • 上映1週  輔15級   \n",
       "4   https://today.line.me/tw/v2/movie/Vxmo0eB  8.9  • 1小時45分 • 上映1週  輔15級   \n",
       "5   https://today.line.me/tw/v2/movie/x2MLOJn  9.6  • 1小時45分 • 上映1週  輔15級   \n",
       "6   https://today.line.me/tw/v2/movie/oqrmNlq   10  • 1小時45分 • 上映1週  輔15級   \n",
       "7   https://today.line.me/tw/v2/movie/Qw3O9Qg  9.6  • 1小時45分 • 上映1週  輔15級   \n",
       "8   https://today.line.me/tw/v2/movie/Ggy8pDy  9.2  • 1小時45分 • 上映1週  輔15級   \n",
       "9   https://today.line.me/tw/v2/movie/NvYW2M8  8.9  • 1小時45分 • 上映1週  輔15級   \n",
       "10  https://today.line.me/tw/v2/movie/pej37o6  9.4  • 1小時45分 • 上映1週  輔15級   \n",
       "11  https://today.line.me/tw/v2/movie/9mrjewm  7.7  • 1小時45分 • 上映1週  輔15級   \n",
       "12  https://today.line.me/tw/v2/movie/qoPWL7k  9.9  • 1小時45分 • 上映1週  輔15級   \n",
       "13  https://today.line.me/tw/v2/movie/j7JgjXz   10  • 1小時45分 • 上映1週  輔15級   \n",
       "14  https://today.line.me/tw/v2/movie/rm91eNP   10  • 1小時45分 • 上映1週  輔15級   \n",
       "15  https://today.line.me/tw/v2/movie/wJGlK3E   14  • 1小時45分 • 上映1週  輔15級   \n",
       "16  https://today.line.me/tw/v2/movie/yz3PGmB  9.1  • 1小時45分 • 上映1週  輔15級   \n",
       "17  https://today.line.me/tw/v2/movie/0M6n1W2   10  • 1小時45分 • 上映1週  輔15級   \n",
       "18  https://today.line.me/tw/v2/movie/EX5Mq7Q  9.9  • 1小時45分 • 上映1週  輔15級   \n",
       "19  https://today.line.me/tw/v2/movie/OpGeBz6  7.0  • 1小時45分 • 上映1週  輔15級   \n",
       "\n",
       "                                                 影片介紹  \n",
       "0   ★《玩命關頭X》動作巨星 傑森史塔森 最強動作演出 ★《怒火特攻隊》動作大導大衛艾亞重返巔峰...  \n",
       "1   ★ 空降韓國票房冠軍！ ★《與神同行》發行團隊年度戰爭動作鉅獻 ★《韓山島海戰》《鳴梁：怒海...  \n",
       "2   在【水行俠 失落王國】中，先前未能打敗水行俠的黑蝠鱝依然矢志為死去的父親報仇，他將不計代價只...  \n",
       "3   ★ 宮﨑駿經典不敗動畫睽違27年重返大銀幕 ★ 日本票房202億締造吉卜力新里程碑，勇奪日本...  \n",
       "4   ⭐兩大影帝 梁朝偉 X 劉德華 大銀幕正面交鋒❗ ⭐空前絕後《無間道》夢幻陣容二十年後再現❗...  \n",
       "5   ★王大陸、阮經天，台灣兩大人氣男星首度大銀幕同台演出 ★《明日戰記》金馬、金像雙料影帝張家輝...  \n",
       "6   ★ 韓國觀眾9分超高分好評口碑盛讚！ ★ 《82年生的金智英》編劇X《完美搭檔》導演X《七罪...  \n",
       "7   道格拉斯(卡賴伯蘭里瓊斯 飾演)他的扭曲人格來自於小時候的被虐陰影，因為他愛狗勝過自己的家人...  \n",
       "8   描述一個不可思議的故事，看著全世界最偉大的發明家、魔術師和巧克力製造商，是如何變成現今眾所周...  \n",
       "9   ★金馬影后李心潔監製、王禮霖執導首部長片 ★《富都青年》橫掃國際9項大獎、吳慷仁奪FIRST...  \n",
       "10  ★《全面攻佔》傑瑞德巴特勒 親自傾力監製。 ★《全面攻佔》原班億萬團隊打造全新動作篇章！ ★...  \n",
       "11  《冰雪奇緣》《海洋奇緣》系列團隊製作 世界上最原始且神奇的力量 對著星星許下願望 魔法就會實...  \n",
       "12  魏德聖導演最新作品 816《BIG》 -不同背景的六個家庭，在兒癌病房中一起經歷的酸甜苦辣-...  \n",
       "13  ★改編自演員兼漫畫家 大橋裕之 原創漫畫《音樂和漫畫》 ★導演 岩井澤健治 採用「轉描機技術...  \n",
       "14  ★日本當代樂壇巨匠 細野晴臣 首次美國個人演唱會全紀錄 ★與坂本龍一名列樂壇先驅，獨一無二的...  \n",
       "15  💎影史最吸「金」配音團隊 陳淑芳 x 莫子儀 x 方志友 x 陳慕義 x 林品彤💎 📚全球暢...  \n",
       "16  ★ 2023威尼斯影展競賽片 ★ 《奧本海默》《絕地營救》製片團隊打造年度鉅獻 ★ 《落日殺...  \n",
       "17  ★ 淘氣小企鵝啵樂樂》系列製作團隊打造20週年紀念奇幻冒險鉅獻！ ★ 啵樂樂和朋友們踏上了成...  \n",
       "18  ★ 韓國下半年票房NO.1！「雙十二政變」真實事件震撼改編！ ★ “這部電影真的瘋了！”──...  \n",
       "19  ★ 2024開年動作強片，《激戰》《破風》導演林超賢再度挑戰強力動作電影 ★ 影帝張家輝與港...  "
      ]
     },
     "execution_count": 50,
     "metadata": {},
     "output_type": "execute_result"
    }
   ],
   "source": [
    "df = pd.DataFrame(DataSet,columns=ColumnList)\n",
    "df"
   ]
  },
  {
   "cell_type": "markdown",
   "metadata": {},
   "source": [
    "##### Export as excel file with timestamp"
   ]
  },
  {
   "cell_type": "code",
   "execution_count": 51,
   "metadata": {},
   "outputs": [],
   "source": [
    "today = dt.now().strftime(\"%Y%m%d_%H%M%S\")\n",
    "df.to_csv(f\"./Output/Line_MovieList_{today}.csv\",encoding='utf-8-sig')"
   ]
  },
  {
   "cell_type": "markdown",
   "metadata": {},
   "source": [
    "### Question "
   ]
  },
  {
   "cell_type": "markdown",
   "metadata": {},
   "source": [
    "##### Where to get UID for each movie (Module:UID) ?\n",
    "\n",
    "Once this problem solved, I will be able to scrap Image and complete movie introduction. \n",
    "\n",
    "* The API to get content is \"https://today.line.me/webapi/trending/comment/listings/module:6377059f5dcf0b54b19454b4?contentType=MOVIE&offset=0&length=50&country=tw\",\n",
    "  where module:6377059f5dcf0b54b19454b4 is the UID of current movie\n",
    "  \n",
    "* Use the following url to get thumbnail image: \n",
    "> https://obs.line-scdn.net/\" + Image_HashID + \"/w280 \n",
    "\n",
    "> Ex: https://obs.line-scdn.net/0hfKYDWjnpOWRkPSqOIaNGMzZrOgtXUSpnAAtoUBo8LjwsaTZNWxoxfkJgOQQCZiZJByd-Uh5NZC8WbXZZKjB2YyRKPCgvUD1gEyQvagpCJj8CfSJiPVow/w280\n",
    "\n",
    "* Complete Introduction: \n",
    "\n",
    "![Movie Introduction](https://github.com/Zachky/Learning_Zone2/blob/main/Practice_Notebook/Chapter_3/Img_Library/Introduction.png?raw=true)\n",
    "\n",
    "* Hash ID for Thumbnail Image:\n",
    "\n",
    "![Thumbnail Image](https://github.com/Zachky/Learning_Zone2/blob/main/Practice_Notebook/Chapter_3/Img_Library/HashID.png?raw=true)\n"
   ]
  },
  {
   "cell_type": "markdown",
   "metadata": {},
   "source": []
  }
 ],
 "metadata": {
  "kernelspec": {
   "display_name": "base",
   "language": "python",
   "name": "python3"
  },
  "language_info": {
   "codemirror_mode": {
    "name": "ipython",
    "version": 3
   },
   "file_extension": ".py",
   "mimetype": "text/x-python",
   "name": "python",
   "nbconvert_exporter": "python",
   "pygments_lexer": "ipython3",
   "version": "3.12.1"
  },
  "orig_nbformat": 4
 },
 "nbformat": 4,
 "nbformat_minor": 2
}
