{
 "cells": [
  {
   "cell_type": "markdown",
   "metadata": {},
   "source": [
    "# Web Scraping Practice"
   ]
  },
  {
   "cell_type": "code",
   "execution_count": 49,
   "metadata": {},
   "outputs": [],
   "source": [
    "import requests\n",
    "from bs4 import BeautifulSoup\n",
    "import pandas as pd\n",
    "import pyshorteners "
   ]
  },
  {
   "cell_type": "markdown",
   "metadata": {},
   "source": [
    "##### Define GetSoup function for future use"
   ]
  },
  {
   "cell_type": "code",
   "execution_count": 3,
   "metadata": {},
   "outputs": [],
   "source": [
    "def getSoup(url):\n",
    "  try:\n",
    "    resp=requests.get(url)\n",
    "    resp.encoding='utf-8'\n",
    "    if resp.status_code == 200:\n",
    "      return BeautifulSoup(resp.text,'lxml')\n",
    "    else:\n",
    "      return 'Error:Status_code'+ str(resp.status_code)\n",
    "\n",
    "  except Exception as e:\n",
    "    return e"
   ]
  },
  {
   "cell_type": "markdown",
   "metadata": {},
   "source": [
    "### E.SUN BANK Currency Exchange Rate ( With Url Shortener Module Practice)"
   ]
  },
  {
   "cell_type": "code",
   "execution_count": null,
   "metadata": {},
   "outputs": [],
   "source": [
    "url='https://www.esunbank.com/zh-tw/personal/deposit/rate/forex/foreign-exchange-rates'\n",
    "ResPage = getSoup(url)\n",
    "ResPage"
   ]
  },
  {
   "cell_type": "code",
   "execution_count": 133,
   "metadata": {},
   "outputs": [
    {
     "data": {
      "text/plain": [
       "1"
      ]
     },
     "execution_count": 133,
     "metadata": {},
     "output_type": "execute_result"
    }
   ],
   "source": [
    "Table_ExchangeRate = ResPage.find_all('table', class_=\"l-exchangeRate__block\")\n",
    "len(Table_ExchangeRate)"
   ]
  },
  {
   "cell_type": "markdown",
   "metadata": {},
   "source": [
    "##### Build up Column List\n"
   ]
  },
  {
   "cell_type": "markdown",
   "metadata": {},
   "source": [
    "> Get Title List"
   ]
  },
  {
   "cell_type": "code",
   "execution_count": 134,
   "metadata": {},
   "outputs": [
    {
     "data": {
      "text/plain": [
       "['', '即期匯率', '網銀/App優惠', '現金匯率']"
      ]
     },
     "execution_count": 134,
     "metadata": {},
     "output_type": "execute_result"
    }
   ],
   "source": [
    "TempList = Table_ExchangeRate[0].find('thead').find_all('th')\n",
    "TitleList = [ item.text for item in TempList ];TitleList\n"
   ]
  },
  {
   "cell_type": "markdown",
   "metadata": {},
   "source": [
    "> Get subtitle list and content"
   ]
  },
  {
   "cell_type": "code",
   "execution_count": 135,
   "metadata": {},
   "outputs": [
    {
     "data": {
      "text/plain": [
       "31"
      ]
     },
     "execution_count": 135,
     "metadata": {},
     "output_type": "execute_result"
    }
   ],
   "source": [
    "BodyList = Table_ExchangeRate[0].find('tbody', class_='l-exchangeRate__table result').find_all('tr');len(BodyList)"
   ]
  },
  {
   "cell_type": "markdown",
   "metadata": {},
   "source": [
    "> Build up complete column list (The first row of this Body Table is subtitle)"
   ]
  },
  {
   "cell_type": "code",
   "execution_count": 90,
   "metadata": {},
   "outputs": [
    {
     "data": {
      "text/plain": [
       "['Country',\n",
       " '即期匯率(銀行買入)',\n",
       " '即期匯率(銀行賣出)',\n",
       " '網銀/App優惠(銀行買入)',\n",
       " '網銀/App優惠(銀行賣出)',\n",
       " '現金匯率(銀行買入)',\n",
       " '現金匯率(銀行賣出)',\n",
       " 'Historial Trend Chart']"
      ]
     },
     "execution_count": 90,
     "metadata": {},
     "output_type": "execute_result"
    }
   ],
   "source": [
    "List_td = BodyList[0].find_all('td')\n",
    "ColumnList = ['Country']\n",
    "\n",
    "for strTitle in TitleList:\n",
    "    if strTitle != '':\n",
    "        ColumnList.append(f\"{strTitle}({List_td[1].text})\")\n",
    "        ColumnList.append(f\"{strTitle}({List_td[2].text})\")\n",
    "\n",
    "ColumnList.append('Historial Trend Chart')\n",
    "\n",
    "ColumnList\n"
   ]
  },
  {
   "cell_type": "markdown",
   "metadata": {},
   "source": [
    "##### Get Row Content"
   ]
  },
  {
   "cell_type": "code",
   "execution_count": null,
   "metadata": {},
   "outputs": [],
   "source": [
    "Content_td = BodyList[1].find_all('td')\n",
    "Content_td"
   ]
  },
  {
   "cell_type": "markdown",
   "metadata": {},
   "source": [
    "> Get complete country name and the link to \"Historical trend chart\" (use Pyshorteners to wrap up long Url)"
   ]
  },
  {
   "cell_type": "code",
   "execution_count": 110,
   "metadata": {},
   "outputs": [],
   "source": [
    "Country_Name = ''\n",
    "Url_TrendChart = ''\n",
    "Type_tiny = pyshorteners.Shortener()\n",
    "\n",
    "#Get Country Block\n",
    "Column_Country = Content_td[0].find('div', class_='row').find_all('div')\n",
    "\n",
    "#Short the url to Historical Trend Chart\n",
    "strUrl = f\"https://www.esunbank.com/{Column_Country[3].find('a')['href']}\"\n",
    "Url_TrendChart = Type_tiny.tinyurl.short(strUrl)\n",
    "\n",
    "#Get country name (Chinese+English)\n",
    "Country_Name = f\"{Column_Country[1].text.replace('\\r\\n','').strip()}({Column_Country[2].text.replace('\\r\\n','').strip()})\"\n"
   ]
  },
  {
   "cell_type": "code",
   "execution_count": 66,
   "metadata": {},
   "outputs": [
    {
     "data": {
      "text/plain": [
       "'http://tinyurl.com/ylafkecl'"
      ]
     },
     "execution_count": 66,
     "metadata": {},
     "output_type": "execute_result"
    }
   ],
   "source": [
    "Url_TrendChart"
   ]
  },
  {
   "cell_type": "code",
   "execution_count": 67,
   "metadata": {},
   "outputs": [
    {
     "data": {
      "text/plain": [
       "'美元(USD)'"
      ]
     },
     "execution_count": 67,
     "metadata": {},
     "output_type": "execute_result"
    }
   ],
   "source": [
    "Country_Name"
   ]
  },
  {
   "cell_type": "markdown",
   "metadata": {},
   "source": [
    "> Get Exchange Rate Data"
   ]
  },
  {
   "cell_type": "markdown",
   "metadata": {},
   "source": [
    "> Board Rate"
   ]
  },
  {
   "cell_type": "code",
   "execution_count": 83,
   "metadata": {},
   "outputs": [
    {
     "data": {
      "text/plain": [
       "<td class=\"l-exchangeRate__table--inner\" colspan=\"2\">\n",
       "<div class=\"BBoardRate\">31.45</div>\n",
       "<div class=\"SBoardRate\">31.55</div>\n",
       "</td>"
      ]
     },
     "execution_count": 83,
     "metadata": {},
     "output_type": "execute_result"
    }
   ],
   "source": [
    "Content_td[4]"
   ]
  },
  {
   "cell_type": "markdown",
   "metadata": {},
   "source": [
    "> Buy/Sell Increase/Decrease Rate"
   ]
  },
  {
   "cell_type": "code",
   "execution_count": 84,
   "metadata": {},
   "outputs": [
    {
     "data": {
      "text/plain": [
       "<td class=\"l-exchangeRate__table--inner text-highlight\" colspan=\"2\">\n",
       "<div class=\"BuyIncreaseRate\">31.485</div>\n",
       "<div class=\"SellDecreaseRate\">31.515</div>\n",
       "</td>"
      ]
     },
     "execution_count": 84,
     "metadata": {},
     "output_type": "execute_result"
    }
   ],
   "source": [
    "Content_td[5]"
   ]
  },
  {
   "cell_type": "markdown",
   "metadata": {},
   "source": [
    "> Cash Board Rate"
   ]
  },
  {
   "cell_type": "code",
   "execution_count": 85,
   "metadata": {},
   "outputs": [
    {
     "data": {
      "text/plain": [
       "<td class=\"l-exchangeRate__table--inner\" colspan=\"2\">\n",
       "<div class=\"CashBBoardRate\">31.2</div>\n",
       "<div class=\"CashSBoardRate\">31.75</div>\n",
       "</td>"
      ]
     },
     "execution_count": 85,
     "metadata": {},
     "output_type": "execute_result"
    }
   ],
   "source": [
    "Content_td[6]"
   ]
  },
  {
   "cell_type": "markdown",
   "metadata": {},
   "source": [
    "> List of Exchange Rate"
   ]
  },
  {
   "cell_type": "code",
   "execution_count": 87,
   "metadata": {},
   "outputs": [
    {
     "name": "stdout",
     "output_type": "stream",
     "text": [
      "31.45\n",
      "31.55\n",
      "31.485\n",
      "31.515\n",
      "31.2\n",
      "31.75\n"
     ]
    }
   ],
   "source": [
    "print(Content_td[4].find('div', class_='BBoardRate').text)\n",
    "print(Content_td[4].find('div', class_='SBoardRate').text)\n",
    "print(Content_td[5].find('div', class_='BuyIncreaseRate').text)\n",
    "print(Content_td[5].find('div', class_='SellDecreaseRate').text)\n",
    "print(Content_td[6].find('div', class_='CashBBoardRate').text)\n",
    "print(Content_td[6].find('div', class_='CashSBoardRate').text)\n"
   ]
  },
  {
   "cell_type": "markdown",
   "metadata": {},
   "source": [
    "> Get Complete Row Data with Country Name, Exchange Rate and the link to Historial Trend Chart"
   ]
  },
  {
   "cell_type": "code",
   "execution_count": 89,
   "metadata": {},
   "outputs": [
    {
     "data": {
      "text/plain": [
       "['美元(USD)',\n",
       " '31.45',\n",
       " '31.55',\n",
       " '31.485',\n",
       " '31.515',\n",
       " '31.2',\n",
       " '31.75',\n",
       " 'http://tinyurl.com/ylafkecl']"
      ]
     },
     "execution_count": 89,
     "metadata": {},
     "output_type": "execute_result"
    }
   ],
   "source": [
    "RowData = []\n",
    "RowData.append(Country_Name)\n",
    "RowData.append(Content_td[4].find('div', class_='BBoardRate').text)\n",
    "RowData.append(Content_td[4].find('div', class_='SBoardRate').text)\n",
    "RowData.append(Content_td[5].find('div', class_='BuyIncreaseRate').text)\n",
    "RowData.append(Content_td[5].find('div', class_='SellDecreaseRate').text)\n",
    "RowData.append(Content_td[6].find('div', class_='CashBBoardRate').text)\n",
    "RowData.append(Content_td[6].find('div', class_='CashSBoardRate').text)\n",
    "RowData.append(Url_TrendChart)\n",
    "\n",
    "RowData"
   ]
  },
  {
   "cell_type": "markdown",
   "metadata": {},
   "source": [
    "##### Traversal the entire table (Row 1,3,5,7~31)"
   ]
  },
  {
   "cell_type": "code",
   "execution_count": 141,
   "metadata": {},
   "outputs": [
    {
     "data": {
      "text/plain": [
       "[['美元(USD)',\n",
       "  '31.45',\n",
       "  '31.55',\n",
       "  '31.485',\n",
       "  '31.515',\n",
       "  '31.2',\n",
       "  '31.75',\n",
       "  'http://tinyurl.com/ylafkecl'],\n",
       " ['人民幣(CNY)',\n",
       "  '4.341',\n",
       "  '4.391',\n",
       "  '4.356',\n",
       "  '4.376',\n",
       "  '4.267',\n",
       "  '4.427',\n",
       "  'http://tinyurl.com/ywlgnnjb'],\n",
       " ['港幣(HKD)',\n",
       "  '3.995',\n",
       "  '4.055',\n",
       "  '4.017',\n",
       "  '4.033',\n",
       "  '3.925',\n",
       "  '4.085',\n",
       "  'http://tinyurl.com/ynwwr3ee'],\n",
       " ['日圓(JPY)',\n",
       "  '0.212',\n",
       "  '0.216',\n",
       "  '0.2132',\n",
       "  '0.2148',\n",
       "  '0.211',\n",
       "  '0.218',\n",
       "  'http://tinyurl.com/yl9r84pj'],\n",
       " ['歐元(EUR)',\n",
       "  '34.06',\n",
       "  '34.46',\n",
       "  '34.18',\n",
       "  '34.34',\n",
       "  '33.76',\n",
       "  '34.76',\n",
       "  'http://tinyurl.com/ypy9j5f7'],\n",
       " ['澳幣(AUD)',\n",
       "  '20.65',\n",
       "  '20.85',\n",
       "  '20.7',\n",
       "  '20.8',\n",
       "  '20.35',\n",
       "  '21.15',\n",
       "  'http://tinyurl.com/yoh4n4er'],\n",
       " ['加拿大幣(CAD)',\n",
       "  '23.27',\n",
       "  '23.45',\n",
       "  '23.315',\n",
       "  '23.405',\n",
       "  '22.96',\n",
       "  '23.76',\n",
       "  'http://tinyurl.com/ym7mrd6g'],\n",
       " ['英鎊(GBP)',\n",
       "  '39.6',\n",
       "  '40',\n",
       "  '39.72',\n",
       "  '39.88',\n",
       "  '39.3',\n",
       "  '40.3',\n",
       "  'http://tinyurl.com/ysffcpb7'],\n",
       " ['南非幣(ZAR)',\n",
       "  '1.609',\n",
       "  '1.709',\n",
       "  '1.634',\n",
       "  '1.684',\n",
       "  '',\n",
       "  '',\n",
       "  'http://tinyurl.com/yl4mfusp'],\n",
       " ['紐西蘭幣(NZD)',\n",
       "  '19.24',\n",
       "  '19.48',\n",
       "  '19.3',\n",
       "  '19.42',\n",
       "  '',\n",
       "  '',\n",
       "  'http://tinyurl.com/yw574cnu'],\n",
       " ['瑞士法郎(CHF)',\n",
       "  '36.46',\n",
       "  '36.66',\n",
       "  '36.52',\n",
       "  '36.6',\n",
       "  '',\n",
       "  '',\n",
       "  'http://tinyurl.com/ysdoqcy9'],\n",
       " ['瑞典幣(SEK)',\n",
       "  '2.987',\n",
       "  '3.047',\n",
       "  '3.002',\n",
       "  '3.032',\n",
       "  '',\n",
       "  '',\n",
       "  'http://tinyurl.com/yv7bz4ax'],\n",
       " ['新加坡幣(SGD)',\n",
       "  '23.37',\n",
       "  '23.53',\n",
       "  '23.42',\n",
       "  '23.48',\n",
       "  '',\n",
       "  '',\n",
       "  'http://tinyurl.com/yujpg9mo'],\n",
       " ['墨西哥披索(MXN)',\n",
       "  '1.787',\n",
       "  '1.867',\n",
       "  '1.817',\n",
       "  '1.837',\n",
       "  '',\n",
       "  '',\n",
       "  'http://tinyurl.com/ylsmnj2u'],\n",
       " ['泰銖(THB)',\n",
       "  '0.868',\n",
       "  '0.908',\n",
       "  '0.878',\n",
       "  '0.898',\n",
       "  '',\n",
       "  '',\n",
       "  'http://tinyurl.com/ywmmkz9m']]"
      ]
     },
     "execution_count": 141,
     "metadata": {},
     "output_type": "execute_result"
    }
   ],
   "source": [
    "Type_tiny = pyshorteners.Shortener()\n",
    "Country_Name = ''\n",
    "Url_TrendChart = ''\n",
    "\n",
    "RowData = []\n",
    "DataSet = []\n",
    "\n",
    "\n",
    "for Row_CountryData in BodyList:\n",
    "\n",
    "    #Skip the first row because we've already finish column list\n",
    "    if(BodyList.index(Row_CountryData) == 0):continue\n",
    "    elif(BodyList.index(Row_CountryData) % 2 == 1):\n",
    "\n",
    "        #Reset variable\n",
    "        Country_Name = ''\n",
    "        Url_TrendChart = ''\n",
    "        RowData = []\n",
    "\n",
    "        #Get Row Data\n",
    "        Content_td = Row_CountryData.find_all('td')\n",
    "    \n",
    "        #Get Country Block\n",
    "        Column_Country = Content_td[0].find('div', class_='row').find_all('div')\n",
    "        \n",
    "        #Short the url to Historical Trend Chart\n",
    "        strUrl = f\"https://www.esunbank.com/{Column_Country[3].find('a')['href']}\"\n",
    "        Url_TrendChart = Type_tiny.tinyurl.short(strUrl)\n",
    "\n",
    "        #Get country name (Chinese+English)\n",
    "        Country_Name = f\"{Column_Country[1].text.replace('\\r\\n','').strip()}({Column_Country[2].text.replace('\\r\\n','').strip()})\"\n",
    "\n",
    "        #Build up the entire row data in RowData\n",
    "        RowData.append(Country_Name)\n",
    "        RowData.append(Content_td[4].find('div', class_='BBoardRate').text)\n",
    "        RowData.append(Content_td[4].find('div', class_='SBoardRate').text)\n",
    "        RowData.append(Content_td[5].find('div', class_='BuyIncreaseRate').text)\n",
    "        RowData.append(Content_td[5].find('div', class_='SellDecreaseRate').text)\n",
    "        RowData.append(Content_td[6].find('div', class_='CashBBoardRate').text)\n",
    "        RowData.append(Content_td[6].find('div', class_='CashSBoardRate').text)\n",
    "        RowData.append(Url_TrendChart)\n",
    "\n",
    "        DataSet.append(RowData)\n",
    "\n",
    "DataSet\n",
    "        \n"
   ]
  },
  {
   "cell_type": "markdown",
   "metadata": {},
   "source": [
    "##### Export Data as Excel file"
   ]
  },
  {
   "cell_type": "code",
   "execution_count": 142,
   "metadata": {},
   "outputs": [
    {
     "data": {
      "text/html": [
       "<div>\n",
       "<style scoped>\n",
       "    .dataframe tbody tr th:only-of-type {\n",
       "        vertical-align: middle;\n",
       "    }\n",
       "\n",
       "    .dataframe tbody tr th {\n",
       "        vertical-align: top;\n",
       "    }\n",
       "\n",
       "    .dataframe thead th {\n",
       "        text-align: right;\n",
       "    }\n",
       "</style>\n",
       "<table border=\"1\" class=\"dataframe\">\n",
       "  <thead>\n",
       "    <tr style=\"text-align: right;\">\n",
       "      <th></th>\n",
       "      <th>Country</th>\n",
       "      <th>即期匯率(銀行買入)</th>\n",
       "      <th>即期匯率(銀行賣出)</th>\n",
       "      <th>網銀/App優惠(銀行買入)</th>\n",
       "      <th>網銀/App優惠(銀行賣出)</th>\n",
       "      <th>現金匯率(銀行買入)</th>\n",
       "      <th>現金匯率(銀行賣出)</th>\n",
       "      <th>Historial Trend Chart</th>\n",
       "    </tr>\n",
       "  </thead>\n",
       "  <tbody>\n",
       "    <tr>\n",
       "      <th>0</th>\n",
       "      <td>美元(USD)</td>\n",
       "      <td>31.45</td>\n",
       "      <td>31.55</td>\n",
       "      <td>31.485</td>\n",
       "      <td>31.515</td>\n",
       "      <td>31.2</td>\n",
       "      <td>31.75</td>\n",
       "      <td>http://tinyurl.com/ylafkecl</td>\n",
       "    </tr>\n",
       "    <tr>\n",
       "      <th>1</th>\n",
       "      <td>人民幣(CNY)</td>\n",
       "      <td>4.341</td>\n",
       "      <td>4.391</td>\n",
       "      <td>4.356</td>\n",
       "      <td>4.376</td>\n",
       "      <td>4.267</td>\n",
       "      <td>4.427</td>\n",
       "      <td>http://tinyurl.com/ywlgnnjb</td>\n",
       "    </tr>\n",
       "    <tr>\n",
       "      <th>2</th>\n",
       "      <td>港幣(HKD)</td>\n",
       "      <td>3.995</td>\n",
       "      <td>4.055</td>\n",
       "      <td>4.017</td>\n",
       "      <td>4.033</td>\n",
       "      <td>3.925</td>\n",
       "      <td>4.085</td>\n",
       "      <td>http://tinyurl.com/ynwwr3ee</td>\n",
       "    </tr>\n",
       "    <tr>\n",
       "      <th>3</th>\n",
       "      <td>日圓(JPY)</td>\n",
       "      <td>0.212</td>\n",
       "      <td>0.216</td>\n",
       "      <td>0.2132</td>\n",
       "      <td>0.2148</td>\n",
       "      <td>0.211</td>\n",
       "      <td>0.218</td>\n",
       "      <td>http://tinyurl.com/yl9r84pj</td>\n",
       "    </tr>\n",
       "    <tr>\n",
       "      <th>4</th>\n",
       "      <td>歐元(EUR)</td>\n",
       "      <td>34.06</td>\n",
       "      <td>34.46</td>\n",
       "      <td>34.18</td>\n",
       "      <td>34.34</td>\n",
       "      <td>33.76</td>\n",
       "      <td>34.76</td>\n",
       "      <td>http://tinyurl.com/ypy9j5f7</td>\n",
       "    </tr>\n",
       "    <tr>\n",
       "      <th>5</th>\n",
       "      <td>澳幣(AUD)</td>\n",
       "      <td>20.65</td>\n",
       "      <td>20.85</td>\n",
       "      <td>20.7</td>\n",
       "      <td>20.8</td>\n",
       "      <td>20.35</td>\n",
       "      <td>21.15</td>\n",
       "      <td>http://tinyurl.com/yoh4n4er</td>\n",
       "    </tr>\n",
       "    <tr>\n",
       "      <th>6</th>\n",
       "      <td>加拿大幣(CAD)</td>\n",
       "      <td>23.27</td>\n",
       "      <td>23.45</td>\n",
       "      <td>23.315</td>\n",
       "      <td>23.405</td>\n",
       "      <td>22.96</td>\n",
       "      <td>23.76</td>\n",
       "      <td>http://tinyurl.com/ym7mrd6g</td>\n",
       "    </tr>\n",
       "    <tr>\n",
       "      <th>7</th>\n",
       "      <td>英鎊(GBP)</td>\n",
       "      <td>39.6</td>\n",
       "      <td>40</td>\n",
       "      <td>39.72</td>\n",
       "      <td>39.88</td>\n",
       "      <td>39.3</td>\n",
       "      <td>40.3</td>\n",
       "      <td>http://tinyurl.com/ysffcpb7</td>\n",
       "    </tr>\n",
       "    <tr>\n",
       "      <th>8</th>\n",
       "      <td>南非幣(ZAR)</td>\n",
       "      <td>1.609</td>\n",
       "      <td>1.709</td>\n",
       "      <td>1.634</td>\n",
       "      <td>1.684</td>\n",
       "      <td></td>\n",
       "      <td></td>\n",
       "      <td>http://tinyurl.com/yl4mfusp</td>\n",
       "    </tr>\n",
       "    <tr>\n",
       "      <th>9</th>\n",
       "      <td>紐西蘭幣(NZD)</td>\n",
       "      <td>19.24</td>\n",
       "      <td>19.48</td>\n",
       "      <td>19.3</td>\n",
       "      <td>19.42</td>\n",
       "      <td></td>\n",
       "      <td></td>\n",
       "      <td>http://tinyurl.com/yw574cnu</td>\n",
       "    </tr>\n",
       "    <tr>\n",
       "      <th>10</th>\n",
       "      <td>瑞士法郎(CHF)</td>\n",
       "      <td>36.46</td>\n",
       "      <td>36.66</td>\n",
       "      <td>36.52</td>\n",
       "      <td>36.6</td>\n",
       "      <td></td>\n",
       "      <td></td>\n",
       "      <td>http://tinyurl.com/ysdoqcy9</td>\n",
       "    </tr>\n",
       "    <tr>\n",
       "      <th>11</th>\n",
       "      <td>瑞典幣(SEK)</td>\n",
       "      <td>2.987</td>\n",
       "      <td>3.047</td>\n",
       "      <td>3.002</td>\n",
       "      <td>3.032</td>\n",
       "      <td></td>\n",
       "      <td></td>\n",
       "      <td>http://tinyurl.com/yv7bz4ax</td>\n",
       "    </tr>\n",
       "    <tr>\n",
       "      <th>12</th>\n",
       "      <td>新加坡幣(SGD)</td>\n",
       "      <td>23.37</td>\n",
       "      <td>23.53</td>\n",
       "      <td>23.42</td>\n",
       "      <td>23.48</td>\n",
       "      <td></td>\n",
       "      <td></td>\n",
       "      <td>http://tinyurl.com/yujpg9mo</td>\n",
       "    </tr>\n",
       "    <tr>\n",
       "      <th>13</th>\n",
       "      <td>墨西哥披索(MXN)</td>\n",
       "      <td>1.787</td>\n",
       "      <td>1.867</td>\n",
       "      <td>1.817</td>\n",
       "      <td>1.837</td>\n",
       "      <td></td>\n",
       "      <td></td>\n",
       "      <td>http://tinyurl.com/ylsmnj2u</td>\n",
       "    </tr>\n",
       "    <tr>\n",
       "      <th>14</th>\n",
       "      <td>泰銖(THB)</td>\n",
       "      <td>0.868</td>\n",
       "      <td>0.908</td>\n",
       "      <td>0.878</td>\n",
       "      <td>0.898</td>\n",
       "      <td></td>\n",
       "      <td></td>\n",
       "      <td>http://tinyurl.com/ywmmkz9m</td>\n",
       "    </tr>\n",
       "  </tbody>\n",
       "</table>\n",
       "</div>"
      ],
      "text/plain": [
       "       Country 即期匯率(銀行買入) 即期匯率(銀行賣出) 網銀/App優惠(銀行買入) 網銀/App優惠(銀行賣出) 現金匯率(銀行買入)  \\\n",
       "0      美元(USD)      31.45      31.55         31.485         31.515       31.2   \n",
       "1     人民幣(CNY)      4.341      4.391          4.356          4.376      4.267   \n",
       "2      港幣(HKD)      3.995      4.055          4.017          4.033      3.925   \n",
       "3      日圓(JPY)      0.212      0.216         0.2132         0.2148      0.211   \n",
       "4      歐元(EUR)      34.06      34.46          34.18          34.34      33.76   \n",
       "5      澳幣(AUD)      20.65      20.85           20.7           20.8      20.35   \n",
       "6    加拿大幣(CAD)      23.27      23.45         23.315         23.405      22.96   \n",
       "7      英鎊(GBP)       39.6         40          39.72          39.88       39.3   \n",
       "8     南非幣(ZAR)      1.609      1.709          1.634          1.684              \n",
       "9    紐西蘭幣(NZD)      19.24      19.48           19.3          19.42              \n",
       "10   瑞士法郎(CHF)      36.46      36.66          36.52           36.6              \n",
       "11    瑞典幣(SEK)      2.987      3.047          3.002          3.032              \n",
       "12   新加坡幣(SGD)      23.37      23.53          23.42          23.48              \n",
       "13  墨西哥披索(MXN)      1.787      1.867          1.817          1.837              \n",
       "14     泰銖(THB)      0.868      0.908          0.878          0.898              \n",
       "\n",
       "   現金匯率(銀行賣出)        Historial Trend Chart  \n",
       "0       31.75  http://tinyurl.com/ylafkecl  \n",
       "1       4.427  http://tinyurl.com/ywlgnnjb  \n",
       "2       4.085  http://tinyurl.com/ynwwr3ee  \n",
       "3       0.218  http://tinyurl.com/yl9r84pj  \n",
       "4       34.76  http://tinyurl.com/ypy9j5f7  \n",
       "5       21.15  http://tinyurl.com/yoh4n4er  \n",
       "6       23.76  http://tinyurl.com/ym7mrd6g  \n",
       "7        40.3  http://tinyurl.com/ysffcpb7  \n",
       "8              http://tinyurl.com/yl4mfusp  \n",
       "9              http://tinyurl.com/yw574cnu  \n",
       "10             http://tinyurl.com/ysdoqcy9  \n",
       "11             http://tinyurl.com/yv7bz4ax  \n",
       "12             http://tinyurl.com/yujpg9mo  \n",
       "13             http://tinyurl.com/ylsmnj2u  \n",
       "14             http://tinyurl.com/ywmmkz9m  "
      ]
     },
     "execution_count": 142,
     "metadata": {},
     "output_type": "execute_result"
    }
   ],
   "source": [
    "df = pd.DataFrame(DataSet,columns=ColumnList)\n",
    "df"
   ]
  },
  {
   "cell_type": "code",
   "execution_count": 143,
   "metadata": {},
   "outputs": [],
   "source": [
    "df.to_csv('./Output/Quiz_3/ESunBank_CurrencyExchangeRate.csv',encoding='utf-8-sig')"
   ]
  },
  {
   "cell_type": "code",
   "execution_count": null,
   "metadata": {},
   "outputs": [],
   "source": []
  }
 ],
 "metadata": {
  "kernelspec": {
   "display_name": "Python 3",
   "language": "python",
   "name": "python3"
  },
  "language_info": {
   "codemirror_mode": {
    "name": "ipython",
    "version": 3
   },
   "file_extension": ".py",
   "mimetype": "text/x-python",
   "name": "python",
   "nbconvert_exporter": "python",
   "pygments_lexer": "ipython3",
   "version": "3.12.1"
  }
 },
 "nbformat": 4,
 "nbformat_minor": 2
}
