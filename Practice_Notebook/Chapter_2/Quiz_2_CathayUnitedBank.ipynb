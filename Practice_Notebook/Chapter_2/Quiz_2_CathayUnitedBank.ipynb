{
 "cells": [
  {
   "cell_type": "markdown",
   "metadata": {},
   "source": [
    "# Web Scraping Practice"
   ]
  },
  {
   "cell_type": "code",
   "execution_count": 1,
   "metadata": {},
   "outputs": [],
   "source": [
    "import requests\n",
    "from bs4 import BeautifulSoup\n",
    "import pandas as pd"
   ]
  },
  {
   "cell_type": "markdown",
   "metadata": {},
   "source": [
    "##### Define GetSoup function for future use"
   ]
  },
  {
   "cell_type": "code",
   "execution_count": 3,
   "metadata": {},
   "outputs": [],
   "source": [
    "def getSoup(url):\n",
    "  try:\n",
    "    resp=requests.get(url)\n",
    "    resp.encoding='utf-8'\n",
    "    if resp.status_code == 200:\n",
    "      return BeautifulSoup(resp.text,'lxml')\n",
    "    else:\n",
    "      return 'Error:Status_code'+ str(resp.status_code)\n",
    "\n",
    "  except Exception as e:\n",
    "    return e"
   ]
  },
  {
   "cell_type": "markdown",
   "metadata": {},
   "source": [
    "### Cathay United Bank Currency Exchange Rate"
   ]
  },
  {
   "cell_type": "code",
   "execution_count": 5,
   "metadata": {},
   "outputs": [],
   "source": [
    "url='https://www.cathaybk.com.tw/cathaybk/personal/deposit-exchange/rate/currency-billboard/'\n",
    "ResPage = getSoup(url)"
   ]
  },
  {
   "cell_type": "code",
   "execution_count": null,
   "metadata": {},
   "outputs": [],
   "source": [
    "CurrencyTable = ResPage.find_all('div', class_='cubre-o-table');\n",
    "len(CurrencyTable) "
   ]
  },
  {
   "cell_type": "markdown",
   "metadata": {},
   "source": [
    "##### Get Column and Data Row List"
   ]
  },
  {
   "cell_type": "markdown",
   "metadata": {},
   "source": [
    "> RWD Design, Use CurrencyTable[0] as main data source "
   ]
  },
  {
   "cell_type": "code",
   "execution_count": null,
   "metadata": {},
   "outputs": [],
   "source": [
    "List_CurrencyTable = CurrencyTable[0].find_all('div', class_='cubre-o-table__item currency'); List_CurrencyTable"
   ]
  },
  {
   "cell_type": "markdown",
   "metadata": {},
   "source": [
    "> Use first section in List_CurrencyTable to build up data structure"
   ]
  },
  {
   "cell_type": "markdown",
   "metadata": {},
   "source": [
    ">1.  Find currency name"
   ]
  },
  {
   "cell_type": "code",
   "execution_count": 19,
   "metadata": {},
   "outputs": [
    {
     "data": {
      "text/plain": [
       "'美元USD'"
      ]
     },
     "execution_count": 19,
     "metadata": {},
     "output_type": "execute_result"
    }
   ],
   "source": [
    "Currency_Name = List_CurrencyTable[0].find('div', class_='cubre-m-currency__name')\n",
    "Currency_Name = Currency_Name.text.replace('\\r\\n','').strip()\n",
    "Currency_Name"
   ]
  },
  {
   "cell_type": "markdown",
   "metadata": {},
   "source": [
    ">2. Find the value of exchange rate"
   ]
  },
  {
   "cell_type": "code",
   "execution_count": null,
   "metadata": {},
   "outputs": [],
   "source": [
    "SubCurrencyTable = List_CurrencyTable[0].find('table', class_='cubre-m-rateTable -currency')\n",
    "SubCurrencyTable"
   ]
  },
  {
   "cell_type": "code",
   "execution_count": 42,
   "metadata": {},
   "outputs": [
    {
     "data": {
      "text/plain": [
       "['項目', '銀行買進', '銀行賣出']"
      ]
     },
     "execution_count": 42,
     "metadata": {},
     "output_type": "execute_result"
    }
   ],
   "source": [
    "TempList = SubCurrencyTable.find_all('div', class_='cubre-m-rateTable__th');TempList\n",
    "TitleList = [ item.text for item in TempList if TempList.index(item)%2 == 0 ] #取偶數項目\n",
    "TitleList"
   ]
  },
  {
   "cell_type": "code",
   "execution_count": null,
   "metadata": {},
   "outputs": [],
   "source": [
    "TempList1 = SubCurrencyTable.find('tbody').find_all('tr');TempList1"
   ]
  },
  {
   "cell_type": "code",
   "execution_count": 55,
   "metadata": {},
   "outputs": [
    {
     "data": {
      "text/plain": [
       "[<div class=\"cubre-m-rateTable__name\">即期匯率</div>,\n",
       " <div>31.3500</div>,\n",
       " <div>31.4700</div>]"
      ]
     },
     "execution_count": 55,
     "metadata": {},
     "output_type": "execute_result"
    }
   ],
   "source": [
    "TempList2 = TempList1[0].find_all('div');TempList2"
   ]
  },
  {
   "cell_type": "code",
   "execution_count": 58,
   "metadata": {},
   "outputs": [
    {
     "data": {
      "text/plain": [
       "['即期匯率(銀行買進)', '即期匯率(銀行賣出)']"
      ]
     },
     "execution_count": 58,
     "metadata": {},
     "output_type": "execute_result"
    }
   ],
   "source": [
    "ColumnsList = []\n",
    "\n",
    "ColumnsList.append(f\"{TempList2[0].text}({TitleList[1]})\")\n",
    "ColumnsList.append(f\"{TempList2[0].text}({TitleList[2]})\")\n",
    "ColumnsList"
   ]
  },
  {
   "cell_type": "code",
   "execution_count": 59,
   "metadata": {},
   "outputs": [
    {
     "data": {
      "text/plain": [
       "['31.3500', '31.4700']"
      ]
     },
     "execution_count": 59,
     "metadata": {},
     "output_type": "execute_result"
    }
   ],
   "source": [
    "RowList = []\n",
    "\n",
    "RowList.append(f\"{TempList2[1].text}\")\n",
    "RowList.append(f\"{TempList2[2].text}\")\n",
    "\n",
    "RowList"
   ]
  },
  {
   "cell_type": "code",
   "execution_count": 75,
   "metadata": {},
   "outputs": [],
   "source": [
    "ColumnsList = ['Currency']\n",
    "RowList = [Currency_Name]\n",
    "intCounter = 1\n",
    "\n",
    "for LoopList1 in SubCurrencyTable.find('tbody').find_all('tr'):\n",
    "    intCounter = 1\n",
    "    for LoopList2 in LoopList1.find_all('div'):\n",
    "        # print(LoopList2.text)\n",
    "        if(intCounter==1):\n",
    "            ColumnsList.append(f\"{LoopList2.text}({TitleList[1]})\")\n",
    "            ColumnsList.append(f\"{LoopList2.text}({TitleList[2]})\")\n",
    "        elif(intCounter==2):\n",
    "            RowList.append(f\"{LoopList2.text}\")\n",
    "        else:\n",
    "            RowList.append(f\"{LoopList2.text}\")\n",
    "        intCounter += 1\n"
   ]
  },
  {
   "cell_type": "code",
   "execution_count": 76,
   "metadata": {},
   "outputs": [
    {
     "data": {
      "text/plain": [
       "['Currency',\n",
       " '即期匯率(銀行買進)',\n",
       " '即期匯率(銀行賣出)',\n",
       " '數位通路優惠匯率(銀行買進)',\n",
       " '數位通路優惠匯率(銀行賣出)',\n",
       " '現鈔匯率(銀行買進)',\n",
       " '現鈔匯率(銀行賣出)']"
      ]
     },
     "execution_count": 76,
     "metadata": {},
     "output_type": "execute_result"
    }
   ],
   "source": [
    "ColumnsList"
   ]
  },
  {
   "cell_type": "code",
   "execution_count": 77,
   "metadata": {},
   "outputs": [
    {
     "data": {
      "text/plain": [
       "['美元USD', '31.3500', '31.4700', '31.3800', '31.4400', '31.0700', '31.6900']"
      ]
     },
     "execution_count": 77,
     "metadata": {},
     "output_type": "execute_result"
    }
   ],
   "source": [
    "RowList"
   ]
  },
  {
   "cell_type": "markdown",
   "metadata": {},
   "source": [
    "##### Traversal the entire table"
   ]
  },
  {
   "cell_type": "code",
   "execution_count": 83,
   "metadata": {},
   "outputs": [],
   "source": [
    "ColumnsList = ['Currency']\n",
    "Datas = []\n",
    "RowList = []\n",
    "intCounter = 1\n",
    "\n",
    "List_CurrencyTable = CurrencyTable[0].find_all('div', class_='cubre-o-table__item currency'); List_CurrencyTable\n",
    "\n",
    "for TempTable in CurrencyTable[0].find_all('div', class_='cubre-o-table__item currency'):\n",
    "\n",
    "    #Get currency_Name and append to row list\n",
    "    TempCountry_Name = TempTable.find('div', class_='cubre-m-currency__name').text.replace('\\r\\n','').strip()\n",
    "    # TempCountry_Name = TempCountry_Name\n",
    "    RowList.append(TempCountry_Name)\n",
    "\n",
    "    #Get Heads and Exchange Rate\n",
    "    ColumnsList = ['Currency']\n",
    "    SubCurrencyTable = TempTable.find('table', class_='cubre-m-rateTable -currency')\n",
    "    for LoopList1 in SubCurrencyTable.find('tbody').find_all('tr'):\n",
    "        intCounter = 1\n",
    "        \n",
    "        for LoopList2 in LoopList1.find_all('div'):\n",
    "            \n",
    "            if(intCounter==1):\n",
    "                ColumnsList.append(f\"{LoopList2.text}({TitleList[1]})\")\n",
    "                ColumnsList.append(f\"{LoopList2.text}({TitleList[2]})\")\n",
    "            elif(intCounter==2):\n",
    "                RowList.append(f\"{LoopList2.text}\")\n",
    "            else:\n",
    "                RowList.append(f\"{LoopList2.text}\")\n",
    "            intCounter += 1\n",
    "    \n",
    "    Datas.append(RowList)\n",
    "    RowList = []\n"
   ]
  },
  {
   "cell_type": "code",
   "execution_count": 81,
   "metadata": {},
   "outputs": [
    {
     "data": {
      "text/plain": [
       "['Currency',\n",
       " '即期匯率(銀行買進)',\n",
       " '即期匯率(銀行賣出)',\n",
       " '數位通路優惠匯率(銀行買進)',\n",
       " '數位通路優惠匯率(銀行賣出)',\n",
       " '現鈔匯率(銀行買進)',\n",
       " '現鈔匯率(銀行賣出)']"
      ]
     },
     "execution_count": 81,
     "metadata": {},
     "output_type": "execute_result"
    }
   ],
   "source": [
    "ColumnsList"
   ]
  },
  {
   "cell_type": "code",
   "execution_count": 84,
   "metadata": {},
   "outputs": [
    {
     "data": {
      "text/plain": [
       "[['美元USD', '31.3500', '31.4700', '31.3800', '31.4400', '31.0700', '31.6900'],\n",
       " ['歐元EUR', '33.9200', '34.4200', '33.9800', '34.3600', '33.4900', '34.7700'],\n",
       " ['日圓JPY', '0.2116', '0.2166', '0.2126', '0.2156', '0.2076', '0.2186'],\n",
       " ['人民幣CNY', '4.3140', '4.3890', '4.3240', '4.3790', '4.2140', '4.4090'],\n",
       " ['港幣HKD', '3.9790', '4.0490', '3.9890', '4.0390', '3.8990', '4.0890'],\n",
       " ['澳大利亞幣AUD', '20.5900', '20.8500', '20.6200', '20.8200', '--', '--'],\n",
       " ['紐西蘭幣NZD', '19.1800', '19.4800', '19.2000', '19.4600', '--', '--'],\n",
       " ['南非幣ZAR', '1.6010', '1.7210', '1.6060', '1.7160', '--', '--'],\n",
       " ['加拿大幣CAD', '23.1000', '23.5000', '23.1300', '23.4700', '--', '--'],\n",
       " ['英鎊GBP', '39.4400', '40.0600', '39.5000', '40.0000', '--', '--'],\n",
       " ['瑞士法郎CHF', '36.2700', '36.7900', '36.3000', '36.7600', '--', '--'],\n",
       " ['瑞典幣SEK', '2.9540', '3.0740', '2.9640', '3.0640', '--', '--'],\n",
       " ['新加坡幣SGD', '23.2700', '23.5700', '23.3000', '23.5400', '--', '--'],\n",
       " ['泰國幣THB', '0.8580', '0.9180', '0.8610', '0.9150', '--', '--'],\n",
       " ['丹麥幣DKK', '4.5000', '4.6600', '4.5100', '4.6500', '--', '--'],\n",
       " ['土耳其里拉TRY', '0.6830', '1.4030', '0.7130', '1.3730', '--', '--']]"
      ]
     },
     "execution_count": 84,
     "metadata": {},
     "output_type": "execute_result"
    }
   ],
   "source": [
    "Datas"
   ]
  },
  {
   "cell_type": "markdown",
   "metadata": {},
   "source": [
    "##### Export Data as Excel File"
   ]
  },
  {
   "cell_type": "code",
   "execution_count": 85,
   "metadata": {},
   "outputs": [
    {
     "data": {
      "text/html": [
       "<div>\n",
       "<style scoped>\n",
       "    .dataframe tbody tr th:only-of-type {\n",
       "        vertical-align: middle;\n",
       "    }\n",
       "\n",
       "    .dataframe tbody tr th {\n",
       "        vertical-align: top;\n",
       "    }\n",
       "\n",
       "    .dataframe thead th {\n",
       "        text-align: right;\n",
       "    }\n",
       "</style>\n",
       "<table border=\"1\" class=\"dataframe\">\n",
       "  <thead>\n",
       "    <tr style=\"text-align: right;\">\n",
       "      <th></th>\n",
       "      <th>Currency</th>\n",
       "      <th>即期匯率(銀行買進)</th>\n",
       "      <th>即期匯率(銀行賣出)</th>\n",
       "      <th>數位通路優惠匯率(銀行買進)</th>\n",
       "      <th>數位通路優惠匯率(銀行賣出)</th>\n",
       "      <th>現鈔匯率(銀行買進)</th>\n",
       "      <th>現鈔匯率(銀行賣出)</th>\n",
       "    </tr>\n",
       "  </thead>\n",
       "  <tbody>\n",
       "    <tr>\n",
       "      <th>0</th>\n",
       "      <td>美元USD</td>\n",
       "      <td>31.3500</td>\n",
       "      <td>31.4700</td>\n",
       "      <td>31.3800</td>\n",
       "      <td>31.4400</td>\n",
       "      <td>31.0700</td>\n",
       "      <td>31.6900</td>\n",
       "    </tr>\n",
       "    <tr>\n",
       "      <th>1</th>\n",
       "      <td>歐元EUR</td>\n",
       "      <td>33.9200</td>\n",
       "      <td>34.4200</td>\n",
       "      <td>33.9800</td>\n",
       "      <td>34.3600</td>\n",
       "      <td>33.4900</td>\n",
       "      <td>34.7700</td>\n",
       "    </tr>\n",
       "    <tr>\n",
       "      <th>2</th>\n",
       "      <td>日圓JPY</td>\n",
       "      <td>0.2116</td>\n",
       "      <td>0.2166</td>\n",
       "      <td>0.2126</td>\n",
       "      <td>0.2156</td>\n",
       "      <td>0.2076</td>\n",
       "      <td>0.2186</td>\n",
       "    </tr>\n",
       "    <tr>\n",
       "      <th>3</th>\n",
       "      <td>人民幣CNY</td>\n",
       "      <td>4.3140</td>\n",
       "      <td>4.3890</td>\n",
       "      <td>4.3240</td>\n",
       "      <td>4.3790</td>\n",
       "      <td>4.2140</td>\n",
       "      <td>4.4090</td>\n",
       "    </tr>\n",
       "    <tr>\n",
       "      <th>4</th>\n",
       "      <td>港幣HKD</td>\n",
       "      <td>3.9790</td>\n",
       "      <td>4.0490</td>\n",
       "      <td>3.9890</td>\n",
       "      <td>4.0390</td>\n",
       "      <td>3.8990</td>\n",
       "      <td>4.0890</td>\n",
       "    </tr>\n",
       "    <tr>\n",
       "      <th>5</th>\n",
       "      <td>澳大利亞幣AUD</td>\n",
       "      <td>20.5900</td>\n",
       "      <td>20.8500</td>\n",
       "      <td>20.6200</td>\n",
       "      <td>20.8200</td>\n",
       "      <td>--</td>\n",
       "      <td>--</td>\n",
       "    </tr>\n",
       "    <tr>\n",
       "      <th>6</th>\n",
       "      <td>紐西蘭幣NZD</td>\n",
       "      <td>19.1800</td>\n",
       "      <td>19.4800</td>\n",
       "      <td>19.2000</td>\n",
       "      <td>19.4600</td>\n",
       "      <td>--</td>\n",
       "      <td>--</td>\n",
       "    </tr>\n",
       "    <tr>\n",
       "      <th>7</th>\n",
       "      <td>南非幣ZAR</td>\n",
       "      <td>1.6010</td>\n",
       "      <td>1.7210</td>\n",
       "      <td>1.6060</td>\n",
       "      <td>1.7160</td>\n",
       "      <td>--</td>\n",
       "      <td>--</td>\n",
       "    </tr>\n",
       "    <tr>\n",
       "      <th>8</th>\n",
       "      <td>加拿大幣CAD</td>\n",
       "      <td>23.1000</td>\n",
       "      <td>23.5000</td>\n",
       "      <td>23.1300</td>\n",
       "      <td>23.4700</td>\n",
       "      <td>--</td>\n",
       "      <td>--</td>\n",
       "    </tr>\n",
       "    <tr>\n",
       "      <th>9</th>\n",
       "      <td>英鎊GBP</td>\n",
       "      <td>39.4400</td>\n",
       "      <td>40.0600</td>\n",
       "      <td>39.5000</td>\n",
       "      <td>40.0000</td>\n",
       "      <td>--</td>\n",
       "      <td>--</td>\n",
       "    </tr>\n",
       "    <tr>\n",
       "      <th>10</th>\n",
       "      <td>瑞士法郎CHF</td>\n",
       "      <td>36.2700</td>\n",
       "      <td>36.7900</td>\n",
       "      <td>36.3000</td>\n",
       "      <td>36.7600</td>\n",
       "      <td>--</td>\n",
       "      <td>--</td>\n",
       "    </tr>\n",
       "    <tr>\n",
       "      <th>11</th>\n",
       "      <td>瑞典幣SEK</td>\n",
       "      <td>2.9540</td>\n",
       "      <td>3.0740</td>\n",
       "      <td>2.9640</td>\n",
       "      <td>3.0640</td>\n",
       "      <td>--</td>\n",
       "      <td>--</td>\n",
       "    </tr>\n",
       "    <tr>\n",
       "      <th>12</th>\n",
       "      <td>新加坡幣SGD</td>\n",
       "      <td>23.2700</td>\n",
       "      <td>23.5700</td>\n",
       "      <td>23.3000</td>\n",
       "      <td>23.5400</td>\n",
       "      <td>--</td>\n",
       "      <td>--</td>\n",
       "    </tr>\n",
       "    <tr>\n",
       "      <th>13</th>\n",
       "      <td>泰國幣THB</td>\n",
       "      <td>0.8580</td>\n",
       "      <td>0.9180</td>\n",
       "      <td>0.8610</td>\n",
       "      <td>0.9150</td>\n",
       "      <td>--</td>\n",
       "      <td>--</td>\n",
       "    </tr>\n",
       "    <tr>\n",
       "      <th>14</th>\n",
       "      <td>丹麥幣DKK</td>\n",
       "      <td>4.5000</td>\n",
       "      <td>4.6600</td>\n",
       "      <td>4.5100</td>\n",
       "      <td>4.6500</td>\n",
       "      <td>--</td>\n",
       "      <td>--</td>\n",
       "    </tr>\n",
       "    <tr>\n",
       "      <th>15</th>\n",
       "      <td>土耳其里拉TRY</td>\n",
       "      <td>0.6830</td>\n",
       "      <td>1.4030</td>\n",
       "      <td>0.7130</td>\n",
       "      <td>1.3730</td>\n",
       "      <td>--</td>\n",
       "      <td>--</td>\n",
       "    </tr>\n",
       "  </tbody>\n",
       "</table>\n",
       "</div>"
      ],
      "text/plain": [
       "    Currency 即期匯率(銀行買進) 即期匯率(銀行賣出) 數位通路優惠匯率(銀行買進) 數位通路優惠匯率(銀行賣出) 現鈔匯率(銀行買進)  \\\n",
       "0      美元USD    31.3500    31.4700        31.3800        31.4400    31.0700   \n",
       "1      歐元EUR    33.9200    34.4200        33.9800        34.3600    33.4900   \n",
       "2      日圓JPY     0.2116     0.2166         0.2126         0.2156     0.2076   \n",
       "3     人民幣CNY     4.3140     4.3890         4.3240         4.3790     4.2140   \n",
       "4      港幣HKD     3.9790     4.0490         3.9890         4.0390     3.8990   \n",
       "5   澳大利亞幣AUD    20.5900    20.8500        20.6200        20.8200         --   \n",
       "6    紐西蘭幣NZD    19.1800    19.4800        19.2000        19.4600         --   \n",
       "7     南非幣ZAR     1.6010     1.7210         1.6060         1.7160         --   \n",
       "8    加拿大幣CAD    23.1000    23.5000        23.1300        23.4700         --   \n",
       "9      英鎊GBP    39.4400    40.0600        39.5000        40.0000         --   \n",
       "10   瑞士法郎CHF    36.2700    36.7900        36.3000        36.7600         --   \n",
       "11    瑞典幣SEK     2.9540     3.0740         2.9640         3.0640         --   \n",
       "12   新加坡幣SGD    23.2700    23.5700        23.3000        23.5400         --   \n",
       "13    泰國幣THB     0.8580     0.9180         0.8610         0.9150         --   \n",
       "14    丹麥幣DKK     4.5000     4.6600         4.5100         4.6500         --   \n",
       "15  土耳其里拉TRY     0.6830     1.4030         0.7130         1.3730         --   \n",
       "\n",
       "   現鈔匯率(銀行賣出)  \n",
       "0     31.6900  \n",
       "1     34.7700  \n",
       "2      0.2186  \n",
       "3      4.4090  \n",
       "4      4.0890  \n",
       "5          --  \n",
       "6          --  \n",
       "7          --  \n",
       "8          --  \n",
       "9          --  \n",
       "10         --  \n",
       "11         --  \n",
       "12         --  \n",
       "13         --  \n",
       "14         --  \n",
       "15         --  "
      ]
     },
     "execution_count": 85,
     "metadata": {},
     "output_type": "execute_result"
    }
   ],
   "source": [
    "df = pd.DataFrame(Datas,columns=ColumnsList)\n",
    "df"
   ]
  },
  {
   "cell_type": "code",
   "execution_count": 86,
   "metadata": {},
   "outputs": [],
   "source": [
    "df.to_csv('./Output/Quiz_2/CathayUnitedBank_CurrencyExchangeRate.csv', encoding='utf-8-sig')"
   ]
  }
 ],
 "metadata": {
  "kernelspec": {
   "display_name": "Python 3",
   "language": "python",
   "name": "python3"
  },
  "language_info": {
   "codemirror_mode": {
    "name": "ipython",
    "version": 3
   },
   "file_extension": ".py",
   "mimetype": "text/x-python",
   "name": "python",
   "nbconvert_exporter": "python",
   "pygments_lexer": "ipython3",
   "version": "3.12.1"
  }
 },
 "nbformat": 4,
 "nbformat_minor": 2
}
