{
 "cells": [
  {
   "cell_type": "markdown",
   "metadata": {},
   "source": [
    "# Web Scraping Practice"
   ]
  },
  {
   "cell_type": "code",
   "execution_count": 1,
   "metadata": {},
   "outputs": [],
   "source": [
    "import requests\n",
    "from bs4 import BeautifulSoup\n",
    "import pandas as pd\n",
    "import pyshorteners \n",
    "from datetime import datetime as dt"
   ]
  },
  {
   "cell_type": "markdown",
   "metadata": {},
   "source": [
    "##### Define GetSoup function for future use"
   ]
  },
  {
   "cell_type": "code",
   "execution_count": 2,
   "metadata": {},
   "outputs": [],
   "source": [
    "def getSoup(url):\n",
    "  try:\n",
    "    resp=requests.get(url)\n",
    "    resp.encoding='utf-8'\n",
    "    if resp.status_code == 200:\n",
    "      return BeautifulSoup(resp.text,'lxml')\n",
    "    else:\n",
    "      return 'Error:Status_code'+ str(resp.status_code)\n",
    "\n",
    "  except Exception as e:\n",
    "    return e"
   ]
  },
  {
   "cell_type": "markdown",
   "metadata": {},
   "source": [
    "### CHANG HWA COMMERCIAL BANK Currency Exchange Rate -- With Time Flag"
   ]
  },
  {
   "cell_type": "code",
   "execution_count": null,
   "metadata": {},
   "outputs": [],
   "source": [
    "url='https://ae.chb.com.tw/accessible/faces/login/CERates_View'\n",
    "ResPage = getSoup(url)\n",
    "ResPage"
   ]
  },
  {
   "cell_type": "code",
   "execution_count": 4,
   "metadata": {},
   "outputs": [
    {
     "data": {
      "text/plain": [
       "2"
      ]
     },
     "execution_count": 4,
     "metadata": {},
     "output_type": "execute_result"
    }
   ],
   "source": [
    "Table_ExchangeRate = ResPage.find_all('table')\n",
    "len(Table_ExchangeRate)"
   ]
  },
  {
   "cell_type": "markdown",
   "metadata": {},
   "source": [
    "> Use Table 1 as main source"
   ]
  },
  {
   "cell_type": "code",
   "execution_count": null,
   "metadata": {},
   "outputs": [],
   "source": [
    "Table_ExchangeRate[1]"
   ]
  },
  {
   "cell_type": "markdown",
   "metadata": {},
   "source": [
    "##### Build up Column List"
   ]
  },
  {
   "cell_type": "code",
   "execution_count": 7,
   "metadata": {},
   "outputs": [],
   "source": [
    "ColumnList = [\"幣別名稱\",\"買入價格\",\"賣出價格\"]"
   ]
  },
  {
   "cell_type": "markdown",
   "metadata": {},
   "source": [
    "##### Build up Row Data List"
   ]
  },
  {
   "cell_type": "code",
   "execution_count": 18,
   "metadata": {},
   "outputs": [
    {
     "name": "stdout",
     "output_type": "stream",
     "text": [
      "美金小額(USD)\t31.4930\t31.5930\t"
     ]
    }
   ],
   "source": [
    "Table_Body = Table_ExchangeRate[1].find('tbody').find_all('tr')\n",
    "\n",
    "print(Table_Body[0].find('th').text, end='\\t')\n",
    "\n",
    "for item in Table_Body[0].find_all('td'):\n",
    "    print(item.text, end='\\t')"
   ]
  },
  {
   "cell_type": "markdown",
   "metadata": {},
   "source": [
    "##### Traversal the entire table"
   ]
  },
  {
   "cell_type": "code",
   "execution_count": 21,
   "metadata": {},
   "outputs": [
    {
     "data": {
      "text/plain": [
       "[['美金小額(USD)', '31.4930', '31.5930'],\n",
       " ['美金現鈔(USD-C)', '31.2430', '31.8130'],\n",
       " ['英鎊(GBP)', '39.6210', '40.0210'],\n",
       " ['澳幣(AUD)', '20.6300', '20.8300'],\n",
       " ['港幣(HKD)', '4.0050', '4.0550'],\n",
       " ['港幣現鈔(HKD-C)', '3.9200', '4.0800'],\n",
       " ['新加坡幣(SGD)', '23.3750', '23.5750'],\n",
       " ['加拿大幣(CAD)', '23.2740', '23.4740'],\n",
       " ['瑞士法朗(CHF)', '36.4590', '36.7190'],\n",
       " ['南非幣(ZAR)', '1.6100', '1.7100'],\n",
       " ['瑞典幣(SEK)', '2.9700', '3.0700'],\n",
       " ['日圓(JPY)', '0.2121', '0.2161'],\n",
       " ['日圓現鈔(JPY-C)', '0.2096', '0.2176'],\n",
       " ['泰銖(THB)', '0.8724', '0.9124'],\n",
       " ['歐元(EUR)', '34.0890', '34.4890'],\n",
       " ['歐元現鈔(EUR-C)', '33.6890', '34.7890'],\n",
       " ['紐西蘭幣(NZD)', '19.2480', '19.4480'],\n",
       " ['人民幣(CNY)', '4.3504', '4.3944'],\n",
       " ['人民幣現鈔(CNY-C)', '4.2724', '4.4724']]"
      ]
     },
     "execution_count": 21,
     "metadata": {},
     "output_type": "execute_result"
    }
   ],
   "source": [
    "RowData = []\n",
    "DataSet = []\n",
    "\n",
    "for row_data in Table_ExchangeRate[1].find('tbody').find_all('tr'):\n",
    "    #Get Currency Name:\n",
    "    RowData.append(row_data.find('th').text)\n",
    "\n",
    "    #Get Exchange Rate Data:\n",
    "    for item in row_data.find_all('td'):\n",
    "        RowData.append(item.text)\n",
    "\n",
    "    DataSet.append(RowData)\n",
    "    RowData = []\n",
    "\n",
    "DataSet "
   ]
  },
  {
   "cell_type": "markdown",
   "metadata": {},
   "source": [
    "##### Export as Excel File with timestamp"
   ]
  },
  {
   "cell_type": "code",
   "execution_count": 22,
   "metadata": {},
   "outputs": [
    {
     "data": {
      "text/html": [
       "<div>\n",
       "<style scoped>\n",
       "    .dataframe tbody tr th:only-of-type {\n",
       "        vertical-align: middle;\n",
       "    }\n",
       "\n",
       "    .dataframe tbody tr th {\n",
       "        vertical-align: top;\n",
       "    }\n",
       "\n",
       "    .dataframe thead th {\n",
       "        text-align: right;\n",
       "    }\n",
       "</style>\n",
       "<table border=\"1\" class=\"dataframe\">\n",
       "  <thead>\n",
       "    <tr style=\"text-align: right;\">\n",
       "      <th></th>\n",
       "      <th>幣別名稱</th>\n",
       "      <th>買入價格</th>\n",
       "      <th>賣出價格</th>\n",
       "    </tr>\n",
       "  </thead>\n",
       "  <tbody>\n",
       "    <tr>\n",
       "      <th>0</th>\n",
       "      <td>美金小額(USD)</td>\n",
       "      <td>31.4930</td>\n",
       "      <td>31.5930</td>\n",
       "    </tr>\n",
       "    <tr>\n",
       "      <th>1</th>\n",
       "      <td>美金現鈔(USD-C)</td>\n",
       "      <td>31.2430</td>\n",
       "      <td>31.8130</td>\n",
       "    </tr>\n",
       "    <tr>\n",
       "      <th>2</th>\n",
       "      <td>英鎊(GBP)</td>\n",
       "      <td>39.6210</td>\n",
       "      <td>40.0210</td>\n",
       "    </tr>\n",
       "    <tr>\n",
       "      <th>3</th>\n",
       "      <td>澳幣(AUD)</td>\n",
       "      <td>20.6300</td>\n",
       "      <td>20.8300</td>\n",
       "    </tr>\n",
       "    <tr>\n",
       "      <th>4</th>\n",
       "      <td>港幣(HKD)</td>\n",
       "      <td>4.0050</td>\n",
       "      <td>4.0550</td>\n",
       "    </tr>\n",
       "    <tr>\n",
       "      <th>5</th>\n",
       "      <td>港幣現鈔(HKD-C)</td>\n",
       "      <td>3.9200</td>\n",
       "      <td>4.0800</td>\n",
       "    </tr>\n",
       "    <tr>\n",
       "      <th>6</th>\n",
       "      <td>新加坡幣(SGD)</td>\n",
       "      <td>23.3750</td>\n",
       "      <td>23.5750</td>\n",
       "    </tr>\n",
       "    <tr>\n",
       "      <th>7</th>\n",
       "      <td>加拿大幣(CAD)</td>\n",
       "      <td>23.2740</td>\n",
       "      <td>23.4740</td>\n",
       "    </tr>\n",
       "    <tr>\n",
       "      <th>8</th>\n",
       "      <td>瑞士法朗(CHF)</td>\n",
       "      <td>36.4590</td>\n",
       "      <td>36.7190</td>\n",
       "    </tr>\n",
       "    <tr>\n",
       "      <th>9</th>\n",
       "      <td>南非幣(ZAR)</td>\n",
       "      <td>1.6100</td>\n",
       "      <td>1.7100</td>\n",
       "    </tr>\n",
       "    <tr>\n",
       "      <th>10</th>\n",
       "      <td>瑞典幣(SEK)</td>\n",
       "      <td>2.9700</td>\n",
       "      <td>3.0700</td>\n",
       "    </tr>\n",
       "    <tr>\n",
       "      <th>11</th>\n",
       "      <td>日圓(JPY)</td>\n",
       "      <td>0.2121</td>\n",
       "      <td>0.2161</td>\n",
       "    </tr>\n",
       "    <tr>\n",
       "      <th>12</th>\n",
       "      <td>日圓現鈔(JPY-C)</td>\n",
       "      <td>0.2096</td>\n",
       "      <td>0.2176</td>\n",
       "    </tr>\n",
       "    <tr>\n",
       "      <th>13</th>\n",
       "      <td>泰銖(THB)</td>\n",
       "      <td>0.8724</td>\n",
       "      <td>0.9124</td>\n",
       "    </tr>\n",
       "    <tr>\n",
       "      <th>14</th>\n",
       "      <td>歐元(EUR)</td>\n",
       "      <td>34.0890</td>\n",
       "      <td>34.4890</td>\n",
       "    </tr>\n",
       "    <tr>\n",
       "      <th>15</th>\n",
       "      <td>歐元現鈔(EUR-C)</td>\n",
       "      <td>33.6890</td>\n",
       "      <td>34.7890</td>\n",
       "    </tr>\n",
       "    <tr>\n",
       "      <th>16</th>\n",
       "      <td>紐西蘭幣(NZD)</td>\n",
       "      <td>19.2480</td>\n",
       "      <td>19.4480</td>\n",
       "    </tr>\n",
       "    <tr>\n",
       "      <th>17</th>\n",
       "      <td>人民幣(CNY)</td>\n",
       "      <td>4.3504</td>\n",
       "      <td>4.3944</td>\n",
       "    </tr>\n",
       "    <tr>\n",
       "      <th>18</th>\n",
       "      <td>人民幣現鈔(CNY-C)</td>\n",
       "      <td>4.2724</td>\n",
       "      <td>4.4724</td>\n",
       "    </tr>\n",
       "  </tbody>\n",
       "</table>\n",
       "</div>"
      ],
      "text/plain": [
       "            幣別名稱     買入價格     賣出價格\n",
       "0      美金小額(USD)  31.4930  31.5930\n",
       "1    美金現鈔(USD-C)  31.2430  31.8130\n",
       "2        英鎊(GBP)  39.6210  40.0210\n",
       "3        澳幣(AUD)  20.6300  20.8300\n",
       "4        港幣(HKD)   4.0050   4.0550\n",
       "5    港幣現鈔(HKD-C)   3.9200   4.0800\n",
       "6      新加坡幣(SGD)  23.3750  23.5750\n",
       "7      加拿大幣(CAD)  23.2740  23.4740\n",
       "8      瑞士法朗(CHF)  36.4590  36.7190\n",
       "9       南非幣(ZAR)   1.6100   1.7100\n",
       "10      瑞典幣(SEK)   2.9700   3.0700\n",
       "11       日圓(JPY)   0.2121   0.2161\n",
       "12   日圓現鈔(JPY-C)   0.2096   0.2176\n",
       "13       泰銖(THB)   0.8724   0.9124\n",
       "14       歐元(EUR)  34.0890  34.4890\n",
       "15   歐元現鈔(EUR-C)  33.6890  34.7890\n",
       "16     紐西蘭幣(NZD)  19.2480  19.4480\n",
       "17      人民幣(CNY)   4.3504   4.3944\n",
       "18  人民幣現鈔(CNY-C)   4.2724   4.4724"
      ]
     },
     "execution_count": 22,
     "metadata": {},
     "output_type": "execute_result"
    }
   ],
   "source": [
    "df = pd.DataFrame(DataSet,columns=ColumnList)\n",
    "df"
   ]
  },
  {
   "cell_type": "code",
   "execution_count": 23,
   "metadata": {},
   "outputs": [],
   "source": [
    "today = dt.now().strftime(\"%Y%m%d_%H%M%S\")\n",
    "df.to_csv(f\"./Output/Quiz_5/ChangHwaBank_CER_{today}.csv\",encoding='utf-8-sig')"
   ]
  },
  {
   "cell_type": "code",
   "execution_count": null,
   "metadata": {},
   "outputs": [],
   "source": []
  }
 ],
 "metadata": {
  "kernelspec": {
   "display_name": "Python 3",
   "language": "python",
   "name": "python3"
  },
  "language_info": {
   "codemirror_mode": {
    "name": "ipython",
    "version": 3
   },
   "file_extension": ".py",
   "mimetype": "text/x-python",
   "name": "python",
   "nbconvert_exporter": "python",
   "pygments_lexer": "ipython3",
   "version": "3.12.1"
  }
 },
 "nbformat": 4,
 "nbformat_minor": 2
}
