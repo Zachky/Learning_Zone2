{
 "cells": [
  {
   "cell_type": "markdown",
   "metadata": {},
   "source": [
    "# Web Scraping Practice"
   ]
  },
  {
   "cell_type": "code",
   "execution_count": 2,
   "metadata": {},
   "outputs": [],
   "source": [
    "import requests\n",
    "from bs4 import BeautifulSoup\n",
    "import pandas as pd"
   ]
  },
  {
   "cell_type": "markdown",
   "metadata": {},
   "source": [
    "##### Define GetSoup function for future use"
   ]
  },
  {
   "cell_type": "code",
   "execution_count": 3,
   "metadata": {},
   "outputs": [],
   "source": [
    "def getSoup(url):\n",
    "  try:\n",
    "    resp=requests.get(url)\n",
    "    resp.encoding='utf-8'\n",
    "    if resp.status_code == 200:\n",
    "      return BeautifulSoup(resp.text,'lxml')\n",
    "    else:\n",
    "      return 'Error:Status_code'+ str(resp.status_code)\n",
    "\n",
    "  except Exception as e:\n",
    "    return e"
   ]
  },
  {
   "cell_type": "markdown",
   "metadata": {},
   "source": [
    "### E.SUN BANK Currency Exchange Rate"
   ]
  },
  {
   "cell_type": "code",
   "execution_count": null,
   "metadata": {},
   "outputs": [],
   "source": [
    "url='https://www.esunbank.com/zh-tw/personal/deposit/rate/forex/foreign-exchange-rates'\n",
    "ResPage = getSoup(url)\n",
    "ResPage"
   ]
  },
  {
   "cell_type": "markdown",
   "metadata": {},
   "source": [
    "##### 1. Get Table Content"
   ]
  },
  {
   "cell_type": "code",
   "execution_count": 13,
   "metadata": {},
   "outputs": [
    {
     "data": {
      "text/plain": [
       "1"
      ]
     },
     "execution_count": 13,
     "metadata": {},
     "output_type": "execute_result"
    }
   ],
   "source": [
    "Table_ExchangeRate = ResPage.find_all('table', class_=\"l-exchangeRate__block\")\n",
    "len(Table_ExchangeRate)"
   ]
  },
  {
   "cell_type": "markdown",
   "metadata": {},
   "source": [
    "> Get title list"
   ]
  },
  {
   "cell_type": "code",
   "execution_count": 18,
   "metadata": {},
   "outputs": [
    {
     "data": {
      "text/plain": [
       "['', '即期匯率', '網銀/App優惠', '現金匯率']"
      ]
     },
     "execution_count": 18,
     "metadata": {},
     "output_type": "execute_result"
    }
   ],
   "source": [
    "TempList = Table_ExchangeRate[0].find('thead').find_all('th')\n",
    "TitleList = [ item.text for item in TempList ];TitleList\n",
    "ColumnList = []"
   ]
  },
  {
   "cell_type": "markdown",
   "metadata": {},
   "source": [
    "> Get subtitle list and content"
   ]
  },
  {
   "cell_type": "code",
   "execution_count": null,
   "metadata": {},
   "outputs": [],
   "source": [
    "BodyList = Table_ExchangeRate[0].find('tbody', class_='l-exchangeRate__table result').find_all('tr');BodyList[1]"
   ]
  },
  {
   "cell_type": "markdown",
   "metadata": {},
   "source": [
    "> Get Subtitle"
   ]
  },
  {
   "cell_type": "code",
   "execution_count": 28,
   "metadata": {},
   "outputs": [
    {
     "data": {
      "text/plain": [
       "[<td></td>,\n",
       " <td>銀行買入</td>,\n",
       " <td>銀行賣出</td>,\n",
       " <td class=\"text-highlight\">銀行買入</td>,\n",
       " <td class=\"text-highlight\">銀行賣出</td>,\n",
       " <td>銀行買入</td>,\n",
       " <td>銀行賣出</td>]"
      ]
     },
     "execution_count": 28,
     "metadata": {},
     "output_type": "execute_result"
    }
   ],
   "source": [
    "\n",
    "\n",
    "# for Title in TitleList:\n",
    "#     if Title != '':\n",
    "#         for SubTitle in BodyList[0].find_all('td'):\n",
    "#             if SubTitle != '':\n"
   ]
  },
  {
   "cell_type": "code",
   "execution_count": null,
   "metadata": {},
   "outputs": [],
   "source": []
  }
 ],
 "metadata": {
  "kernelspec": {
   "display_name": "Python 3",
   "language": "python",
   "name": "python3"
  },
  "language_info": {
   "codemirror_mode": {
    "name": "ipython",
    "version": 3
   },
   "file_extension": ".py",
   "mimetype": "text/x-python",
   "name": "python",
   "nbconvert_exporter": "python",
   "pygments_lexer": "ipython3",
   "version": "3.12.1"
  }
 },
 "nbformat": 4,
 "nbformat_minor": 2
}
