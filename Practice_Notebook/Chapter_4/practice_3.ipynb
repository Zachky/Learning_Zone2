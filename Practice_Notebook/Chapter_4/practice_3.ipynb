{
 "cells": [
  {
   "cell_type": "code",
   "execution_count": 1,
   "metadata": {},
   "outputs": [],
   "source": [
    "import Zach_Library as Zach"
   ]
  },
  {
   "cell_type": "code",
   "execution_count": 2,
   "metadata": {},
   "outputs": [
    {
     "data": {
      "text/plain": [
       "<selenium.webdriver.chrome.webdriver.WebDriver (session=\"111e7612389cef624150d9afd896a1fd\")>"
      ]
     },
     "execution_count": 2,
     "metadata": {},
     "output_type": "execute_result"
    }
   ],
   "source": [
    "Url = 'https://www.youtube.com/'\n",
    "TubeBot = Zach.get_chrome(Url)\n",
    "TubeBot"
   ]
  },
  {
   "cell_type": "markdown",
   "metadata": {},
   "source": [
    "Search"
   ]
  },
  {
   "cell_type": "code",
   "execution_count": 3,
   "metadata": {},
   "outputs": [
    {
     "data": {
      "text/plain": [
       "<selenium.webdriver.remote.webelement.WebElement (session=\"111e7612389cef624150d9afd896a1fd\", element=\"30B3A6FC2E5993AF0E544D2C5C77B05C_element_4\")>"
      ]
     },
     "execution_count": 3,
     "metadata": {},
     "output_type": "execute_result"
    }
   ],
   "source": [
    "SearchInput = Zach.find_elemental(TubeBot,'/html/body/ytd-app/div[1]/div/ytd-masthead/div[4]/div[2]/ytd-searchbox/form/div[1]/div[1]/input') \n",
    "SearchInput"
   ]
  },
  {
   "cell_type": "code",
   "execution_count": 4,
   "metadata": {},
   "outputs": [],
   "source": [
    "SearchInput.send_keys('電影')\n",
    "SearchInput.send_keys(Zach.Keys.ENTER)"
   ]
  },
  {
   "cell_type": "markdown",
   "metadata": {},
   "source": [
    "> Filter open"
   ]
  },
  {
   "cell_type": "code",
   "execution_count": 5,
   "metadata": {},
   "outputs": [
    {
     "data": {
      "text/plain": [
       "<selenium.webdriver.remote.webelement.WebElement (session=\"111e7612389cef624150d9afd896a1fd\", element=\"30B3A6FC2E5993AF0E544D2C5C77B05C_element_18\")>"
      ]
     },
     "execution_count": 5,
     "metadata": {},
     "output_type": "execute_result"
    }
   ],
   "source": [
    "Filter = Zach.find_elemental(TubeBot,'/html/body/ytd-app/div[1]/ytd-page-manager/ytd-search/div[1]/div/ytd-search-header-renderer/div[3]/ytd-button-renderer/yt-button-shape/button/yt-touch-feedback-shape/div/div[2]') \n",
    "Filter"
   ]
  },
  {
   "cell_type": "code",
   "execution_count": 6,
   "metadata": {},
   "outputs": [],
   "source": [
    "Filter.click()"
   ]
  },
  {
   "cell_type": "markdown",
   "metadata": {},
   "source": [
    "> Select 20 min Video"
   ]
  },
  {
   "cell_type": "code",
   "execution_count": 9,
   "metadata": {},
   "outputs": [
    {
     "data": {
      "text/plain": [
       "<selenium.webdriver.remote.webelement.WebElement (session=\"111e7612389cef624150d9afd896a1fd\", element=\"30B3A6FC2E5993AF0E544D2C5C77B05C_element_20\")>"
      ]
     },
     "execution_count": 9,
     "metadata": {},
     "output_type": "execute_result"
    }
   ],
   "source": [
    "Select20min = Zach.find_elemental(TubeBot,'/html/body/ytd-app/ytd-popup-container/tp-yt-paper-dialog/ytd-search-filter-options-dialog-renderer/div[2]/ytd-search-filter-group-renderer[3]/ytd-search-filter-renderer[3]/a') \n",
    "Select20min"
   ]
  },
  {
   "cell_type": "code",
   "execution_count": 10,
   "metadata": {},
   "outputs": [],
   "source": [
    "Select20min.click()"
   ]
  },
  {
   "cell_type": "markdown",
   "metadata": {},
   "source": [
    "> Scrape Content"
   ]
  },
  {
   "cell_type": "markdown",
   "metadata": {},
   "source": [
    "Finish Scraping "
   ]
  },
  {
   "cell_type": "code",
   "execution_count": null,
   "metadata": {},
   "outputs": [],
   "source": [
    "soup=Zach.BeautifulSoup(TubeBot.page_source)\n",
    "soup"
   ]
  },
  {
   "cell_type": "code",
   "execution_count": 12,
   "metadata": {},
   "outputs": [
    {
     "data": {
      "text/plain": [
       "20"
      ]
     },
     "execution_count": 12,
     "metadata": {},
     "output_type": "execute_result"
    }
   ],
   "source": [
    "videos = soup.find_all('ytd-video-renderer',class_='style-scope ytd-item-section-renderer')\n",
    "len(videos)"
   ]
  },
  {
   "cell_type": "code",
   "execution_count": 14,
   "metadata": {},
   "outputs": [
    {
     "data": {
      "text/plain": [
       "<ytd-video-renderer bigger-thumbs-style=\"DEFAULT\" class=\"style-scope ytd-item-section-renderer\" inline-title-icon=\"\" is-search=\"\" lockup=\"true\" use-search-ui=\"\"><!--css-build:shady--><!--css-build:shady--><div class=\"style-scope ytd-video-renderer\" id=\"dismissible\">\n",
       "<ytd-thumbnail class=\"style-scope ytd-video-renderer\" loaded=\"\" size=\"large\" use-hovered-property=\"\"><!--css-build:shady--><!--css-build:shady--><a aria-hidden=\"true\" class=\"yt-simple-endpoint inline-block style-scope ytd-thumbnail\" href=\"/watch?v=hSKAzr7W6cI&amp;pp=ygUG6Zu75b2x\" id=\"thumbnail\" rel=\"null\" tabindex=\"-1\">\n",
       "<yt-image alt=\"\" class=\"style-scope ytd-thumbnail\" ftl-eligible=\"\" notify-on-loaded=\"\" notify-on-unloaded=\"\"><img alt=\"\" class=\"yt-core-image--fill-parent-height yt-core-image--fill-parent-width yt-core-image yt-core-image--content-mode-scale-aspect-fill yt-core-image--loaded\" src=\"https://i.ytimg.com/vi/hSKAzr7W6cI/hq720.jpg?sqp=-oaymwEcCOgCEMoBSFXyq4qpAw4IARUAAIhCGAFwAcABBg==&amp;rs=AOn4CLBbK9mN4TmoGzJo8K3KudqcdMO1yA\" style=\"background-color: transparent;\"/></yt-image>\n",
       "<div class=\"style-scope ytd-thumbnail\" id=\"overlays\"><ytd-thumbnail-overlay-time-status-renderer class=\"style-scope ytd-thumbnail\" overlay-style=\"DEFAULT\"><!--css-build:shady--><!--css-build:shady--><ytd-badge-supported-renderer class=\"style-scope ytd-thumbnail-overlay-time-status-renderer\" is-thumbnail-badge=\"\" system-icons=\"\"><!--css-build:shady--><!--css-build:shady--><dom-repeat as=\"badge\" class=\"style-scope ytd-badge-supported-renderer\" id=\"repeat\"><template is=\"dom-repeat\"></template></dom-repeat></ytd-badge-supported-renderer><div class=\"style-scope ytd-thumbnail-overlay-time-status-renderer\" id=\"time-status\"><yt-icon class=\"style-scope ytd-thumbnail-overlay-time-status-renderer\" disable-upgrade=\"\" hidden=\"\" size=\"16\"></yt-icon><span aria-label=\"2 小時 31 秒\" class=\"style-scope ytd-thumbnail-overlay-time-status-renderer\" id=\"text\">\n",
       "    2:00:31\n",
       "  </span></div></ytd-thumbnail-overlay-time-status-renderer><ytd-thumbnail-overlay-now-playing-renderer class=\"style-scope ytd-thumbnail\"><!--css-build:shady--><!--css-build:shady--><span class=\"style-scope ytd-thumbnail-overlay-now-playing-renderer\" id=\"overlay-text\">現正播放</span>\n",
       "<ytd-thumbnail-overlay-equalizer class=\"style-scope ytd-thumbnail-overlay-now-playing-renderer\"><!--css-build:shady--><!--css-build:shady--><svg class=\"style-scope ytd-thumbnail-overlay-equalizer\" id=\"equalizer\" viewbox=\"0 0 55 95\" xmlns=\"http://www.w3.org/2000/svg\">\n",
       "<g class=\"style-scope ytd-thumbnail-overlay-equalizer\">\n",
       "<rect class=\"bar style-scope ytd-thumbnail-overlay-equalizer\" x=\"0\"></rect>\n",
       "<rect class=\"bar style-scope ytd-thumbnail-overlay-equalizer\" x=\"20\"></rect>\n",
       "<rect class=\"bar style-scope ytd-thumbnail-overlay-equalizer\" x=\"40\"></rect>\n",
       "</g>\n",
       "</svg>\n",
       "</ytd-thumbnail-overlay-equalizer>\n",
       "</ytd-thumbnail-overlay-now-playing-renderer></div>\n",
       "<div class=\"style-scope ytd-thumbnail\" id=\"mouseover-overlay\"></div>\n",
       "<div class=\"style-scope ytd-thumbnail\" id=\"hover-overlays\"></div>\n",
       "</a>\n",
       "</ytd-thumbnail>\n",
       "<div class=\"text-wrapper style-scope ytd-video-renderer\">\n",
       "<div class=\"style-scope ytd-video-renderer\" id=\"meta\">\n",
       "<div class=\"style-scope ytd-video-renderer\" id=\"title-wrapper\">\n",
       "<h3 class=\"title-and-badge style-scope ytd-video-renderer\">\n",
       "<ytd-badge-supported-renderer class=\"style-scope ytd-video-renderer\" collection-truncate=\"\" disable-upgrade=\"\" hidden=\"\">\n",
       "</ytd-badge-supported-renderer>\n",
       "<a aria-label=\"《 刀尖 》HD 1080P 高清 完整 未刪減 - 2024 電影 2024 最新電影 2024 新電影 2024 上傳者：电影 最新电影 2024 觀看次數：64,702次 13 天前 2 小時\" class=\"yt-simple-endpoint style-scope ytd-video-renderer\" href=\"/watch?v=hSKAzr7W6cI&amp;pp=ygUG6Zu75b2x\" id=\"video-title\" title=\"《 刀尖 》HD 1080P 高清 完整 未刪減 - 2024 電影 2024 最新電影 2024 新電影 2024\">\n",
       "<yt-icon class=\"style-scope ytd-video-renderer\" hidden=\"\" id=\"inline-title-icon\"><!--css-build:shady--><!--css-build:shady--></yt-icon>\n",
       "<yt-formatted-string aria-label=\"《 刀尖 》HD 1080P 高清 完整 未刪減 - 2024 電影 2024 最新電影 2024 新電影 2024 上傳者：电影 最新电影 2024 觀看次數：64,702次 13 天前 2 小時\" class=\"style-scope ytd-video-renderer\">《 刀尖 》HD 1080P 高清 完整 未刪減 - 2024 電影 2024 最新電影 2024 新電影 2024</yt-formatted-string>\n",
       "</a>\n",
       "</h3>\n",
       "<div class=\"style-scope ytd-video-renderer\" id=\"menu\"><ytd-menu-renderer class=\"style-scope ytd-video-renderer\" safe-area=\"\"><!--css-build:shady--><!--css-build:shady--><div class=\"top-level-buttons style-scope ytd-menu-renderer\" id=\"top-level-buttons-computed\"></div><div class=\"style-scope ytd-menu-renderer\" id=\"flexible-item-buttons\"></div><yt-icon-button class=\"dropdown-trigger style-scope ytd-menu-renderer\" id=\"button\" style-target=\"button\"><!--css-build:shady--><!--css-build:shady--><button aria-label=\"動作選單\" class=\"style-scope yt-icon-button\" id=\"button\"><yt-icon class=\"style-scope ytd-menu-renderer\"><!--css-build:shady--><!--css-build:shady--><yt-icon-shape class=\"style-scope yt-icon\"><icon-shape class=\"yt-spec-icon-shape\"><div style=\"width: 100%; height: 100%; fill: currentcolor;\"><svg enable-background=\"new 0 0 24 24\" focusable=\"false\" height=\"24\" style=\"pointer-events: none; display: block; width: 100%; height: 100%;\" viewbox=\"0 0 24 24\" width=\"24\" xmlns=\"http://www.w3.org/2000/svg\"><path d=\"M12 16.5c.83 0 1.5.67 1.5 1.5s-.67 1.5-1.5 1.5-1.5-.67-1.5-1.5.67-1.5 1.5-1.5zM10.5 12c0 .83.67 1.5 1.5 1.5s1.5-.67 1.5-1.5-.67-1.5-1.5-1.5-1.5.67-1.5 1.5zm0-6c0 .83.67 1.5 1.5 1.5s1.5-.67 1.5-1.5-.67-1.5-1.5-1.5-1.5.67-1.5 1.5z\"></path></svg></div></icon-shape></yt-icon-shape></yt-icon></button><yt-interaction class=\"circular style-scope yt-icon-button\" id=\"interaction\"><!--css-build:shady--><!--css-build:shady--><div class=\"stroke style-scope yt-interaction\"></div><div class=\"fill style-scope yt-interaction\"></div></yt-interaction></yt-icon-button><yt-button-shape class=\"style-scope ytd-menu-renderer\" disable-upgrade=\"\" hidden=\"\" id=\"button-shape\" version=\"modern\"></yt-button-shape></ytd-menu-renderer></div>\n",
       "</div>\n",
       "<ytd-video-meta-block amsterdam-post-mvp=\"\" class=\"style-scope ytd-video-renderer byline-separated\"><!--css-build:shady--><!--css-build:shady-->\n",
       "<div class=\"style-scope ytd-video-meta-block\" id=\"metadata\">\n",
       "<div class=\"style-scope ytd-video-meta-block\" hidden=\"\" id=\"byline-container\">\n",
       "<ytd-channel-name class=\"style-scope ytd-video-meta-block style-scope ytd-video-meta-block\" id=\"channel-name\"><!--css-build:shady--><!--css-build:shady--><div class=\"style-scope ytd-channel-name\" id=\"container\">\n",
       "<div class=\"style-scope ytd-channel-name\" id=\"text-container\">\n",
       "<yt-formatted-string class=\"style-scope ytd-channel-name complex-string\" ellipsis-truncate=\"\" ellipsis-truncate-styling=\"\" has-link-only_=\"\" id=\"text\" link-inherit-color=\"\" title=\"电影 最新电影 2024\"><a class=\"yt-simple-endpoint style-scope yt-formatted-string\" dir=\"auto\" href=\"/@zxdy2024\" spellcheck=\"false\">电影 最新电影 2024</a></yt-formatted-string>\n",
       "</div>\n",
       "<tp-yt-paper-tooltip class=\"style-scope ytd-channel-name\" fit-to-visible-bounds=\"\" role=\"tooltip\" tabindex=\"-1\"><!--css-build:shady--><div class=\"hidden style-scope tp-yt-paper-tooltip\" id=\"tooltip\" style-target=\"tooltip\">\n",
       "  \n",
       "    电影 最新电影 2024\n",
       "  \n",
       "</div>\n",
       "</tp-yt-paper-tooltip>\n",
       "</div>\n",
       "<ytd-badge-supported-renderer class=\"style-scope ytd-channel-name\" disable-upgrade=\"\" hidden=\"\">\n",
       "</ytd-badge-supported-renderer>\n",
       "</ytd-channel-name>\n",
       "<div class=\"style-scope ytd-video-meta-block\" id=\"separator\">•</div>\n",
       "<yt-formatted-string class=\"style-scope ytd-video-meta-block\" hidden=\"\" id=\"video-info\" is-empty=\"\"><!--css-build:shady--><!--css-build:shady--><yt-attributed-string class=\"style-scope yt-formatted-string\"></yt-attributed-string></yt-formatted-string>\n",
       "</div>\n",
       "<div class=\"style-scope ytd-video-meta-block\" id=\"metadata-line\">\n",
       "<ytd-badge-supported-renderer class=\"inline-metadata-badge style-scope ytd-video-meta-block\" hidden=\"\" system-icons=\"\"><!--css-build:shady--><!--css-build:shady--><dom-repeat as=\"badge\" class=\"style-scope ytd-badge-supported-renderer\" id=\"repeat\"><template is=\"dom-repeat\"></template></dom-repeat></ytd-badge-supported-renderer>\n",
       "<div class=\"style-scope ytd-video-meta-block\" hidden=\"\" id=\"separator\">•</div>\n",
       "<span class=\"inline-metadata-item style-scope ytd-video-meta-block\">觀看次數：6.4萬次</span>\n",
       "<span class=\"inline-metadata-item style-scope ytd-video-meta-block\">13 天前</span>\n",
       "<dom-repeat class=\"style-scope ytd-video-meta-block\" strip-whitespace=\"\"><template is=\"dom-repeat\"></template></dom-repeat>\n",
       "</div>\n",
       "</div>\n",
       "<div class=\"style-scope ytd-video-meta-block\" id=\"additional-metadata-line\">\n",
       "<dom-repeat class=\"style-scope ytd-video-meta-block\"><template is=\"dom-repeat\"></template></dom-repeat>\n",
       "</div>\n",
       "</ytd-video-meta-block>\n",
       "</div>\n",
       "<div class=\"style-scope ytd-video-renderer\" id=\"channel-info\">\n",
       "<a aria-label=\"前往頻道\" class=\"style-scope ytd-video-renderer\" href=\"/@zxdy2024\" id=\"channel-thumbnail\">\n",
       "<yt-img-shadow class=\"style-scope ytd-video-renderer no-transition\" loaded=\"\" style=\"background-color: transparent;\" width=\"24\"><!--css-build:shady--><!--css-build:shady--><img alt=\"\" class=\"style-scope yt-img-shadow\" draggable=\"false\" id=\"img\" src=\"https://yt3.ggpht.com/x7QVgNU4LYta0IPGDdV8KwTPaStofNlx-_R8rha-vAr9dmG7UO6wuaTdkrp9WZ4BH63yZvc_=s68-c-k-c0x00ffffff-no-rj\" width=\"24\"/></yt-img-shadow>\n",
       "</a>\n",
       "<ytd-channel-name class=\"long-byline style-scope ytd-video-renderer\" id=\"channel-name\" wrap-text=\"true\"><!--css-build:shady--><!--css-build:shady--><div class=\"style-scope ytd-channel-name\" id=\"container\">\n",
       "<div class=\"style-scope ytd-channel-name\" id=\"text-container\">\n",
       "<yt-formatted-string class=\"style-scope ytd-channel-name\" has-link-only_=\"\" id=\"text\" link-inherit-color=\"\" title=\"\"><a class=\"yt-simple-endpoint style-scope yt-formatted-string\" dir=\"auto\" href=\"/@zxdy2024\" spellcheck=\"false\">电影 最新电影 2024</a></yt-formatted-string>\n",
       "</div>\n",
       "<tp-yt-paper-tooltip class=\"style-scope ytd-channel-name\" fit-to-visible-bounds=\"\" role=\"tooltip\" tabindex=\"-1\"><!--css-build:shady--><div class=\"hidden style-scope tp-yt-paper-tooltip\" id=\"tooltip\" style-target=\"tooltip\">\n",
       "  \n",
       "    电影 最新电影 2024\n",
       "  \n",
       "</div>\n",
       "</tp-yt-paper-tooltip>\n",
       "</div>\n",
       "<ytd-badge-supported-renderer class=\"style-scope ytd-channel-name\" disable-upgrade=\"\" hidden=\"\">\n",
       "</ytd-badge-supported-renderer>\n",
       "</ytd-channel-name>\n",
       "</div>\n",
       "<yt-formatted-string class=\"style-scope ytd-video-renderer\" hidden=\"\" id=\"description-text\" is-empty=\"\"><!--css-build:shady--><!--css-build:shady--><yt-attributed-string class=\"style-scope yt-formatted-string\"></yt-attributed-string></yt-formatted-string>\n",
       "<div class=\"metadata-snippet-container style-scope ytd-video-renderer style-scope ytd-video-renderer\">\n",
       "<a class=\"yt-simple-endpoint metadata-snippet-timestamp style-scope ytd-video-renderer\" hidden=\"\">\n",
       "<span class=\"style-scope ytd-video-renderer\" id=\"time\"></span>\n",
       "<yt-formatted-string class=\"metadata-snippet-text-navigation style-scope ytd-video-renderer\">1940年，多方勢力盤踞南京，特務金深水（張譯飾）終日周旋於日本軍方、汪偽政府和軍統之間，如同行走於刀尖一般，有著多重身份的他，在滿目瘡痍 ...</yt-formatted-string>\n",
       "</a>\n",
       "<yt-formatted-string class=\"metadata-snippet-text style-scope ytd-video-renderer\">1940年，多方勢力盤踞南京，特務金深水（張譯飾）終日周旋於日本軍方、汪偽政府和軍統之間，如同行走於刀尖一般，有著多重身份的他，在滿目瘡痍 ...</yt-formatted-string>\n",
       "<tp-yt-paper-tooltip class=\"style-scope ytd-video-renderer\" role=\"tooltip\" tabindex=\"-1\"><!--css-build:shady--><div class=\"hidden style-scope tp-yt-paper-tooltip\" id=\"tooltip\" style-target=\"tooltip\">\n",
       "  擷取自影片說明\n",
       "</div>\n",
       "</tp-yt-paper-tooltip>\n",
       "</div>\n",
       "<dom-repeat class=\"style-scope ytd-video-renderer\"><template is=\"dom-repeat\"></template></dom-repeat>\n",
       "<ytd-badge-supported-renderer class=\"style-scope ytd-video-renderer\" id=\"badges\" system-icons=\"\"><!--css-build:shady--><!--css-build:shady--><div aria-label=\"字幕\" class=\"badge badge-style-type-simple style-scope ytd-badge-supported-renderer style-scope ytd-badge-supported-renderer\" role=\"status\"><yt-icon class=\"style-scope ytd-badge-supported-renderer\" disable-upgrade=\"\" hidden=\"\" size=\"16\"></yt-icon><p class=\"style-scope ytd-badge-supported-renderer\">字幕</p></div><dom-repeat as=\"badge\" class=\"style-scope ytd-badge-supported-renderer\" id=\"repeat\"><template is=\"dom-repeat\"></template></dom-repeat></ytd-badge-supported-renderer>\n",
       "<div class=\"style-scope ytd-video-renderer\" id=\"expandable-metadata\"></div>\n",
       "<div class=\"style-scope ytd-video-renderer\" id=\"buttons\"></div>\n",
       "</div>\n",
       "</div>\n",
       "<div class=\"style-scope ytd-video-renderer\" id=\"dismissed\"></div>\n",
       "<yt-interaction class=\"extended style-scope ytd-video-renderer\" id=\"interaction\"><!--css-build:shady--><!--css-build:shady--><div class=\"stroke style-scope yt-interaction\"></div><div class=\"fill style-scope yt-interaction\"></div></yt-interaction>\n",
       "</ytd-video-renderer>"
      ]
     },
     "execution_count": 14,
     "metadata": {},
     "output_type": "execute_result"
    }
   ],
   "source": [
    "video = videos[0]\n",
    "video"
   ]
  },
  {
   "cell_type": "code",
   "execution_count": 15,
   "metadata": {},
   "outputs": [
    {
     "data": {
      "text/plain": [
       "'2:00:31\\n  現正播放\\n\\n\\n\\n\\n\\n\\n\\n\\n\\n\\n\\n\\n\\n\\n\\n\\n\\n\\n\\n\\n\\n《 刀尖 》HD 1080P 高清 完整 未刪減 - 2024 電影 2024 最新電影 2024 新電影 2024\\n\\n\\n\\n\\n\\n\\n\\n\\n\\n电影 最新电影 2024\\n\\n\\n  \\n    电影 最新电影 2024\\n  \\n\\n\\n\\n\\n\\n\\n•\\n\\n\\n\\n\\n•\\n觀看次數：6.4萬次\\n13 天前\\n\\n\\n\\n\\n\\n\\n\\n\\n\\n\\n\\n\\n\\n\\n电影 最新电影 2024\\n\\n\\n  \\n    电影 最新电影 2024\\n  \\n\\n\\n\\n\\n\\n\\n\\n\\n\\n\\n\\n1940年，多方勢力盤踞南京，特務金深水（張譯飾）終日周旋於日本軍方、汪偽政府和軍統之間，如同行走於刀尖一般，有著多重身份的他，在滿目瘡痍 ...\\n\\n1940年，多方勢力盤踞南京，特務金深水（張譯飾）終日周旋於日本軍方、汪偽政府和軍統之間，如同行走於刀尖一般，有著多重身份的他，在滿目瘡痍 ...\\n\\n  擷取自影片說明\\n\\n\\n\\n\\n字幕'"
      ]
     },
     "execution_count": 15,
     "metadata": {},
     "output_type": "execute_result"
    }
   ],
   "source": [
    "video.text.strip()"
   ]
  },
  {
   "cell_type": "code",
   "execution_count": 16,
   "metadata": {},
   "outputs": [
    {
     "data": {
      "text/plain": [
       "'https://www.youtube.com//watch?v=hSKAzr7W6cI&pp=ygUG6Zu75b2x'"
      ]
     },
     "execution_count": 16,
     "metadata": {},
     "output_type": "execute_result"
    }
   ],
   "source": [
    "link= Url+video.find('a',id=\"video-title\")['href']\n",
    "link"
   ]
  },
  {
   "cell_type": "code",
   "execution_count": 17,
   "metadata": {},
   "outputs": [
    {
     "data": {
      "text/plain": [
       "'《 刀尖 》HD 1080P 高清 完整 未刪減 - 2024 電影 2024 最新電影 2024 新電影 2024'"
      ]
     },
     "execution_count": 17,
     "metadata": {},
     "output_type": "execute_result"
    }
   ],
   "source": [
    "title=video.find('a',id='video-title').text.strip()\n",
    "title"
   ]
  },
  {
   "cell_type": "code",
   "execution_count": 18,
   "metadata": {},
   "outputs": [
    {
     "data": {
      "text/plain": [
       "'https://i.ytimg.com/vi/hSKAzr7W6cI/hq720.jpg'"
      ]
     },
     "execution_count": 18,
     "metadata": {},
     "output_type": "execute_result"
    }
   ],
   "source": [
    "image_url=video.find('img').get('src').split(\"?\")[0]\n",
    "image_url"
   ]
  },
  {
   "cell_type": "code",
   "execution_count": null,
   "metadata": {},
   "outputs": [],
   "source": []
  }
 ],
 "metadata": {
  "kernelspec": {
   "display_name": "Python 3",
   "language": "python",
   "name": "python3"
  },
  "language_info": {
   "codemirror_mode": {
    "name": "ipython",
    "version": 3
   },
   "file_extension": ".py",
   "mimetype": "text/x-python",
   "name": "python",
   "nbconvert_exporter": "python",
   "pygments_lexer": "ipython3",
   "version": "3.11.5"
  },
  "orig_nbformat": 4
 },
 "nbformat": 4,
 "nbformat_minor": 2
}
