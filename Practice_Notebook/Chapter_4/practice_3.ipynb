{
 "cells": [
  {
   "cell_type": "code",
   "execution_count": 1,
   "metadata": {},
   "outputs": [],
   "source": [
    "import Zach_Library as Zach"
   ]
  },
  {
   "cell_type": "code",
   "execution_count": 2,
   "metadata": {},
   "outputs": [
    {
     "data": {
      "text/plain": [
       "<selenium.webdriver.chrome.webdriver.WebDriver (session=\"b79a0684b963505be91aa7c48b4e350b\")>"
      ]
     },
     "execution_count": 2,
     "metadata": {},
     "output_type": "execute_result"
    }
   ],
   "source": [
    "Url = 'https://www.youtube.com/'\n",
    "TubeBot = Zach.get_chrome(Url)\n",
    "TubeBot"
   ]
  },
  {
   "cell_type": "markdown",
   "metadata": {},
   "source": [
    "Search"
   ]
  },
  {
   "cell_type": "code",
   "execution_count": 3,
   "metadata": {},
   "outputs": [
    {
     "data": {
      "text/plain": [
       "<selenium.webdriver.remote.webelement.WebElement (session=\"b79a0684b963505be91aa7c48b4e350b\", element=\"AA6348D12FA9DD87767585BC58190EC3_element_2\")>"
      ]
     },
     "execution_count": 3,
     "metadata": {},
     "output_type": "execute_result"
    }
   ],
   "source": [
    "SearchInput = Zach.find_elemental(TubeBot,'/html/body/ytd-app/div[1]/div/ytd-masthead/div[4]/div[2]/ytd-searchbox/form/div[1]/div[1]/input') \n",
    "SearchInput"
   ]
  },
  {
   "cell_type": "code",
   "execution_count": 4,
   "metadata": {},
   "outputs": [],
   "source": [
    "SearchInput.send_keys('電影')\n",
    "SearchInput.send_keys(Zach.Keys.ENTER)"
   ]
  },
  {
   "cell_type": "markdown",
   "metadata": {},
   "source": [
    "> Filter open"
   ]
  },
  {
   "cell_type": "code",
   "execution_count": 5,
   "metadata": {},
   "outputs": [
    {
     "data": {
      "text/plain": [
       "<selenium.webdriver.remote.webelement.WebElement (session=\"b79a0684b963505be91aa7c48b4e350b\", element=\"AA6348D12FA9DD87767585BC58190EC3_element_16\")>"
      ]
     },
     "execution_count": 5,
     "metadata": {},
     "output_type": "execute_result"
    }
   ],
   "source": [
    "Filter = Zach.find_elemental(TubeBot,'/html/body/ytd-app/div[1]/ytd-page-manager/ytd-search/div[1]/div/ytd-search-header-renderer/div[3]/ytd-button-renderer/yt-button-shape/button/yt-touch-feedback-shape/div/div[2]') \n",
    "Filter"
   ]
  },
  {
   "cell_type": "code",
   "execution_count": 6,
   "metadata": {},
   "outputs": [],
   "source": [
    "Filter.click()"
   ]
  },
  {
   "cell_type": "markdown",
   "metadata": {},
   "source": [
    "> Select 20 min Video"
   ]
  },
  {
   "cell_type": "code",
   "execution_count": 7,
   "metadata": {},
   "outputs": [
    {
     "data": {
      "text/plain": [
       "<selenium.webdriver.remote.webelement.WebElement (session=\"b79a0684b963505be91aa7c48b4e350b\", element=\"AA6348D12FA9DD87767585BC58190EC3_element_34\")>"
      ]
     },
     "execution_count": 7,
     "metadata": {},
     "output_type": "execute_result"
    }
   ],
   "source": [
    "Select20min = Zach.find_elemental(TubeBot,'/html/body/ytd-app/ytd-popup-container/tp-yt-paper-dialog/ytd-search-filter-options-dialog-renderer/div[2]/ytd-search-filter-group-renderer[3]/ytd-search-filter-renderer[3]/a') \n",
    "Select20min\n"
   ]
  },
  {
   "cell_type": "code",
   "execution_count": 8,
   "metadata": {},
   "outputs": [],
   "source": [
    "Select20min.click()"
   ]
  },
  {
   "cell_type": "markdown",
   "metadata": {},
   "source": [
    "> Scrape Content"
   ]
  },
  {
   "cell_type": "markdown",
   "metadata": {},
   "source": [
    "Finish Scraping "
   ]
  },
  {
   "cell_type": "code",
   "execution_count": null,
   "metadata": {},
   "outputs": [],
   "source": [
    "soup=Zach.BeautifulSoup(TubeBot.page_source)\n",
    "soup"
   ]
  },
  {
   "cell_type": "code",
   "execution_count": 30,
   "metadata": {},
   "outputs": [
    {
     "data": {
      "text/plain": [
       "66"
      ]
     },
     "execution_count": 30,
     "metadata": {},
     "output_type": "execute_result"
    }
   ],
   "source": [
    "videos = soup.find_all('ytd-video-renderer',class_='style-scope ytd-item-section-renderer')\n",
    "len(videos)"
   ]
  },
  {
   "cell_type": "code",
   "execution_count": 33,
   "metadata": {},
   "outputs": [
    {
     "data": {
      "text/plain": [
       "<a aria-hidden=\"true\" class=\"yt-simple-endpoint inline-block style-scope ytd-thumbnail\" href=\"/watch?v=_VcCGc-bujU\" id=\"thumbnail\" rel=\"null\" tabindex=\"-1\">\n",
       "<yt-image alt=\"\" class=\"style-scope ytd-thumbnail\" ftl-eligible=\"\" notify-on-loaded=\"\" notify-on-unloaded=\"\"><img alt=\"\" class=\"yt-core-image--fill-parent-height yt-core-image--fill-parent-width yt-core-image yt-core-image--content-mode-scale-aspect-fill yt-core-image--loaded\" src=\"https://i.ytimg.com/vi/_VcCGc-bujU/hq720.jpg?sqp=-oaymwEcCNAFEJQDSFXyq4qpAw4IARUAAIhCGAFwAcABBg==&amp;rs=AOn4CLCA6K091nIMrMAUw0uZdCQgz16bbw\" style=\"background-color: transparent;\"/></yt-image>\n",
       "<div class=\"style-scope ytd-thumbnail\" id=\"overlays\"><ytd-thumbnail-overlay-time-status-renderer class=\"style-scope ytd-thumbnail\" overlay-style=\"DEFAULT\"><!--css-build:shady--><!--css-build:shady--><ytd-badge-supported-renderer class=\"style-scope ytd-thumbnail-overlay-time-status-renderer\" is-thumbnail-badge=\"\" system-icons=\"\"><!--css-build:shady--><!--css-build:shady--><dom-repeat as=\"badge\" class=\"style-scope ytd-badge-supported-renderer\" id=\"repeat\"><template is=\"dom-repeat\"></template></dom-repeat></ytd-badge-supported-renderer><div class=\"style-scope ytd-thumbnail-overlay-time-status-renderer\" id=\"time-status\"><yt-icon class=\"style-scope ytd-thumbnail-overlay-time-status-renderer\" disable-upgrade=\"\" hidden=\"\" size=\"16\"></yt-icon><span aria-label=\"1 小時 7 分鐘 16 秒\" class=\"style-scope ytd-thumbnail-overlay-time-status-renderer\" id=\"text\">\n",
       "    1:07:16\n",
       "  </span></div></ytd-thumbnail-overlay-time-status-renderer><ytd-thumbnail-overlay-now-playing-renderer class=\"style-scope ytd-thumbnail\"><!--css-build:shady--><!--css-build:shady--><span class=\"style-scope ytd-thumbnail-overlay-now-playing-renderer\" id=\"overlay-text\">現正播放</span>\n",
       "<ytd-thumbnail-overlay-equalizer class=\"style-scope ytd-thumbnail-overlay-now-playing-renderer\"><!--css-build:shady--><!--css-build:shady--><svg class=\"style-scope ytd-thumbnail-overlay-equalizer\" id=\"equalizer\" viewbox=\"0 0 55 95\" xmlns=\"http://www.w3.org/2000/svg\">\n",
       "<g class=\"style-scope ytd-thumbnail-overlay-equalizer\">\n",
       "<rect class=\"bar style-scope ytd-thumbnail-overlay-equalizer\" x=\"0\"></rect>\n",
       "<rect class=\"bar style-scope ytd-thumbnail-overlay-equalizer\" x=\"20\"></rect>\n",
       "<rect class=\"bar style-scope ytd-thumbnail-overlay-equalizer\" x=\"40\"></rect>\n",
       "</g>\n",
       "</svg>\n",
       "</ytd-thumbnail-overlay-equalizer>\n",
       "</ytd-thumbnail-overlay-now-playing-renderer></div>\n",
       "<div class=\"style-scope ytd-thumbnail\" id=\"mouseover-overlay\"></div>\n",
       "<div class=\"style-scope ytd-thumbnail\" id=\"hover-overlays\"></div>\n",
       "</a>"
      ]
     },
     "execution_count": 33,
     "metadata": {},
     "output_type": "execute_result"
    }
   ],
   "source": [
    "MovieList[1].find('a')"
   ]
  },
  {
   "cell_type": "code",
   "execution_count": null,
   "metadata": {},
   "outputs": [],
   "source": []
  }
 ],
 "metadata": {
  "kernelspec": {
   "display_name": "Python 3",
   "language": "python",
   "name": "python3"
  },
  "language_info": {
   "codemirror_mode": {
    "name": "ipython",
    "version": 3
   },
   "file_extension": ".py",
   "mimetype": "text/x-python",
   "name": "python",
   "nbconvert_exporter": "python",
   "pygments_lexer": "ipython3",
   "version": "3.11.5"
  },
  "orig_nbformat": 4
 },
 "nbformat": 4,
 "nbformat_minor": 2
}
