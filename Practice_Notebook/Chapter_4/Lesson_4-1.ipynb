{
 "cells": [
  {
   "cell_type": "markdown",
   "metadata": {},
   "source": [
    "# Web Scrape Practice"
   ]
  },
  {
   "cell_type": "code",
   "execution_count": 2,
   "metadata": {},
   "outputs": [],
   "source": [
    "import requests as reg\n",
    "from bs4 import BeautifulSoup\n",
    "import pandas as pd\n",
    "from datetime import datetime as dt\n",
    "import Zach_Library as Zach"
   ]
  },
  {
   "cell_type": "markdown",
   "metadata": {},
   "source": [
    "## API Practice 2 - Scrap Ibon Shop Information"
   ]
  },
  {
   "cell_type": "markdown",
   "metadata": {},
   "source": [
    "### Example 1: Scrap from 1 city"
   ]
  },
  {
   "cell_type": "markdown",
   "metadata": {},
   "source": [
    "#### Prepare API and parameter"
   ]
  },
  {
   "cell_type": "code",
   "execution_count": 1,
   "metadata": {},
   "outputs": [
    {
     "data": {
      "text/plain": [
       "{'strTargetField': 'COUNTY', 'strKeyWords': '基隆市'}"
      ]
     },
     "execution_count": 1,
     "metadata": {},
     "output_type": "execute_result"
    }
   ],
   "source": [
    "api_url = 'https://www.ibon.com.tw/retail_inquiry_ajax.aspx'\n",
    "form_data={\n",
    "    'strTargetField':'COUNTY',\n",
    "    'strKeyWords':'基隆市'\n",
    "}"
   ]
  },
  {
   "cell_type": "code",
   "execution_count": null,
   "metadata": {},
   "outputs": [],
   "source": [
    "resp=reg.post(api_url,form_data)\n",
    "soup = BeautifulSoup(resp.text,'lxml')\n",
    "soup "
   ]
  },
  {
   "cell_type": "markdown",
   "metadata": {},
   "source": [
    "#### Traversal the entire table to get raw data"
   ]
  },
  {
   "cell_type": "markdown",
   "metadata": {},
   "source": [
    "> Method 1"
   ]
  },
  {
   "cell_type": "code",
   "execution_count": 6,
   "metadata": {},
   "outputs": [],
   "source": [
    "Row = []\n",
    "DataSet = []\n",
    "count = 0\n",
    "\n",
    "trs = soup.find('table').find_all('tr')\n",
    "for tr in trs:\n",
    "    for td in tr.find_all('td'):\n",
    "        Row.append(td.text.strip())\n",
    "        print(td.text.strip(),end='\\t')\n",
    "    DataSet.append(Row)\n",
    "    print()\n",
    "    Row = []\n",
    "\n",
    "DataSet"
   ]
  },
  {
   "cell_type": "markdown",
   "metadata": {},
   "source": [
    "> Method 2"
   ]
  },
  {
   "cell_type": "code",
   "execution_count": null,
   "metadata": {},
   "outputs": [],
   "source": [
    "Row = []\n",
    "DataSet = []\n",
    "count = 0\n",
    "\n",
    "DataSet = [ [ td.text.strip() for td in tr.find_all('td') ] for tr in trs]\n",
    "DataSet\n"
   ]
  },
  {
   "cell_type": "markdown",
   "metadata": {},
   "source": [
    "#### Export data as Excel"
   ]
  },
  {
   "cell_type": "code",
   "execution_count": 26,
   "metadata": {},
   "outputs": [
    {
     "data": {
      "text/html": [
       "<div>\n",
       "<style scoped>\n",
       "    .dataframe tbody tr th:only-of-type {\n",
       "        vertical-align: middle;\n",
       "    }\n",
       "\n",
       "    .dataframe tbody tr th {\n",
       "        vertical-align: top;\n",
       "    }\n",
       "\n",
       "    .dataframe thead th {\n",
       "        text-align: right;\n",
       "    }\n",
       "</style>\n",
       "<table border=\"1\" class=\"dataframe\">\n",
       "  <thead>\n",
       "    <tr style=\"text-align: right;\">\n",
       "      <th></th>\n",
       "      <th>店號</th>\n",
       "      <th>店名</th>\n",
       "      <th>地址</th>\n",
       "    </tr>\n",
       "  </thead>\n",
       "  <tbody>\n",
       "    <tr>\n",
       "      <th>0</th>\n",
       "      <td>112879</td>\n",
       "      <td>碇內</td>\n",
       "      <td>基隆市暖暖區源遠路158號160號</td>\n",
       "    </tr>\n",
       "    <tr>\n",
       "      <th>1</th>\n",
       "      <td>117140</td>\n",
       "      <td>德信</td>\n",
       "      <td>基隆市信義區東信路50號52號1樓</td>\n",
       "    </tr>\n",
       "    <tr>\n",
       "      <th>2</th>\n",
       "      <td>117896</td>\n",
       "      <td>深澳坑</td>\n",
       "      <td>基隆市信義區深澳坑路2-6號2-7號</td>\n",
       "    </tr>\n",
       "    <tr>\n",
       "      <th>3</th>\n",
       "      <td>118419</td>\n",
       "      <td>聖心</td>\n",
       "      <td>基隆市中山區西定路38號40號</td>\n",
       "    </tr>\n",
       "    <tr>\n",
       "      <th>4</th>\n",
       "      <td>123525</td>\n",
       "      <td>滿福</td>\n",
       "      <td>基隆市信義區深澳坑路166之30號1樓</td>\n",
       "    </tr>\n",
       "    <tr>\n",
       "      <th>...</th>\n",
       "      <td>...</td>\n",
       "      <td>...</td>\n",
       "      <td>...</td>\n",
       "    </tr>\n",
       "    <tr>\n",
       "      <th>83</th>\n",
       "      <td>970738</td>\n",
       "      <td>慶龍</td>\n",
       "      <td>基隆市仁愛區南榮路187號1樓</td>\n",
       "    </tr>\n",
       "    <tr>\n",
       "      <th>84</th>\n",
       "      <td>977142</td>\n",
       "      <td>源遠</td>\n",
       "      <td>基隆市暖暖區源遠路294號296號298號1樓</td>\n",
       "    </tr>\n",
       "    <tr>\n",
       "      <th>85</th>\n",
       "      <td>981233</td>\n",
       "      <td>極品</td>\n",
       "      <td>基隆市仁愛區仁三路19號21號1樓2樓</td>\n",
       "    </tr>\n",
       "    <tr>\n",
       "      <th>86</th>\n",
       "      <td>989086</td>\n",
       "      <td>仁五</td>\n",
       "      <td>基隆市仁愛區仁五路63號1樓</td>\n",
       "    </tr>\n",
       "    <tr>\n",
       "      <th>87</th>\n",
       "      <td>990879</td>\n",
       "      <td>大武崙</td>\n",
       "      <td>基隆市安樂區基金一路381號383號1樓</td>\n",
       "    </tr>\n",
       "  </tbody>\n",
       "</table>\n",
       "<p>88 rows × 3 columns</p>\n",
       "</div>"
      ],
      "text/plain": [
       "        店號   店名                       地址\n",
       "0   112879   碇內        基隆市暖暖區源遠路158號160號\n",
       "1   117140   德信        基隆市信義區東信路50號52號1樓\n",
       "2   117896  深澳坑       基隆市信義區深澳坑路2-6號2-7號\n",
       "3   118419   聖心          基隆市中山區西定路38號40號\n",
       "4   123525   滿福      基隆市信義區深澳坑路166之30號1樓\n",
       "..     ...  ...                      ...\n",
       "83  970738   慶龍          基隆市仁愛區南榮路187號1樓\n",
       "84  977142   源遠  基隆市暖暖區源遠路294號296號298號1樓\n",
       "85  981233   極品      基隆市仁愛區仁三路19號21號1樓2樓\n",
       "86  989086   仁五           基隆市仁愛區仁五路63號1樓\n",
       "87  990879  大武崙     基隆市安樂區基金一路381號383號1樓\n",
       "\n",
       "[88 rows x 3 columns]"
      ]
     },
     "execution_count": 26,
     "metadata": {},
     "output_type": "execute_result"
    }
   ],
   "source": [
    "df = pd.DataFrame(DataSet[1:],columns=DataSet[0])\n",
    "df"
   ]
  },
  {
   "cell_type": "code",
   "execution_count": 27,
   "metadata": {},
   "outputs": [],
   "source": [
    "today = dt.now().strftime(\"%Y%m%d_%H%M%S\")\n",
    "df.to_csv(f'./Output/ibon_cityquery_{today}.csv', encoding='utf-8-sig')"
   ]
  },
  {
   "cell_type": "markdown",
   "metadata": {},
   "source": [
    "### Function: Get ibon information from specific city"
   ]
  },
  {
   "cell_type": "code",
   "execution_count": 58,
   "metadata": {},
   "outputs": [],
   "source": [
    "def List_GetIbonCity(strCityName):\n",
    "\n",
    "    try:\n",
    "        DataSet = []\n",
    "\n",
    "        api_url = 'https://www.ibon.com.tw/retail_inquiry_ajax.aspx'\n",
    "        form_data={\n",
    "            'strTargetField':'COUNTY',\n",
    "            'strKeyWords':strCityName\n",
    "        }\n",
    "\n",
    "        resp=reg.post(api_url,form_data)\n",
    "        resp\n",
    "\n",
    "        soup = BeautifulSoup(resp.text,'lxml')\n",
    "        trs = soup.find('table').find_all('tr') \n",
    "\n",
    "        DataSet = [ [ td.text.strip() for td in tr.find_all('td') ] for tr in trs]\n",
    "        return DataSet\n",
    "\n",
    "    except Exception as e:\n",
    "        print(f'Error:{e}')"
   ]
  },
  {
   "cell_type": "markdown",
   "metadata": {},
   "source": [
    "### Example 2 - Get ibon information from all city"
   ]
  },
  {
   "cell_type": "markdown",
   "metadata": {},
   "source": [
    "#### Test Zone"
   ]
  },
  {
   "cell_type": "code",
   "execution_count": 66,
   "metadata": {},
   "outputs": [
    {
     "data": {
      "text/plain": [
       "[['店號', '店名', '地址'], ['無符合條件的門市資料，請重新定義條件']]"
      ]
     },
     "execution_count": 66,
     "metadata": {},
     "output_type": "execute_result"
    }
   ],
   "source": [
    "\n",
    "\n",
    "DataSet = []\n",
    "\n",
    "api_url = 'https://www.ibon.com.tw/retail_inquiry_ajax.aspx'\n",
    "form_data={\n",
    "    'strTargetField':'COUNTY',\n",
    "    'strKeyWords':'南海諸島'\n",
    "}\n",
    "\n",
    "resp=reg.post(api_url,form_data)\n",
    "resp\n",
    "\n",
    "soup = BeautifulSoup(resp.text,'lxml')\n",
    "trs = soup.find('table').find_all('tr') \n",
    "\n",
    "DataSet = [ [ td.text.strip() for td in tr.find_all('td') ] for tr in trs]\n",
    "\n",
    "DataSet\n"
   ]
  },
  {
   "cell_type": "markdown",
   "metadata": {},
   "source": [
    "#### Get City List"
   ]
  },
  {
   "cell_type": "code",
   "execution_count": 45,
   "metadata": {},
   "outputs": [
    {
     "data": {
      "text/plain": [
       "['台北市',\n",
       " '新北市',\n",
       " '基隆市',\n",
       " '宜蘭縣',\n",
       " '桃園市',\n",
       " '新竹市',\n",
       " '新竹縣',\n",
       " '苗栗縣',\n",
       " '台中市',\n",
       " '彰化縣',\n",
       " '南投縣',\n",
       " '雲林縣',\n",
       " '嘉義市',\n",
       " '嘉義縣',\n",
       " '台南市',\n",
       " '高雄市',\n",
       " '屏東縣',\n",
       " '花蓮縣',\n",
       " '台東縣',\n",
       " '澎湖縣',\n",
       " '金門縣',\n",
       " '連江縣',\n",
       " '南海諸島']"
      ]
     },
     "execution_count": 45,
     "metadata": {},
     "output_type": "execute_result"
    }
   ],
   "source": [
    "url = 'https://www.ibon.com.tw/retail_inquiry.aspx#gsc.tab=0'\n",
    "\n",
    "soup = Zach.getSoup(url)\n",
    "soup.find_all('select',id='Class1')\n",
    "List_City = [ City_name.text for City_name in soup.find('select',id='Class1').find_all('option') ]\n",
    "List_City"
   ]
  },
  {
   "cell_type": "markdown",
   "metadata": {},
   "source": [
    "#### Traveral the city list and call function List_GetIbonCity, each time a dataset is responsed, export it as a sheet then push it into current excel file "
   ]
  },
  {
   "cell_type": "code",
   "execution_count": 70,
   "metadata": {},
   "outputs": [
    {
     "name": "stdout",
     "output_type": "stream",
     "text": [
      "台北市\n",
      "新北市\n",
      "基隆市\n",
      "宜蘭縣\n",
      "桃園市\n",
      "新竹市\n",
      "新竹縣\n",
      "苗栗縣\n",
      "台中市\n",
      "彰化縣\n",
      "南投縣\n",
      "雲林縣\n",
      "嘉義市\n",
      "嘉義縣\n",
      "台南市\n",
      "高雄市\n",
      "屏東縣\n",
      "花蓮縣\n",
      "台東縣\n",
      "澎湖縣\n",
      "金門縣\n",
      "連江縣\n"
     ]
    }
   ],
   "source": [
    "temp_Dataset = []\n",
    "\n",
    "with pd.ExcelWriter(f'./Output/IbonStoryList_{today}.xlsx') as w:\n",
    "\n",
    "    for city in List_City[0:22]:\n",
    "        print(city)\n",
    "        temp_Dataset = List_GetIbonCity(city)\n",
    "        df = pd.DataFrame(temp_Dataset[1:],columns=temp_Dataset[0])\n",
    "        df.to_excel(w, sheet_name=f'Ibon 門市_{city}', index=False)\n",
    "        \n",
    "        temp_Dataset = []\n",
    "\n"
   ]
  },
  {
   "cell_type": "markdown",
   "metadata": {},
   "source": [
    "# Path to root library"
   ]
  },
  {
   "cell_type": "code",
   "execution_count": 71,
   "metadata": {},
   "outputs": [
    {
     "data": {
      "text/plain": [
       "<module 'requests' from 'c:\\\\Users\\\\USER\\\\anaconda3\\\\Lib\\\\site-packages\\\\requests\\\\__init__.py'>"
      ]
     },
     "execution_count": 71,
     "metadata": {},
     "output_type": "execute_result"
    }
   ],
   "source": [
    "import requests\n",
    "requests "
   ]
  }
 ],
 "metadata": {
  "kernelspec": {
   "display_name": "Python 3",
   "language": "python",
   "name": "python3"
  },
  "language_info": {
   "codemirror_mode": {
    "name": "ipython",
    "version": 3
   },
   "file_extension": ".py",
   "mimetype": "text/x-python",
   "name": "python",
   "nbconvert_exporter": "python",
   "pygments_lexer": "ipython3",
   "version": "3.11.5"
  },
  "orig_nbformat": 4
 },
 "nbformat": 4,
 "nbformat_minor": 2
}
