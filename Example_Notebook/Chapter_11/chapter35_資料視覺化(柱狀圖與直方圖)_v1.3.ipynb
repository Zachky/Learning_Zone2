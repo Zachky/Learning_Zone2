{
 "cells": [
  {
   "cell_type": "markdown",
   "metadata": {},
   "source": [
    "## 繪製柱狀圖"
   ]
  },
  {
   "cell_type": "code",
   "execution_count": 1,
   "metadata": {},
   "outputs": [],
   "source": [
    "import matplotlib.pyplot as plt\n",
    "# from matplotlib.font_manager import FontProperties\n",
    "# import matplotlib.pyplot as plt\n",
    "# plt.rcParams['font.sans-serif'] = ['Microsoft JhengHei'] \n",
    "# plt.rcParams['axes.unicode_minus'] = False"
   ]
  },
  {
   "cell_type": "code",
   "execution_count": 2,
   "metadata": {},
   "outputs": [
    {
     "data": {
      "text/plain": [
       "range(0, 5)"
      ]
     },
     "execution_count": 2,
     "metadata": {},
     "output_type": "execute_result"
    }
   ],
   "source": [
    "data=[-1,-4.3,15,21,31]\n",
    "\n",
    "\n",
    "x=range(len(data))\n",
    "x"
   ]
  },
  {
   "cell_type": "code",
   "execution_count": 3,
   "metadata": {},
   "outputs": [
    {
     "data": {
      "image/png": "[encoded data removed]",
      "text/plain": [
       "<Figure size 432x288 with 1 Axes>"
      ]
     },
     "metadata": {
      "needs_background": "light"
     },
     "output_type": "display_data"
    }
   ],
   "source": [
    "plt.bar(x,data)\n",
    "\n",
    "plt.title('柱狀圖')\n",
    "\n",
    "plt.show()"
   ]
  },
  {
   "cell_type": "code",
   "execution_count": 6,
   "metadata": {},
   "outputs": [
    {
     "data": {
      "image/png": "[encoded data removed]",
      "text/plain": [
       "<Figure size 432x288 with 1 Axes>"
      ]
     },
     "metadata": {
      "needs_background": "light"
     },
     "output_type": "display_data"
    }
   ],
   "source": [
    "plt.plot(data)\n",
    "\n",
    "plt.show()"
   ]
  },
  {
   "cell_type": "markdown",
   "metadata": {},
   "source": [
    "## 更改樣式"
   ]
  },
  {
   "cell_type": "code",
   "execution_count": 4,
   "metadata": {},
   "outputs": [
    {
     "data": {
      "image/png": "[encoded data removed]",
      "text/plain": [
       "<Figure size 432x288 with 1 Axes>"
      ]
     },
     "metadata": {
      "needs_background": "light"
     },
     "output_type": "display_data"
    }
   ],
   "source": [
    "plt.bar(['A','B','C','D','E'],data,color='m',width=0.3,alpha=0.8,edgecolor='b',label='data',lw=2.0)\n",
    "\n",
    "plt.legend(loc=0)\n",
    "\n",
    "plt.show()"
   ]
  },
  {
   "cell_type": "markdown",
   "metadata": {},
   "source": [
    "## 繪製天氣"
   ]
  },
  {
   "cell_type": "code",
   "execution_count": 5,
   "metadata": {},
   "outputs": [],
   "source": [
    "import pandas as pd"
   ]
  },
  {
   "cell_type": "code",
   "execution_count": 48,
   "metadata": {},
   "outputs": [
    {
     "data": {
      "text/html": [
       "<div>\n",
       "<style scoped>\n",
       "    .dataframe tbody tr th:only-of-type {\n",
       "        vertical-align: middle;\n",
       "    }\n",
       "\n",
       "    .dataframe tbody tr th {\n",
       "        vertical-align: top;\n",
       "    }\n",
       "\n",
       "    .dataframe thead th {\n",
       "        text-align: right;\n",
       "    }\n",
       "</style>\n",
       "<table border=\"1\" class=\"dataframe\">\n",
       "  <thead>\n",
       "    <tr style=\"text-align: right;\">\n",
       "      <th></th>\n",
       "      <th>tokyo</th>\n",
       "      <th>taipei</th>\n",
       "    </tr>\n",
       "  </thead>\n",
       "  <tbody>\n",
       "    <tr>\n",
       "      <th>12月1日</th>\n",
       "      <td>14</td>\n",
       "      <td>26</td>\n",
       "    </tr>\n",
       "    <tr>\n",
       "      <th>12月2日</th>\n",
       "      <td>16</td>\n",
       "      <td>18</td>\n",
       "    </tr>\n",
       "    <tr>\n",
       "      <th>12月3日</th>\n",
       "      <td>14</td>\n",
       "      <td>18</td>\n",
       "    </tr>\n",
       "    <tr>\n",
       "      <th>12月4日</th>\n",
       "      <td>12</td>\n",
       "      <td>20</td>\n",
       "    </tr>\n",
       "    <tr>\n",
       "      <th>12月5日</th>\n",
       "      <td>12</td>\n",
       "      <td>19</td>\n",
       "    </tr>\n",
       "    <tr>\n",
       "      <th>12月6日</th>\n",
       "      <td>11</td>\n",
       "      <td>19</td>\n",
       "    </tr>\n",
       "    <tr>\n",
       "      <th>12月7日</th>\n",
       "      <td>11</td>\n",
       "      <td>19</td>\n",
       "    </tr>\n",
       "    <tr>\n",
       "      <th>12月8日</th>\n",
       "      <td>13</td>\n",
       "      <td>19</td>\n",
       "    </tr>\n",
       "    <tr>\n",
       "      <th>12月9日</th>\n",
       "      <td>14</td>\n",
       "      <td>21</td>\n",
       "    </tr>\n",
       "    <tr>\n",
       "      <th>12月10日</th>\n",
       "      <td>15</td>\n",
       "      <td>22</td>\n",
       "    </tr>\n",
       "    <tr>\n",
       "      <th>12月11日</th>\n",
       "      <td>15</td>\n",
       "      <td>21</td>\n",
       "    </tr>\n",
       "    <tr>\n",
       "      <th>12月12日</th>\n",
       "      <td>15</td>\n",
       "      <td>21</td>\n",
       "    </tr>\n",
       "    <tr>\n",
       "      <th>12月13日</th>\n",
       "      <td>15</td>\n",
       "      <td>21</td>\n",
       "    </tr>\n",
       "    <tr>\n",
       "      <th>12月14日</th>\n",
       "      <td>14</td>\n",
       "      <td>21</td>\n",
       "    </tr>\n",
       "    <tr>\n",
       "      <th>12月15日</th>\n",
       "      <td>12</td>\n",
       "      <td>20</td>\n",
       "    </tr>\n",
       "    <tr>\n",
       "      <th>12月16日</th>\n",
       "      <td>14</td>\n",
       "      <td>20</td>\n",
       "    </tr>\n",
       "    <tr>\n",
       "      <th>12月17日</th>\n",
       "      <td>14</td>\n",
       "      <td>19</td>\n",
       "    </tr>\n",
       "    <tr>\n",
       "      <th>12月18日</th>\n",
       "      <td>14</td>\n",
       "      <td>20</td>\n",
       "    </tr>\n",
       "    <tr>\n",
       "      <th>12月19日</th>\n",
       "      <td>12</td>\n",
       "      <td>18</td>\n",
       "    </tr>\n",
       "    <tr>\n",
       "      <th>12月20日</th>\n",
       "      <td>10</td>\n",
       "      <td>20</td>\n",
       "    </tr>\n",
       "    <tr>\n",
       "      <th>12月21日</th>\n",
       "      <td>13</td>\n",
       "      <td>22</td>\n",
       "    </tr>\n",
       "    <tr>\n",
       "      <th>12月22日</th>\n",
       "      <td>13</td>\n",
       "      <td>22</td>\n",
       "    </tr>\n",
       "    <tr>\n",
       "      <th>12月23日</th>\n",
       "      <td>10</td>\n",
       "      <td>18</td>\n",
       "    </tr>\n",
       "    <tr>\n",
       "      <th>12月24日</th>\n",
       "      <td>14</td>\n",
       "      <td>18</td>\n",
       "    </tr>\n",
       "    <tr>\n",
       "      <th>12月25日</th>\n",
       "      <td>12</td>\n",
       "      <td>19</td>\n",
       "    </tr>\n",
       "    <tr>\n",
       "      <th>12月26日</th>\n",
       "      <td>12</td>\n",
       "      <td>21</td>\n",
       "    </tr>\n",
       "    <tr>\n",
       "      <th>12月27日</th>\n",
       "      <td>13</td>\n",
       "      <td>19</td>\n",
       "    </tr>\n",
       "    <tr>\n",
       "      <th>12月28日</th>\n",
       "      <td>11</td>\n",
       "      <td>19</td>\n",
       "    </tr>\n",
       "    <tr>\n",
       "      <th>12月29日</th>\n",
       "      <td>11</td>\n",
       "      <td>20</td>\n",
       "    </tr>\n",
       "    <tr>\n",
       "      <th>12月30日</th>\n",
       "      <td>10</td>\n",
       "      <td>22</td>\n",
       "    </tr>\n",
       "    <tr>\n",
       "      <th>12月31日</th>\n",
       "      <td>9</td>\n",
       "      <td>21</td>\n",
       "    </tr>\n",
       "    <tr>\n",
       "      <th>1月1日</th>\n",
       "      <td>10</td>\n",
       "      <td>20</td>\n",
       "    </tr>\n",
       "    <tr>\n",
       "      <th>1月2日</th>\n",
       "      <td>9</td>\n",
       "      <td>21</td>\n",
       "    </tr>\n",
       "    <tr>\n",
       "      <th>1月3日</th>\n",
       "      <td>9</td>\n",
       "      <td>22</td>\n",
       "    </tr>\n",
       "    <tr>\n",
       "      <th>1月4日</th>\n",
       "      <td>9</td>\n",
       "      <td>22</td>\n",
       "    </tr>\n",
       "  </tbody>\n",
       "</table>\n",
       "</div>"
      ],
      "text/plain": [
       "        tokyo  taipei\n",
       "12月1日      14      26\n",
       "12月2日      16      18\n",
       "12月3日      14      18\n",
       "12月4日      12      20\n",
       "12月5日      12      19\n",
       "12月6日      11      19\n",
       "12月7日      11      19\n",
       "12月8日      13      19\n",
       "12月9日      14      21\n",
       "12月10日     15      22\n",
       "12月11日     15      21\n",
       "12月12日     15      21\n",
       "12月13日     15      21\n",
       "12月14日     14      21\n",
       "12月15日     12      20\n",
       "12月16日     14      20\n",
       "12月17日     14      19\n",
       "12月18日     14      20\n",
       "12月19日     12      18\n",
       "12月20日     10      20\n",
       "12月21日     13      22\n",
       "12月22日     13      22\n",
       "12月23日     10      18\n",
       "12月24日     14      18\n",
       "12月25日     12      19\n",
       "12月26日     12      21\n",
       "12月27日     13      19\n",
       "12月28日     11      19\n",
       "12月29日     11      20\n",
       "12月30日     10      22\n",
       "12月31日      9      21\n",
       "1月1日       10      20\n",
       "1月2日        9      21\n",
       "1月3日        9      22\n",
       "1月4日        9      22"
      ]
     },
     "execution_count": 48,
     "metadata": {},
     "output_type": "execute_result"
    }
   ],
   "source": [
    "df1=pd.read_csv('weather.csv',engine = \"python\",index_col=0)\n",
    "df1"
   ]
  },
  {
   "cell_type": "markdown",
   "metadata": {},
   "source": [
    "## 設定寬度跟樣式"
   ]
  },
  {
   "cell_type": "code",
   "execution_count": 7,
   "metadata": {
    "scrolled": false
   },
   "outputs": [
    {
     "data": {
      "image/png": "[encoded data removed]",
      "text/plain": [
       "<Figure size 864x288 with 1 Axes>"
      ]
     },
     "metadata": {
      "needs_background": "light"
     },
     "output_type": "display_data"
    }
   ],
   "source": [
    "plt.figure(figsize=(12,4))\n",
    "\n",
    "plt.bar(df1.index,df1['tokyo'],color='DeepSkyBlue',edgecolor='black',label='tokyo')\n",
    "\n",
    "plt.title('東京溫度',pad=10,fontsize=16)\n",
    "\n",
    "plt.xlabel('日期',labelpad=10,fontsize=16)\n",
    "plt.ylabel('溫度',labelpad=10,fontsize=16,rotation=45)\n",
    "\n",
    "plt.xticks(rotation=90)\n",
    "\n",
    "plt.ylim(0,30)\n",
    "plt.xlim(-1,len(df1.index))\n",
    "plt.legend()\n",
    "plt.grid(True)\n",
    "\n",
    "plt.show()"
   ]
  },
  {
   "cell_type": "code",
   "execution_count": 9,
   "metadata": {
    "scrolled": true
   },
   "outputs": [
    {
     "data": {
      "text/html": [
       "<div>\n",
       "<style scoped>\n",
       "    .dataframe tbody tr th:only-of-type {\n",
       "        vertical-align: middle;\n",
       "    }\n",
       "\n",
       "    .dataframe tbody tr th {\n",
       "        vertical-align: top;\n",
       "    }\n",
       "\n",
       "    .dataframe thead th {\n",
       "        text-align: right;\n",
       "    }\n",
       "</style>\n",
       "<table border=\"1\" class=\"dataframe\">\n",
       "  <thead>\n",
       "    <tr style=\"text-align: right;\">\n",
       "      <th></th>\n",
       "      <th>tokyo</th>\n",
       "      <th>taipei</th>\n",
       "    </tr>\n",
       "  </thead>\n",
       "  <tbody>\n",
       "    <tr>\n",
       "      <th>12月1日</th>\n",
       "      <td>14</td>\n",
       "      <td>26</td>\n",
       "    </tr>\n",
       "    <tr>\n",
       "      <th>12月2日</th>\n",
       "      <td>16</td>\n",
       "      <td>18</td>\n",
       "    </tr>\n",
       "    <tr>\n",
       "      <th>12月3日</th>\n",
       "      <td>14</td>\n",
       "      <td>18</td>\n",
       "    </tr>\n",
       "    <tr>\n",
       "      <th>12月4日</th>\n",
       "      <td>12</td>\n",
       "      <td>20</td>\n",
       "    </tr>\n",
       "    <tr>\n",
       "      <th>12月5日</th>\n",
       "      <td>12</td>\n",
       "      <td>19</td>\n",
       "    </tr>\n",
       "  </tbody>\n",
       "</table>\n",
       "</div>"
      ],
      "text/plain": [
       "       tokyo  taipei\n",
       "12月1日     14      26\n",
       "12月2日     16      18\n",
       "12月3日     14      18\n",
       "12月4日     12      20\n",
       "12月5日     12      19"
      ]
     },
     "execution_count": 9,
     "metadata": {},
     "output_type": "execute_result"
    }
   ],
   "source": [
    "df1.head()"
   ]
  },
  {
   "cell_type": "markdown",
   "metadata": {},
   "source": [
    "## reset_index & set date"
   ]
  },
  {
   "cell_type": "code",
   "execution_count": 49,
   "metadata": {},
   "outputs": [],
   "source": [
    "import copy"
   ]
  },
  {
   "cell_type": "code",
   "execution_count": 50,
   "metadata": {},
   "outputs": [
    {
     "data": {
      "text/plain": [
       "False"
      ]
     },
     "execution_count": 50,
     "metadata": {},
     "output_type": "execute_result"
    }
   ],
   "source": [
    "df2=copy.deepcopy(df1)\n",
    "df2 is df1"
   ]
  },
  {
   "cell_type": "code",
   "execution_count": 51,
   "metadata": {},
   "outputs": [
    {
     "data": {
      "text/html": [
       "<div>\n",
       "<style scoped>\n",
       "    .dataframe tbody tr th:only-of-type {\n",
       "        vertical-align: middle;\n",
       "    }\n",
       "\n",
       "    .dataframe tbody tr th {\n",
       "        vertical-align: top;\n",
       "    }\n",
       "\n",
       "    .dataframe thead th {\n",
       "        text-align: right;\n",
       "    }\n",
       "</style>\n",
       "<table border=\"1\" class=\"dataframe\">\n",
       "  <thead>\n",
       "    <tr style=\"text-align: right;\">\n",
       "      <th></th>\n",
       "      <th>tokyo</th>\n",
       "      <th>taipei</th>\n",
       "    </tr>\n",
       "  </thead>\n",
       "  <tbody>\n",
       "    <tr>\n",
       "      <th>12月1日</th>\n",
       "      <td>14</td>\n",
       "      <td>26</td>\n",
       "    </tr>\n",
       "    <tr>\n",
       "      <th>12月2日</th>\n",
       "      <td>16</td>\n",
       "      <td>18</td>\n",
       "    </tr>\n",
       "    <tr>\n",
       "      <th>12月3日</th>\n",
       "      <td>14</td>\n",
       "      <td>18</td>\n",
       "    </tr>\n",
       "    <tr>\n",
       "      <th>12月4日</th>\n",
       "      <td>12</td>\n",
       "      <td>20</td>\n",
       "    </tr>\n",
       "    <tr>\n",
       "      <th>12月5日</th>\n",
       "      <td>12</td>\n",
       "      <td>19</td>\n",
       "    </tr>\n",
       "  </tbody>\n",
       "</table>\n",
       "</div>"
      ],
      "text/plain": [
       "       tokyo  taipei\n",
       "12月1日     14      26\n",
       "12月2日     16      18\n",
       "12月3日     14      18\n",
       "12月4日     12      20\n",
       "12月5日     12      19"
      ]
     },
     "execution_count": 51,
     "metadata": {},
     "output_type": "execute_result"
    }
   ],
   "source": [
    "df2.head()"
   ]
  },
  {
   "cell_type": "code",
   "execution_count": 56,
   "metadata": {},
   "outputs": [
    {
     "data": {
      "text/html": [
       "<div>\n",
       "<style scoped>\n",
       "    .dataframe tbody tr th:only-of-type {\n",
       "        vertical-align: middle;\n",
       "    }\n",
       "\n",
       "    .dataframe tbody tr th {\n",
       "        vertical-align: top;\n",
       "    }\n",
       "\n",
       "    .dataframe thead th {\n",
       "        text-align: right;\n",
       "    }\n",
       "</style>\n",
       "<table border=\"1\" class=\"dataframe\">\n",
       "  <thead>\n",
       "    <tr style=\"text-align: right;\">\n",
       "      <th></th>\n",
       "      <th>index</th>\n",
       "      <th>tokyo</th>\n",
       "      <th>taipei</th>\n",
       "    </tr>\n",
       "  </thead>\n",
       "  <tbody>\n",
       "    <tr>\n",
       "      <th>0</th>\n",
       "      <td>12月1日</td>\n",
       "      <td>14</td>\n",
       "      <td>26</td>\n",
       "    </tr>\n",
       "    <tr>\n",
       "      <th>1</th>\n",
       "      <td>12月2日</td>\n",
       "      <td>16</td>\n",
       "      <td>18</td>\n",
       "    </tr>\n",
       "    <tr>\n",
       "      <th>2</th>\n",
       "      <td>12月3日</td>\n",
       "      <td>14</td>\n",
       "      <td>18</td>\n",
       "    </tr>\n",
       "    <tr>\n",
       "      <th>3</th>\n",
       "      <td>12月4日</td>\n",
       "      <td>12</td>\n",
       "      <td>20</td>\n",
       "    </tr>\n",
       "    <tr>\n",
       "      <th>4</th>\n",
       "      <td>12月5日</td>\n",
       "      <td>12</td>\n",
       "      <td>19</td>\n",
       "    </tr>\n",
       "    <tr>\n",
       "      <th>5</th>\n",
       "      <td>12月6日</td>\n",
       "      <td>11</td>\n",
       "      <td>19</td>\n",
       "    </tr>\n",
       "    <tr>\n",
       "      <th>6</th>\n",
       "      <td>12月7日</td>\n",
       "      <td>11</td>\n",
       "      <td>19</td>\n",
       "    </tr>\n",
       "    <tr>\n",
       "      <th>7</th>\n",
       "      <td>12月8日</td>\n",
       "      <td>13</td>\n",
       "      <td>19</td>\n",
       "    </tr>\n",
       "    <tr>\n",
       "      <th>8</th>\n",
       "      <td>12月9日</td>\n",
       "      <td>14</td>\n",
       "      <td>21</td>\n",
       "    </tr>\n",
       "    <tr>\n",
       "      <th>9</th>\n",
       "      <td>12月10日</td>\n",
       "      <td>15</td>\n",
       "      <td>22</td>\n",
       "    </tr>\n",
       "    <tr>\n",
       "      <th>10</th>\n",
       "      <td>12月11日</td>\n",
       "      <td>15</td>\n",
       "      <td>21</td>\n",
       "    </tr>\n",
       "    <tr>\n",
       "      <th>11</th>\n",
       "      <td>12月12日</td>\n",
       "      <td>15</td>\n",
       "      <td>21</td>\n",
       "    </tr>\n",
       "    <tr>\n",
       "      <th>12</th>\n",
       "      <td>12月13日</td>\n",
       "      <td>15</td>\n",
       "      <td>21</td>\n",
       "    </tr>\n",
       "    <tr>\n",
       "      <th>13</th>\n",
       "      <td>12月14日</td>\n",
       "      <td>14</td>\n",
       "      <td>21</td>\n",
       "    </tr>\n",
       "    <tr>\n",
       "      <th>14</th>\n",
       "      <td>12月15日</td>\n",
       "      <td>12</td>\n",
       "      <td>20</td>\n",
       "    </tr>\n",
       "    <tr>\n",
       "      <th>15</th>\n",
       "      <td>12月16日</td>\n",
       "      <td>14</td>\n",
       "      <td>20</td>\n",
       "    </tr>\n",
       "    <tr>\n",
       "      <th>16</th>\n",
       "      <td>12月17日</td>\n",
       "      <td>14</td>\n",
       "      <td>19</td>\n",
       "    </tr>\n",
       "    <tr>\n",
       "      <th>17</th>\n",
       "      <td>12月18日</td>\n",
       "      <td>14</td>\n",
       "      <td>20</td>\n",
       "    </tr>\n",
       "    <tr>\n",
       "      <th>18</th>\n",
       "      <td>12月19日</td>\n",
       "      <td>12</td>\n",
       "      <td>18</td>\n",
       "    </tr>\n",
       "    <tr>\n",
       "      <th>19</th>\n",
       "      <td>12月20日</td>\n",
       "      <td>10</td>\n",
       "      <td>20</td>\n",
       "    </tr>\n",
       "    <tr>\n",
       "      <th>20</th>\n",
       "      <td>12月21日</td>\n",
       "      <td>13</td>\n",
       "      <td>22</td>\n",
       "    </tr>\n",
       "    <tr>\n",
       "      <th>21</th>\n",
       "      <td>12月22日</td>\n",
       "      <td>13</td>\n",
       "      <td>22</td>\n",
       "    </tr>\n",
       "    <tr>\n",
       "      <th>22</th>\n",
       "      <td>12月23日</td>\n",
       "      <td>10</td>\n",
       "      <td>18</td>\n",
       "    </tr>\n",
       "    <tr>\n",
       "      <th>23</th>\n",
       "      <td>12月24日</td>\n",
       "      <td>14</td>\n",
       "      <td>18</td>\n",
       "    </tr>\n",
       "    <tr>\n",
       "      <th>24</th>\n",
       "      <td>12月25日</td>\n",
       "      <td>12</td>\n",
       "      <td>19</td>\n",
       "    </tr>\n",
       "    <tr>\n",
       "      <th>25</th>\n",
       "      <td>12月26日</td>\n",
       "      <td>12</td>\n",
       "      <td>21</td>\n",
       "    </tr>\n",
       "    <tr>\n",
       "      <th>26</th>\n",
       "      <td>12月27日</td>\n",
       "      <td>13</td>\n",
       "      <td>19</td>\n",
       "    </tr>\n",
       "    <tr>\n",
       "      <th>27</th>\n",
       "      <td>12月28日</td>\n",
       "      <td>11</td>\n",
       "      <td>19</td>\n",
       "    </tr>\n",
       "    <tr>\n",
       "      <th>28</th>\n",
       "      <td>12月29日</td>\n",
       "      <td>11</td>\n",
       "      <td>20</td>\n",
       "    </tr>\n",
       "    <tr>\n",
       "      <th>29</th>\n",
       "      <td>12月30日</td>\n",
       "      <td>10</td>\n",
       "      <td>22</td>\n",
       "    </tr>\n",
       "    <tr>\n",
       "      <th>30</th>\n",
       "      <td>12月31日</td>\n",
       "      <td>9</td>\n",
       "      <td>21</td>\n",
       "    </tr>\n",
       "    <tr>\n",
       "      <th>31</th>\n",
       "      <td>1月1日</td>\n",
       "      <td>10</td>\n",
       "      <td>20</td>\n",
       "    </tr>\n",
       "    <tr>\n",
       "      <th>32</th>\n",
       "      <td>1月2日</td>\n",
       "      <td>9</td>\n",
       "      <td>21</td>\n",
       "    </tr>\n",
       "    <tr>\n",
       "      <th>33</th>\n",
       "      <td>1月3日</td>\n",
       "      <td>9</td>\n",
       "      <td>22</td>\n",
       "    </tr>\n",
       "    <tr>\n",
       "      <th>34</th>\n",
       "      <td>1月4日</td>\n",
       "      <td>9</td>\n",
       "      <td>22</td>\n",
       "    </tr>\n",
       "  </tbody>\n",
       "</table>\n",
       "</div>"
      ],
      "text/plain": [
       "     index  tokyo  taipei\n",
       "0    12月1日     14      26\n",
       "1    12月2日     16      18\n",
       "2    12月3日     14      18\n",
       "3    12月4日     12      20\n",
       "4    12月5日     12      19\n",
       "5    12月6日     11      19\n",
       "6    12月7日     11      19\n",
       "7    12月8日     13      19\n",
       "8    12月9日     14      21\n",
       "9   12月10日     15      22\n",
       "10  12月11日     15      21\n",
       "11  12月12日     15      21\n",
       "12  12月13日     15      21\n",
       "13  12月14日     14      21\n",
       "14  12月15日     12      20\n",
       "15  12月16日     14      20\n",
       "16  12月17日     14      19\n",
       "17  12月18日     14      20\n",
       "18  12月19日     12      18\n",
       "19  12月20日     10      20\n",
       "20  12月21日     13      22\n",
       "21  12月22日     13      22\n",
       "22  12月23日     10      18\n",
       "23  12月24日     14      18\n",
       "24  12月25日     12      19\n",
       "25  12月26日     12      21\n",
       "26  12月27日     13      19\n",
       "27  12月28日     11      19\n",
       "28  12月29日     11      20\n",
       "29  12月30日     10      22\n",
       "30  12月31日      9      21\n",
       "31    1月1日     10      20\n",
       "32    1月2日      9      21\n",
       "33    1月3日      9      22\n",
       "34    1月4日      9      22"
      ]
     },
     "execution_count": 56,
     "metadata": {},
     "output_type": "execute_result"
    }
   ],
   "source": [
    "df2.reset_index(inplace=True)\n",
    "df2"
   ]
  },
  {
   "cell_type": "code",
   "execution_count": 57,
   "metadata": {},
   "outputs": [
    {
     "data": {
      "text/html": [
       "<div>\n",
       "<style scoped>\n",
       "    .dataframe tbody tr th:only-of-type {\n",
       "        vertical-align: middle;\n",
       "    }\n",
       "\n",
       "    .dataframe tbody tr th {\n",
       "        vertical-align: top;\n",
       "    }\n",
       "\n",
       "    .dataframe thead th {\n",
       "        text-align: right;\n",
       "    }\n",
       "</style>\n",
       "<table border=\"1\" class=\"dataframe\">\n",
       "  <thead>\n",
       "    <tr style=\"text-align: right;\">\n",
       "      <th></th>\n",
       "      <th>date</th>\n",
       "      <th>tokyo</th>\n",
       "      <th>taipei</th>\n",
       "    </tr>\n",
       "  </thead>\n",
       "  <tbody>\n",
       "    <tr>\n",
       "      <th>0</th>\n",
       "      <td>12月1日</td>\n",
       "      <td>14</td>\n",
       "      <td>26</td>\n",
       "    </tr>\n",
       "    <tr>\n",
       "      <th>1</th>\n",
       "      <td>12月2日</td>\n",
       "      <td>16</td>\n",
       "      <td>18</td>\n",
       "    </tr>\n",
       "    <tr>\n",
       "      <th>2</th>\n",
       "      <td>12月3日</td>\n",
       "      <td>14</td>\n",
       "      <td>18</td>\n",
       "    </tr>\n",
       "    <tr>\n",
       "      <th>3</th>\n",
       "      <td>12月4日</td>\n",
       "      <td>12</td>\n",
       "      <td>20</td>\n",
       "    </tr>\n",
       "    <tr>\n",
       "      <th>4</th>\n",
       "      <td>12月5日</td>\n",
       "      <td>12</td>\n",
       "      <td>19</td>\n",
       "    </tr>\n",
       "  </tbody>\n",
       "</table>\n",
       "</div>"
      ],
      "text/plain": [
       "    date  tokyo  taipei\n",
       "0  12月1日     14      26\n",
       "1  12月2日     16      18\n",
       "2  12月3日     14      18\n",
       "3  12月4日     12      20\n",
       "4  12月5日     12      19"
      ]
     },
     "execution_count": 57,
     "metadata": {},
     "output_type": "execute_result"
    }
   ],
   "source": [
    "df2.columns=['date','tokyo','taipei']\n",
    "df2.head()"
   ]
  },
  {
   "cell_type": "code",
   "execution_count": 58,
   "metadata": {},
   "outputs": [],
   "source": [
    "def convert_date(date):\n",
    "    return '/'.join([date.replace('月','/').replace('日',''),'2021'])"
   ]
  },
  {
   "cell_type": "code",
   "execution_count": 60,
   "metadata": {
    "scrolled": true
   },
   "outputs": [
    {
     "data": {
      "text/html": [
       "<div>\n",
       "<style scoped>\n",
       "    .dataframe tbody tr th:only-of-type {\n",
       "        vertical-align: middle;\n",
       "    }\n",
       "\n",
       "    .dataframe tbody tr th {\n",
       "        vertical-align: top;\n",
       "    }\n",
       "\n",
       "    .dataframe thead th {\n",
       "        text-align: right;\n",
       "    }\n",
       "</style>\n",
       "<table border=\"1\" class=\"dataframe\">\n",
       "  <thead>\n",
       "    <tr style=\"text-align: right;\">\n",
       "      <th></th>\n",
       "      <th>date</th>\n",
       "      <th>tokyo</th>\n",
       "      <th>taipei</th>\n",
       "    </tr>\n",
       "  </thead>\n",
       "  <tbody>\n",
       "    <tr>\n",
       "      <th>0</th>\n",
       "      <td>12/1/2021</td>\n",
       "      <td>14</td>\n",
       "      <td>26</td>\n",
       "    </tr>\n",
       "    <tr>\n",
       "      <th>1</th>\n",
       "      <td>12/2/2021</td>\n",
       "      <td>16</td>\n",
       "      <td>18</td>\n",
       "    </tr>\n",
       "    <tr>\n",
       "      <th>2</th>\n",
       "      <td>12/3/2021</td>\n",
       "      <td>14</td>\n",
       "      <td>18</td>\n",
       "    </tr>\n",
       "    <tr>\n",
       "      <th>3</th>\n",
       "      <td>12/4/2021</td>\n",
       "      <td>12</td>\n",
       "      <td>20</td>\n",
       "    </tr>\n",
       "    <tr>\n",
       "      <th>4</th>\n",
       "      <td>12/5/2021</td>\n",
       "      <td>12</td>\n",
       "      <td>19</td>\n",
       "    </tr>\n",
       "  </tbody>\n",
       "</table>\n",
       "</div>"
      ],
      "text/plain": [
       "        date  tokyo  taipei\n",
       "0  12/1/2021     14      26\n",
       "1  12/2/2021     16      18\n",
       "2  12/3/2021     14      18\n",
       "3  12/4/2021     12      20\n",
       "4  12/5/2021     12      19"
      ]
     },
     "execution_count": 60,
     "metadata": {},
     "output_type": "execute_result"
    }
   ],
   "source": [
    "df2['date']=df2['date'].apply(convert_date)\n",
    "df2.head()"
   ]
  },
  {
   "cell_type": "code",
   "execution_count": 63,
   "metadata": {
    "collapsed": true
   },
   "outputs": [
    {
     "data": {
      "text/html": [
       "<div>\n",
       "<style scoped>\n",
       "    .dataframe tbody tr th:only-of-type {\n",
       "        vertical-align: middle;\n",
       "    }\n",
       "\n",
       "    .dataframe tbody tr th {\n",
       "        vertical-align: top;\n",
       "    }\n",
       "\n",
       "    .dataframe thead th {\n",
       "        text-align: right;\n",
       "    }\n",
       "</style>\n",
       "<table border=\"1\" class=\"dataframe\">\n",
       "  <thead>\n",
       "    <tr style=\"text-align: right;\">\n",
       "      <th></th>\n",
       "      <th>tokyo</th>\n",
       "      <th>taipei</th>\n",
       "    </tr>\n",
       "    <tr>\n",
       "      <th>date</th>\n",
       "      <th></th>\n",
       "      <th></th>\n",
       "    </tr>\n",
       "  </thead>\n",
       "  <tbody>\n",
       "    <tr>\n",
       "      <th>12/1/2021</th>\n",
       "      <td>14</td>\n",
       "      <td>26</td>\n",
       "    </tr>\n",
       "    <tr>\n",
       "      <th>12/2/2021</th>\n",
       "      <td>16</td>\n",
       "      <td>18</td>\n",
       "    </tr>\n",
       "    <tr>\n",
       "      <th>12/3/2021</th>\n",
       "      <td>14</td>\n",
       "      <td>18</td>\n",
       "    </tr>\n",
       "    <tr>\n",
       "      <th>12/4/2021</th>\n",
       "      <td>12</td>\n",
       "      <td>20</td>\n",
       "    </tr>\n",
       "    <tr>\n",
       "      <th>12/5/2021</th>\n",
       "      <td>12</td>\n",
       "      <td>19</td>\n",
       "    </tr>\n",
       "    <tr>\n",
       "      <th>12/6/2021</th>\n",
       "      <td>11</td>\n",
       "      <td>19</td>\n",
       "    </tr>\n",
       "    <tr>\n",
       "      <th>12/7/2021</th>\n",
       "      <td>11</td>\n",
       "      <td>19</td>\n",
       "    </tr>\n",
       "    <tr>\n",
       "      <th>12/8/2021</th>\n",
       "      <td>13</td>\n",
       "      <td>19</td>\n",
       "    </tr>\n",
       "    <tr>\n",
       "      <th>12/9/2021</th>\n",
       "      <td>14</td>\n",
       "      <td>21</td>\n",
       "    </tr>\n",
       "    <tr>\n",
       "      <th>12/10/2021</th>\n",
       "      <td>15</td>\n",
       "      <td>22</td>\n",
       "    </tr>\n",
       "    <tr>\n",
       "      <th>12/11/2021</th>\n",
       "      <td>15</td>\n",
       "      <td>21</td>\n",
       "    </tr>\n",
       "    <tr>\n",
       "      <th>12/12/2021</th>\n",
       "      <td>15</td>\n",
       "      <td>21</td>\n",
       "    </tr>\n",
       "    <tr>\n",
       "      <th>12/13/2021</th>\n",
       "      <td>15</td>\n",
       "      <td>21</td>\n",
       "    </tr>\n",
       "    <tr>\n",
       "      <th>12/14/2021</th>\n",
       "      <td>14</td>\n",
       "      <td>21</td>\n",
       "    </tr>\n",
       "    <tr>\n",
       "      <th>12/15/2021</th>\n",
       "      <td>12</td>\n",
       "      <td>20</td>\n",
       "    </tr>\n",
       "    <tr>\n",
       "      <th>12/16/2021</th>\n",
       "      <td>14</td>\n",
       "      <td>20</td>\n",
       "    </tr>\n",
       "    <tr>\n",
       "      <th>12/17/2021</th>\n",
       "      <td>14</td>\n",
       "      <td>19</td>\n",
       "    </tr>\n",
       "    <tr>\n",
       "      <th>12/18/2021</th>\n",
       "      <td>14</td>\n",
       "      <td>20</td>\n",
       "    </tr>\n",
       "    <tr>\n",
       "      <th>12/19/2021</th>\n",
       "      <td>12</td>\n",
       "      <td>18</td>\n",
       "    </tr>\n",
       "    <tr>\n",
       "      <th>12/20/2021</th>\n",
       "      <td>10</td>\n",
       "      <td>20</td>\n",
       "    </tr>\n",
       "    <tr>\n",
       "      <th>12/21/2021</th>\n",
       "      <td>13</td>\n",
       "      <td>22</td>\n",
       "    </tr>\n",
       "    <tr>\n",
       "      <th>12/22/2021</th>\n",
       "      <td>13</td>\n",
       "      <td>22</td>\n",
       "    </tr>\n",
       "    <tr>\n",
       "      <th>12/23/2021</th>\n",
       "      <td>10</td>\n",
       "      <td>18</td>\n",
       "    </tr>\n",
       "    <tr>\n",
       "      <th>12/24/2021</th>\n",
       "      <td>14</td>\n",
       "      <td>18</td>\n",
       "    </tr>\n",
       "    <tr>\n",
       "      <th>12/25/2021</th>\n",
       "      <td>12</td>\n",
       "      <td>19</td>\n",
       "    </tr>\n",
       "    <tr>\n",
       "      <th>12/26/2021</th>\n",
       "      <td>12</td>\n",
       "      <td>21</td>\n",
       "    </tr>\n",
       "    <tr>\n",
       "      <th>12/27/2021</th>\n",
       "      <td>13</td>\n",
       "      <td>19</td>\n",
       "    </tr>\n",
       "    <tr>\n",
       "      <th>12/28/2021</th>\n",
       "      <td>11</td>\n",
       "      <td>19</td>\n",
       "    </tr>\n",
       "    <tr>\n",
       "      <th>12/29/2021</th>\n",
       "      <td>11</td>\n",
       "      <td>20</td>\n",
       "    </tr>\n",
       "    <tr>\n",
       "      <th>12/30/2021</th>\n",
       "      <td>10</td>\n",
       "      <td>22</td>\n",
       "    </tr>\n",
       "    <tr>\n",
       "      <th>12/31/2021</th>\n",
       "      <td>9</td>\n",
       "      <td>21</td>\n",
       "    </tr>\n",
       "    <tr>\n",
       "      <th>1/1/2021</th>\n",
       "      <td>10</td>\n",
       "      <td>20</td>\n",
       "    </tr>\n",
       "    <tr>\n",
       "      <th>1/2/2021</th>\n",
       "      <td>9</td>\n",
       "      <td>21</td>\n",
       "    </tr>\n",
       "    <tr>\n",
       "      <th>1/3/2021</th>\n",
       "      <td>9</td>\n",
       "      <td>22</td>\n",
       "    </tr>\n",
       "    <tr>\n",
       "      <th>1/4/2021</th>\n",
       "      <td>9</td>\n",
       "      <td>22</td>\n",
       "    </tr>\n",
       "  </tbody>\n",
       "</table>\n",
       "</div>"
      ],
      "text/plain": [
       "            tokyo  taipei\n",
       "date                     \n",
       "12/1/2021      14      26\n",
       "12/2/2021      16      18\n",
       "12/3/2021      14      18\n",
       "12/4/2021      12      20\n",
       "12/5/2021      12      19\n",
       "12/6/2021      11      19\n",
       "12/7/2021      11      19\n",
       "12/8/2021      13      19\n",
       "12/9/2021      14      21\n",
       "12/10/2021     15      22\n",
       "12/11/2021     15      21\n",
       "12/12/2021     15      21\n",
       "12/13/2021     15      21\n",
       "12/14/2021     14      21\n",
       "12/15/2021     12      20\n",
       "12/16/2021     14      20\n",
       "12/17/2021     14      19\n",
       "12/18/2021     14      20\n",
       "12/19/2021     12      18\n",
       "12/20/2021     10      20\n",
       "12/21/2021     13      22\n",
       "12/22/2021     13      22\n",
       "12/23/2021     10      18\n",
       "12/24/2021     14      18\n",
       "12/25/2021     12      19\n",
       "12/26/2021     12      21\n",
       "12/27/2021     13      19\n",
       "12/28/2021     11      19\n",
       "12/29/2021     11      20\n",
       "12/30/2021     10      22\n",
       "12/31/2021      9      21\n",
       "1/1/2021       10      20\n",
       "1/2/2021        9      21\n",
       "1/3/2021        9      22\n",
       "1/4/2021        9      22"
      ]
     },
     "execution_count": 63,
     "metadata": {},
     "output_type": "execute_result"
    }
   ],
   "source": [
    "df2.index=df2['date']\n",
    "df2.drop('date',axis=1,inplace=False)\n"
   ]
  },
  {
   "cell_type": "code",
   "execution_count": 66,
   "metadata": {},
   "outputs": [
    {
     "data": {
      "image/png": "[encoded data removed]",
      "text/plain": [
       "<Figure size 864x432 with 1 Axes>"
      ]
     },
     "metadata": {
      "needs_background": "light"
     },
     "output_type": "display_data"
    }
   ],
   "source": [
    "df2.plot(kind='bar',figsize=(12,6))\n",
    "plt.show()"
   ]
  },
  {
   "cell_type": "markdown",
   "metadata": {},
   "source": [
    "## 橫版顯示"
   ]
  },
  {
   "cell_type": "code",
   "execution_count": 67,
   "metadata": {},
   "outputs": [
    {
     "data": {
      "image/png": "[encoded data removed]",
      "text/plain": [
       "<Figure size 864x720 with 1 Axes>"
      ]
     },
     "metadata": {
      "needs_background": "light"
     },
     "output_type": "display_data"
    }
   ],
   "source": [
    "plt.figure(figsize=(12,10))\n",
    "\n",
    "plt.barh(df1.index,df1['tokyo'],color='DeepSkyBlue',edgecolor='black',label='tokyo')\n",
    "\n",
    "plt.title('東京溫度',pad=10,fontsize=16)\n",
    "\n",
    "plt.ylabel('日期',labelpad=10,fontsize=16)\n",
    "plt.xlabel('溫度',labelpad=10,fontsize=16)\n",
    "\n",
    "plt.xticks(rotation=90)\n",
    "\n",
    "plt.xlim(0,30)\n",
    "plt.ylim(-1,len(df1.index))\n",
    "plt.legend()\n",
    "plt.grid(True)\n",
    "\n",
    "plt.show()"
   ]
  },
  {
   "cell_type": "markdown",
   "metadata": {},
   "source": [
    "## 雙柱狀圖"
   ]
  },
  {
   "cell_type": "code",
   "execution_count": 68,
   "metadata": {
    "scrolled": false
   },
   "outputs": [
    {
     "data": {
      "text/html": [
       "<div>\n",
       "<style scoped>\n",
       "    .dataframe tbody tr th:only-of-type {\n",
       "        vertical-align: middle;\n",
       "    }\n",
       "\n",
       "    .dataframe tbody tr th {\n",
       "        vertical-align: top;\n",
       "    }\n",
       "\n",
       "    .dataframe thead th {\n",
       "        text-align: right;\n",
       "    }\n",
       "</style>\n",
       "<table border=\"1\" class=\"dataframe\">\n",
       "  <thead>\n",
       "    <tr style=\"text-align: right;\">\n",
       "      <th></th>\n",
       "      <th>tokyo</th>\n",
       "      <th>taipei</th>\n",
       "    </tr>\n",
       "  </thead>\n",
       "  <tbody>\n",
       "    <tr>\n",
       "      <th>12月1日</th>\n",
       "      <td>14</td>\n",
       "      <td>26</td>\n",
       "    </tr>\n",
       "    <tr>\n",
       "      <th>12月2日</th>\n",
       "      <td>16</td>\n",
       "      <td>18</td>\n",
       "    </tr>\n",
       "    <tr>\n",
       "      <th>12月3日</th>\n",
       "      <td>14</td>\n",
       "      <td>18</td>\n",
       "    </tr>\n",
       "    <tr>\n",
       "      <th>12月4日</th>\n",
       "      <td>12</td>\n",
       "      <td>20</td>\n",
       "    </tr>\n",
       "    <tr>\n",
       "      <th>12月5日</th>\n",
       "      <td>12</td>\n",
       "      <td>19</td>\n",
       "    </tr>\n",
       "  </tbody>\n",
       "</table>\n",
       "</div>"
      ],
      "text/plain": [
       "       tokyo  taipei\n",
       "12月1日     14      26\n",
       "12月2日     16      18\n",
       "12月3日     14      18\n",
       "12月4日     12      20\n",
       "12月5日     12      19"
      ]
     },
     "execution_count": 68,
     "metadata": {},
     "output_type": "execute_result"
    }
   ],
   "source": [
    "df1.head()"
   ]
  },
  {
   "cell_type": "code",
   "execution_count": 69,
   "metadata": {
    "scrolled": false
   },
   "outputs": [
    {
     "data": {
      "image/png": "[encoded data removed]",
      "text/plain": [
       "<Figure size 1152x288 with 1 Axes>"
      ]
     },
     "metadata": {
      "needs_background": "light"
     },
     "output_type": "display_data"
    }
   ],
   "source": [
    "import numpy as np\n",
    "\n",
    "plt.figure(figsize=(16,4))\n",
    "\n",
    "\n",
    "plt.bar(df1.index,df1['taipei'],alpha=0.5,edgecolor='black',label='taipei')\n",
    "plt.bar(df1.index,df1['tokyo'],color='DeepSkyBlue',edgecolor='black',label='tokyo')\n",
    "\n",
    "plt.title('東京vs 台北溫度',pad=10,fontsize=16)\n",
    "\n",
    "plt.xlabel('日期',labelpad=10,fontsize=16)\n",
    "plt.ylabel('溫度',labelpad=10,fontsize=16)\n",
    "\n",
    "plt.plot(df1.index,[df1.values.mean()]*len(df1.index),color='gold')\n",
    "\n",
    "plt.xticks(rotation=90)\n",
    "plt.yticks(np.linspace(0,40,10))\n",
    "\n",
    "plt.xlim(-0.5,len(df1.index)-4.5)\n",
    "\n",
    "\n",
    "plt.legend()\n",
    "plt.grid(True)\n",
    "\n",
    "plt.show()"
   ]
  },
  {
   "cell_type": "markdown",
   "metadata": {},
   "source": [
    "## 平均溫度"
   ]
  },
  {
   "cell_type": "code",
   "execution_count": 73,
   "metadata": {},
   "outputs": [
    {
     "data": {
      "text/html": [
       "<div>\n",
       "<style scoped>\n",
       "    .dataframe tbody tr th:only-of-type {\n",
       "        vertical-align: middle;\n",
       "    }\n",
       "\n",
       "    .dataframe tbody tr th {\n",
       "        vertical-align: top;\n",
       "    }\n",
       "\n",
       "    .dataframe thead th {\n",
       "        text-align: right;\n",
       "    }\n",
       "</style>\n",
       "<table border=\"1\" class=\"dataframe\">\n",
       "  <thead>\n",
       "    <tr style=\"text-align: right;\">\n",
       "      <th></th>\n",
       "      <th>tokyo</th>\n",
       "      <th>taipei</th>\n",
       "    </tr>\n",
       "  </thead>\n",
       "  <tbody>\n",
       "    <tr>\n",
       "      <th>12月1日</th>\n",
       "      <td>14</td>\n",
       "      <td>26</td>\n",
       "    </tr>\n",
       "    <tr>\n",
       "      <th>12月2日</th>\n",
       "      <td>16</td>\n",
       "      <td>18</td>\n",
       "    </tr>\n",
       "    <tr>\n",
       "      <th>12月3日</th>\n",
       "      <td>14</td>\n",
       "      <td>18</td>\n",
       "    </tr>\n",
       "    <tr>\n",
       "      <th>12月4日</th>\n",
       "      <td>12</td>\n",
       "      <td>20</td>\n",
       "    </tr>\n",
       "    <tr>\n",
       "      <th>12月5日</th>\n",
       "      <td>12</td>\n",
       "      <td>19</td>\n",
       "    </tr>\n",
       "  </tbody>\n",
       "</table>\n",
       "</div>"
      ],
      "text/plain": [
       "       tokyo  taipei\n",
       "12月1日     14      26\n",
       "12月2日     16      18\n",
       "12月3日     14      18\n",
       "12月4日     12      20\n",
       "12月5日     12      19"
      ]
     },
     "execution_count": 73,
     "metadata": {},
     "output_type": "execute_result"
    }
   ],
   "source": [
    "df1.head()"
   ]
  },
  {
   "cell_type": "code",
   "execution_count": 74,
   "metadata": {},
   "outputs": [
    {
     "data": {
      "text/plain": [
       "16.285714285714285"
      ]
     },
     "execution_count": 74,
     "metadata": {},
     "output_type": "execute_result"
    }
   ],
   "source": [
    "df1.values.mean()"
   ]
  },
  {
   "cell_type": "code",
   "execution_count": 75,
   "metadata": {},
   "outputs": [
    {
     "data": {
      "text/plain": [
       "(12.342857142857143, 20.228571428571428)"
      ]
     },
     "execution_count": 75,
     "metadata": {},
     "output_type": "execute_result"
    }
   ],
   "source": [
    "df1['tokyo'].mean(),df1['taipei'].mean()"
   ]
  },
  {
   "cell_type": "code",
   "execution_count": 76,
   "metadata": {},
   "outputs": [
    {
     "data": {
      "text/plain": [
       "16.285714285714285"
      ]
     },
     "execution_count": 76,
     "metadata": {},
     "output_type": "execute_result"
    }
   ],
   "source": [
    "df1.mean().mean()"
   ]
  },
  {
   "cell_type": "code",
   "execution_count": 160,
   "metadata": {
    "collapsed": true
   },
   "outputs": [
    {
     "data": {
      "text/plain": [
       "[16.285714285714285,\n",
       " 16.285714285714285,\n",
       " 16.285714285714285,\n",
       " 16.285714285714285,\n",
       " 16.285714285714285,\n",
       " 16.285714285714285,\n",
       " 16.285714285714285,\n",
       " 16.285714285714285,\n",
       " 16.285714285714285,\n",
       " 16.285714285714285,\n",
       " 16.285714285714285,\n",
       " 16.285714285714285,\n",
       " 16.285714285714285,\n",
       " 16.285714285714285,\n",
       " 16.285714285714285,\n",
       " 16.285714285714285,\n",
       " 16.285714285714285,\n",
       " 16.285714285714285,\n",
       " 16.285714285714285,\n",
       " 16.285714285714285,\n",
       " 16.285714285714285,\n",
       " 16.285714285714285,\n",
       " 16.285714285714285,\n",
       " 16.285714285714285,\n",
       " 16.285714285714285,\n",
       " 16.285714285714285,\n",
       " 16.285714285714285,\n",
       " 16.285714285714285,\n",
       " 16.285714285714285,\n",
       " 16.285714285714285,\n",
       " 16.285714285714285,\n",
       " 16.285714285714285,\n",
       " 16.285714285714285,\n",
       " 16.285714285714285,\n",
       " 16.285714285714285]"
      ]
     },
     "execution_count": 160,
     "metadata": {},
     "output_type": "execute_result"
    }
   ],
   "source": [
    "[df1.values.mean()]*len(df1.index)"
   ]
  },
  {
   "cell_type": "markdown",
   "metadata": {},
   "source": [
    "## 雙柱狀圖2"
   ]
  },
  {
   "cell_type": "code",
   "execution_count": 77,
   "metadata": {},
   "outputs": [
    {
     "data": {
      "text/plain": [
       "35"
      ]
     },
     "execution_count": 77,
     "metadata": {},
     "output_type": "execute_result"
    }
   ],
   "source": [
    "len(df1)"
   ]
  },
  {
   "cell_type": "code",
   "execution_count": 78,
   "metadata": {},
   "outputs": [
    {
     "data": {
      "text/plain": [
       "range(0, 70)"
      ]
     },
     "execution_count": 78,
     "metadata": {},
     "output_type": "execute_result"
    }
   ],
   "source": [
    "index=range(len(df1)*2)\n",
    "index"
   ]
  },
  {
   "cell_type": "code",
   "execution_count": 79,
   "metadata": {
    "collapsed": true
   },
   "outputs": [
    {
     "data": {
      "text/plain": [
       "[0,\n",
       " 2,\n",
       " 4,\n",
       " 6,\n",
       " 8,\n",
       " 10,\n",
       " 12,\n",
       " 14,\n",
       " 16,\n",
       " 18,\n",
       " 20,\n",
       " 22,\n",
       " 24,\n",
       " 26,\n",
       " 28,\n",
       " 30,\n",
       " 32,\n",
       " 34,\n",
       " 36,\n",
       " 38,\n",
       " 40,\n",
       " 42,\n",
       " 44,\n",
       " 46,\n",
       " 48,\n",
       " 50,\n",
       " 52,\n",
       " 54,\n",
       " 56,\n",
       " 58,\n",
       " 60,\n",
       " 62,\n",
       " 64,\n",
       " 66,\n",
       " 68]"
      ]
     },
     "execution_count": 79,
     "metadata": {},
     "output_type": "execute_result"
    }
   ],
   "source": [
    "list(index[::2])"
   ]
  },
  {
   "cell_type": "code",
   "execution_count": 80,
   "metadata": {},
   "outputs": [
    {
     "data": {
      "image/png": "[encoded data removed]",
      "text/plain": [
       "<Figure size 1152x288 with 1 Axes>"
      ]
     },
     "metadata": {
      "needs_background": "light"
     },
     "output_type": "display_data"
    }
   ],
   "source": [
    "import numpy as np\n",
    "\n",
    "plt.figure(figsize=(16,4))\n",
    "\n",
    "\n",
    "plt.bar(index[::2],df1['taipei'],edgecolor='black',label='taipei')\n",
    "plt.bar(index[1::2],df1['tokyo'],color='lightSkyBlue',edgecolor='black',label='tokyo')\n",
    "\n",
    "plt.title('東京vs 台北溫度',pad=10,fontsize=16)\n",
    "\n",
    "plt.xlabel('日期',labelpad=10,fontsize=16)\n",
    "plt.ylabel('溫度',labelpad=10,fontsize=16)\n",
    "\n",
    "#plt.plot(df1.index,[df1.values.mean()]*len(df1.index),color='gold')\n",
    "\n",
    "plt.xticks(index[::2],df1.index,rotation=90)\n",
    "plt.yticks(np.linspace(0,40,10))\n",
    "\n",
    "plt.xlim(-0.5,len(index)-0.5)\n",
    "\n",
    "\n",
    "plt.legend()\n",
    "plt.grid(True)\n",
    "\n",
    "plt.show()"
   ]
  },
  {
   "cell_type": "markdown",
   "metadata": {},
   "source": [
    "## 練習題  \n",
    "統一營收數據柱狀圖"
   ]
  },
  {
   "cell_type": "code",
   "execution_count": 81,
   "metadata": {},
   "outputs": [
    {
     "data": {
      "text/html": [
       "<div>\n",
       "<style scoped>\n",
       "    .dataframe tbody tr th:only-of-type {\n",
       "        vertical-align: middle;\n",
       "    }\n",
       "\n",
       "    .dataframe tbody tr th {\n",
       "        vertical-align: top;\n",
       "    }\n",
       "\n",
       "    .dataframe thead th {\n",
       "        text-align: right;\n",
       "    }\n",
       "</style>\n",
       "<table border=\"1\" class=\"dataframe\">\n",
       "  <thead>\n",
       "    <tr style=\"text-align: right;\">\n",
       "      <th></th>\n",
       "      <th>當月營收</th>\n",
       "      <th>上月比較%</th>\n",
       "      <th>去年同月營收</th>\n",
       "      <th>去年同月增減%</th>\n",
       "      <th>當月累計營收</th>\n",
       "      <th>去年累計營收</th>\n",
       "      <th>前期比較%</th>\n",
       "    </tr>\n",
       "  </thead>\n",
       "  <tbody>\n",
       "    <tr>\n",
       "      <th>2014/01</th>\n",
       "      <td>41540780</td>\n",
       "      <td>39.8</td>\n",
       "      <td>39905960</td>\n",
       "      <td>4.1</td>\n",
       "      <td>41540780</td>\n",
       "      <td>39905960</td>\n",
       "      <td>4.1</td>\n",
       "    </tr>\n",
       "    <tr>\n",
       "      <th>2014/02</th>\n",
       "      <td>31775090</td>\n",
       "      <td>-23.5</td>\n",
       "      <td>29510150</td>\n",
       "      <td>7.7</td>\n",
       "      <td>73315872</td>\n",
       "      <td>69416112</td>\n",
       "      <td>5.6</td>\n",
       "    </tr>\n",
       "    <tr>\n",
       "      <th>2014/03</th>\n",
       "      <td>35307488</td>\n",
       "      <td>11.1</td>\n",
       "      <td>35244528</td>\n",
       "      <td>0.2</td>\n",
       "      <td>108623400</td>\n",
       "      <td>104660600</td>\n",
       "      <td>3.8</td>\n",
       "    </tr>\n",
       "    <tr>\n",
       "      <th>2014/04</th>\n",
       "      <td>34615168</td>\n",
       "      <td>-2.0</td>\n",
       "      <td>34649800</td>\n",
       "      <td>-0.1</td>\n",
       "      <td>143238496</td>\n",
       "      <td>139310400</td>\n",
       "      <td>2.8</td>\n",
       "    </tr>\n",
       "    <tr>\n",
       "      <th>2014/05</th>\n",
       "      <td>34996780</td>\n",
       "      <td>1.1</td>\n",
       "      <td>35982680</td>\n",
       "      <td>-2.7</td>\n",
       "      <td>178235296</td>\n",
       "      <td>175293104</td>\n",
       "      <td>1.7</td>\n",
       "    </tr>\n",
       "    <tr>\n",
       "      <th>...</th>\n",
       "      <td>...</td>\n",
       "      <td>...</td>\n",
       "      <td>...</td>\n",
       "      <td>...</td>\n",
       "      <td>...</td>\n",
       "      <td>...</td>\n",
       "      <td>...</td>\n",
       "    </tr>\n",
       "    <tr>\n",
       "      <th>2019/06</th>\n",
       "      <td>38858020</td>\n",
       "      <td>0.4</td>\n",
       "      <td>37048408</td>\n",
       "      <td>4.9</td>\n",
       "      <td>222268928</td>\n",
       "      <td>214645984</td>\n",
       "      <td>3.5</td>\n",
       "    </tr>\n",
       "    <tr>\n",
       "      <th>2019/07</th>\n",
       "      <td>40267552</td>\n",
       "      <td>3.6</td>\n",
       "      <td>38128164</td>\n",
       "      <td>5.6</td>\n",
       "      <td>262536464</td>\n",
       "      <td>252774144</td>\n",
       "      <td>3.9</td>\n",
       "    </tr>\n",
       "    <tr>\n",
       "      <th>2019/08</th>\n",
       "      <td>41324568</td>\n",
       "      <td>2.6</td>\n",
       "      <td>39945628</td>\n",
       "      <td>3.5</td>\n",
       "      <td>303861024</td>\n",
       "      <td>292719776</td>\n",
       "      <td>3.8</td>\n",
       "    </tr>\n",
       "    <tr>\n",
       "      <th>2019/09</th>\n",
       "      <td>39494108</td>\n",
       "      <td>-4.4</td>\n",
       "      <td>37539416</td>\n",
       "      <td>5.2</td>\n",
       "      <td>343355136</td>\n",
       "      <td>330259200</td>\n",
       "      <td>4.0</td>\n",
       "    </tr>\n",
       "    <tr>\n",
       "      <th>2019/10</th>\n",
       "      <td>36972408</td>\n",
       "      <td>-6.4</td>\n",
       "      <td>35398600</td>\n",
       "      <td>4.4</td>\n",
       "      <td>380327552</td>\n",
       "      <td>365657792</td>\n",
       "      <td>4.0</td>\n",
       "    </tr>\n",
       "  </tbody>\n",
       "</table>\n",
       "<p>70 rows × 7 columns</p>\n",
       "</div>"
      ],
      "text/plain": [
       "             當月營收  上月比較%    去年同月營收  去年同月增減%     當月累計營收     去年累計營收  前期比較%\n",
       "2014/01  41540780   39.8  39905960      4.1   41540780   39905960    4.1\n",
       "2014/02  31775090  -23.5  29510150      7.7   73315872   69416112    5.6\n",
       "2014/03  35307488   11.1  35244528      0.2  108623400  104660600    3.8\n",
       "2014/04  34615168   -2.0  34649800     -0.1  143238496  139310400    2.8\n",
       "2014/05  34996780    1.1  35982680     -2.7  178235296  175293104    1.7\n",
       "...           ...    ...       ...      ...        ...        ...    ...\n",
       "2019/06  38858020    0.4  37048408      4.9  222268928  214645984    3.5\n",
       "2019/07  40267552    3.6  38128164      5.6  262536464  252774144    3.9\n",
       "2019/08  41324568    2.6  39945628      3.5  303861024  292719776    3.8\n",
       "2019/09  39494108   -4.4  37539416      5.2  343355136  330259200    4.0\n",
       "2019/10  36972408   -6.4  35398600      4.4  380327552  365657792    4.0\n",
       "\n",
       "[70 rows x 7 columns]"
      ]
     },
     "execution_count": 81,
     "metadata": {},
     "output_type": "execute_result"
    }
   ],
   "source": [
    "df1=pd.read_csv('統一營收表_201910.csv',engine = \"python\",index_col=0,encoding='utf-8-sig',\n",
    "               thousands=',')\n",
    "df1=df1[::-1]\n",
    "df1"
   ]
  },
  {
   "cell_type": "code",
   "execution_count": 82,
   "metadata": {
    "scrolled": true
   },
   "outputs": [
    {
     "data": {
      "image/png": "[encoded data removed]",
      "text/plain": [
       "<Figure size 1152x288 with 1 Axes>"
      ]
     },
     "metadata": {
      "needs_background": "light"
     },
     "output_type": "display_data"
    }
   ],
   "source": [
    "plt.figure(figsize=(16,4))\n",
    "\n",
    "\n",
    "\n",
    "plt.bar(df1.index,df1['去年同月營收'].div(10000000),edgecolor='black',label='去年同月營收')\n",
    "plt.bar(df1.index,df1['當月營收'].div(10000000),edgecolor='black',label='當月營收')\n",
    "\n",
    "\n",
    "plt.title('統一營收比較圖',pad=10,fontsize=16)\n",
    "\n",
    "plt.xlabel('日期',labelpad=10,fontsize=16)\n",
    "plt.ylabel('營收(千萬)',labelpad=10,fontsize=16)\n",
    "\n",
    "plt.plot(df1.index,df1['去年同月營收'].div(10000000),color='red',label='去年營收')\n",
    "\n",
    "plt.xticks(rotation=90)\n",
    "plt.yticks(np.linspace(0,6,10))\n",
    "\n",
    "plt.xlim(-0.5,len(df1.index)-4.5)\n",
    "\n",
    "\n",
    "plt.legend()\n",
    "plt.grid(True)\n",
    "\n",
    "plt.show()"
   ]
  },
  {
   "cell_type": "code",
   "execution_count": 88,
   "metadata": {},
   "outputs": [
    {
     "data": {
      "text/plain": [
       "3.501188191428571"
      ]
     },
     "execution_count": 88,
     "metadata": {},
     "output_type": "execute_result"
    }
   ],
   "source": [
    "avg=df1[['去年同月營收','當月營收']].mean().mean()\n",
    "avg/10000000"
   ]
  },
  {
   "cell_type": "code",
   "execution_count": 89,
   "metadata": {},
   "outputs": [
    {
     "data": {
      "image/png": "[encoded data removed]",
      "text/plain": [
       "<Figure size 1152x288 with 1 Axes>"
      ]
     },
     "metadata": {
      "needs_background": "light"
     },
     "output_type": "display_data"
    }
   ],
   "source": [
    "plt.figure(figsize=(16,4))\n",
    "\n",
    "index=range(len(df1)*2)\n",
    "\n",
    "plt.bar(index[::2],df1['去年同月營收'].div(10000000),edgecolor='black',label='去年同月營收')\n",
    "plt.bar(index[1::2],df1['當月營收'].div(10000000),edgecolor='black',label='當月營收')\n",
    "\n",
    "\n",
    "plt.title('統一營收比較圖',pad=10,fontsize=16)\n",
    "\n",
    "plt.xlabel('日期',labelpad=10,fontsize=16)\n",
    "plt.ylabel('營收(千萬)',labelpad=10,fontsize=16)\n",
    "\n",
    "plt.plot(df1.index,[avg/10000000]*len(df1),color='red',label='去年營收')\n",
    "\n",
    "plt.xticks(index[1::2],df1.index,rotation=90)\n",
    "plt.yticks(np.linspace(0,6,10))\n",
    "\n",
    "plt.xlim(-0.5,len(df1.index)-4.5)\n",
    "\n",
    "\n",
    "plt.legend()\n",
    "plt.grid(True)\n",
    "\n",
    "plt.show()"
   ]
  },
  {
   "cell_type": "markdown",
   "metadata": {},
   "source": [
    "## 直方圖"
   ]
  },
  {
   "cell_type": "code",
   "execution_count": 90,
   "metadata": {},
   "outputs": [
    {
     "data": {
      "text/plain": [
       "array([ 75,  98,  72,  78,  92,  93,  74,  84,  56,  58,  64,  80,  67,\n",
       "        84,  64,  67,  55,  56,  92,  59,  58,  59,  84,  84,  79,  55,\n",
       "        72,  97,  78,  77,  79,  66,  98,  67, 100,  64,  85,  59,  55,\n",
       "        66,  57,  94,  65,  92,  76,  91,  81,  78,  91,  77])"
      ]
     },
     "execution_count": 90,
     "metadata": {},
     "output_type": "execute_result"
    }
   ],
   "source": [
    "scores=np.random.randint(55,101,50)\n",
    "scores"
   ]
  },
  {
   "cell_type": "code",
   "execution_count": 91,
   "metadata": {},
   "outputs": [],
   "source": [
    "nums=10"
   ]
  },
  {
   "cell_type": "code",
   "execution_count": 92,
   "metadata": {
    "scrolled": true
   },
   "outputs": [
    {
     "data": {
      "image/png": "[encoded data removed]",
      "text/plain": [
       "<Figure size 432x288 with 1 Axes>"
      ]
     },
     "metadata": {
      "needs_background": "light"
     },
     "output_type": "display_data"
    }
   ],
   "source": [
    "n=plt.hist(scores,nums,color='m')\n",
    "\n",
    "plt.show()"
   ]
  },
  {
   "cell_type": "code",
   "execution_count": 93,
   "metadata": {},
   "outputs": [
    {
     "data": {
      "text/plain": [
       "(array([11.,  0.,  9.,  2.,  5.,  7.,  5.,  0.,  7.,  4.]),\n",
       " array([ 55. ,  59.5,  64. ,  68.5,  73. ,  77.5,  82. ,  86.5,  91. ,\n",
       "         95.5, 100. ]),\n",
       " <BarContainer object of 10 artists>)"
      ]
     },
     "execution_count": 93,
     "metadata": {},
     "output_type": "execute_result"
    }
   ],
   "source": [
    "n"
   ]
  },
  {
   "cell_type": "markdown",
   "metadata": {},
   "source": [
    "### 頻率"
   ]
  },
  {
   "cell_type": "code",
   "execution_count": 94,
   "metadata": {
    "scrolled": true
   },
   "outputs": [
    {
     "data": {
      "text/plain": [
       "array([11.,  0.,  9.,  2.,  5.,  7.,  5.,  0.,  7.,  4.])"
      ]
     },
     "execution_count": 94,
     "metadata": {},
     "output_type": "execute_result"
    }
   ],
   "source": [
    "n[0]"
   ]
  },
  {
   "cell_type": "markdown",
   "metadata": {},
   "source": [
    "### 區間刻度"
   ]
  },
  {
   "cell_type": "code",
   "execution_count": 96,
   "metadata": {},
   "outputs": [
    {
     "data": {
      "text/plain": [
       "array([ 55. ,  59.5,  64. ,  68.5,  73. ,  77.5,  82. ,  86.5,  91. ,\n",
       "        95.5, 100. ])"
      ]
     },
     "execution_count": 96,
     "metadata": {},
     "output_type": "execute_result"
    }
   ],
   "source": [
    "n[1]"
   ]
  },
  {
   "cell_type": "markdown",
   "metadata": {},
   "source": [
    "### 輸出範圍跟頻率"
   ]
  },
  {
   "cell_type": "code",
   "execution_count": 97,
   "metadata": {},
   "outputs": [
    {
     "name": "stdout",
     "output_type": "stream",
     "text": [
      "55.0~59.5==>11.0\n",
      "59.5~64.0==>0.0\n",
      "64.0~68.5==>9.0\n",
      "68.5~73.0==>2.0\n",
      "73.0~77.5==>5.0\n",
      "77.5~82.0==>7.0\n",
      "82.0~86.5==>5.0\n",
      "86.5~91.0==>0.0\n",
      "91.0~95.5==>7.0\n",
      "95.5~100.0==>4.0\n"
     ]
    }
   ],
   "source": [
    "for i in range(0,len(n[1])-1):\n",
    "    print(f'{n[1][i]}~{n[1][i+1]}==>{n[0][i]}')"
   ]
  },
  {
   "cell_type": "markdown",
   "metadata": {},
   "source": [
    "## 樂透分析"
   ]
  },
  {
   "cell_type": "code",
   "execution_count": 105,
   "metadata": {
    "scrolled": true
   },
   "outputs": [
    {
     "data": {
      "text/plain": [
       "array([[18, 23, 24, 25, 39, 42, 48],\n",
       "       [ 6,  7,  8, 20, 47, 48, 30],\n",
       "       [ 4, 19, 21, 28, 39, 43, 18],\n",
       "       [13, 20, 22, 31, 34, 42,  9],\n",
       "       [12, 20, 30, 38, 40, 41, 10],\n",
       "       [ 4,  5, 10, 30, 39, 45, 14],\n",
       "       [ 2, 20, 36, 37, 42, 46, 29],\n",
       "       [ 3, 10, 14, 15, 20, 45,  2],\n",
       "       [14, 20, 24, 30, 44, 48, 31],\n",
       "       [10, 17, 20, 21, 32, 41, 34],\n",
       "       [ 2,  7, 22, 35, 46, 49, 41],\n",
       "       [12, 24, 28, 36, 37, 40,  6],\n",
       "       [ 6,  8, 24, 32, 34, 36, 49],\n",
       "       [13, 18, 30, 34, 45, 49, 33],\n",
       "       [17, 23, 28, 29, 32, 39, 12],\n",
       "       [ 7, 21, 29, 33, 40, 41,  8],\n",
       "       [ 8, 13, 14, 32, 36, 42,  5],\n",
       "       [ 6,  8, 18, 19, 20, 30, 22],\n",
       "       [ 5,  8, 14, 19, 22, 47, 24],\n",
       "       [11, 16, 19, 29, 30, 45,  1],\n",
       "       [ 1,  3, 40, 44, 46, 48,  2],\n",
       "       [ 1,  3,  4, 24, 32, 43, 37],\n",
       "       [ 6, 20, 22, 43, 45, 48, 11],\n",
       "       [ 6, 17, 22, 34, 38, 42, 20],\n",
       "       [ 1,  8, 14, 27, 40, 45, 34],\n",
       "       [12, 13, 16, 21, 42, 43, 39],\n",
       "       [ 3, 11, 15, 25, 31, 48, 36],\n",
       "       [ 5,  7, 22, 37, 40, 45, 12],\n",
       "       [ 5, 10, 12, 20, 28, 36, 15],\n",
       "       [ 7, 16, 17, 36, 47, 48, 49],\n",
       "       [ 1, 12, 16, 37, 41, 47, 36],\n",
       "       [ 6, 13, 14, 19, 24, 38, 26],\n",
       "       [ 1,  3, 12, 16, 29, 49,  4],\n",
       "       [ 5, 28, 38, 40, 41, 47, 25],\n",
       "       [11, 28, 29, 38, 41, 49, 22],\n",
       "       [10, 36, 37, 44, 45, 46, 48]], dtype=int64)"
      ]
     },
     "execution_count": 105,
     "metadata": {},
     "output_type": "execute_result"
    }
   ],
   "source": [
    "numbers=pd.read_csv('201901大樂透.csv',header=None).values\n",
    "numbers"
   ]
  },
  {
   "cell_type": "markdown",
   "metadata": {},
   "source": [
    "### 特別號"
   ]
  },
  {
   "cell_type": "code",
   "execution_count": 108,
   "metadata": {
    "scrolled": true
   },
   "outputs": [
    {
     "data": {
      "text/plain": [
       "array([48, 30, 18,  9, 10, 14, 29,  2, 31, 34, 41,  6, 49, 33, 12,  8,  5,\n",
       "       22, 24,  1,  2, 37, 11, 20, 34, 39, 36, 12, 15, 49, 36, 26,  4, 25,\n",
       "       22, 48], dtype=int64)"
      ]
     },
     "execution_count": 108,
     "metadata": {},
     "output_type": "execute_result"
    }
   ],
   "source": [
    "x=numbers[:,-1]\n",
    "x"
   ]
  },
  {
   "cell_type": "markdown",
   "metadata": {},
   "source": [
    "### 一般號"
   ]
  },
  {
   "cell_type": "code",
   "execution_count": 112,
   "metadata": {},
   "outputs": [
    {
     "data": {
      "text/plain": [
       "array([[18, 23, 24, 25, 39, 42],\n",
       "       [ 6,  7,  8, 20, 47, 48],\n",
       "       [ 4, 19, 21, 28, 39, 43],\n",
       "       [13, 20, 22, 31, 34, 42],\n",
       "       [12, 20, 30, 38, 40, 41],\n",
       "       [ 4,  5, 10, 30, 39, 45],\n",
       "       [ 2, 20, 36, 37, 42, 46],\n",
       "       [ 3, 10, 14, 15, 20, 45],\n",
       "       [14, 20, 24, 30, 44, 48],\n",
       "       [10, 17, 20, 21, 32, 41],\n",
       "       [ 2,  7, 22, 35, 46, 49],\n",
       "       [12, 24, 28, 36, 37, 40],\n",
       "       [ 6,  8, 24, 32, 34, 36],\n",
       "       [13, 18, 30, 34, 45, 49],\n",
       "       [17, 23, 28, 29, 32, 39],\n",
       "       [ 7, 21, 29, 33, 40, 41],\n",
       "       [ 8, 13, 14, 32, 36, 42],\n",
       "       [ 6,  8, 18, 19, 20, 30],\n",
       "       [ 5,  8, 14, 19, 22, 47],\n",
       "       [11, 16, 19, 29, 30, 45],\n",
       "       [ 1,  3, 40, 44, 46, 48],\n",
       "       [ 1,  3,  4, 24, 32, 43],\n",
       "       [ 6, 20, 22, 43, 45, 48],\n",
       "       [ 6, 17, 22, 34, 38, 42],\n",
       "       [ 1,  8, 14, 27, 40, 45],\n",
       "       [12, 13, 16, 21, 42, 43],\n",
       "       [ 3, 11, 15, 25, 31, 48],\n",
       "       [ 5,  7, 22, 37, 40, 45],\n",
       "       [ 5, 10, 12, 20, 28, 36],\n",
       "       [ 7, 16, 17, 36, 47, 48],\n",
       "       [ 1, 12, 16, 37, 41, 47],\n",
       "       [ 6, 13, 14, 19, 24, 38],\n",
       "       [ 1,  3, 12, 16, 29, 49],\n",
       "       [ 5, 28, 38, 40, 41, 47],\n",
       "       [11, 28, 29, 38, 41, 49],\n",
       "       [10, 36, 37, 44, 45, 46]], dtype=int64)"
      ]
     },
     "execution_count": 112,
     "metadata": {},
     "output_type": "execute_result"
    }
   ],
   "source": [
    "y=numbers[:,:-1]\n",
    "y"
   ]
  },
  {
   "cell_type": "markdown",
   "metadata": {},
   "source": [
    "### 塑形成一維"
   ]
  },
  {
   "cell_type": "code",
   "execution_count": 278,
   "metadata": {
    "scrolled": true
   },
   "outputs": [
    {
     "data": {
      "text/plain": [
       "(36, 6)"
      ]
     },
     "execution_count": 278,
     "metadata": {},
     "output_type": "execute_result"
    }
   ],
   "source": [
    "y.shape"
   ]
  },
  {
   "cell_type": "markdown",
   "metadata": {},
   "source": [
    "### 使用ndarray==>tolist"
   ]
  },
  {
   "cell_type": "code",
   "execution_count": 150,
   "metadata": {
    "collapsed": true
   },
   "outputs": [
    {
     "data": {
      "text/plain": [
       "[18,\n",
       " 23,\n",
       " 24,\n",
       " 25,\n",
       " 39,\n",
       " 42,\n",
       " 6,\n",
       " 7,\n",
       " 8,\n",
       " 20,\n",
       " 47,\n",
       " 48,\n",
       " 4,\n",
       " 19,\n",
       " 21,\n",
       " 28,\n",
       " 39,\n",
       " 43,\n",
       " 13,\n",
       " 20,\n",
       " 22,\n",
       " 31,\n",
       " 34,\n",
       " 42,\n",
       " 12,\n",
       " 20,\n",
       " 30,\n",
       " 38,\n",
       " 40,\n",
       " 41,\n",
       " 4,\n",
       " 5,\n",
       " 10,\n",
       " 30,\n",
       " 39,\n",
       " 45,\n",
       " 2,\n",
       " 20,\n",
       " 36,\n",
       " 37,\n",
       " 42,\n",
       " 46,\n",
       " 3,\n",
       " 10,\n",
       " 14,\n",
       " 15,\n",
       " 20,\n",
       " 45,\n",
       " 14,\n",
       " 20,\n",
       " 24,\n",
       " 30,\n",
       " 44,\n",
       " 48,\n",
       " 10,\n",
       " 17,\n",
       " 20,\n",
       " 21,\n",
       " 32,\n",
       " 41,\n",
       " 2,\n",
       " 7,\n",
       " 22,\n",
       " 35,\n",
       " 46,\n",
       " 49,\n",
       " 12,\n",
       " 24,\n",
       " 28,\n",
       " 36,\n",
       " 37,\n",
       " 40,\n",
       " 6,\n",
       " 8,\n",
       " 24,\n",
       " 32,\n",
       " 34,\n",
       " 36,\n",
       " 13,\n",
       " 18,\n",
       " 30,\n",
       " 34,\n",
       " 45,\n",
       " 49,\n",
       " 17,\n",
       " 23,\n",
       " 28,\n",
       " 29,\n",
       " 32,\n",
       " 39,\n",
       " 7,\n",
       " 21,\n",
       " 29,\n",
       " 33,\n",
       " 40,\n",
       " 41,\n",
       " 8,\n",
       " 13,\n",
       " 14,\n",
       " 32,\n",
       " 36,\n",
       " 42,\n",
       " 6,\n",
       " 8,\n",
       " 18,\n",
       " 19,\n",
       " 20,\n",
       " 30,\n",
       " 5,\n",
       " 8,\n",
       " 14,\n",
       " 19,\n",
       " 22,\n",
       " 47,\n",
       " 11,\n",
       " 16,\n",
       " 19,\n",
       " 29,\n",
       " 30,\n",
       " 45,\n",
       " 1,\n",
       " 3,\n",
       " 40,\n",
       " 44,\n",
       " 46,\n",
       " 48,\n",
       " 1,\n",
       " 3,\n",
       " 4,\n",
       " 24,\n",
       " 32,\n",
       " 43,\n",
       " 6,\n",
       " 20,\n",
       " 22,\n",
       " 43,\n",
       " 45,\n",
       " 48,\n",
       " 6,\n",
       " 17,\n",
       " 22,\n",
       " 34,\n",
       " 38,\n",
       " 42,\n",
       " 1,\n",
       " 8,\n",
       " 14,\n",
       " 27,\n",
       " 40,\n",
       " 45,\n",
       " 12,\n",
       " 13,\n",
       " 16,\n",
       " 21,\n",
       " 42,\n",
       " 43,\n",
       " 3,\n",
       " 11,\n",
       " 15,\n",
       " 25,\n",
       " 31,\n",
       " 48,\n",
       " 5,\n",
       " 7,\n",
       " 22,\n",
       " 37,\n",
       " 40,\n",
       " 45,\n",
       " 5,\n",
       " 10,\n",
       " 12,\n",
       " 20,\n",
       " 28,\n",
       " 36,\n",
       " 7,\n",
       " 16,\n",
       " 17,\n",
       " 36,\n",
       " 47,\n",
       " 48,\n",
       " 1,\n",
       " 12,\n",
       " 16,\n",
       " 37,\n",
       " 41,\n",
       " 47,\n",
       " 6,\n",
       " 13,\n",
       " 14,\n",
       " 19,\n",
       " 24,\n",
       " 38,\n",
       " 1,\n",
       " 3,\n",
       " 12,\n",
       " 16,\n",
       " 29,\n",
       " 49,\n",
       " 5,\n",
       " 28,\n",
       " 38,\n",
       " 40,\n",
       " 41,\n",
       " 47,\n",
       " 11,\n",
       " 28,\n",
       " 29,\n",
       " 38,\n",
       " 41,\n",
       " 49,\n",
       " 10,\n",
       " 36,\n",
       " 37,\n",
       " 44,\n",
       " 45,\n",
       " 46]"
      ]
     },
     "execution_count": 150,
     "metadata": {},
     "output_type": "execute_result"
    }
   ],
   "source": [
    "data=y.reshape(y.shape[0]*y.shape[1])\n",
    "data=data.tolist()\n",
    "data"
   ]
  },
  {
   "cell_type": "markdown",
   "metadata": {},
   "source": [
    "### 頻率計算方式　　\n",
    "使用字典"
   ]
  },
  {
   "cell_type": "code",
   "execution_count": 151,
   "metadata": {
    "collapsed": true
   },
   "outputs": [
    {
     "data": {
      "text/plain": [
       "{18: 3,\n",
       " 23: 2,\n",
       " 24: 6,\n",
       " 25: 2,\n",
       " 39: 4,\n",
       " 42: 6,\n",
       " 6: 6,\n",
       " 7: 5,\n",
       " 8: 6,\n",
       " 20: 10,\n",
       " 47: 5,\n",
       " 48: 6,\n",
       " 4: 3,\n",
       " 19: 5,\n",
       " 21: 4,\n",
       " 28: 6,\n",
       " 43: 4,\n",
       " 13: 5,\n",
       " 22: 6,\n",
       " 31: 2,\n",
       " 34: 4,\n",
       " 12: 6,\n",
       " 30: 6,\n",
       " 38: 5,\n",
       " 40: 7,\n",
       " 41: 6,\n",
       " 5: 5,\n",
       " 10: 5,\n",
       " 45: 8,\n",
       " 2: 2,\n",
       " 36: 7,\n",
       " 37: 5,\n",
       " 46: 4,\n",
       " 3: 5,\n",
       " 14: 6,\n",
       " 15: 2,\n",
       " 44: 3,\n",
       " 17: 4,\n",
       " 32: 5,\n",
       " 35: 1,\n",
       " 49: 4,\n",
       " 29: 5,\n",
       " 33: 1,\n",
       " 11: 3,\n",
       " 16: 5,\n",
       " 1: 5,\n",
       " 27: 1}"
      ]
     },
     "execution_count": 151,
     "metadata": {},
     "output_type": "execute_result"
    }
   ],
   "source": [
    "dict1={}\n",
    "for n in data:\n",
    "    if n not in dict1:\n",
    "        dict1[n]=data.count(n)\n",
    "        \n",
    "dict1"
   ]
  },
  {
   "cell_type": "code",
   "execution_count": 130,
   "metadata": {
    "collapsed": true
   },
   "outputs": [
    {
     "data": {
      "text/plain": [
       "[(1, 5),\n",
       " (2, 2),\n",
       " (3, 5),\n",
       " (4, 3),\n",
       " (5, 5),\n",
       " (6, 6),\n",
       " (7, 5),\n",
       " (8, 6),\n",
       " (10, 5),\n",
       " (11, 3),\n",
       " (12, 6),\n",
       " (13, 5),\n",
       " (14, 6),\n",
       " (15, 2),\n",
       " (16, 5),\n",
       " (17, 4),\n",
       " (18, 3),\n",
       " (19, 5),\n",
       " (20, 10),\n",
       " (21, 4),\n",
       " (22, 6),\n",
       " (23, 2),\n",
       " (24, 6),\n",
       " (25, 2),\n",
       " (27, 1),\n",
       " (28, 6),\n",
       " (29, 5),\n",
       " (30, 6),\n",
       " (31, 2),\n",
       " (32, 5),\n",
       " (33, 1),\n",
       " (34, 4),\n",
       " (35, 1),\n",
       " (36, 7),\n",
       " (37, 5),\n",
       " (38, 5),\n",
       " (39, 4),\n",
       " (40, 7),\n",
       " (41, 6),\n",
       " (42, 6),\n",
       " (43, 4),\n",
       " (44, 3),\n",
       " (45, 8),\n",
       " (46, 4),\n",
       " (47, 5),\n",
       " (48, 6),\n",
       " (49, 4)]"
      ]
     },
     "execution_count": 130,
     "metadata": {},
     "output_type": "execute_result"
    }
   ],
   "source": [
    "datas=sorted(dict1.items())\n",
    "datas"
   ]
  },
  {
   "cell_type": "code",
   "execution_count": 144,
   "metadata": {
    "collapsed": true
   },
   "outputs": [
    {
     "data": {
      "text/html": [
       "<div>\n",
       "<style scoped>\n",
       "    .dataframe tbody tr th:only-of-type {\n",
       "        vertical-align: middle;\n",
       "    }\n",
       "\n",
       "    .dataframe tbody tr th {\n",
       "        vertical-align: top;\n",
       "    }\n",
       "\n",
       "    .dataframe thead th {\n",
       "        text-align: right;\n",
       "    }\n",
       "</style>\n",
       "<table border=\"1\" class=\"dataframe\">\n",
       "  <thead>\n",
       "    <tr style=\"text-align: right;\">\n",
       "      <th></th>\n",
       "      <th>次數</th>\n",
       "    </tr>\n",
       "    <tr>\n",
       "      <th>號碼</th>\n",
       "      <th></th>\n",
       "    </tr>\n",
       "  </thead>\n",
       "  <tbody>\n",
       "    <tr>\n",
       "      <th>1</th>\n",
       "      <td>5</td>\n",
       "    </tr>\n",
       "    <tr>\n",
       "      <th>2</th>\n",
       "      <td>2</td>\n",
       "    </tr>\n",
       "    <tr>\n",
       "      <th>3</th>\n",
       "      <td>5</td>\n",
       "    </tr>\n",
       "    <tr>\n",
       "      <th>4</th>\n",
       "      <td>3</td>\n",
       "    </tr>\n",
       "    <tr>\n",
       "      <th>5</th>\n",
       "      <td>5</td>\n",
       "    </tr>\n",
       "    <tr>\n",
       "      <th>6</th>\n",
       "      <td>6</td>\n",
       "    </tr>\n",
       "    <tr>\n",
       "      <th>7</th>\n",
       "      <td>5</td>\n",
       "    </tr>\n",
       "    <tr>\n",
       "      <th>8</th>\n",
       "      <td>6</td>\n",
       "    </tr>\n",
       "    <tr>\n",
       "      <th>10</th>\n",
       "      <td>5</td>\n",
       "    </tr>\n",
       "    <tr>\n",
       "      <th>11</th>\n",
       "      <td>3</td>\n",
       "    </tr>\n",
       "    <tr>\n",
       "      <th>12</th>\n",
       "      <td>6</td>\n",
       "    </tr>\n",
       "    <tr>\n",
       "      <th>13</th>\n",
       "      <td>5</td>\n",
       "    </tr>\n",
       "    <tr>\n",
       "      <th>14</th>\n",
       "      <td>6</td>\n",
       "    </tr>\n",
       "    <tr>\n",
       "      <th>15</th>\n",
       "      <td>2</td>\n",
       "    </tr>\n",
       "    <tr>\n",
       "      <th>16</th>\n",
       "      <td>5</td>\n",
       "    </tr>\n",
       "    <tr>\n",
       "      <th>17</th>\n",
       "      <td>4</td>\n",
       "    </tr>\n",
       "    <tr>\n",
       "      <th>18</th>\n",
       "      <td>3</td>\n",
       "    </tr>\n",
       "    <tr>\n",
       "      <th>19</th>\n",
       "      <td>5</td>\n",
       "    </tr>\n",
       "    <tr>\n",
       "      <th>20</th>\n",
       "      <td>10</td>\n",
       "    </tr>\n",
       "    <tr>\n",
       "      <th>21</th>\n",
       "      <td>4</td>\n",
       "    </tr>\n",
       "    <tr>\n",
       "      <th>22</th>\n",
       "      <td>6</td>\n",
       "    </tr>\n",
       "    <tr>\n",
       "      <th>23</th>\n",
       "      <td>2</td>\n",
       "    </tr>\n",
       "    <tr>\n",
       "      <th>24</th>\n",
       "      <td>6</td>\n",
       "    </tr>\n",
       "    <tr>\n",
       "      <th>25</th>\n",
       "      <td>2</td>\n",
       "    </tr>\n",
       "    <tr>\n",
       "      <th>27</th>\n",
       "      <td>1</td>\n",
       "    </tr>\n",
       "    <tr>\n",
       "      <th>28</th>\n",
       "      <td>6</td>\n",
       "    </tr>\n",
       "    <tr>\n",
       "      <th>29</th>\n",
       "      <td>5</td>\n",
       "    </tr>\n",
       "    <tr>\n",
       "      <th>30</th>\n",
       "      <td>6</td>\n",
       "    </tr>\n",
       "    <tr>\n",
       "      <th>31</th>\n",
       "      <td>2</td>\n",
       "    </tr>\n",
       "    <tr>\n",
       "      <th>32</th>\n",
       "      <td>5</td>\n",
       "    </tr>\n",
       "    <tr>\n",
       "      <th>33</th>\n",
       "      <td>1</td>\n",
       "    </tr>\n",
       "    <tr>\n",
       "      <th>34</th>\n",
       "      <td>4</td>\n",
       "    </tr>\n",
       "    <tr>\n",
       "      <th>35</th>\n",
       "      <td>1</td>\n",
       "    </tr>\n",
       "    <tr>\n",
       "      <th>36</th>\n",
       "      <td>7</td>\n",
       "    </tr>\n",
       "    <tr>\n",
       "      <th>37</th>\n",
       "      <td>5</td>\n",
       "    </tr>\n",
       "    <tr>\n",
       "      <th>38</th>\n",
       "      <td>5</td>\n",
       "    </tr>\n",
       "    <tr>\n",
       "      <th>39</th>\n",
       "      <td>4</td>\n",
       "    </tr>\n",
       "    <tr>\n",
       "      <th>40</th>\n",
       "      <td>7</td>\n",
       "    </tr>\n",
       "    <tr>\n",
       "      <th>41</th>\n",
       "      <td>6</td>\n",
       "    </tr>\n",
       "    <tr>\n",
       "      <th>42</th>\n",
       "      <td>6</td>\n",
       "    </tr>\n",
       "    <tr>\n",
       "      <th>43</th>\n",
       "      <td>4</td>\n",
       "    </tr>\n",
       "    <tr>\n",
       "      <th>44</th>\n",
       "      <td>3</td>\n",
       "    </tr>\n",
       "    <tr>\n",
       "      <th>45</th>\n",
       "      <td>8</td>\n",
       "    </tr>\n",
       "    <tr>\n",
       "      <th>46</th>\n",
       "      <td>4</td>\n",
       "    </tr>\n",
       "    <tr>\n",
       "      <th>47</th>\n",
       "      <td>5</td>\n",
       "    </tr>\n",
       "    <tr>\n",
       "      <th>48</th>\n",
       "      <td>6</td>\n",
       "    </tr>\n",
       "    <tr>\n",
       "      <th>49</th>\n",
       "      <td>4</td>\n",
       "    </tr>\n",
       "  </tbody>\n",
       "</table>\n",
       "</div>"
      ],
      "text/plain": [
       "    次數\n",
       "號碼    \n",
       "1    5\n",
       "2    2\n",
       "3    5\n",
       "4    3\n",
       "5    5\n",
       "6    6\n",
       "7    5\n",
       "8    6\n",
       "10   5\n",
       "11   3\n",
       "12   6\n",
       "13   5\n",
       "14   6\n",
       "15   2\n",
       "16   5\n",
       "17   4\n",
       "18   3\n",
       "19   5\n",
       "20  10\n",
       "21   4\n",
       "22   6\n",
       "23   2\n",
       "24   6\n",
       "25   2\n",
       "27   1\n",
       "28   6\n",
       "29   5\n",
       "30   6\n",
       "31   2\n",
       "32   5\n",
       "33   1\n",
       "34   4\n",
       "35   1\n",
       "36   7\n",
       "37   5\n",
       "38   5\n",
       "39   4\n",
       "40   7\n",
       "41   6\n",
       "42   6\n",
       "43   4\n",
       "44   3\n",
       "45   8\n",
       "46   4\n",
       "47   5\n",
       "48   6\n",
       "49   4"
      ]
     },
     "execution_count": 144,
     "metadata": {},
     "output_type": "execute_result"
    }
   ],
   "source": [
    "df1=pd.DataFrame(datas,columns=['號碼','次數'])\n",
    "df1=df1.set_index('號碼')\n",
    "df1"
   ]
  },
  {
   "cell_type": "code",
   "execution_count": 146,
   "metadata": {},
   "outputs": [
    {
     "data": {
      "image/png": "[encoded data removed]",
      "text/plain": [
       "<Figure size 864x432 with 1 Axes>"
      ]
     },
     "metadata": {
      "needs_background": "light"
     },
     "output_type": "display_data"
    }
   ],
   "source": [
    "df1.plot(kind='bar',title='分析表',figsize=(12,6))\n",
    "plt.show()"
   ]
  },
  {
   "cell_type": "code",
   "execution_count": 147,
   "metadata": {},
   "outputs": [],
   "source": [
    "nums=49"
   ]
  },
  {
   "cell_type": "code",
   "execution_count": 153,
   "metadata": {
    "scrolled": false
   },
   "outputs": [
    {
     "data": {
      "image/png": "[encoded data removed]",
      "text/plain": [
       "<Figure size 864x288 with 1 Axes>"
      ]
     },
     "metadata": {
      "needs_background": "light"
     },
     "output_type": "display_data"
    }
   ],
   "source": [
    "plt.figure(figsize=(12,4))\n",
    "\n",
    "n=plt.hist(data,nums,color='gold',edgecolor='m')\n",
    "plt.xticks(range(1,nums+1,1))\n",
    "\n",
    "plt.grid(True)\n",
    "plt.show()"
   ]
  },
  {
   "cell_type": "markdown",
   "metadata": {},
   "source": [
    "### 輸出頻率"
   ]
  },
  {
   "cell_type": "code",
   "execution_count": 154,
   "metadata": {
    "scrolled": true
   },
   "outputs": [
    {
     "name": "stdout",
     "output_type": "stream",
     "text": [
      "1==>5.0\n",
      "2==>2.0\n",
      "3==>5.0\n",
      "4==>3.0\n",
      "5==>5.0\n",
      "6==>6.0\n",
      "7==>5.0\n",
      "8==>6.0\n",
      "9==>0.0\n",
      "10==>5.0\n",
      "11==>3.0\n",
      "12==>6.0\n",
      "13==>5.0\n",
      "14==>6.0\n",
      "15==>2.0\n",
      "16==>5.0\n",
      "17==>4.0\n",
      "18==>3.0\n",
      "19==>5.0\n",
      "20==>10.0\n",
      "21==>4.0\n",
      "22==>6.0\n",
      "23==>2.0\n",
      "24==>6.0\n",
      "25==>2.0\n",
      "26==>0.0\n",
      "27==>1.0\n",
      "28==>6.0\n",
      "29==>5.0\n",
      "30==>6.0\n",
      "31==>2.0\n",
      "32==>5.0\n",
      "33==>1.0\n",
      "34==>4.0\n",
      "35==>1.0\n",
      "36==>7.0\n",
      "37==>5.0\n",
      "38==>5.0\n",
      "39==>4.0\n",
      "40==>7.0\n",
      "41==>6.0\n",
      "42==>6.0\n",
      "43==>4.0\n",
      "44==>3.0\n",
      "45==>8.0\n",
      "46==>4.0\n",
      "47==>5.0\n",
      "48==>6.0\n",
      "49==>4.0\n"
     ]
    }
   ],
   "source": [
    "for i in range(0,len(n[1])-1):\n",
    "    print(f'{int(n[1][i+1])}==>{n[0][i]}')"
   ]
  },
  {
   "cell_type": "markdown",
   "metadata": {},
   "source": [
    "## NBA資料分析"
   ]
  },
  {
   "cell_type": "code",
   "execution_count": 155,
   "metadata": {},
   "outputs": [
    {
     "data": {
      "text/html": [
       "<div>\n",
       "<style scoped>\n",
       "    .dataframe tbody tr th:only-of-type {\n",
       "        vertical-align: middle;\n",
       "    }\n",
       "\n",
       "    .dataframe tbody tr th {\n",
       "        vertical-align: top;\n",
       "    }\n",
       "\n",
       "    .dataframe thead th {\n",
       "        text-align: right;\n",
       "    }\n",
       "</style>\n",
       "<table border=\"1\" class=\"dataframe\">\n",
       "  <thead>\n",
       "    <tr style=\"text-align: right;\">\n",
       "      <th></th>\n",
       "      <th>No.</th>\n",
       "      <th>Player</th>\n",
       "      <th>Pos</th>\n",
       "      <th>Ht</th>\n",
       "      <th>Wt</th>\n",
       "      <th>Birth Date</th>\n",
       "      <th>Nationality</th>\n",
       "      <th>Exp</th>\n",
       "      <th>College</th>\n",
       "      <th>PTS/G</th>\n",
       "      <th>AST</th>\n",
       "      <th>TRB</th>\n",
       "      <th>3P</th>\n",
       "    </tr>\n",
       "  </thead>\n",
       "  <tbody>\n",
       "    <tr>\n",
       "      <th>0</th>\n",
       "      <td>2</td>\n",
       "      <td>Jordan Bell</td>\n",
       "      <td>C</td>\n",
       "      <td>6-9</td>\n",
       "      <td>224</td>\n",
       "      <td>January 7, 1995</td>\n",
       "      <td>us</td>\n",
       "      <td>R</td>\n",
       "      <td>University of Oregon</td>\n",
       "      <td>4.6</td>\n",
       "      <td>1.8</td>\n",
       "      <td>3.6</td>\n",
       "      <td>0.0</td>\n",
       "    </tr>\n",
       "    <tr>\n",
       "      <th>1</th>\n",
       "      <td>25</td>\n",
       "      <td>Chris Boucher</td>\n",
       "      <td>PF</td>\n",
       "      <td>6-10</td>\n",
       "      <td>182</td>\n",
       "      <td>January 11, 1993</td>\n",
       "      <td>lc</td>\n",
       "      <td>R</td>\n",
       "      <td>University of Oregon</td>\n",
       "      <td>0.0</td>\n",
       "      <td>0.0</td>\n",
       "      <td>1.0</td>\n",
       "      <td>0.0</td>\n",
       "    </tr>\n",
       "    <tr>\n",
       "      <th>2</th>\n",
       "      <td>18</td>\n",
       "      <td>Omri Casspi</td>\n",
       "      <td>SF</td>\n",
       "      <td>6-9</td>\n",
       "      <td>225</td>\n",
       "      <td>June 22, 1988</td>\n",
       "      <td>il</td>\n",
       "      <td>8</td>\n",
       "      <td>NaN</td>\n",
       "      <td>5.7</td>\n",
       "      <td>1.0</td>\n",
       "      <td>3.8</td>\n",
       "      <td>0.2</td>\n",
       "    </tr>\n",
       "    <tr>\n",
       "      <th>3</th>\n",
       "      <td>4</td>\n",
       "      <td>Quinn Cook</td>\n",
       "      <td>PG</td>\n",
       "      <td>6-2</td>\n",
       "      <td>184</td>\n",
       "      <td>March 23, 1993</td>\n",
       "      <td>us</td>\n",
       "      <td>1</td>\n",
       "      <td>Duke University</td>\n",
       "      <td>9.5</td>\n",
       "      <td>2.7</td>\n",
       "      <td>2.5</td>\n",
       "      <td>1.4</td>\n",
       "    </tr>\n",
       "    <tr>\n",
       "      <th>4</th>\n",
       "      <td>30</td>\n",
       "      <td>Stephen Curry</td>\n",
       "      <td>PG</td>\n",
       "      <td>6-3</td>\n",
       "      <td>190</td>\n",
       "      <td>March 14, 1988</td>\n",
       "      <td>us</td>\n",
       "      <td>8</td>\n",
       "      <td>Davidson College</td>\n",
       "      <td>26.4</td>\n",
       "      <td>6.1</td>\n",
       "      <td>5.1</td>\n",
       "      <td>4.2</td>\n",
       "    </tr>\n",
       "    <tr>\n",
       "      <th>5</th>\n",
       "      <td>35</td>\n",
       "      <td>Kevin Durant</td>\n",
       "      <td>PF</td>\n",
       "      <td>6-9</td>\n",
       "      <td>240</td>\n",
       "      <td>September 29, 1988</td>\n",
       "      <td>us</td>\n",
       "      <td>10</td>\n",
       "      <td>University of Texas at Austin</td>\n",
       "      <td>26.4</td>\n",
       "      <td>5.4</td>\n",
       "      <td>6.8</td>\n",
       "      <td>2.5</td>\n",
       "    </tr>\n",
       "    <tr>\n",
       "      <th>6</th>\n",
       "      <td>23</td>\n",
       "      <td>Draymond Green</td>\n",
       "      <td>PF</td>\n",
       "      <td>6-7</td>\n",
       "      <td>230</td>\n",
       "      <td>March 4, 1990</td>\n",
       "      <td>us</td>\n",
       "      <td>5</td>\n",
       "      <td>Michigan State University</td>\n",
       "      <td>11.0</td>\n",
       "      <td>7.3</td>\n",
       "      <td>7.6</td>\n",
       "      <td>1.1</td>\n",
       "    </tr>\n",
       "    <tr>\n",
       "      <th>7</th>\n",
       "      <td>9</td>\n",
       "      <td>Andre Iguodala</td>\n",
       "      <td>SF</td>\n",
       "      <td>6-6</td>\n",
       "      <td>215</td>\n",
       "      <td>January 28, 1984</td>\n",
       "      <td>us</td>\n",
       "      <td>13</td>\n",
       "      <td>University of Arizona</td>\n",
       "      <td>6.0</td>\n",
       "      <td>3.3</td>\n",
       "      <td>3.8</td>\n",
       "      <td>0.5</td>\n",
       "    </tr>\n",
       "    <tr>\n",
       "      <th>8</th>\n",
       "      <td>15</td>\n",
       "      <td>Damian Jones</td>\n",
       "      <td>C</td>\n",
       "      <td>7-0</td>\n",
       "      <td>245</td>\n",
       "      <td>June 30, 1995</td>\n",
       "      <td>us</td>\n",
       "      <td>1</td>\n",
       "      <td>Vanderbilt University</td>\n",
       "      <td>1.7</td>\n",
       "      <td>0.1</td>\n",
       "      <td>0.9</td>\n",
       "      <td>0.0</td>\n",
       "    </tr>\n",
       "    <tr>\n",
       "      <th>9</th>\n",
       "      <td>34</td>\n",
       "      <td>Shaun Livingston</td>\n",
       "      <td>PG</td>\n",
       "      <td>6-7</td>\n",
       "      <td>192</td>\n",
       "      <td>September 11, 1985</td>\n",
       "      <td>us</td>\n",
       "      <td>12</td>\n",
       "      <td>NaN</td>\n",
       "      <td>5.5</td>\n",
       "      <td>2.0</td>\n",
       "      <td>1.8</td>\n",
       "      <td>0.0</td>\n",
       "    </tr>\n",
       "    <tr>\n",
       "      <th>10</th>\n",
       "      <td>5</td>\n",
       "      <td>Kevon Looney</td>\n",
       "      <td>C</td>\n",
       "      <td>6-9</td>\n",
       "      <td>220</td>\n",
       "      <td>February 6, 1996</td>\n",
       "      <td>us</td>\n",
       "      <td>2</td>\n",
       "      <td>University of California, Los Angeles</td>\n",
       "      <td>4.0</td>\n",
       "      <td>0.6</td>\n",
       "      <td>3.3</td>\n",
       "      <td>0.0</td>\n",
       "    </tr>\n",
       "    <tr>\n",
       "      <th>11</th>\n",
       "      <td>0</td>\n",
       "      <td>Patrick McCaw</td>\n",
       "      <td>SG</td>\n",
       "      <td>6-7</td>\n",
       "      <td>185</td>\n",
       "      <td>October 25, 1995</td>\n",
       "      <td>us</td>\n",
       "      <td>1</td>\n",
       "      <td>University of Nevada, Las Vegas</td>\n",
       "      <td>4.0</td>\n",
       "      <td>1.4</td>\n",
       "      <td>1.4</td>\n",
       "      <td>0.3</td>\n",
       "    </tr>\n",
       "    <tr>\n",
       "      <th>12</th>\n",
       "      <td>1</td>\n",
       "      <td>JaVale McGee</td>\n",
       "      <td>C</td>\n",
       "      <td>7-0</td>\n",
       "      <td>270</td>\n",
       "      <td>January 19, 1988</td>\n",
       "      <td>us</td>\n",
       "      <td>9</td>\n",
       "      <td>University of Nevada, Reno</td>\n",
       "      <td>4.8</td>\n",
       "      <td>0.5</td>\n",
       "      <td>2.6</td>\n",
       "      <td>0.0</td>\n",
       "    </tr>\n",
       "    <tr>\n",
       "      <th>13</th>\n",
       "      <td>27</td>\n",
       "      <td>Zaza Pachulia</td>\n",
       "      <td>C</td>\n",
       "      <td>6-11</td>\n",
       "      <td>270</td>\n",
       "      <td>February 10, 1984</td>\n",
       "      <td>ge</td>\n",
       "      <td>14</td>\n",
       "      <td>NaN</td>\n",
       "      <td>5.4</td>\n",
       "      <td>1.6</td>\n",
       "      <td>4.7</td>\n",
       "      <td>0.0</td>\n",
       "    </tr>\n",
       "    <tr>\n",
       "      <th>14</th>\n",
       "      <td>11</td>\n",
       "      <td>Klay Thompson</td>\n",
       "      <td>SG</td>\n",
       "      <td>6-7</td>\n",
       "      <td>215</td>\n",
       "      <td>February 8, 1990</td>\n",
       "      <td>us</td>\n",
       "      <td>6</td>\n",
       "      <td>Washington State University</td>\n",
       "      <td>20.0</td>\n",
       "      <td>2.5</td>\n",
       "      <td>3.8</td>\n",
       "      <td>3.1</td>\n",
       "    </tr>\n",
       "    <tr>\n",
       "      <th>15</th>\n",
       "      <td>3</td>\n",
       "      <td>David West</td>\n",
       "      <td>C</td>\n",
       "      <td>6-9</td>\n",
       "      <td>250</td>\n",
       "      <td>August 29, 1980</td>\n",
       "      <td>us</td>\n",
       "      <td>14</td>\n",
       "      <td>Xavier University</td>\n",
       "      <td>6.8</td>\n",
       "      <td>1.9</td>\n",
       "      <td>3.3</td>\n",
       "      <td>0.0</td>\n",
       "    </tr>\n",
       "    <tr>\n",
       "      <th>16</th>\n",
       "      <td>6</td>\n",
       "      <td>Nick Young</td>\n",
       "      <td>SG</td>\n",
       "      <td>6-7</td>\n",
       "      <td>210</td>\n",
       "      <td>June 1, 1985</td>\n",
       "      <td>us</td>\n",
       "      <td>10</td>\n",
       "      <td>University of Southern California</td>\n",
       "      <td>7.3</td>\n",
       "      <td>0.5</td>\n",
       "      <td>1.6</td>\n",
       "      <td>1.5</td>\n",
       "    </tr>\n",
       "  </tbody>\n",
       "</table>\n",
       "</div>"
      ],
      "text/plain": [
       "    No.            Player Pos    Ht   Wt          Birth Date Nationality Exp  \\\n",
       "0     2       Jordan Bell   C   6-9  224     January 7, 1995          us   R   \n",
       "1    25     Chris Boucher  PF  6-10  182    January 11, 1993          lc   R   \n",
       "2    18       Omri Casspi  SF   6-9  225       June 22, 1988          il   8   \n",
       "3     4        Quinn Cook  PG   6-2  184      March 23, 1993          us   1   \n",
       "4    30     Stephen Curry  PG   6-3  190      March 14, 1988          us   8   \n",
       "5    35      Kevin Durant  PF   6-9  240  September 29, 1988          us  10   \n",
       "6    23    Draymond Green  PF   6-7  230       March 4, 1990          us   5   \n",
       "7     9    Andre Iguodala  SF   6-6  215    January 28, 1984          us  13   \n",
       "8    15      Damian Jones   C   7-0  245       June 30, 1995          us   1   \n",
       "9    34  Shaun Livingston  PG   6-7  192  September 11, 1985          us  12   \n",
       "10    5      Kevon Looney   C   6-9  220    February 6, 1996          us   2   \n",
       "11    0     Patrick McCaw  SG   6-7  185    October 25, 1995          us   1   \n",
       "12    1      JaVale McGee   C   7-0  270    January 19, 1988          us   9   \n",
       "13   27     Zaza Pachulia   C  6-11  270   February 10, 1984          ge  14   \n",
       "14   11     Klay Thompson  SG   6-7  215    February 8, 1990          us   6   \n",
       "15    3        David West   C   6-9  250     August 29, 1980          us  14   \n",
       "16    6        Nick Young  SG   6-7  210        June 1, 1985          us  10   \n",
       "\n",
       "                                  College  PTS/G  AST  TRB   3P  \n",
       "0                    University of Oregon    4.6  1.8  3.6  0.0  \n",
       "1                    University of Oregon    0.0  0.0  1.0  0.0  \n",
       "2                                     NaN    5.7  1.0  3.8  0.2  \n",
       "3                         Duke University    9.5  2.7  2.5  1.4  \n",
       "4                        Davidson College   26.4  6.1  5.1  4.2  \n",
       "5           University of Texas at Austin   26.4  5.4  6.8  2.5  \n",
       "6               Michigan State University   11.0  7.3  7.6  1.1  \n",
       "7                   University of Arizona    6.0  3.3  3.8  0.5  \n",
       "8                   Vanderbilt University    1.7  0.1  0.9  0.0  \n",
       "9                                     NaN    5.5  2.0  1.8  0.0  \n",
       "10  University of California, Los Angeles    4.0  0.6  3.3  0.0  \n",
       "11        University of Nevada, Las Vegas    4.0  1.4  1.4  0.3  \n",
       "12             University of Nevada, Reno    4.8  0.5  2.6  0.0  \n",
       "13                                    NaN    5.4  1.6  4.7  0.0  \n",
       "14            Washington State University   20.0  2.5  3.8  3.1  \n",
       "15                      Xavier University    6.8  1.9  3.3  0.0  \n",
       "16      University of Southern California    7.3  0.5  1.6  1.5  "
      ]
     },
     "execution_count": 155,
     "metadata": {},
     "output_type": "execute_result"
    }
   ],
   "source": [
    "df1=pd.read_csv('GSW_players_stats_2017_18.csv')\n",
    "df1"
   ]
  },
  {
   "cell_type": "markdown",
   "metadata": {},
   "source": [
    "### 位置跟人數分析　　\n",
    "使用count計數"
   ]
  },
  {
   "cell_type": "code",
   "execution_count": 156,
   "metadata": {},
   "outputs": [
    {
     "data": {
      "text/plain": [
       "Pos\n",
       "C     6\n",
       "PF    3\n",
       "PG    3\n",
       "SF    2\n",
       "SG    3\n",
       "Name: Player, dtype: int64"
      ]
     },
     "execution_count": 156,
     "metadata": {},
     "output_type": "execute_result"
    }
   ],
   "source": [
    "df2=df1.groupby('Pos')['Player'].count()\n",
    "df2"
   ]
  },
  {
   "cell_type": "code",
   "execution_count": 157,
   "metadata": {},
   "outputs": [
    {
     "data": {
      "image/png": "[encoded data removed]",
      "text/plain": [
       "<Figure size 432x288 with 1 Axes>"
      ]
     },
     "metadata": {
      "needs_background": "light"
     },
     "output_type": "display_data"
    }
   ],
   "source": [
    "df2.plot(kind='bar')\n",
    "plt.show()"
   ]
  },
  {
   "cell_type": "code",
   "execution_count": 158,
   "metadata": {},
   "outputs": [
    {
     "data": {
      "image/png": "[encoded data removed]",
      "text/plain": [
       "<Figure size 432x288 with 1 Axes>"
      ]
     },
     "metadata": {
      "needs_background": "light"
     },
     "output_type": "display_data"
    }
   ],
   "source": [
    "plt.bar(df2.index,df2.values)\n",
    "\n",
    "plt.xlabel('pos')\n",
    "plt.ylabel('player')\n",
    "plt.title('GSW TEAM')\n",
    "\n",
    "plt.show()"
   ]
  },
  {
   "cell_type": "markdown",
   "metadata": {},
   "source": [
    "### 每個位置的平均得分"
   ]
  },
  {
   "cell_type": "code",
   "execution_count": 326,
   "metadata": {},
   "outputs": [
    {
     "data": {
      "text/html": [
       "<div>\n",
       "<style scoped>\n",
       "    .dataframe tbody tr th:only-of-type {\n",
       "        vertical-align: middle;\n",
       "    }\n",
       "\n",
       "    .dataframe tbody tr th {\n",
       "        vertical-align: top;\n",
       "    }\n",
       "\n",
       "    .dataframe thead th {\n",
       "        text-align: right;\n",
       "    }\n",
       "</style>\n",
       "<table border=\"1\" class=\"dataframe\">\n",
       "  <thead>\n",
       "    <tr style=\"text-align: right;\">\n",
       "      <th></th>\n",
       "      <th>No.</th>\n",
       "      <th>Player</th>\n",
       "      <th>Pos</th>\n",
       "      <th>Ht</th>\n",
       "      <th>Wt</th>\n",
       "      <th>Birth Date</th>\n",
       "      <th>Nationality</th>\n",
       "      <th>Exp</th>\n",
       "      <th>College</th>\n",
       "      <th>PTS/G</th>\n",
       "      <th>AST</th>\n",
       "      <th>TRB</th>\n",
       "      <th>3P</th>\n",
       "    </tr>\n",
       "  </thead>\n",
       "  <tbody>\n",
       "    <tr>\n",
       "      <th>0</th>\n",
       "      <td>2</td>\n",
       "      <td>Jordan Bell</td>\n",
       "      <td>C</td>\n",
       "      <td>6-9</td>\n",
       "      <td>224</td>\n",
       "      <td>January 7, 1995</td>\n",
       "      <td>us</td>\n",
       "      <td>R</td>\n",
       "      <td>University of Oregon</td>\n",
       "      <td>4.6</td>\n",
       "      <td>1.8</td>\n",
       "      <td>3.6</td>\n",
       "      <td>0.0</td>\n",
       "    </tr>\n",
       "    <tr>\n",
       "      <th>1</th>\n",
       "      <td>25</td>\n",
       "      <td>Chris Boucher</td>\n",
       "      <td>PF</td>\n",
       "      <td>6-10</td>\n",
       "      <td>182</td>\n",
       "      <td>January 11, 1993</td>\n",
       "      <td>lc</td>\n",
       "      <td>R</td>\n",
       "      <td>University of Oregon</td>\n",
       "      <td>0.0</td>\n",
       "      <td>0.0</td>\n",
       "      <td>1.0</td>\n",
       "      <td>0.0</td>\n",
       "    </tr>\n",
       "    <tr>\n",
       "      <th>2</th>\n",
       "      <td>18</td>\n",
       "      <td>Omri Casspi</td>\n",
       "      <td>SF</td>\n",
       "      <td>6-9</td>\n",
       "      <td>225</td>\n",
       "      <td>June 22, 1988</td>\n",
       "      <td>il</td>\n",
       "      <td>8</td>\n",
       "      <td>NaN</td>\n",
       "      <td>5.7</td>\n",
       "      <td>1.0</td>\n",
       "      <td>3.8</td>\n",
       "      <td>0.2</td>\n",
       "    </tr>\n",
       "    <tr>\n",
       "      <th>3</th>\n",
       "      <td>4</td>\n",
       "      <td>Quinn Cook</td>\n",
       "      <td>PG</td>\n",
       "      <td>6-2</td>\n",
       "      <td>184</td>\n",
       "      <td>March 23, 1993</td>\n",
       "      <td>us</td>\n",
       "      <td>1</td>\n",
       "      <td>Duke University</td>\n",
       "      <td>9.5</td>\n",
       "      <td>2.7</td>\n",
       "      <td>2.5</td>\n",
       "      <td>1.4</td>\n",
       "    </tr>\n",
       "    <tr>\n",
       "      <th>4</th>\n",
       "      <td>30</td>\n",
       "      <td>Stephen Curry</td>\n",
       "      <td>PG</td>\n",
       "      <td>6-3</td>\n",
       "      <td>190</td>\n",
       "      <td>March 14, 1988</td>\n",
       "      <td>us</td>\n",
       "      <td>8</td>\n",
       "      <td>Davidson College</td>\n",
       "      <td>26.4</td>\n",
       "      <td>6.1</td>\n",
       "      <td>5.1</td>\n",
       "      <td>4.2</td>\n",
       "    </tr>\n",
       "  </tbody>\n",
       "</table>\n",
       "</div>"
      ],
      "text/plain": [
       "   No.         Player Pos    Ht   Wt        Birth Date Nationality Exp  \\\n",
       "0    2    Jordan Bell   C   6-9  224   January 7, 1995          us   R   \n",
       "1   25  Chris Boucher  PF  6-10  182  January 11, 1993          lc   R   \n",
       "2   18    Omri Casspi  SF   6-9  225     June 22, 1988          il   8   \n",
       "3    4     Quinn Cook  PG   6-2  184    March 23, 1993          us   1   \n",
       "4   30  Stephen Curry  PG   6-3  190    March 14, 1988          us   8   \n",
       "\n",
       "                College  PTS/G  AST  TRB   3P  \n",
       "0  University of Oregon    4.6  1.8  3.6  0.0  \n",
       "1  University of Oregon    0.0  0.0  1.0  0.0  \n",
       "2                   NaN    5.7  1.0  3.8  0.2  \n",
       "3       Duke University    9.5  2.7  2.5  1.4  \n",
       "4      Davidson College   26.4  6.1  5.1  4.2  "
      ]
     },
     "execution_count": 326,
     "metadata": {},
     "output_type": "execute_result"
    }
   ],
   "source": [
    "df1.head()"
   ]
  },
  {
   "cell_type": "code",
   "execution_count": 159,
   "metadata": {},
   "outputs": [
    {
     "data": {
      "text/plain": [
       "Pos\n",
       "C      4.550000\n",
       "PF    12.466667\n",
       "PG    13.800000\n",
       "SF     5.850000\n",
       "SG    10.433333\n",
       "Name: PTS/G, dtype: float64"
      ]
     },
     "execution_count": 159,
     "metadata": {},
     "output_type": "execute_result"
    }
   ],
   "source": [
    "df2=df1.groupby('Pos')['PTS/G'].mean()\n",
    "df2"
   ]
  },
  {
   "cell_type": "code",
   "execution_count": 160,
   "metadata": {},
   "outputs": [
    {
     "data": {
      "image/png": "[encoded data removed]",
      "text/plain": [
       "<Figure size 432x288 with 1 Axes>"
      ]
     },
     "metadata": {
      "needs_background": "light"
     },
     "output_type": "display_data"
    }
   ],
   "source": [
    "plt.bar(df2.index,df2,color='orange',edgecolor='red')\n",
    "plt.show()"
   ]
  },
  {
   "cell_type": "markdown",
   "metadata": {},
   "source": [
    "### 輸出PG人員的得分分布"
   ]
  },
  {
   "cell_type": "code",
   "execution_count": 161,
   "metadata": {
    "scrolled": false
   },
   "outputs": [
    {
     "data": {
      "text/html": [
       "<div>\n",
       "<style scoped>\n",
       "    .dataframe tbody tr th:only-of-type {\n",
       "        vertical-align: middle;\n",
       "    }\n",
       "\n",
       "    .dataframe tbody tr th {\n",
       "        vertical-align: top;\n",
       "    }\n",
       "\n",
       "    .dataframe thead th {\n",
       "        text-align: right;\n",
       "    }\n",
       "</style>\n",
       "<table border=\"1\" class=\"dataframe\">\n",
       "  <thead>\n",
       "    <tr style=\"text-align: right;\">\n",
       "      <th></th>\n",
       "      <th>No.</th>\n",
       "      <th>Player</th>\n",
       "      <th>Pos</th>\n",
       "      <th>Ht</th>\n",
       "      <th>Wt</th>\n",
       "      <th>Birth Date</th>\n",
       "      <th>Nationality</th>\n",
       "      <th>Exp</th>\n",
       "      <th>College</th>\n",
       "      <th>PTS/G</th>\n",
       "      <th>AST</th>\n",
       "      <th>TRB</th>\n",
       "      <th>3P</th>\n",
       "    </tr>\n",
       "  </thead>\n",
       "  <tbody>\n",
       "    <tr>\n",
       "      <th>0</th>\n",
       "      <td>2</td>\n",
       "      <td>Jordan Bell</td>\n",
       "      <td>C</td>\n",
       "      <td>6-9</td>\n",
       "      <td>224</td>\n",
       "      <td>January 7, 1995</td>\n",
       "      <td>us</td>\n",
       "      <td>R</td>\n",
       "      <td>University of Oregon</td>\n",
       "      <td>4.6</td>\n",
       "      <td>1.8</td>\n",
       "      <td>3.6</td>\n",
       "      <td>0.0</td>\n",
       "    </tr>\n",
       "    <tr>\n",
       "      <th>1</th>\n",
       "      <td>25</td>\n",
       "      <td>Chris Boucher</td>\n",
       "      <td>PF</td>\n",
       "      <td>6-10</td>\n",
       "      <td>182</td>\n",
       "      <td>January 11, 1993</td>\n",
       "      <td>lc</td>\n",
       "      <td>R</td>\n",
       "      <td>University of Oregon</td>\n",
       "      <td>0.0</td>\n",
       "      <td>0.0</td>\n",
       "      <td>1.0</td>\n",
       "      <td>0.0</td>\n",
       "    </tr>\n",
       "    <tr>\n",
       "      <th>2</th>\n",
       "      <td>18</td>\n",
       "      <td>Omri Casspi</td>\n",
       "      <td>SF</td>\n",
       "      <td>6-9</td>\n",
       "      <td>225</td>\n",
       "      <td>June 22, 1988</td>\n",
       "      <td>il</td>\n",
       "      <td>8</td>\n",
       "      <td>NaN</td>\n",
       "      <td>5.7</td>\n",
       "      <td>1.0</td>\n",
       "      <td>3.8</td>\n",
       "      <td>0.2</td>\n",
       "    </tr>\n",
       "    <tr>\n",
       "      <th>3</th>\n",
       "      <td>4</td>\n",
       "      <td>Quinn Cook</td>\n",
       "      <td>PG</td>\n",
       "      <td>6-2</td>\n",
       "      <td>184</td>\n",
       "      <td>March 23, 1993</td>\n",
       "      <td>us</td>\n",
       "      <td>1</td>\n",
       "      <td>Duke University</td>\n",
       "      <td>9.5</td>\n",
       "      <td>2.7</td>\n",
       "      <td>2.5</td>\n",
       "      <td>1.4</td>\n",
       "    </tr>\n",
       "    <tr>\n",
       "      <th>4</th>\n",
       "      <td>30</td>\n",
       "      <td>Stephen Curry</td>\n",
       "      <td>PG</td>\n",
       "      <td>6-3</td>\n",
       "      <td>190</td>\n",
       "      <td>March 14, 1988</td>\n",
       "      <td>us</td>\n",
       "      <td>8</td>\n",
       "      <td>Davidson College</td>\n",
       "      <td>26.4</td>\n",
       "      <td>6.1</td>\n",
       "      <td>5.1</td>\n",
       "      <td>4.2</td>\n",
       "    </tr>\n",
       "  </tbody>\n",
       "</table>\n",
       "</div>"
      ],
      "text/plain": [
       "   No.         Player Pos    Ht   Wt        Birth Date Nationality Exp  \\\n",
       "0    2    Jordan Bell   C   6-9  224   January 7, 1995          us   R   \n",
       "1   25  Chris Boucher  PF  6-10  182  January 11, 1993          lc   R   \n",
       "2   18    Omri Casspi  SF   6-9  225     June 22, 1988          il   8   \n",
       "3    4     Quinn Cook  PG   6-2  184    March 23, 1993          us   1   \n",
       "4   30  Stephen Curry  PG   6-3  190    March 14, 1988          us   8   \n",
       "\n",
       "                College  PTS/G  AST  TRB   3P  \n",
       "0  University of Oregon    4.6  1.8  3.6  0.0  \n",
       "1  University of Oregon    0.0  0.0  1.0  0.0  \n",
       "2                   NaN    5.7  1.0  3.8  0.2  \n",
       "3       Duke University    9.5  2.7  2.5  1.4  \n",
       "4      Davidson College   26.4  6.1  5.1  4.2  "
      ]
     },
     "execution_count": 161,
     "metadata": {},
     "output_type": "execute_result"
    }
   ],
   "source": [
    "df1.head()"
   ]
  },
  {
   "cell_type": "code",
   "execution_count": 162,
   "metadata": {},
   "outputs": [
    {
     "data": {
      "text/html": [
       "<div>\n",
       "<style scoped>\n",
       "    .dataframe tbody tr th:only-of-type {\n",
       "        vertical-align: middle;\n",
       "    }\n",
       "\n",
       "    .dataframe tbody tr th {\n",
       "        vertical-align: top;\n",
       "    }\n",
       "\n",
       "    .dataframe thead th {\n",
       "        text-align: right;\n",
       "    }\n",
       "</style>\n",
       "<table border=\"1\" class=\"dataframe\">\n",
       "  <thead>\n",
       "    <tr style=\"text-align: right;\">\n",
       "      <th></th>\n",
       "      <th>Player</th>\n",
       "      <th>PTS/G</th>\n",
       "    </tr>\n",
       "  </thead>\n",
       "  <tbody>\n",
       "    <tr>\n",
       "      <th>3</th>\n",
       "      <td>Quinn Cook</td>\n",
       "      <td>9.5</td>\n",
       "    </tr>\n",
       "    <tr>\n",
       "      <th>4</th>\n",
       "      <td>Stephen Curry</td>\n",
       "      <td>26.4</td>\n",
       "    </tr>\n",
       "    <tr>\n",
       "      <th>9</th>\n",
       "      <td>Shaun Livingston</td>\n",
       "      <td>5.5</td>\n",
       "    </tr>\n",
       "  </tbody>\n",
       "</table>\n",
       "</div>"
      ],
      "text/plain": [
       "             Player  PTS/G\n",
       "3        Quinn Cook    9.5\n",
       "4     Stephen Curry   26.4\n",
       "9  Shaun Livingston    5.5"
      ]
     },
     "execution_count": 162,
     "metadata": {},
     "output_type": "execute_result"
    }
   ],
   "source": [
    "df2=df1.groupby('Pos').get_group('PG')[['Player','PTS/G']]\n",
    "df2"
   ]
  },
  {
   "cell_type": "code",
   "execution_count": 163,
   "metadata": {},
   "outputs": [
    {
     "data": {
      "image/png": "[encoded data removed]",
      "text/plain": [
       "<Figure size 432x288 with 1 Axes>"
      ]
     },
     "metadata": {
      "needs_background": "light"
     },
     "output_type": "display_data"
    }
   ],
   "source": [
    "plt.bar(df2['Player'],df2['PTS/G'],color='orange',edgecolor='red')\n",
    "plt.show()"
   ]
  },
  {
   "cell_type": "markdown",
   "metadata": {},
   "source": [
    "### 分析每個位置的最高分人員"
   ]
  },
  {
   "cell_type": "code",
   "execution_count": 164,
   "metadata": {
    "scrolled": false
   },
   "outputs": [
    {
     "data": {
      "text/html": [
       "<div>\n",
       "<style scoped>\n",
       "    .dataframe tbody tr th:only-of-type {\n",
       "        vertical-align: middle;\n",
       "    }\n",
       "\n",
       "    .dataframe tbody tr th {\n",
       "        vertical-align: top;\n",
       "    }\n",
       "\n",
       "    .dataframe thead th {\n",
       "        text-align: right;\n",
       "    }\n",
       "</style>\n",
       "<table border=\"1\" class=\"dataframe\">\n",
       "  <thead>\n",
       "    <tr style=\"text-align: right;\">\n",
       "      <th></th>\n",
       "      <th>No.</th>\n",
       "      <th>Player</th>\n",
       "      <th>Pos</th>\n",
       "      <th>Ht</th>\n",
       "      <th>Wt</th>\n",
       "      <th>Birth Date</th>\n",
       "      <th>Nationality</th>\n",
       "      <th>Exp</th>\n",
       "      <th>College</th>\n",
       "      <th>PTS/G</th>\n",
       "      <th>AST</th>\n",
       "      <th>TRB</th>\n",
       "      <th>3P</th>\n",
       "    </tr>\n",
       "  </thead>\n",
       "  <tbody>\n",
       "    <tr>\n",
       "      <th>0</th>\n",
       "      <td>2</td>\n",
       "      <td>Jordan Bell</td>\n",
       "      <td>C</td>\n",
       "      <td>6-9</td>\n",
       "      <td>224</td>\n",
       "      <td>January 7, 1995</td>\n",
       "      <td>us</td>\n",
       "      <td>R</td>\n",
       "      <td>University of Oregon</td>\n",
       "      <td>4.6</td>\n",
       "      <td>1.8</td>\n",
       "      <td>3.6</td>\n",
       "      <td>0.0</td>\n",
       "    </tr>\n",
       "    <tr>\n",
       "      <th>1</th>\n",
       "      <td>25</td>\n",
       "      <td>Chris Boucher</td>\n",
       "      <td>PF</td>\n",
       "      <td>6-10</td>\n",
       "      <td>182</td>\n",
       "      <td>January 11, 1993</td>\n",
       "      <td>lc</td>\n",
       "      <td>R</td>\n",
       "      <td>University of Oregon</td>\n",
       "      <td>0.0</td>\n",
       "      <td>0.0</td>\n",
       "      <td>1.0</td>\n",
       "      <td>0.0</td>\n",
       "    </tr>\n",
       "    <tr>\n",
       "      <th>2</th>\n",
       "      <td>18</td>\n",
       "      <td>Omri Casspi</td>\n",
       "      <td>SF</td>\n",
       "      <td>6-9</td>\n",
       "      <td>225</td>\n",
       "      <td>June 22, 1988</td>\n",
       "      <td>il</td>\n",
       "      <td>8</td>\n",
       "      <td>NaN</td>\n",
       "      <td>5.7</td>\n",
       "      <td>1.0</td>\n",
       "      <td>3.8</td>\n",
       "      <td>0.2</td>\n",
       "    </tr>\n",
       "    <tr>\n",
       "      <th>3</th>\n",
       "      <td>4</td>\n",
       "      <td>Quinn Cook</td>\n",
       "      <td>PG</td>\n",
       "      <td>6-2</td>\n",
       "      <td>184</td>\n",
       "      <td>March 23, 1993</td>\n",
       "      <td>us</td>\n",
       "      <td>1</td>\n",
       "      <td>Duke University</td>\n",
       "      <td>9.5</td>\n",
       "      <td>2.7</td>\n",
       "      <td>2.5</td>\n",
       "      <td>1.4</td>\n",
       "    </tr>\n",
       "    <tr>\n",
       "      <th>4</th>\n",
       "      <td>30</td>\n",
       "      <td>Stephen Curry</td>\n",
       "      <td>PG</td>\n",
       "      <td>6-3</td>\n",
       "      <td>190</td>\n",
       "      <td>March 14, 1988</td>\n",
       "      <td>us</td>\n",
       "      <td>8</td>\n",
       "      <td>Davidson College</td>\n",
       "      <td>26.4</td>\n",
       "      <td>6.1</td>\n",
       "      <td>5.1</td>\n",
       "      <td>4.2</td>\n",
       "    </tr>\n",
       "  </tbody>\n",
       "</table>\n",
       "</div>"
      ],
      "text/plain": [
       "   No.         Player Pos    Ht   Wt        Birth Date Nationality Exp  \\\n",
       "0    2    Jordan Bell   C   6-9  224   January 7, 1995          us   R   \n",
       "1   25  Chris Boucher  PF  6-10  182  January 11, 1993          lc   R   \n",
       "2   18    Omri Casspi  SF   6-9  225     June 22, 1988          il   8   \n",
       "3    4     Quinn Cook  PG   6-2  184    March 23, 1993          us   1   \n",
       "4   30  Stephen Curry  PG   6-3  190    March 14, 1988          us   8   \n",
       "\n",
       "                College  PTS/G  AST  TRB   3P  \n",
       "0  University of Oregon    4.6  1.8  3.6  0.0  \n",
       "1  University of Oregon    0.0  0.0  1.0  0.0  \n",
       "2                   NaN    5.7  1.0  3.8  0.2  \n",
       "3       Duke University    9.5  2.7  2.5  1.4  \n",
       "4      Davidson College   26.4  6.1  5.1  4.2  "
      ]
     },
     "execution_count": 164,
     "metadata": {},
     "output_type": "execute_result"
    }
   ],
   "source": [
    "df1.head()"
   ]
  },
  {
   "cell_type": "markdown",
   "metadata": {},
   "source": [
    "### 找出最高得分人員"
   ]
  },
  {
   "cell_type": "code",
   "execution_count": 166,
   "metadata": {},
   "outputs": [
    {
     "data": {
      "text/plain": [
       "1     0.0\n",
       "5    26.4\n",
       "6    11.0\n",
       "Name: PTS/G, dtype: float64"
      ]
     },
     "execution_count": 166,
     "metadata": {},
     "output_type": "execute_result"
    }
   ],
   "source": [
    "df1.groupby('Pos').get_group('PF')['PTS/G']"
   ]
  },
  {
   "cell_type": "code",
   "execution_count": 167,
   "metadata": {},
   "outputs": [
    {
     "data": {
      "text/plain": [
       "5"
      ]
     },
     "execution_count": 167,
     "metadata": {},
     "output_type": "execute_result"
    }
   ],
   "source": [
    "index=df1.groupby('Pos').get_group('PF')['PTS/G'].idxmax()\n",
    "index"
   ]
  },
  {
   "cell_type": "code",
   "execution_count": 168,
   "metadata": {},
   "outputs": [
    {
     "data": {
      "text/plain": [
       "'Kevin Durant'"
      ]
     },
     "execution_count": 168,
     "metadata": {},
     "output_type": "execute_result"
    }
   ],
   "source": [
    "df1.loc[index]['Player']"
   ]
  },
  {
   "cell_type": "code",
   "execution_count": 169,
   "metadata": {},
   "outputs": [
    {
     "data": {
      "text/plain": [
       "26.4"
      ]
     },
     "execution_count": 169,
     "metadata": {},
     "output_type": "execute_result"
    }
   ],
   "source": [
    "df1.loc[index]['PTS/G']"
   ]
  },
  {
   "cell_type": "code",
   "execution_count": 170,
   "metadata": {},
   "outputs": [
    {
     "data": {
      "text/plain": [
       "{'C', 'PF', 'PG', 'SF', 'SG'}"
      ]
     },
     "execution_count": 170,
     "metadata": {},
     "output_type": "execute_result"
    }
   ],
   "source": [
    "set(df1['Pos'])"
   ]
  },
  {
   "cell_type": "code",
   "execution_count": 171,
   "metadata": {},
   "outputs": [
    {
     "name": "stdout",
     "output_type": "stream",
     "text": [
      "C\n",
      "C David West 6.8\n",
      "6.8\n",
      "SG\n",
      "SG Klay Thompson 20.0\n",
      "20.0\n",
      "PF\n",
      "PF Kevin Durant 26.4\n",
      "26.4\n",
      "SF\n",
      "SF Andre Iguodala 6.0\n",
      "6.0\n",
      "PG\n",
      "PG Stephen Curry 26.4\n",
      "26.4\n"
     ]
    },
    {
     "data": {
      "text/plain": [
       "[['C', 'David West', 6.8],\n",
       " ['SG', 'Klay Thompson', 20.0],\n",
       " ['PF', 'Kevin Durant', 26.4],\n",
       " ['SF', 'Andre Iguodala', 6.0],\n",
       " ['PG', 'Stephen Curry', 26.4]]"
      ]
     },
     "execution_count": 171,
     "metadata": {},
     "output_type": "execute_result"
    }
   ],
   "source": [
    "data=[]\n",
    "for pos in set(df1['Pos']):\n",
    "    print(pos)\n",
    "    index=df1.groupby('Pos').get_group(pos)['PTS/G'].idxmax()\n",
    "    player=df1.loc[index]['Player']\n",
    "    pts=df1.loc[index]['PTS/G']\n",
    "    print(pos,player,pts)\n",
    "    print(pts)\n",
    "    data.append([pos,player,pts])\n",
    "    \n",
    "data"
   ]
  },
  {
   "cell_type": "code",
   "execution_count": 172,
   "metadata": {},
   "outputs": [
    {
     "data": {
      "text/html": [
       "<div>\n",
       "<style scoped>\n",
       "    .dataframe tbody tr th:only-of-type {\n",
       "        vertical-align: middle;\n",
       "    }\n",
       "\n",
       "    .dataframe tbody tr th {\n",
       "        vertical-align: top;\n",
       "    }\n",
       "\n",
       "    .dataframe thead th {\n",
       "        text-align: right;\n",
       "    }\n",
       "</style>\n",
       "<table border=\"1\" class=\"dataframe\">\n",
       "  <thead>\n",
       "    <tr style=\"text-align: right;\">\n",
       "      <th></th>\n",
       "      <th>Pos</th>\n",
       "      <th>Player</th>\n",
       "      <th>PTS/G</th>\n",
       "    </tr>\n",
       "  </thead>\n",
       "  <tbody>\n",
       "    <tr>\n",
       "      <th>0</th>\n",
       "      <td>C</td>\n",
       "      <td>David West</td>\n",
       "      <td>6.8</td>\n",
       "    </tr>\n",
       "    <tr>\n",
       "      <th>1</th>\n",
       "      <td>SG</td>\n",
       "      <td>Klay Thompson</td>\n",
       "      <td>20.0</td>\n",
       "    </tr>\n",
       "    <tr>\n",
       "      <th>2</th>\n",
       "      <td>PF</td>\n",
       "      <td>Kevin Durant</td>\n",
       "      <td>26.4</td>\n",
       "    </tr>\n",
       "    <tr>\n",
       "      <th>3</th>\n",
       "      <td>SF</td>\n",
       "      <td>Andre Iguodala</td>\n",
       "      <td>6.0</td>\n",
       "    </tr>\n",
       "    <tr>\n",
       "      <th>4</th>\n",
       "      <td>PG</td>\n",
       "      <td>Stephen Curry</td>\n",
       "      <td>26.4</td>\n",
       "    </tr>\n",
       "  </tbody>\n",
       "</table>\n",
       "</div>"
      ],
      "text/plain": [
       "  Pos          Player  PTS/G\n",
       "0   C      David West    6.8\n",
       "1  SG   Klay Thompson   20.0\n",
       "2  PF    Kevin Durant   26.4\n",
       "3  SF  Andre Iguodala    6.0\n",
       "4  PG   Stephen Curry   26.4"
      ]
     },
     "execution_count": 172,
     "metadata": {},
     "output_type": "execute_result"
    }
   ],
   "source": [
    "df2=pd.DataFrame(data,columns=['Pos','Player','PTS/G'])\n",
    "df2"
   ]
  },
  {
   "cell_type": "code",
   "execution_count": 173,
   "metadata": {},
   "outputs": [
    {
     "data": {
      "image/png": "[encoded data removed]",
      "text/plain": [
       "<Figure size 432x288 with 1 Axes>"
      ]
     },
     "metadata": {
      "needs_background": "light"
     },
     "output_type": "display_data"
    }
   ],
   "source": [
    "plt.bar(df2['Player'],df2['PTS/G'],color='orange',edgecolor='red')\n",
    "plt.xticks(rotation=90)\n",
    "plt.show()"
   ]
  },
  {
   "cell_type": "markdown",
   "metadata": {},
   "source": [
    "## 優化輸出"
   ]
  },
  {
   "cell_type": "code",
   "execution_count": 174,
   "metadata": {},
   "outputs": [
    {
     "data": {
      "text/html": [
       "<div>\n",
       "<style scoped>\n",
       "    .dataframe tbody tr th:only-of-type {\n",
       "        vertical-align: middle;\n",
       "    }\n",
       "\n",
       "    .dataframe tbody tr th {\n",
       "        vertical-align: top;\n",
       "    }\n",
       "\n",
       "    .dataframe thead th {\n",
       "        text-align: right;\n",
       "    }\n",
       "</style>\n",
       "<table border=\"1\" class=\"dataframe\">\n",
       "  <thead>\n",
       "    <tr style=\"text-align: right;\">\n",
       "      <th></th>\n",
       "      <th>Pos</th>\n",
       "      <th>Player</th>\n",
       "      <th>PTS/G</th>\n",
       "    </tr>\n",
       "  </thead>\n",
       "  <tbody>\n",
       "    <tr>\n",
       "      <th>0</th>\n",
       "      <td>C</td>\n",
       "      <td>David West</td>\n",
       "      <td>6.8</td>\n",
       "    </tr>\n",
       "    <tr>\n",
       "      <th>1</th>\n",
       "      <td>SG</td>\n",
       "      <td>Klay Thompson</td>\n",
       "      <td>20.0</td>\n",
       "    </tr>\n",
       "    <tr>\n",
       "      <th>2</th>\n",
       "      <td>PF</td>\n",
       "      <td>Kevin Durant</td>\n",
       "      <td>26.4</td>\n",
       "    </tr>\n",
       "    <tr>\n",
       "      <th>3</th>\n",
       "      <td>SF</td>\n",
       "      <td>Andre Iguodala</td>\n",
       "      <td>6.0</td>\n",
       "    </tr>\n",
       "    <tr>\n",
       "      <th>4</th>\n",
       "      <td>PG</td>\n",
       "      <td>Stephen Curry</td>\n",
       "      <td>26.4</td>\n",
       "    </tr>\n",
       "  </tbody>\n",
       "</table>\n",
       "</div>"
      ],
      "text/plain": [
       "  Pos          Player  PTS/G\n",
       "0   C      David West    6.8\n",
       "1  SG   Klay Thompson   20.0\n",
       "2  PF    Kevin Durant   26.4\n",
       "3  SF  Andre Iguodala    6.0\n",
       "4  PG   Stephen Curry   26.4"
      ]
     },
     "execution_count": 174,
     "metadata": {},
     "output_type": "execute_result"
    }
   ],
   "source": [
    "df2"
   ]
  },
  {
   "cell_type": "code",
   "execution_count": 175,
   "metadata": {},
   "outputs": [],
   "source": [
    "df3=df2.copy()"
   ]
  },
  {
   "cell_type": "code",
   "execution_count": 176,
   "metadata": {},
   "outputs": [
    {
     "data": {
      "image/png": "[encoded data removed]",
      "text/plain": [
       "<Figure size 864x432 with 1 Axes>"
      ]
     },
     "metadata": {
      "needs_background": "light"
     },
     "output_type": "display_data"
    }
   ],
   "source": [
    "plt.figure(figsize=(12,6))\n",
    "plt.bar(df3['Player'],df3['PTS/G'],color='c',edgecolor='b')\n",
    "plt.ylabel('score')\n",
    "plt.xlabel('player')\n",
    "plt.ylim(0,45)\n",
    "plt.plot(df3['Player'],[df3['PTS/G'].mean()]*len(df3.index))\n",
    "plt.title('NBA GSW')\n",
    "\n",
    "mean=df3['PTS/G'].mean()\n",
    "plt.text(df3.index[0],mean+2, \"Avg:\"+str(round(mean,2)),fontsize=20)\n",
    "#繪製箭頭\n",
    "plt.annotate('Hight:'+str(round(df3['PTS/G'].max(),2)), xy=(df3['PTS/G'].idxmax(), df3['PTS/G'].max()),\n",
    "             xytext=(df3['PTS/G'].idxmax(), df3['PTS/G'].max()+10),arrowprops=dict(facecolor='red', shrink=0.05),\n",
    "            fontsize=24)\n",
    "\n",
    "for i,p in enumerate(df3['Pos']):\n",
    "    plt.text(df3.index[i]-0.05,2, p,fontsize=20,color='b')\n",
    "\n",
    "plt.grid(True)\n",
    "plt.show()"
   ]
  }
 ],
 "metadata": {
  "kernelspec": {
   "display_name": "Python 3",
   "language": "python",
   "name": "python3"
  },
  "language_info": {
   "codemirror_mode": {
    "name": "ipython",
    "version": 3
   },
   "file_extension": ".py",
   "mimetype": "text/x-python",
   "name": "python",
   "nbconvert_exporter": "python",
   "pygments_lexer": "ipython3",
   "version": "3.8.5"
  }
 },
 "nbformat": 4,
 "nbformat_minor": 4
}
