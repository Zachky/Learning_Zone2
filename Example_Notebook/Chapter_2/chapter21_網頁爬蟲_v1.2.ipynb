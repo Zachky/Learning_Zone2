{
 "cells": [
  {
   "cell_type": "markdown",
   "metadata": {},
   "source": [
    "## 查詢蘋果日報"
   ]
  },
  {
   "cell_type": "code",
   "execution_count": 1,
   "metadata": {},
   "outputs": [],
   "source": [
    "url='https://tw.appledaily.com/daily/hot/'"
   ]
  },
  {
   "cell_type": "code",
   "execution_count": 2,
   "metadata": {},
   "outputs": [
    {
     "ename": "NameError",
     "evalue": "name 'getSoup' is not defined",
     "output_type": "error",
     "traceback": [
      "\u001b[1;31m---------------------------------------------------------------------------\u001b[0m",
      "\u001b[1;31mNameError\u001b[0m                                 Traceback (most recent call last)",
      "\u001b[1;32m<ipython-input-2-008547b13b75>\u001b[0m in \u001b[0;36m<module>\u001b[1;34m\u001b[0m\n\u001b[1;32m----> 1\u001b[1;33m \u001b[0msoup\u001b[0m\u001b[1;33m=\u001b[0m\u001b[0mgetSoup\u001b[0m\u001b[1;33m(\u001b[0m\u001b[0murl\u001b[0m\u001b[1;33m)\u001b[0m\u001b[1;33m\u001b[0m\u001b[1;33m\u001b[0m\u001b[0m\n\u001b[0m\u001b[0;32m      2\u001b[0m \u001b[1;33m\u001b[0m\u001b[0m\n\u001b[0;32m      3\u001b[0m \u001b[0msoup\u001b[0m\u001b[1;33m\u001b[0m\u001b[1;33m\u001b[0m\u001b[0m\n",
      "\u001b[1;31mNameError\u001b[0m: name 'getSoup' is not defined"
     ]
    }
   ],
   "source": [
    "soup=getSoup(url)\n",
    "\n",
    "soup"
   ]
  },
  {
   "cell_type": "code",
   "execution_count": null,
   "metadata": {},
   "outputs": [],
   "source": [
    "lis=soup.find('div',class_=\"aht_board\").find('ul',class_='all').find_all('li')\n",
    "\n",
    "lis"
   ]
  },
  {
   "cell_type": "code",
   "execution_count": null,
   "metadata": {},
   "outputs": [],
   "source": [
    "len(lis)"
   ]
  },
  {
   "cell_type": "code",
   "execution_count": null,
   "metadata": {},
   "outputs": [],
   "source": [
    "for li in lis:\n",
    "    print(li.text.replace('\\n',' '))\n",
    "    print(li.find('a').get('href'))\n"
   ]
  },
  {
   "cell_type": "markdown",
   "metadata": {},
   "source": [
    "## 推導式"
   ]
  },
  {
   "cell_type": "code",
   "execution_count": null,
   "metadata": {},
   "outputs": [],
   "source": [
    "datas=[[li.text.replace('\\n',' ').strip(),li.find('a').get('href')] for li in lis ]\n",
    "datas"
   ]
  },
  {
   "cell_type": "code",
   "execution_count": null,
   "metadata": {},
   "outputs": [],
   "source": [
    "import pandas as pd\n",
    "pd.DataFrame(datas,columns=['標題','連結'])"
   ]
  },
  {
   "cell_type": "markdown",
   "metadata": {},
   "source": [
    "## 查詢表格資料"
   ]
  },
  {
   "cell_type": "code",
   "execution_count": null,
   "metadata": {},
   "outputs": [],
   "source": [
    "url='https://rbdkd67zcc92ou2hpwdvxa-on.drv.tw/www/test_table1.html'"
   ]
  },
  {
   "cell_type": "code",
   "execution_count": null,
   "metadata": {},
   "outputs": [],
   "source": [
    "soup=getSoup(url)\n",
    "soup"
   ]
  },
  {
   "cell_type": "code",
   "execution_count": null,
   "metadata": {},
   "outputs": [],
   "source": [
    "trs=soup.find(id=\"Table\").find_all('tr')\n",
    "trs"
   ]
  },
  {
   "cell_type": "code",
   "execution_count": null,
   "metadata": {},
   "outputs": [],
   "source": [
    "trs[0]"
   ]
  },
  {
   "cell_type": "code",
   "execution_count": null,
   "metadata": {},
   "outputs": [],
   "source": [
    "trs[1]"
   ]
  },
  {
   "cell_type": "code",
   "execution_count": null,
   "metadata": {
    "scrolled": true
   },
   "outputs": [],
   "source": [
    "for td in trs[1].find_all('td'):\n",
    "    print(td.text)"
   ]
  },
  {
   "cell_type": "markdown",
   "metadata": {},
   "source": [
    "## 資料分析"
   ]
  },
  {
   "cell_type": "code",
   "execution_count": null,
   "metadata": {},
   "outputs": [],
   "source": [
    "for i,tr in enumerate(trs[:-1]):   \n",
    "    print('=============================================================================')\n",
    " \n",
    "    if i==0:\n",
    "        for th in tr.find_all('th'):\n",
    "            print(th.text.strip(),end='\\t')          \n",
    "            \n",
    "    else:    \n",
    "        for td in tr.find_all('td'):\n",
    "            print(td.text.strip(),end='\\t')           \n",
    "    print()    "
   ]
  },
  {
   "cell_type": "markdown",
   "metadata": {},
   "source": [
    "## 資料儲存"
   ]
  },
  {
   "cell_type": "code",
   "execution_count": null,
   "metadata": {},
   "outputs": [],
   "source": [
    "datas=[]\n",
    "\n",
    "for i,tr in enumerate(trs[:-1]):   \n",
    "    print('=============================================================================')\n",
    "    data=[] \n",
    "    if i==0:\n",
    "        for th in tr.find_all('th'):\n",
    "            print(th.text.strip(),end='\\t')    \n",
    "            data.append(th.text.strip())\n",
    "            \n",
    "    else:    \n",
    "        for td in tr.find_all('td'):\n",
    "            print(td.text.strip(),end='\\t')   \n",
    "            data.append(td.text.strip())    \n",
    "            \n",
    "    print()\n",
    "    datas.append(data)\n",
    "\n",
    "datas"
   ]
  },
  {
   "cell_type": "code",
   "execution_count": null,
   "metadata": {},
   "outputs": [],
   "source": [
    "pd.DataFrame(datas[1:],columns=datas[0]).to_csv('人事行政局.csv',encoding='utf-8-sig',index=0)"
   ]
  },
  {
   "cell_type": "markdown",
   "metadata": {},
   "source": [
    "## 國泰世華匯率查詢"
   ]
  },
  {
   "cell_type": "code",
   "execution_count": null,
   "metadata": {},
   "outputs": [],
   "source": [
    "url='https://www.cathaybk.com.tw/cathaybk/personal/deposit-exchange/rate/currency-billboard/'\n",
    "soup=getSoup(url)\n",
    "soup"
   ]
  },
  {
   "cell_type": "markdown",
   "metadata": {},
   "source": [
    "### 標題"
   ]
  },
  {
   "cell_type": "code",
   "execution_count": null,
   "metadata": {},
   "outputs": [],
   "source": [
    "soup.find('table').find('thead')"
   ]
  },
  {
   "cell_type": "code",
   "execution_count": null,
   "metadata": {},
   "outputs": [],
   "source": [
    "trs=soup.find('div',class_='tab-content-panel first').find_all('tr')\n",
    "trs"
   ]
  },
  {
   "cell_type": "code",
   "execution_count": null,
   "metadata": {},
   "outputs": [],
   "source": [
    "for i,tr in enumerate(trs):\n",
    "    if i==0:        \n",
    "        for th in tr.find_all('th'):\n",
    "            print(th.text.strip(),end='\\t')\n",
    "            \n",
    "    else:\n",
    "        for td in tr.find_all('td'):\n",
    "            print(td.text.strip(),end='\\t')\n",
    "    print()"
   ]
  },
  {
   "cell_type": "code",
   "execution_count": null,
   "metadata": {},
   "outputs": [],
   "source": [
    "datas=[]\n",
    "\n",
    "\n",
    "for i,tr in enumerate(trs):\n",
    "    data=[]\n",
    "    if i==0:        \n",
    "        for th in tr.find_all('th'):\n",
    "            print(th.text.strip(),end='\\t')\n",
    "            data.append(th.text.strip())\n",
    "            \n",
    "    else:\n",
    "        for td in tr.find_all('td'):\n",
    "            print(td.text.strip(),end='\\t')\n",
    "            data.append(td.text.strip())\n",
    "    print()\n",
    "    datas.append(data)\n",
    "    \n",
    "datas\n",
    "    \n"
   ]
  },
  {
   "cell_type": "code",
   "execution_count": null,
   "metadata": {},
   "outputs": [],
   "source": [
    "pd.DataFrame(datas[1:],columns=datas[0]).to_csv('國泰世華匯率.csv',encoding='utf-8-sig',index=0)"
   ]
  },
  {
   "cell_type": "markdown",
   "metadata": {},
   "source": [
    "## 台灣銀行匯率"
   ]
  },
  {
   "cell_type": "code",
   "execution_count": null,
   "metadata": {},
   "outputs": [],
   "source": [
    "url='https://rate.bot.com.tw/xrt?Lang=zh-TW'"
   ]
  },
  {
   "cell_type": "code",
   "execution_count": null,
   "metadata": {},
   "outputs": [],
   "source": [
    "soup=getSoup(url)\n",
    "\n",
    "soup"
   ]
  },
  {
   "cell_type": "markdown",
   "metadata": {},
   "source": [
    "### 資料區段"
   ]
  },
  {
   "cell_type": "code",
   "execution_count": null,
   "metadata": {},
   "outputs": [],
   "source": [
    "trs=soup.find('table').find('tbody').find_all('tr')\n",
    "trs"
   ]
  },
  {
   "cell_type": "code",
   "execution_count": null,
   "metadata": {},
   "outputs": [],
   "source": [
    "datas=[]\n",
    "\n",
    "for tr in trs:\n",
    "    \n",
    "    data=[]    \n",
    "    for i,td in enumerate(tr.find_all('td')[:5]):\n",
    "        if i==0:\n",
    "            print(td.find('div',class_=\"visible-phone print_hide\").text.strip())\n",
    "            data.append(td.find('div',class_=\"visible-phone print_hide\").text.strip())\n",
    "        else:\n",
    "            print(td.text.strip())\n",
    "            data.append(td.text.strip())\n",
    "            \n",
    "    datas.append(data)\n",
    "    \n",
    "datas"
   ]
  },
  {
   "cell_type": "markdown",
   "metadata": {},
   "source": [
    "### 標題區段"
   ]
  },
  {
   "cell_type": "code",
   "execution_count": null,
   "metadata": {},
   "outputs": [],
   "source": [
    "trs=soup.find('table').find('thead').find_all('tr')\n",
    "\n",
    "for tr in trs:\n",
    "    for th in tr.find_all('th'):\n",
    "        print(th.text.strip())\n"
   ]
  },
  {
   "cell_type": "code",
   "execution_count": null,
   "metadata": {},
   "outputs": [],
   "source": [
    "pd.DataFrame(datas,columns=['幣別','現金匯率(買入)','現金匯率(賣出)','即期匯率(買入)','即期匯率(賣出)']\n",
    "            ).to_csv('台灣銀行匯率.csv',encoding='utf-8-sig',index=0)"
   ]
  },
  {
   "cell_type": "code",
   "execution_count": null,
   "metadata": {},
   "outputs": [],
   "source": []
  }
 ],
 "metadata": {
  "kernelspec": {
   "display_name": "Python 3",
   "language": "python",
   "name": "python3"
  },
  "language_info": {
   "codemirror_mode": {
    "name": "ipython",
    "version": 3
   },
   "file_extension": ".py",
   "mimetype": "text/x-python",
   "name": "python",
   "nbconvert_exporter": "python",
   "pygments_lexer": "ipython3",
   "version": "3.8.8"
  }
 },
 "nbformat": 4,
 "nbformat_minor": 2
}
