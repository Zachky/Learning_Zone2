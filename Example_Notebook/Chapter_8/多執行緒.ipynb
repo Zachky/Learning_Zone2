{
 "cells": [
  {
   "cell_type": "code",
   "execution_count": 3,
   "metadata": {},
   "outputs": [],
   "source": [
    "import time"
   ]
  },
  {
   "cell_type": "markdown",
   "metadata": {},
   "source": [
    "## 單執行緒"
   ]
  },
  {
   "cell_type": "code",
   "execution_count": 4,
   "metadata": {},
   "outputs": [
    {
     "name": "stdout",
     "output_type": "stream",
     "text": [
      "f1 start!\n",
      "f1 finisih!\n"
     ]
    }
   ],
   "source": [
    "def f1():    \n",
    "    print('f1 start!')\n",
    "    time.sleep(1)    \n",
    "    print('f1 finisih!')    \n",
    "    \n",
    "f1()"
   ]
  },
  {
   "cell_type": "code",
   "execution_count": 5,
   "metadata": {},
   "outputs": [
    {
     "name": "stdout",
     "output_type": "stream",
     "text": [
      "f1 start!\n",
      "f1 finisih!\n",
      "f2 start!\n",
      "f2 finisih!\n",
      "f3 start!\n",
      "f3 finisih!\n",
      "done!\n"
     ]
    }
   ],
   "source": [
    "def f1():\n",
    "    print('f1 start!')\n",
    "    time.sleep(1)    \n",
    "    print('f1 finisih!')   \n",
    "def f2():\n",
    "    print('f2 start!')\n",
    "    time.sleep(1)    \n",
    "    print('f2 finisih!')   \n",
    "def f3():\n",
    "    print('f3 start!')\n",
    "    time.sleep(1)    \n",
    "    print('f3 finisih!')   \n",
    "    \n",
    "f1()\n",
    "f2()\n",
    "f3()\n",
    "print('done!')\n"
   ]
  },
  {
   "cell_type": "markdown",
   "metadata": {},
   "source": [
    "## 多執行緒版本"
   ]
  },
  {
   "cell_type": "code",
   "execution_count": 6,
   "metadata": {},
   "outputs": [],
   "source": [
    "import threading"
   ]
  },
  {
   "cell_type": "code",
   "execution_count": 7,
   "metadata": {},
   "outputs": [
    {
     "data": {
      "text/plain": [
       "<Thread(Thread-6, initial)>"
      ]
     },
     "execution_count": 7,
     "metadata": {},
     "output_type": "execute_result"
    }
   ],
   "source": [
    "threading.Thread(target=f1)"
   ]
  },
  {
   "cell_type": "code",
   "execution_count": 8,
   "metadata": {
    "scrolled": true
   },
   "outputs": [
    {
     "name": "stdout",
     "output_type": "stream",
     "text": [
      "f1 start!\n"
     ]
    }
   ],
   "source": [
    "threading.Thread(target=f1).start()"
   ]
  },
  {
   "cell_type": "markdown",
   "metadata": {},
   "source": [
    "### 同時間運行  \n",
    "無法等待完成"
   ]
  },
  {
   "cell_type": "code",
   "execution_count": 9,
   "metadata": {
    "scrolled": true
   },
   "outputs": [
    {
     "name": "stdout",
     "output_type": "stream",
     "text": [
      "f1 start!\n",
      "f2 start!\n",
      "f3 start!\n",
      "done!\n"
     ]
    }
   ],
   "source": [
    "t1=threading.Thread(target=f1)\n",
    "t2=threading.Thread(target=f2)\n",
    "t3=threading.Thread(target=f3)\n",
    "\n",
    "t1.start()\n",
    "t2.start()\n",
    "t3.start()\n",
    "print('done!')"
   ]
  },
  {
   "cell_type": "markdown",
   "metadata": {},
   "source": [
    "### 使用join進行等待"
   ]
  },
  {
   "cell_type": "code",
   "execution_count": 10,
   "metadata": {},
   "outputs": [
    {
     "name": "stdout",
     "output_type": "stream",
     "text": [
      "f1 start!f2 start!\n",
      "\n",
      "f3 start!\n",
      "f1 finisih!\n",
      "f1 finisih!\n",
      "f2 finisih!\n",
      "f3 finisih!\n",
      "f1 finisih!f2 finisih!\n",
      "\n",
      "f3 finisih!\n",
      "done!\n"
     ]
    }
   ],
   "source": [
    "t1=threading.Thread(target=f1)\n",
    "t2=threading.Thread(target=f2)\n",
    "t3=threading.Thread(target=f3)\n",
    "\n",
    "t1.start()\n",
    "t2.start()\n",
    "t3.start()\n",
    "\n",
    "t1.join()\n",
    "t2.join()\n",
    "t3.join()\n",
    "\n",
    "print('done!')"
   ]
  },
  {
   "cell_type": "markdown",
   "metadata": {},
   "source": [
    "### 使用list整合"
   ]
  },
  {
   "cell_type": "code",
   "execution_count": 11,
   "metadata": {},
   "outputs": [
    {
     "name": "stdout",
     "output_type": "stream",
     "text": [
      "f1 start!\n",
      "f2 start!\n",
      "f3 start!\n",
      "f1 finisih!\n",
      "f2 finisih!\n",
      "f3 finisih!\n",
      "down!\n"
     ]
    }
   ],
   "source": [
    "thread=[]\n",
    "thread.append(threading.Thread(target=f1))\n",
    "thread.append(threading.Thread(target=f2))\n",
    "thread.append(threading.Thread(target=f3))\n",
    "\n",
    "for t in thread:\n",
    "    t.start()\n",
    "    \n",
    "for t in thread:    \n",
    "    t.join()\n",
    "    \n",
    "\n",
    "print('down!')"
   ]
  },
  {
   "cell_type": "markdown",
   "metadata": {},
   "source": [
    "## 使用參數進行傳遞"
   ]
  },
  {
   "cell_type": "code",
   "execution_count": 15,
   "metadata": {},
   "outputs": [
    {
     "name": "stdout",
     "output_type": "stream",
     "text": [
      "<_MainThread(MainThread, started 10976)>\n"
     ]
    }
   ],
   "source": [
    " print(threading.current_thread())    "
   ]
  },
  {
   "cell_type": "code",
   "execution_count": 18,
   "metadata": {},
   "outputs": [
    {
     "name": "stdout",
     "output_type": "stream",
     "text": [
      "<_MainThread(MainThread, started 10976)>\n",
      "3秒\n",
      "2秒\n",
      "1秒\n",
      "0秒\n"
     ]
    }
   ],
   "source": [
    "def f4(sec):\n",
    "    print(threading.current_thread())    \n",
    "    for i in range(sec,-1,-1):\n",
    "        time.sleep(1)\n",
    "        print(f'{i}秒')\n",
    "    \n",
    "f4(3)"
   ]
  },
  {
   "cell_type": "code",
   "execution_count": 21,
   "metadata": {},
   "outputs": [
    {
     "name": "stdout",
     "output_type": "stream",
     "text": [
      "<Thread(thread0, started 12304)>\n",
      "<Thread(thread1, started 11460)>\n",
      "<Thread(thread2, started 13072)>\n",
      "1秒\n",
      "2秒\n",
      "3秒\n",
      "0秒\n",
      "1秒\n",
      "2秒\n",
      "0秒\n",
      "1秒\n",
      "0秒\n",
      "done!\n"
     ]
    }
   ],
   "source": [
    "thread=[]\n",
    "\n",
    "for i in range(3):\n",
    "    thread.append(threading.Thread(target=f4,args=(i+1,),name=(f'thread{i}')))\n",
    "    \n",
    "       \n",
    "for t in thread:\n",
    "    t.start()\n",
    "    \n",
    "for t in thread:\n",
    "    t.join()  \n",
    "\n",
    "print('done!')"
   ]
  },
  {
   "cell_type": "code",
   "execution_count": 27,
   "metadata": {},
   "outputs": [
    {
     "name": "stdout",
     "output_type": "stream",
     "text": [
      "<_MainThread(MainThread, started 10976)>\n",
      "t1:1秒\n",
      "t1:2秒\n",
      "t1:3秒\n",
      "t1 done!\n"
     ]
    },
    {
     "data": {
      "text/plain": [
       "('t1', 3)"
      ]
     },
     "execution_count": 27,
     "metadata": {},
     "output_type": "execute_result"
    }
   ],
   "source": [
    "def f5(sec,name):\n",
    "    print(threading.current_thread())        \n",
    "    for i in range(sec):\n",
    "        time.sleep(1)\n",
    "        print(f'{name}:{i+1}秒')\n",
    "    print(f'{name} done!')\n",
    "    return name,sec\n",
    "f5(3,\"t1\")"
   ]
  },
  {
   "cell_type": "code",
   "execution_count": 29,
   "metadata": {},
   "outputs": [
    {
     "name": "stdout",
     "output_type": "stream",
     "text": [
      "<Thread(thread0, started 11624)>\n",
      "<Thread(thread1, started 1700)>\n",
      "<Thread(thread2, started 7628)>\n",
      "t1:1秒\n",
      "t1 done!\n",
      "t2:1秒\n",
      "t3:1秒\n",
      "t2:2秒\n",
      "t2 done!\n",
      "t3:2秒\n",
      "t3:3秒\n",
      "t3 done!\n",
      "done!\n"
     ]
    }
   ],
   "source": [
    "thread=[]\n",
    "\n",
    "for i in range(3):\n",
    "    thread.append(threading.Thread(target=f5,args=(i+1,f't{i+1}'),name=(f'thread{i}')))\n",
    "      \n",
    "for t in thread:\n",
    "    t.start()\n",
    "    \n",
    "for t in thread:\n",
    "    t.join()  \n",
    "   \n",
    "    \n",
    "print('done!')"
   ]
  },
  {
   "cell_type": "markdown",
   "metadata": {},
   "source": [
    "## 回傳值部分  \n",
    "執行緒無法回傳值"
   ]
  },
  {
   "cell_type": "code",
   "execution_count": 30,
   "metadata": {},
   "outputs": [],
   "source": [
    "from queue import Queue"
   ]
  },
  {
   "cell_type": "code",
   "execution_count": 31,
   "metadata": {},
   "outputs": [
    {
     "data": {
      "text/plain": [
       "4"
      ]
     },
     "execution_count": 31,
     "metadata": {},
     "output_type": "execute_result"
    }
   ],
   "source": [
    "q=Queue()\n",
    "\n",
    "q.put(10)\n",
    "q.put(11)\n",
    "q.put(12)\n",
    "q.put(13)\n",
    "\n",
    "q.qsize()"
   ]
  },
  {
   "cell_type": "code",
   "execution_count": null,
   "metadata": {},
   "outputs": [],
   "source": []
  },
  {
   "cell_type": "code",
   "execution_count": null,
   "metadata": {},
   "outputs": [],
   "source": []
  },
  {
   "cell_type": "code",
   "execution_count": 32,
   "metadata": {
    "scrolled": true
   },
   "outputs": [
    {
     "data": {
      "text/plain": [
       "<queue.Queue at 0x2763b969190>"
      ]
     },
     "execution_count": 32,
     "metadata": {},
     "output_type": "execute_result"
    }
   ],
   "source": [
    "q"
   ]
  },
  {
   "cell_type": "markdown",
   "metadata": {},
   "source": [
    "### 先進先出"
   ]
  },
  {
   "cell_type": "code",
   "execution_count": 33,
   "metadata": {},
   "outputs": [
    {
     "data": {
      "text/plain": [
       "10"
      ]
     },
     "execution_count": 33,
     "metadata": {},
     "output_type": "execute_result"
    }
   ],
   "source": [
    "q.get()"
   ]
  },
  {
   "cell_type": "code",
   "execution_count": 34,
   "metadata": {},
   "outputs": [
    {
     "data": {
      "text/plain": [
       "3"
      ]
     },
     "execution_count": 34,
     "metadata": {},
     "output_type": "execute_result"
    }
   ],
   "source": [
    "q.qsize()"
   ]
  },
  {
   "cell_type": "code",
   "execution_count": 35,
   "metadata": {},
   "outputs": [
    {
     "name": "stdout",
     "output_type": "stream",
     "text": [
      "11\n",
      "12\n",
      "13\n"
     ]
    }
   ],
   "source": [
    "for i in range(q.qsize()):\n",
    "    print(q.get())"
   ]
  },
  {
   "cell_type": "code",
   "execution_count": 36,
   "metadata": {},
   "outputs": [
    {
     "data": {
      "text/plain": [
       "0"
      ]
     },
     "execution_count": 36,
     "metadata": {},
     "output_type": "execute_result"
    }
   ],
   "source": [
    "q.qsize()"
   ]
  },
  {
   "cell_type": "markdown",
   "metadata": {},
   "source": [
    "## 測試函式  "
   ]
  },
  {
   "cell_type": "code",
   "execution_count": 48,
   "metadata": {},
   "outputs": [],
   "source": [
    "def job(data):\n",
    "    for i in range(len(data)):\n",
    "        data[i]*=2\n",
    "        \n",
    "    return data"
   ]
  },
  {
   "cell_type": "code",
   "execution_count": 49,
   "metadata": {},
   "outputs": [
    {
     "data": {
      "text/plain": [
       "[2, 4, 6]"
      ]
     },
     "execution_count": 49,
     "metadata": {},
     "output_type": "execute_result"
    }
   ],
   "source": [
    "job([1,2,3])"
   ]
  },
  {
   "cell_type": "markdown",
   "metadata": {},
   "source": [
    "### 傳入佇列 queue"
   ]
  },
  {
   "cell_type": "code",
   "execution_count": 64,
   "metadata": {},
   "outputs": [],
   "source": [
    "def job(data,q):    \n",
    "    for i in range(len(data)):\n",
    "        data[i]*=2\n",
    "       \n",
    "    \n",
    "    q.put(data)\n",
    "    \n",
    "    return data"
   ]
  },
  {
   "cell_type": "code",
   "execution_count": 65,
   "metadata": {},
   "outputs": [
    {
     "data": {
      "text/plain": [
       "3"
      ]
     },
     "execution_count": 65,
     "metadata": {},
     "output_type": "execute_result"
    }
   ],
   "source": [
    "q=Queue()\n",
    "\n",
    "datas=[[1,2,3],[4,5,6],[7,8,9]]\n",
    "\n",
    "for data in datas:\n",
    "    job(data,q)\n",
    "    \n",
    "\n",
    "q.qsize()"
   ]
  },
  {
   "cell_type": "code",
   "execution_count": 66,
   "metadata": {
    "scrolled": true
   },
   "outputs": [
    {
     "name": "stdout",
     "output_type": "stream",
     "text": [
      "[2, 4, 6]\n",
      "[8, 10, 12]\n",
      "[14, 16, 18]\n"
     ]
    }
   ],
   "source": [
    "for i in range(q.qsize()):\n",
    "    print(q.get())"
   ]
  },
  {
   "cell_type": "code",
   "execution_count": 67,
   "metadata": {},
   "outputs": [
    {
     "data": {
      "text/plain": [
       "[[2, 4, 6], [8, 10, 12], [14, 16, 18]]"
      ]
     },
     "execution_count": 67,
     "metadata": {},
     "output_type": "execute_result"
    }
   ],
   "source": [
    "datas"
   ]
  },
  {
   "cell_type": "markdown",
   "metadata": {},
   "source": [
    "## 整合到執行緒"
   ]
  },
  {
   "cell_type": "code",
   "execution_count": 73,
   "metadata": {},
   "outputs": [
    {
     "name": "stdout",
     "output_type": "stream",
     "text": [
      "done!\n",
      "[32, 64, 96]\n",
      "[128, 160, 192]\n",
      "[224, 256, 288]\n",
      "0.001992940902709961\n"
     ]
    }
   ],
   "source": [
    "thread=[]\n",
    "q=Queue()\n",
    "\n",
    "s=time.time()\n",
    "\n",
    "for data in datas:\n",
    "    thread.append(threading.Thread(target=job,args=(data,q)))\n",
    "      \n",
    "for t in thread:\n",
    "    t.start()\n",
    "    \n",
    "for t in thread:\n",
    "    t.join()  \n",
    "\n",
    "    \n",
    "print('done!')\n",
    "\n",
    "for i in range(q.qsize()):\n",
    "    print(q.get())\n",
    "    \n",
    "print(time.time()-s)"
   ]
  },
  {
   "cell_type": "code",
   "execution_count": 71,
   "metadata": {},
   "outputs": [
    {
     "name": "stdout",
     "output_type": "stream",
     "text": [
      "0.0\n"
     ]
    }
   ],
   "source": [
    "s=time.time()\n",
    "\n",
    "result=[]\n",
    "\n",
    "for data in datas:\n",
    "    result.append(job(data,q))\n",
    "    \n",
    "\n",
    "print(time.time()-s)\n",
    "    "
   ]
  },
  {
   "cell_type": "markdown",
   "metadata": {},
   "source": [
    "## 整合nba_mulit_thread版本"
   ]
  },
  {
   "cell_type": "code",
   "execution_count": null,
   "metadata": {},
   "outputs": [],
   "source": []
  }
 ],
 "metadata": {
  "kernelspec": {
   "display_name": "Python 3",
   "language": "python",
   "name": "python3"
  },
  "language_info": {
   "codemirror_mode": {
    "name": "ipython",
    "version": 3
   },
   "file_extension": ".py",
   "mimetype": "text/x-python",
   "name": "python",
   "nbconvert_exporter": "python",
   "pygments_lexer": "ipython3",
   "version": "3.8.5"
  }
 },
 "nbformat": 4,
 "nbformat_minor": 4
}
